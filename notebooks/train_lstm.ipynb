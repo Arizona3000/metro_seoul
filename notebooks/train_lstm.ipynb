{
 "cells": [
  {
   "cell_type": "code",
   "execution_count": 1,
   "metadata": {},
   "outputs": [],
   "source": [
    "import pandas as pd\n"
   ]
  },
  {
   "cell_type": "code",
   "execution_count": 2,
   "metadata": {},
   "outputs": [
    {
     "name": "stderr",
     "output_type": "stream",
     "text": [
      "/var/folders/9c/7dyxp0wd7jd1wf_7m1bk36kr0000gn/T/ipykernel_33381/3112114495.py:1: DtypeWarning: Columns (3) have mixed types. Specify dtype option on import or set low_memory=False.\n",
      "  df = pd.read_csv('/Users/celestedevalroger/code/celestedv/metro_seoul/raw_data/crowd2020-2023.csv')\n"
     ]
    }
   ],
   "source": [
    "df = pd.read_csv('/Users/celestedevalroger/code/celestedv/metro_seoul/raw_data/crowd2020-2023.csv')\n"
   ]
  },
  {
   "cell_type": "code",
   "execution_count": 3,
   "metadata": {},
   "outputs": [
    {
     "name": "stderr",
     "output_type": "stream",
     "text": [
      "/Users/celestedevalroger/.pyenv/versions/3.10.6/envs/metro_seoul/lib/python3.10/site-packages/tqdm/auto.py:21: TqdmWarning: IProgress not found. Please update jupyter and ipywidgets. See https://ipywidgets.readthedocs.io/en/stable/user_install.html\n",
      "  from .autonotebook import tqdm as notebook_tqdm\n",
      "Importing plotly failed. Interactive plots will not work.\n"
     ]
    }
   ],
   "source": [
    "import sys\n",
    "sys.path.append('/Users/celestedevalroger/code/celestedv/metro_seoul/metro_app/ml_logic')\n",
    "\n",
    "from preprocess import preprocess_lstm\n",
    "from model import initialize_lstm, compile_lstm, train_lstm, evaluate_lstm, predict_lstm\n"
   ]
  },
  {
   "cell_type": "code",
   "execution_count": 4,
   "metadata": {},
   "outputs": [
    {
     "name": "stderr",
     "output_type": "stream",
     "text": [
      "/Users/celestedevalroger/code/celestedv/metro_seoul/metro_app/ml_logic/preprocess.py:64: SettingWithCopyWarning: \n",
      "A value is trying to be set on a copy of a slice from a DataFrame.\n",
      "Try using .loc[row_indexer,col_indexer] = value instead\n",
      "\n",
      "See the caveats in the documentation: https://pandas.pydata.org/pandas-docs/stable/user_guide/indexing.html#returning-a-view-versus-a-copy\n",
      "  df['date'] = pd.to_datetime(df['date'])\n",
      "/Users/celestedevalroger/code/celestedv/metro_seoul/metro_app/ml_logic/preprocess.py:65: SettingWithCopyWarning: \n",
      "A value is trying to be set on a copy of a slice from a DataFrame.\n",
      "Try using .loc[row_indexer,col_indexer] = value instead\n",
      "\n",
      "See the caveats in the documentation: https://pandas.pydata.org/pandas-docs/stable/user_guide/indexing.html#returning-a-view-versus-a-copy\n",
      "  df['line'] = df['line'].astype('int')\n",
      "/Users/celestedevalroger/code/celestedv/metro_seoul/metro_app/ml_logic/preprocess.py:149: SettingWithCopyWarning: \n",
      "A value is trying to be set on a copy of a slice from a DataFrame.\n",
      "Try using .loc[row_indexer,col_indexer] = value instead\n",
      "\n",
      "See the caveats in the documentation: https://pandas.pydata.org/pandas-docs/stable/user_guide/indexing.html#returning-a-view-versus-a-copy\n",
      "  df_exit['station_name_line'] = df_exit['station_name'] + ' ' + df_exit['line'].apply(str)\n"
     ]
    }
   ],
   "source": [
    "df = preprocess_lstm(df, 'exit')\n"
   ]
  },
  {
   "cell_type": "code",
   "execution_count": 5,
   "metadata": {},
   "outputs": [
    {
     "name": "stdout",
     "output_type": "stream",
     "text": [
      "Model: \"sequential\"\n",
      "_________________________________________________________________\n",
      " Layer (type)                Output Shape              Param #   \n",
      "=================================================================\n",
      " lstm (LSTM)                 (None, 24494, 64)         16896     \n",
      "                                                                 \n",
      " lstm_1 (LSTM)               (None, 64)                33024     \n",
      "                                                                 \n",
      " dense (Dense)               (None, 32)                2080      \n",
      "                                                                 \n",
      " dense_1 (Dense)             (None, 24)                792       \n",
      "                                                                 \n",
      "=================================================================\n",
      "Total params: 52792 (206.22 KB)\n",
      "Trainable params: 52792 (206.22 KB)\n",
      "Non-trainable params: 0 (0.00 Byte)\n",
      "_________________________________________________________________\n",
      "✅ Model initialized\n"
     ]
    }
   ],
   "source": [
    "model, X_train, y_train, X_test, y_test = initialize_lstm(df)\n"
   ]
  },
  {
   "cell_type": "code",
   "execution_count": 6,
   "metadata": {},
   "outputs": [
    {
     "name": "stdout",
     "output_type": "stream",
     "text": [
      "✅ Model compiled\n"
     ]
    }
   ],
   "source": [
    "model = compile_lstm(model)\n"
   ]
  },
  {
   "cell_type": "code",
   "execution_count": 7,
   "metadata": {},
   "outputs": [
    {
     "name": "stdout",
     "output_type": "stream",
     "text": [
      "Epoch 1/100\n",
      "6/6 [==============================] - ETA: 0s - loss: 1705210.3750 - root_mean_squared_error: 1305.8370 INFO:tensorflow:Assets written to: model/assets\n"
     ]
    },
    {
     "name": "stderr",
     "output_type": "stream",
     "text": [
      "INFO:tensorflow:Assets written to: model/assets\n"
     ]
    },
    {
     "name": "stdout",
     "output_type": "stream",
     "text": [
      "6/6 [==============================] - 134s 22s/step - loss: 1705210.3750 - root_mean_squared_error: 1305.8370 - val_loss: 2537782.7500 - val_root_mean_squared_error: 1593.0419\n",
      "Epoch 2/100\n",
      "6/6 [==============================] - ETA: 0s - loss: 1698240.5000 - root_mean_squared_error: 1303.1656 INFO:tensorflow:Assets written to: model/assets\n"
     ]
    },
    {
     "name": "stderr",
     "output_type": "stream",
     "text": [
      "INFO:tensorflow:Assets written to: model/assets\n"
     ]
    },
    {
     "name": "stdout",
     "output_type": "stream",
     "text": [
      "6/6 [==============================] - 132s 22s/step - loss: 1698240.5000 - root_mean_squared_error: 1303.1656 - val_loss: 2525014.7500 - val_root_mean_squared_error: 1589.0295\n",
      "Epoch 3/100\n",
      "6/6 [==============================] - ETA: 0s - loss: 1684025.6250 - root_mean_squared_error: 1297.7001 INFO:tensorflow:Assets written to: model/assets\n"
     ]
    },
    {
     "name": "stderr",
     "output_type": "stream",
     "text": [
      "INFO:tensorflow:Assets written to: model/assets\n"
     ]
    },
    {
     "name": "stdout",
     "output_type": "stream",
     "text": [
      "6/6 [==============================] - 134s 23s/step - loss: 1684025.6250 - root_mean_squared_error: 1297.7001 - val_loss: 2503431.7500 - val_root_mean_squared_error: 1582.2236\n",
      "Epoch 4/100\n",
      "6/6 [==============================] - ETA: 0s - loss: 1661583.8750 - root_mean_squared_error: 1289.0244 INFO:tensorflow:Assets written to: model/assets\n"
     ]
    },
    {
     "name": "stderr",
     "output_type": "stream",
     "text": [
      "INFO:tensorflow:Assets written to: model/assets\n"
     ]
    },
    {
     "name": "stdout",
     "output_type": "stream",
     "text": [
      "6/6 [==============================] - 132s 22s/step - loss: 1661583.8750 - root_mean_squared_error: 1289.0244 - val_loss: 2470699.2500 - val_root_mean_squared_error: 1571.8457\n",
      "Epoch 5/100\n",
      "6/6 [==============================] - ETA: 0s - loss: 1629249.2500 - root_mean_squared_error: 1276.4205 INFO:tensorflow:Assets written to: model/assets\n"
     ]
    },
    {
     "name": "stderr",
     "output_type": "stream",
     "text": [
      "INFO:tensorflow:Assets written to: model/assets\n"
     ]
    },
    {
     "name": "stdout",
     "output_type": "stream",
     "text": [
      "6/6 [==============================] - 128s 22s/step - loss: 1629249.2500 - root_mean_squared_error: 1276.4205 - val_loss: 2426199.5000 - val_root_mean_squared_error: 1557.6262\n",
      "Epoch 6/100\n"
     ]
    }
   ],
   "source": [
    "history, model = train_lstm(model, X_train, y_train, epochs = 100)\n"
   ]
  },
  {
   "cell_type": "code",
   "execution_count": null,
   "metadata": {},
   "outputs": [
    {
     "name": "stdout",
     "output_type": "stream",
     "text": [
      "9/9 [==============================] - 18s 2s/step - loss: 1953561.6250 - root_mean_squared_error: 1397.6986\n"
     ]
    }
   ],
   "source": [
    "metrics = evaluate_lstm(model, X_train, y_train)\n"
   ]
  },
  {
   "cell_type": "code",
   "execution_count": null,
   "metadata": {},
   "outputs": [
    {
     "name": "stdout",
     "output_type": "stream",
     "text": [
      "9/9 [==============================] - 18s 2s/step\n"
     ]
    },
    {
     "data": {
      "text/plain": [
       "array([ 5.2318974 ,  2.7994561 ,  1.7092053 ,  5.7935243 ,  7.353011  ,\n",
       "        1.0103111 ,  4.387147  ,  1.6226271 ,  2.9132571 , -0.46425256,\n",
       "        0.01979141, -1.8323501 , -0.18014199, -0.9872628 ,  0.5389505 ,\n",
       "        3.883012  ,  4.1081953 ,  6.9637322 ,  3.0747411 ,  4.1742096 ,\n",
       "        1.2437129 ,  1.496003  ,  2.8059409 ,  1.4334322 ], dtype=float32)"
      ]
     },
     "execution_count": 11,
     "metadata": {},
     "output_type": "execute_result"
    }
   ],
   "source": [
    "predict_lstm(model, X_train)[7]\n"
   ]
  },
  {
   "cell_type": "code",
   "execution_count": null,
   "metadata": {},
   "outputs": [],
   "source": []
  }
 ],
 "metadata": {
  "kernelspec": {
   "display_name": "metro_seoul",
   "language": "python",
   "name": "python3"
  },
  "language_info": {
   "codemirror_mode": {
    "name": "ipython",
    "version": 3
   },
   "file_extension": ".py",
   "mimetype": "text/x-python",
   "name": "python",
   "nbconvert_exporter": "python",
   "pygments_lexer": "ipython3",
   "version": "3.10.6"
  }
 },
 "nbformat": 4,
 "nbformat_minor": 2
}
