{
 "cells": [
  {
   "cell_type": "markdown",
   "metadata": {},
   "source": [
    "# Exploration dataset "
   ]
  },
  {
   "cell_type": "code",
   "execution_count": 190,
   "metadata": {},
   "outputs": [
    {
     "name": "stdout",
     "output_type": "stream",
     "text": [
      "The autoreload extension is already loaded. To reload it, use:\n",
      "  %reload_ext autoreload\n"
     ]
    }
   ],
   "source": [
    "import pandas as pd\n",
    "import numpy as np\n",
    "import matplotlib.pyplot as plt\n",
    "import seaborn as sns\n",
    "import plotly.express as px\n",
    "import plotly.graph_objects as go\n",
    "\n",
    "%matplotlib inline\n",
    "%load_ext autoreload\n",
    "%autoreload 2\n"
   ]
  },
  {
   "cell_type": "code",
   "execution_count": 118,
   "metadata": {},
   "outputs": [
    {
     "name": "stderr",
     "output_type": "stream",
     "text": [
      "/var/folders/zn/b4l6fdhd4fs52t3wxt1d7kn40000gn/T/ipykernel_36407/2520259102.py:2: DtypeWarning: Columns (3) have mixed types. Specify dtype option on import or set low_memory=False.\n",
      "  df = pd.read_csv('/Users/thomas_metral/code/thomas-metral/metro_seoul/raw_data/crowd2020-2023.csv')\n"
     ]
    }
   ],
   "source": [
    "relative_path = 'raw_data/crowd2020-2023.csv'\n",
    "df = pd.read_csv('/Users/thomas_metral/code/thomas-metral/metro_seoul/raw_data/crowd2020-2023.csv')\n"
   ]
  },
  {
   "cell_type": "markdown",
   "metadata": {},
   "source": [
    "## Line 8"
   ]
  },
  {
   "cell_type": "markdown",
   "metadata": {},
   "source": [
    "### Preprocessing "
   ]
  },
  {
   "cell_type": "code",
   "execution_count": 119,
   "metadata": {},
   "outputs": [
    {
     "name": "stderr",
     "output_type": "stream",
     "text": [
      "/var/folders/zn/b4l6fdhd4fs52t3wxt1d7kn40000gn/T/ipykernel_36407/1672077676.py:8: SettingWithCopyWarning: \n",
      "A value is trying to be set on a copy of a slice from a DataFrame.\n",
      "Try using .loc[row_indexer,col_indexer] = value instead\n",
      "\n",
      "See the caveats in the documentation: https://pandas.pydata.org/pandas-docs/stable/user_guide/indexing.html#returning-a-view-versus-a-copy\n",
      "  data_8['station_number'] = data_8['station_number'].astype(int)\n",
      "/var/folders/zn/b4l6fdhd4fs52t3wxt1d7kn40000gn/T/ipykernel_36407/1672077676.py:12: SettingWithCopyWarning: \n",
      "A value is trying to be set on a copy of a slice from a DataFrame\n",
      "\n",
      "See the caveats in the documentation: https://pandas.pydata.org/pandas-docs/stable/user_guide/indexing.html#returning-a-view-versus-a-copy\n",
      "  data_8.drop(columns=['Unnamed: 0', 'line', '24'], inplace=True)\n"
     ]
    },
    {
     "data": {
      "text/html": [
       "<div>\n",
       "<style scoped>\n",
       "    .dataframe tbody tr th:only-of-type {\n",
       "        vertical-align: middle;\n",
       "    }\n",
       "\n",
       "    .dataframe tbody tr th {\n",
       "        vertical-align: top;\n",
       "    }\n",
       "\n",
       "    .dataframe thead th {\n",
       "        text-align: right;\n",
       "    }\n",
       "</style>\n",
       "<table border=\"1\" class=\"dataframe\">\n",
       "  <thead>\n",
       "    <tr style=\"text-align: right;\">\n",
       "      <th></th>\n",
       "      <th>station_number</th>\n",
       "      <th>station_name</th>\n",
       "      <th>entry/exit</th>\n",
       "      <th>06</th>\n",
       "      <th>06-07</th>\n",
       "      <th>07-08</th>\n",
       "      <th>08-09</th>\n",
       "      <th>09-10</th>\n",
       "      <th>10-11</th>\n",
       "      <th>11-12</th>\n",
       "      <th>...</th>\n",
       "      <th>14-15</th>\n",
       "      <th>15-16</th>\n",
       "      <th>16-17</th>\n",
       "      <th>17-18</th>\n",
       "      <th>18-19</th>\n",
       "      <th>19-20</th>\n",
       "      <th>20-21</th>\n",
       "      <th>21-22</th>\n",
       "      <th>22-23</th>\n",
       "      <th>23-24</th>\n",
       "    </tr>\n",
       "    <tr>\n",
       "      <th>date</th>\n",
       "      <th></th>\n",
       "      <th></th>\n",
       "      <th></th>\n",
       "      <th></th>\n",
       "      <th></th>\n",
       "      <th></th>\n",
       "      <th></th>\n",
       "      <th></th>\n",
       "      <th></th>\n",
       "      <th></th>\n",
       "      <th></th>\n",
       "      <th></th>\n",
       "      <th></th>\n",
       "      <th></th>\n",
       "      <th></th>\n",
       "      <th></th>\n",
       "      <th></th>\n",
       "      <th></th>\n",
       "      <th></th>\n",
       "      <th></th>\n",
       "      <th></th>\n",
       "    </tr>\n",
       "  </thead>\n",
       "  <tbody>\n",
       "    <tr>\n",
       "      <th>2023-06-30</th>\n",
       "      <td>2823</td>\n",
       "      <td>남한산성입구(성남법원.검찰청)</td>\n",
       "      <td>entry</td>\n",
       "      <td>431</td>\n",
       "      <td>855</td>\n",
       "      <td>2274</td>\n",
       "      <td>2859</td>\n",
       "      <td>1238</td>\n",
       "      <td>686</td>\n",
       "      <td>604</td>\n",
       "      <td>...</td>\n",
       "      <td>583</td>\n",
       "      <td>562</td>\n",
       "      <td>690</td>\n",
       "      <td>837</td>\n",
       "      <td>925</td>\n",
       "      <td>447</td>\n",
       "      <td>317</td>\n",
       "      <td>186</td>\n",
       "      <td>120</td>\n",
       "      <td>74</td>\n",
       "    </tr>\n",
       "    <tr>\n",
       "      <th>2023-06-30</th>\n",
       "      <td>2823</td>\n",
       "      <td>남한산성입구(성남법원.검찰청)</td>\n",
       "      <td>exit</td>\n",
       "      <td>64</td>\n",
       "      <td>200</td>\n",
       "      <td>460</td>\n",
       "      <td>943</td>\n",
       "      <td>479</td>\n",
       "      <td>324</td>\n",
       "      <td>314</td>\n",
       "      <td>...</td>\n",
       "      <td>424</td>\n",
       "      <td>629</td>\n",
       "      <td>792</td>\n",
       "      <td>1107</td>\n",
       "      <td>1838</td>\n",
       "      <td>1357</td>\n",
       "      <td>783</td>\n",
       "      <td>762</td>\n",
       "      <td>798</td>\n",
       "      <td>458</td>\n",
       "    </tr>\n",
       "    <tr>\n",
       "      <th>2023-06-30</th>\n",
       "      <td>2826</td>\n",
       "      <td>Sujin</td>\n",
       "      <td>entry</td>\n",
       "      <td>164</td>\n",
       "      <td>256</td>\n",
       "      <td>689</td>\n",
       "      <td>963</td>\n",
       "      <td>431</td>\n",
       "      <td>292</td>\n",
       "      <td>286</td>\n",
       "      <td>...</td>\n",
       "      <td>233</td>\n",
       "      <td>321</td>\n",
       "      <td>465</td>\n",
       "      <td>367</td>\n",
       "      <td>352</td>\n",
       "      <td>189</td>\n",
       "      <td>159</td>\n",
       "      <td>140</td>\n",
       "      <td>90</td>\n",
       "      <td>46</td>\n",
       "    </tr>\n",
       "    <tr>\n",
       "      <th>2023-06-30</th>\n",
       "      <td>2826</td>\n",
       "      <td>Sujin</td>\n",
       "      <td>exit</td>\n",
       "      <td>18</td>\n",
       "      <td>112</td>\n",
       "      <td>202</td>\n",
       "      <td>571</td>\n",
       "      <td>235</td>\n",
       "      <td>184</td>\n",
       "      <td>198</td>\n",
       "      <td>...</td>\n",
       "      <td>238</td>\n",
       "      <td>290</td>\n",
       "      <td>357</td>\n",
       "      <td>470</td>\n",
       "      <td>566</td>\n",
       "      <td>470</td>\n",
       "      <td>316</td>\n",
       "      <td>276</td>\n",
       "      <td>242</td>\n",
       "      <td>232</td>\n",
       "    </tr>\n",
       "    <tr>\n",
       "      <th>2023-06-30</th>\n",
       "      <td>2817</td>\n",
       "      <td>Songpa</td>\n",
       "      <td>entry</td>\n",
       "      <td>104</td>\n",
       "      <td>398</td>\n",
       "      <td>1383</td>\n",
       "      <td>1627</td>\n",
       "      <td>800</td>\n",
       "      <td>576</td>\n",
       "      <td>567</td>\n",
       "      <td>...</td>\n",
       "      <td>420</td>\n",
       "      <td>506</td>\n",
       "      <td>569</td>\n",
       "      <td>670</td>\n",
       "      <td>755</td>\n",
       "      <td>433</td>\n",
       "      <td>294</td>\n",
       "      <td>238</td>\n",
       "      <td>190</td>\n",
       "      <td>98</td>\n",
       "    </tr>\n",
       "    <tr>\n",
       "      <th>...</th>\n",
       "      <td>...</td>\n",
       "      <td>...</td>\n",
       "      <td>...</td>\n",
       "      <td>...</td>\n",
       "      <td>...</td>\n",
       "      <td>...</td>\n",
       "      <td>...</td>\n",
       "      <td>...</td>\n",
       "      <td>...</td>\n",
       "      <td>...</td>\n",
       "      <td>...</td>\n",
       "      <td>...</td>\n",
       "      <td>...</td>\n",
       "      <td>...</td>\n",
       "      <td>...</td>\n",
       "      <td>...</td>\n",
       "      <td>...</td>\n",
       "      <td>...</td>\n",
       "      <td>...</td>\n",
       "      <td>...</td>\n",
       "      <td>...</td>\n",
       "    </tr>\n",
       "    <tr>\n",
       "      <th>2020-01-01</th>\n",
       "      <td>2812</td>\n",
       "      <td>Cheonho(Pungnaptoseong)</td>\n",
       "      <td>entry</td>\n",
       "      <td>216</td>\n",
       "      <td>280</td>\n",
       "      <td>277</td>\n",
       "      <td>365</td>\n",
       "      <td>505</td>\n",
       "      <td>557</td>\n",
       "      <td>536</td>\n",
       "      <td>...</td>\n",
       "      <td>613</td>\n",
       "      <td>663</td>\n",
       "      <td>668</td>\n",
       "      <td>748</td>\n",
       "      <td>670</td>\n",
       "      <td>488</td>\n",
       "      <td>431</td>\n",
       "      <td>404</td>\n",
       "      <td>353</td>\n",
       "      <td>162</td>\n",
       "    </tr>\n",
       "    <tr>\n",
       "      <th>2020-01-01</th>\n",
       "      <td>2821</td>\n",
       "      <td>Bokjeong</td>\n",
       "      <td>exit</td>\n",
       "      <td>30</td>\n",
       "      <td>107</td>\n",
       "      <td>93</td>\n",
       "      <td>175</td>\n",
       "      <td>178</td>\n",
       "      <td>140</td>\n",
       "      <td>174</td>\n",
       "      <td>...</td>\n",
       "      <td>204</td>\n",
       "      <td>232</td>\n",
       "      <td>255</td>\n",
       "      <td>284</td>\n",
       "      <td>256</td>\n",
       "      <td>268</td>\n",
       "      <td>257</td>\n",
       "      <td>260</td>\n",
       "      <td>231</td>\n",
       "      <td>166</td>\n",
       "    </tr>\n",
       "    <tr>\n",
       "      <th>2020-01-01</th>\n",
       "      <td>2821</td>\n",
       "      <td>Bokjeong</td>\n",
       "      <td>entry</td>\n",
       "      <td>102</td>\n",
       "      <td>108</td>\n",
       "      <td>135</td>\n",
       "      <td>163</td>\n",
       "      <td>238</td>\n",
       "      <td>201</td>\n",
       "      <td>317</td>\n",
       "      <td>...</td>\n",
       "      <td>309</td>\n",
       "      <td>266</td>\n",
       "      <td>276</td>\n",
       "      <td>375</td>\n",
       "      <td>299</td>\n",
       "      <td>235</td>\n",
       "      <td>173</td>\n",
       "      <td>158</td>\n",
       "      <td>138</td>\n",
       "      <td>49</td>\n",
       "    </tr>\n",
       "    <tr>\n",
       "      <th>2020-01-01</th>\n",
       "      <td>2811</td>\n",
       "      <td>Amsa</td>\n",
       "      <td>exit</td>\n",
       "      <td>37</td>\n",
       "      <td>157</td>\n",
       "      <td>150</td>\n",
       "      <td>282</td>\n",
       "      <td>287</td>\n",
       "      <td>275</td>\n",
       "      <td>237</td>\n",
       "      <td>...</td>\n",
       "      <td>496</td>\n",
       "      <td>514</td>\n",
       "      <td>613</td>\n",
       "      <td>742</td>\n",
       "      <td>820</td>\n",
       "      <td>616</td>\n",
       "      <td>606</td>\n",
       "      <td>589</td>\n",
       "      <td>637</td>\n",
       "      <td>337</td>\n",
       "    </tr>\n",
       "    <tr>\n",
       "      <th>2020-01-01</th>\n",
       "      <td>2811</td>\n",
       "      <td>Amsa</td>\n",
       "      <td>entry</td>\n",
       "      <td>245</td>\n",
       "      <td>343</td>\n",
       "      <td>322</td>\n",
       "      <td>479</td>\n",
       "      <td>600</td>\n",
       "      <td>598</td>\n",
       "      <td>634</td>\n",
       "      <td>...</td>\n",
       "      <td>660</td>\n",
       "      <td>606</td>\n",
       "      <td>645</td>\n",
       "      <td>572</td>\n",
       "      <td>447</td>\n",
       "      <td>301</td>\n",
       "      <td>295</td>\n",
       "      <td>258</td>\n",
       "      <td>131</td>\n",
       "      <td>71</td>\n",
       "    </tr>\n",
       "  </tbody>\n",
       "</table>\n",
       "<p>44540 rows × 22 columns</p>\n",
       "</div>"
      ],
      "text/plain": [
       "            station_number             station_name entry/exit   06  06-07  \\\n",
       "date                                                                         \n",
       "2023-06-30            2823         남한산성입구(성남법원.검찰청)      entry  431    855   \n",
       "2023-06-30            2823         남한산성입구(성남법원.검찰청)       exit   64    200   \n",
       "2023-06-30            2826                    Sujin      entry  164    256   \n",
       "2023-06-30            2826                    Sujin       exit   18    112   \n",
       "2023-06-30            2817                   Songpa      entry  104    398   \n",
       "...                    ...                      ...        ...  ...    ...   \n",
       "2020-01-01            2812  Cheonho(Pungnaptoseong)      entry  216    280   \n",
       "2020-01-01            2821                 Bokjeong       exit   30    107   \n",
       "2020-01-01            2821                 Bokjeong      entry  102    108   \n",
       "2020-01-01            2811                     Amsa       exit   37    157   \n",
       "2020-01-01            2811                     Amsa      entry  245    343   \n",
       "\n",
       "            07-08  08-09  09-10  10-11  11-12  ...  14-15  15-16  16-17  \\\n",
       "date                                           ...                        \n",
       "2023-06-30   2274   2859   1238    686    604  ...    583    562    690   \n",
       "2023-06-30    460    943    479    324    314  ...    424    629    792   \n",
       "2023-06-30    689    963    431    292    286  ...    233    321    465   \n",
       "2023-06-30    202    571    235    184    198  ...    238    290    357   \n",
       "2023-06-30   1383   1627    800    576    567  ...    420    506    569   \n",
       "...           ...    ...    ...    ...    ...  ...    ...    ...    ...   \n",
       "2020-01-01    277    365    505    557    536  ...    613    663    668   \n",
       "2020-01-01     93    175    178    140    174  ...    204    232    255   \n",
       "2020-01-01    135    163    238    201    317  ...    309    266    276   \n",
       "2020-01-01    150    282    287    275    237  ...    496    514    613   \n",
       "2020-01-01    322    479    600    598    634  ...    660    606    645   \n",
       "\n",
       "            17-18  18-19  19-20  20-21  21-22  22-23  23-24  \n",
       "date                                                         \n",
       "2023-06-30    837    925    447    317    186    120     74  \n",
       "2023-06-30   1107   1838   1357    783    762    798    458  \n",
       "2023-06-30    367    352    189    159    140     90     46  \n",
       "2023-06-30    470    566    470    316    276    242    232  \n",
       "2023-06-30    670    755    433    294    238    190     98  \n",
       "...           ...    ...    ...    ...    ...    ...    ...  \n",
       "2020-01-01    748    670    488    431    404    353    162  \n",
       "2020-01-01    284    256    268    257    260    231    166  \n",
       "2020-01-01    375    299    235    173    158    138     49  \n",
       "2020-01-01    742    820    616    606    589    637    337  \n",
       "2020-01-01    572    447    301    295    258    131     71  \n",
       "\n",
       "[44540 rows x 22 columns]"
      ]
     },
     "execution_count": 119,
     "metadata": {},
     "output_type": "execute_result"
    }
   ],
   "source": [
    "#convert line number to int\n",
    "df['line'] = df['line'].astype(int)\n",
    "\n",
    "# Keeping only line 8\n",
    "data_8 = df[df['line'] == 8]\n",
    "\n",
    "#station number and line number of type object : convert to int\n",
    "data_8['station_number'] = data_8['station_number'].astype(int)\n",
    "\n",
    "# no need to keep useless info\n",
    "#rmoving last column giving us weird info\n",
    "data_8.drop(columns=['Unnamed: 0', 'line', '24'], inplace=True)\n",
    "\n",
    "#Setting date as an index\n",
    "data_8 = data_8.set_index('date')\n",
    "\n",
    "# Converting index as datetime object\n",
    "data_8.index = pd.to_datetime(data_8.index)\n",
    "\n",
    "data_8\n"
   ]
  },
  {
   "cell_type": "code",
   "execution_count": 160,
   "metadata": {},
   "outputs": [],
   "source": [
    "#splitting entry and exit\n",
    "\n",
    "entry_8 = data_8[data_8['entry/exit'] == 'entry']\n",
    "exit_8 = data_8[data_8['entry/exit'] == 'exit']\n"
   ]
  },
  {
   "cell_type": "markdown",
   "metadata": {},
   "source": [
    "### Entries vs exit L8"
   ]
  },
  {
   "cell_type": "code",
   "execution_count": 199,
   "metadata": {},
   "outputs": [],
   "source": [
    "#ENTRIES\n",
    "#groub by station number and sum\n",
    "entry_8 = entry_8.groupby(by='station_number').sum().reset_index()\n",
    "\n",
    "# entries_8 = entry_8.drop(columns=['station_number', 'station_name', 'entry/exit'])\n",
    "entries_8 = entry_8.drop(columns=['station_name', 'entry/exit'])\n",
    "\n",
    "entries_8.rename(columns={'06-07':'07', '07-08':'08', '08-09':'09', '09-10':'10', '10-11':'11',\n",
    "                '11-12':'12', '12-13':'13', '13-14':'14', '14-15':'15', '15-16':'16',\n",
    "                '16-17':'17', '17-18':'18', '18-19':'19', '19-20':'20', '20-21':'21',\n",
    "                '21-22':'22', '22-23':'23', '23-24':'24'}, inplace=True)\n",
    "\n",
    "#EXITS\n",
    "\n",
    "exit_8 = exit_8.groupby(by='station_number').sum().reset_index()\n",
    "exits_8 = exit_8.drop(columns=['station_name', 'entry/exit'])\n",
    "exits_8.rename(columns={'06-07':'07', '07-08':'08', '08-09':'09', '09-10':'10', '10-11':'11',\n",
    "                '11-12':'12', '12-13':'13', '13-14':'14', '14-15':'15', '15-16':'16',\n",
    "                '16-17':'17', '17-18':'18', '18-19':'19', '19-20':'20', '20-21':'21',\n",
    "                '21-22':'22', '22-23':'23', '23-24':'24'}, inplace=True)\n"
   ]
  },
  {
   "cell_type": "code",
   "execution_count": 194,
   "metadata": {},
   "outputs": [],
   "source": [
    "# plotting with plot graph_objects\n",
    "\n",
    "fig = go.Figure()\n",
    "\n",
    "\n",
    "for x in range(len(entries_8)):\n",
    "    fig.add_trace(go.Scatter(\n",
    "        x=entries_8.columns[1:], y=entries_8.loc[x].values[1:],\n",
    "        mode='lines + markers',\n",
    "        name=str(entries_8.loc[x].station_number)\n",
    "    ))\n"
   ]
  },
  {
   "cell_type": "code",
   "execution_count": 200,
   "metadata": {},
   "outputs": [
    {
     "data": {
      "application/vnd.plotly.v1+json": {
       "config": {
        "plotlyServerURL": "https://plot.ly"
       },
       "data": [
        {
         "mode": "lines+markers",
         "name": "2811",
         "type": "scatter",
         "x": [
          "06",
          "07",
          "08",
          "09",
          "10",
          "11",
          "12",
          "13",
          "14",
          "15",
          "16",
          "17",
          "18",
          "19",
          "20",
          "21",
          "22",
          "23",
          "24"
         ],
         "y": [
          577233,
          1069166,
          3130720,
          4098631,
          2002967,
          1091114,
          937122,
          981811,
          935958,
          814438,
          768604,
          826283,
          880570,
          910491,
          527468,
          409362,
          327992,
          224429,
          80497
         ]
        },
        {
         "mode": "lines+markers",
         "name": "2812",
         "type": "scatter",
         "x": [
          "06",
          "07",
          "08",
          "09",
          "10",
          "11",
          "12",
          "13",
          "14",
          "15",
          "16",
          "17",
          "18",
          "19",
          "20",
          "21",
          "22",
          "23",
          "24"
         ],
         "y": [
          441461,
          675014,
          1628194,
          2285943,
          1314979,
          764594,
          732535,
          796582,
          822673,
          793656,
          841347,
          942218,
          1137355,
          1226965,
          807836,
          712788,
          574330,
          413918,
          158771
         ]
        },
        {
         "mode": "lines+markers",
         "name": "2813",
         "type": "scatter",
         "x": [
          "06",
          "07",
          "08",
          "09",
          "10",
          "11",
          "12",
          "13",
          "14",
          "15",
          "16",
          "17",
          "18",
          "19",
          "20",
          "21",
          "22",
          "23",
          "24"
         ],
         "y": [
          195919,
          438078,
          1210461,
          1626429,
          912715,
          570284,
          513525,
          525130,
          528888,
          509506,
          520342,
          588285,
          734704,
          1080217,
          423108,
          304813,
          277249,
          190322,
          62672
         ]
        },
        {
         "mode": "lines+markers",
         "name": "2814",
         "type": "scatter",
         "x": [
          "06",
          "07",
          "08",
          "09",
          "10",
          "11",
          "12",
          "13",
          "14",
          "15",
          "16",
          "17",
          "18",
          "19",
          "20",
          "21",
          "22",
          "23",
          "24"
         ],
         "y": [
          60135,
          142702,
          418436,
          637294,
          387317,
          268702,
          270762,
          294326,
          312243,
          331441,
          377352,
          498614,
          624964,
          859825,
          375078,
          280337,
          286182,
          210522,
          87694
         ]
        },
        {
         "mode": "lines+markers",
         "name": "2815",
         "type": "scatter",
         "x": [
          "06",
          "07",
          "08",
          "09",
          "10",
          "11",
          "12",
          "13",
          "14",
          "15",
          "16",
          "17",
          "18",
          "19",
          "20",
          "21",
          "22",
          "23",
          "24"
         ],
         "y": [
          54898,
          168971,
          347426,
          523776,
          394258,
          376527,
          485190,
          585680,
          705081,
          868345,
          1103116,
          1284240,
          1748590,
          2559181,
          1485017,
          1381543,
          1306058,
          896143,
          262959
         ]
        },
        {
         "mode": "lines+markers",
         "name": "2816",
         "type": "scatter",
         "x": [
          "06",
          "07",
          "08",
          "09",
          "10",
          "11",
          "12",
          "13",
          "14",
          "15",
          "16",
          "17",
          "18",
          "19",
          "20",
          "21",
          "22",
          "23",
          "24"
         ],
         "y": [
          120381,
          223232,
          621778,
          928923,
          528877,
          384753,
          383979,
          423568,
          434387,
          428124,
          463873,
          522084,
          641137,
          773497,
          443914,
          379540,
          404479,
          312655,
          105331
         ]
        },
        {
         "mode": "lines+markers",
         "name": "2817",
         "type": "scatter",
         "x": [
          "06",
          "07",
          "08",
          "09",
          "10",
          "11",
          "12",
          "13",
          "14",
          "15",
          "16",
          "17",
          "18",
          "19",
          "20",
          "21",
          "22",
          "23",
          "24"
         ],
         "y": [
          110186,
          339620,
          1052812,
          1289792,
          721750,
          503872,
          471098,
          481269,
          470835,
          430379,
          499812,
          567208,
          553373,
          648633,
          344044,
          246213,
          197647,
          145176,
          52778
         ]
        },
        {
         "mode": "lines+markers",
         "name": "2818",
         "type": "scatter",
         "x": [
          "06",
          "07",
          "08",
          "09",
          "10",
          "11",
          "12",
          "13",
          "14",
          "15",
          "16",
          "17",
          "18",
          "19",
          "20",
          "21",
          "22",
          "23",
          "24"
         ],
         "y": [
          113497,
          212431,
          406780,
          514685,
          387636,
          381352,
          404970,
          406521,
          427198,
          475485,
          545312,
          558280,
          739910,
          1117308,
          483039,
          421163,
          445864,
          327794,
          125492
         ]
        },
        {
         "mode": "lines+markers",
         "name": "2819",
         "type": "scatter",
         "x": [
          "06",
          "07",
          "08",
          "09",
          "10",
          "11",
          "12",
          "13",
          "14",
          "15",
          "16",
          "17",
          "18",
          "19",
          "20",
          "21",
          "22",
          "23",
          "24"
         ],
         "y": [
          88679,
          258866,
          865423,
          1230990,
          743225,
          586867,
          633483,
          708875,
          811174,
          928765,
          1046029,
          1213654,
          2875071,
          4933723,
          1737539,
          1117825,
          1026440,
          708113,
          201261
         ]
        },
        {
         "mode": "lines+markers",
         "name": "2820",
         "type": "scatter",
         "x": [
          "06",
          "07",
          "08",
          "09",
          "10",
          "11",
          "12",
          "13",
          "14",
          "15",
          "16",
          "17",
          "18",
          "19",
          "20",
          "21",
          "22",
          "23",
          "24"
         ],
         "y": [
          219622,
          668383,
          1818213,
          2196600,
          1190038,
          766875,
          696887,
          776785,
          811864,
          800070,
          920240,
          1183890,
          1604675,
          1942209,
          1071355,
          906581,
          771400,
          484195,
          148293
         ]
        },
        {
         "mode": "lines+markers",
         "name": "2821",
         "type": "scatter",
         "x": [
          "06",
          "07",
          "08",
          "09",
          "10",
          "11",
          "12",
          "13",
          "14",
          "15",
          "16",
          "17",
          "18",
          "19",
          "20",
          "21",
          "22",
          "23",
          "24"
         ],
         "y": [
          168529,
          404224,
          1148320,
          1502897,
          890241,
          538233,
          437820,
          487376,
          462022,
          443820,
          506718,
          640612,
          876717,
          1004206,
          561788,
          351856,
          295646,
          240971,
          85846
         ]
        },
        {
         "mode": "lines+markers",
         "name": "2822",
         "type": "scatter",
         "x": [
          "06",
          "07",
          "08",
          "09",
          "10",
          "11",
          "12",
          "13",
          "14",
          "15",
          "16",
          "17",
          "18",
          "19",
          "20",
          "21",
          "22",
          "23",
          "24"
         ],
         "y": [
          176313,
          334848,
          880825,
          1050288,
          564627,
          364073,
          314767,
          326381,
          319432,
          299963,
          312960,
          360431,
          374273,
          296285,
          151900,
          104082,
          87536,
          55389,
          24966
         ]
        },
        {
         "mode": "lines+markers",
         "name": "2823",
         "type": "scatter",
         "x": [
          "06",
          "07",
          "08",
          "09",
          "10",
          "11",
          "12",
          "13",
          "14",
          "15",
          "16",
          "17",
          "18",
          "19",
          "20",
          "21",
          "22",
          "23",
          "24"
         ],
         "y": [
          421506,
          821992,
          1974116,
          2583645,
          1314441,
          817615,
          744810,
          771780,
          723661,
          663310,
          684129,
          772301,
          894541,
          910355,
          431902,
          283918,
          220652,
          145857,
          52741
         ]
        },
        {
         "mode": "lines+markers",
         "name": "2824",
         "type": "scatter",
         "x": [
          "06",
          "07",
          "08",
          "09",
          "10",
          "11",
          "12",
          "13",
          "14",
          "15",
          "16",
          "17",
          "18",
          "19",
          "20",
          "21",
          "22",
          "23",
          "24"
         ],
         "y": [
          343795,
          632458,
          1466721,
          1767101,
          937740,
          627721,
          566534,
          603972,
          576623,
          518213,
          522134,
          622801,
          758828,
          889446,
          422613,
          275758,
          222733,
          154358,
          53349
         ]
        },
        {
         "mode": "lines+markers",
         "name": "2825",
         "type": "scatter",
         "x": [
          "06",
          "07",
          "08",
          "09",
          "10",
          "11",
          "12",
          "13",
          "14",
          "15",
          "16",
          "17",
          "18",
          "19",
          "20",
          "21",
          "22",
          "23",
          "24"
         ],
         "y": [
          148535,
          230946,
          523083,
          677253,
          389557,
          265352,
          255599,
          270853,
          272278,
          268856,
          288231,
          329912,
          343993,
          320895,
          189699,
          158767,
          123010,
          85620,
          32996
         ]
        },
        {
         "mode": "lines+markers",
         "name": "2826",
         "type": "scatter",
         "x": [
          "06",
          "07",
          "08",
          "09",
          "10",
          "11",
          "12",
          "13",
          "14",
          "15",
          "16",
          "17",
          "18",
          "19",
          "20",
          "21",
          "22",
          "23",
          "24"
         ],
         "y": [
          159394,
          264520,
          632648,
          887062,
          468858,
          325115,
          303390,
          334804,
          318943,
          275159,
          315735,
          385410,
          368286,
          324600,
          186630,
          143657,
          115458,
          84665,
          32281
         ]
        },
        {
         "mode": "lines+markers",
         "name": "2827",
         "type": "scatter",
         "x": [
          "06",
          "07",
          "08",
          "09",
          "10",
          "11",
          "12",
          "13",
          "14",
          "15",
          "16",
          "17",
          "18",
          "19",
          "20",
          "21",
          "22",
          "23",
          "24"
         ],
         "y": [
          86331,
          126827,
          343039,
          459597,
          285726,
          249590,
          281631,
          314825,
          334830,
          359315,
          394866,
          452915,
          408001,
          421493,
          247299,
          177839,
          181364,
          146719,
          70577
         ]
        },
        {
         "mode": "lines+markers",
         "name": "2828",
         "type": "scatter",
         "x": [
          "06",
          "07",
          "08",
          "09",
          "10",
          "11",
          "12",
          "13",
          "14",
          "15",
          "16",
          "17",
          "18",
          "19",
          "20",
          "21",
          "22",
          "23",
          "24"
         ],
         "y": [
          20137,
          90333,
          293659,
          356099,
          199738,
          136705,
          126511,
          136286,
          140736,
          131645,
          151445,
          183843,
          245167,
          280726,
          119223,
          94083,
          99014,
          73505,
          30699
         ]
        }
       ],
       "layout": {
        "legend": {
         "title": {
          "text": "Metro Stop"
         }
        },
        "template": {
         "data": {
          "bar": [
           {
            "error_x": {
             "color": "#2a3f5f"
            },
            "error_y": {
             "color": "#2a3f5f"
            },
            "marker": {
             "line": {
              "color": "#E5ECF6",
              "width": 0.5
             },
             "pattern": {
              "fillmode": "overlay",
              "size": 10,
              "solidity": 0.2
             }
            },
            "type": "bar"
           }
          ],
          "barpolar": [
           {
            "marker": {
             "line": {
              "color": "#E5ECF6",
              "width": 0.5
             },
             "pattern": {
              "fillmode": "overlay",
              "size": 10,
              "solidity": 0.2
             }
            },
            "type": "barpolar"
           }
          ],
          "carpet": [
           {
            "aaxis": {
             "endlinecolor": "#2a3f5f",
             "gridcolor": "white",
             "linecolor": "white",
             "minorgridcolor": "white",
             "startlinecolor": "#2a3f5f"
            },
            "baxis": {
             "endlinecolor": "#2a3f5f",
             "gridcolor": "white",
             "linecolor": "white",
             "minorgridcolor": "white",
             "startlinecolor": "#2a3f5f"
            },
            "type": "carpet"
           }
          ],
          "choropleth": [
           {
            "colorbar": {
             "outlinewidth": 0,
             "ticks": ""
            },
            "type": "choropleth"
           }
          ],
          "contour": [
           {
            "colorbar": {
             "outlinewidth": 0,
             "ticks": ""
            },
            "colorscale": [
             [
              0,
              "#0d0887"
             ],
             [
              0.1111111111111111,
              "#46039f"
             ],
             [
              0.2222222222222222,
              "#7201a8"
             ],
             [
              0.3333333333333333,
              "#9c179e"
             ],
             [
              0.4444444444444444,
              "#bd3786"
             ],
             [
              0.5555555555555556,
              "#d8576b"
             ],
             [
              0.6666666666666666,
              "#ed7953"
             ],
             [
              0.7777777777777778,
              "#fb9f3a"
             ],
             [
              0.8888888888888888,
              "#fdca26"
             ],
             [
              1,
              "#f0f921"
             ]
            ],
            "type": "contour"
           }
          ],
          "contourcarpet": [
           {
            "colorbar": {
             "outlinewidth": 0,
             "ticks": ""
            },
            "type": "contourcarpet"
           }
          ],
          "heatmap": [
           {
            "colorbar": {
             "outlinewidth": 0,
             "ticks": ""
            },
            "colorscale": [
             [
              0,
              "#0d0887"
             ],
             [
              0.1111111111111111,
              "#46039f"
             ],
             [
              0.2222222222222222,
              "#7201a8"
             ],
             [
              0.3333333333333333,
              "#9c179e"
             ],
             [
              0.4444444444444444,
              "#bd3786"
             ],
             [
              0.5555555555555556,
              "#d8576b"
             ],
             [
              0.6666666666666666,
              "#ed7953"
             ],
             [
              0.7777777777777778,
              "#fb9f3a"
             ],
             [
              0.8888888888888888,
              "#fdca26"
             ],
             [
              1,
              "#f0f921"
             ]
            ],
            "type": "heatmap"
           }
          ],
          "heatmapgl": [
           {
            "colorbar": {
             "outlinewidth": 0,
             "ticks": ""
            },
            "colorscale": [
             [
              0,
              "#0d0887"
             ],
             [
              0.1111111111111111,
              "#46039f"
             ],
             [
              0.2222222222222222,
              "#7201a8"
             ],
             [
              0.3333333333333333,
              "#9c179e"
             ],
             [
              0.4444444444444444,
              "#bd3786"
             ],
             [
              0.5555555555555556,
              "#d8576b"
             ],
             [
              0.6666666666666666,
              "#ed7953"
             ],
             [
              0.7777777777777778,
              "#fb9f3a"
             ],
             [
              0.8888888888888888,
              "#fdca26"
             ],
             [
              1,
              "#f0f921"
             ]
            ],
            "type": "heatmapgl"
           }
          ],
          "histogram": [
           {
            "marker": {
             "pattern": {
              "fillmode": "overlay",
              "size": 10,
              "solidity": 0.2
             }
            },
            "type": "histogram"
           }
          ],
          "histogram2d": [
           {
            "colorbar": {
             "outlinewidth": 0,
             "ticks": ""
            },
            "colorscale": [
             [
              0,
              "#0d0887"
             ],
             [
              0.1111111111111111,
              "#46039f"
             ],
             [
              0.2222222222222222,
              "#7201a8"
             ],
             [
              0.3333333333333333,
              "#9c179e"
             ],
             [
              0.4444444444444444,
              "#bd3786"
             ],
             [
              0.5555555555555556,
              "#d8576b"
             ],
             [
              0.6666666666666666,
              "#ed7953"
             ],
             [
              0.7777777777777778,
              "#fb9f3a"
             ],
             [
              0.8888888888888888,
              "#fdca26"
             ],
             [
              1,
              "#f0f921"
             ]
            ],
            "type": "histogram2d"
           }
          ],
          "histogram2dcontour": [
           {
            "colorbar": {
             "outlinewidth": 0,
             "ticks": ""
            },
            "colorscale": [
             [
              0,
              "#0d0887"
             ],
             [
              0.1111111111111111,
              "#46039f"
             ],
             [
              0.2222222222222222,
              "#7201a8"
             ],
             [
              0.3333333333333333,
              "#9c179e"
             ],
             [
              0.4444444444444444,
              "#bd3786"
             ],
             [
              0.5555555555555556,
              "#d8576b"
             ],
             [
              0.6666666666666666,
              "#ed7953"
             ],
             [
              0.7777777777777778,
              "#fb9f3a"
             ],
             [
              0.8888888888888888,
              "#fdca26"
             ],
             [
              1,
              "#f0f921"
             ]
            ],
            "type": "histogram2dcontour"
           }
          ],
          "mesh3d": [
           {
            "colorbar": {
             "outlinewidth": 0,
             "ticks": ""
            },
            "type": "mesh3d"
           }
          ],
          "parcoords": [
           {
            "line": {
             "colorbar": {
              "outlinewidth": 0,
              "ticks": ""
             }
            },
            "type": "parcoords"
           }
          ],
          "pie": [
           {
            "automargin": true,
            "type": "pie"
           }
          ],
          "scatter": [
           {
            "fillpattern": {
             "fillmode": "overlay",
             "size": 10,
             "solidity": 0.2
            },
            "type": "scatter"
           }
          ],
          "scatter3d": [
           {
            "line": {
             "colorbar": {
              "outlinewidth": 0,
              "ticks": ""
             }
            },
            "marker": {
             "colorbar": {
              "outlinewidth": 0,
              "ticks": ""
             }
            },
            "type": "scatter3d"
           }
          ],
          "scattercarpet": [
           {
            "marker": {
             "colorbar": {
              "outlinewidth": 0,
              "ticks": ""
             }
            },
            "type": "scattercarpet"
           }
          ],
          "scattergeo": [
           {
            "marker": {
             "colorbar": {
              "outlinewidth": 0,
              "ticks": ""
             }
            },
            "type": "scattergeo"
           }
          ],
          "scattergl": [
           {
            "marker": {
             "colorbar": {
              "outlinewidth": 0,
              "ticks": ""
             }
            },
            "type": "scattergl"
           }
          ],
          "scattermapbox": [
           {
            "marker": {
             "colorbar": {
              "outlinewidth": 0,
              "ticks": ""
             }
            },
            "type": "scattermapbox"
           }
          ],
          "scatterpolar": [
           {
            "marker": {
             "colorbar": {
              "outlinewidth": 0,
              "ticks": ""
             }
            },
            "type": "scatterpolar"
           }
          ],
          "scatterpolargl": [
           {
            "marker": {
             "colorbar": {
              "outlinewidth": 0,
              "ticks": ""
             }
            },
            "type": "scatterpolargl"
           }
          ],
          "scatterternary": [
           {
            "marker": {
             "colorbar": {
              "outlinewidth": 0,
              "ticks": ""
             }
            },
            "type": "scatterternary"
           }
          ],
          "surface": [
           {
            "colorbar": {
             "outlinewidth": 0,
             "ticks": ""
            },
            "colorscale": [
             [
              0,
              "#0d0887"
             ],
             [
              0.1111111111111111,
              "#46039f"
             ],
             [
              0.2222222222222222,
              "#7201a8"
             ],
             [
              0.3333333333333333,
              "#9c179e"
             ],
             [
              0.4444444444444444,
              "#bd3786"
             ],
             [
              0.5555555555555556,
              "#d8576b"
             ],
             [
              0.6666666666666666,
              "#ed7953"
             ],
             [
              0.7777777777777778,
              "#fb9f3a"
             ],
             [
              0.8888888888888888,
              "#fdca26"
             ],
             [
              1,
              "#f0f921"
             ]
            ],
            "type": "surface"
           }
          ],
          "table": [
           {
            "cells": {
             "fill": {
              "color": "#EBF0F8"
             },
             "line": {
              "color": "white"
             }
            },
            "header": {
             "fill": {
              "color": "#C8D4E3"
             },
             "line": {
              "color": "white"
             }
            },
            "type": "table"
           }
          ]
         },
         "layout": {
          "annotationdefaults": {
           "arrowcolor": "#2a3f5f",
           "arrowhead": 0,
           "arrowwidth": 1
          },
          "autotypenumbers": "strict",
          "coloraxis": {
           "colorbar": {
            "outlinewidth": 0,
            "ticks": ""
           }
          },
          "colorscale": {
           "diverging": [
            [
             0,
             "#8e0152"
            ],
            [
             0.1,
             "#c51b7d"
            ],
            [
             0.2,
             "#de77ae"
            ],
            [
             0.3,
             "#f1b6da"
            ],
            [
             0.4,
             "#fde0ef"
            ],
            [
             0.5,
             "#f7f7f7"
            ],
            [
             0.6,
             "#e6f5d0"
            ],
            [
             0.7,
             "#b8e186"
            ],
            [
             0.8,
             "#7fbc41"
            ],
            [
             0.9,
             "#4d9221"
            ],
            [
             1,
             "#276419"
            ]
           ],
           "sequential": [
            [
             0,
             "#0d0887"
            ],
            [
             0.1111111111111111,
             "#46039f"
            ],
            [
             0.2222222222222222,
             "#7201a8"
            ],
            [
             0.3333333333333333,
             "#9c179e"
            ],
            [
             0.4444444444444444,
             "#bd3786"
            ],
            [
             0.5555555555555556,
             "#d8576b"
            ],
            [
             0.6666666666666666,
             "#ed7953"
            ],
            [
             0.7777777777777778,
             "#fb9f3a"
            ],
            [
             0.8888888888888888,
             "#fdca26"
            ],
            [
             1,
             "#f0f921"
            ]
           ],
           "sequentialminus": [
            [
             0,
             "#0d0887"
            ],
            [
             0.1111111111111111,
             "#46039f"
            ],
            [
             0.2222222222222222,
             "#7201a8"
            ],
            [
             0.3333333333333333,
             "#9c179e"
            ],
            [
             0.4444444444444444,
             "#bd3786"
            ],
            [
             0.5555555555555556,
             "#d8576b"
            ],
            [
             0.6666666666666666,
             "#ed7953"
            ],
            [
             0.7777777777777778,
             "#fb9f3a"
            ],
            [
             0.8888888888888888,
             "#fdca26"
            ],
            [
             1,
             "#f0f921"
            ]
           ]
          },
          "colorway": [
           "#636efa",
           "#EF553B",
           "#00cc96",
           "#ab63fa",
           "#FFA15A",
           "#19d3f3",
           "#FF6692",
           "#B6E880",
           "#FF97FF",
           "#FECB52"
          ],
          "font": {
           "color": "#2a3f5f"
          },
          "geo": {
           "bgcolor": "white",
           "lakecolor": "white",
           "landcolor": "#E5ECF6",
           "showlakes": true,
           "showland": true,
           "subunitcolor": "white"
          },
          "hoverlabel": {
           "align": "left"
          },
          "hovermode": "closest",
          "mapbox": {
           "style": "light"
          },
          "paper_bgcolor": "white",
          "plot_bgcolor": "#E5ECF6",
          "polar": {
           "angularaxis": {
            "gridcolor": "white",
            "linecolor": "white",
            "ticks": ""
           },
           "bgcolor": "#E5ECF6",
           "radialaxis": {
            "gridcolor": "white",
            "linecolor": "white",
            "ticks": ""
           }
          },
          "scene": {
           "xaxis": {
            "backgroundcolor": "#E5ECF6",
            "gridcolor": "white",
            "gridwidth": 2,
            "linecolor": "white",
            "showbackground": true,
            "ticks": "",
            "zerolinecolor": "white"
           },
           "yaxis": {
            "backgroundcolor": "#E5ECF6",
            "gridcolor": "white",
            "gridwidth": 2,
            "linecolor": "white",
            "showbackground": true,
            "ticks": "",
            "zerolinecolor": "white"
           },
           "zaxis": {
            "backgroundcolor": "#E5ECF6",
            "gridcolor": "white",
            "gridwidth": 2,
            "linecolor": "white",
            "showbackground": true,
            "ticks": "",
            "zerolinecolor": "white"
           }
          },
          "shapedefaults": {
           "line": {
            "color": "#2a3f5f"
           }
          },
          "ternary": {
           "aaxis": {
            "gridcolor": "white",
            "linecolor": "white",
            "ticks": ""
           },
           "baxis": {
            "gridcolor": "white",
            "linecolor": "white",
            "ticks": ""
           },
           "bgcolor": "#E5ECF6",
           "caxis": {
            "gridcolor": "white",
            "linecolor": "white",
            "ticks": ""
           }
          },
          "title": {
           "x": 0.05
          },
          "xaxis": {
           "automargin": true,
           "gridcolor": "white",
           "linecolor": "white",
           "ticks": "",
           "title": {
            "standoff": 15
           },
           "zerolinecolor": "white",
           "zerolinewidth": 2
          },
          "yaxis": {
           "automargin": true,
           "gridcolor": "white",
           "linecolor": "white",
           "ticks": "",
           "title": {
            "standoff": 15
           },
           "zerolinecolor": "white",
           "zerolinewidth": 2
          }
         }
        },
        "title": {
         "text": "Fréquentation quotidienne par station (entrées)"
        },
        "xaxis": {
         "title": {
          "text": "Time of the day (h)"
         }
        },
        "yaxis": {
         "title": {
          "text": "Number of people"
         }
        }
       }
      }
     },
     "metadata": {},
     "output_type": "display_data"
    }
   ],
   "source": [
    "fig.update_layout(\n",
    "    xaxis_title='Time of the day (h)',\n",
    "    yaxis_title='Number of people',\n",
    "    legend_title='Metro Stop',\n",
    "    title='Fréquentation quotidienne par station (entrées)'\n",
    ")\n",
    "fig.show()\n"
   ]
  },
  {
   "cell_type": "code",
   "execution_count": 202,
   "metadata": {},
   "outputs": [
    {
     "data": {
      "application/vnd.plotly.v1+json": {
       "config": {
        "plotlyServerURL": "https://plot.ly"
       },
       "data": [
        {
         "mode": "lines+markers",
         "name": "2811",
         "type": "scatter",
         "x": [
          "06",
          "07",
          "08",
          "09",
          "10",
          "11",
          "12",
          "13",
          "14",
          "15",
          "16",
          "17",
          "18",
          "19",
          "20",
          "21",
          "22",
          "23",
          "24"
         ],
         "y": [
          39335,
          234805,
          359747,
          764979,
          558626,
          477431,
          539326,
          647082,
          689451,
          774980,
          995173,
          1188373,
          1677253,
          2827934,
          2304707,
          1290723,
          1189010,
          1073996,
          595790
         ]
        },
        {
         "mode": "lines+markers",
         "name": "2812",
         "type": "scatter",
         "x": [
          "06",
          "07",
          "08",
          "09",
          "10",
          "11",
          "12",
          "13",
          "14",
          "15",
          "16",
          "17",
          "18",
          "19",
          "20",
          "21",
          "22",
          "23",
          "24"
         ],
         "y": [
          70120,
          436335,
          579235,
          1120893,
          966470,
          726412,
          745115,
          823572,
          909794,
          944932,
          1133721,
          1295071,
          1754331,
          2723258,
          1931403,
          1076082,
          995827,
          816353,
          479661
         ]
        },
        {
         "mode": "lines+markers",
         "name": "2813",
         "type": "scatter",
         "x": [
          "06",
          "07",
          "08",
          "09",
          "10",
          "11",
          "12",
          "13",
          "14",
          "15",
          "16",
          "17",
          "18",
          "19",
          "20",
          "21",
          "22",
          "23",
          "24"
         ],
         "y": [
          41093,
          204329,
          559079,
          1366560,
          568637,
          403249,
          389638,
          414053,
          487887,
          496246,
          548680,
          673916,
          879681,
          1409092,
          1052781,
          630479,
          600074,
          524883,
          266712
         ]
        },
        {
         "mode": "lines+markers",
         "name": "2814",
         "type": "scatter",
         "x": [
          "06",
          "07",
          "08",
          "09",
          "10",
          "11",
          "12",
          "13",
          "14",
          "15",
          "16",
          "17",
          "18",
          "19",
          "20",
          "21",
          "22",
          "23",
          "24"
         ],
         "y": [
          53942,
          250449,
          366762,
          1006446,
          567116,
          331930,
          312845,
          302922,
          323866,
          305889,
          316401,
          350590,
          437592,
          615892,
          455316,
          275503,
          251162,
          226673,
          114286
         ]
        },
        {
         "mode": "lines+markers",
         "name": "2815",
         "type": "scatter",
         "x": [
          "06",
          "07",
          "08",
          "09",
          "10",
          "11",
          "12",
          "13",
          "14",
          "15",
          "16",
          "17",
          "18",
          "19",
          "20",
          "21",
          "22",
          "23",
          "24"
         ],
         "y": [
          88645,
          398515,
          1158063,
          2974868,
          1673223,
          1070919,
          1142687,
          1136898,
          1173456,
          1116957,
          1131282,
          1122334,
          1314713,
          1601775,
          850040,
          451871,
          337478,
          247114,
          137451
         ]
        },
        {
         "mode": "lines+markers",
         "name": "2816",
         "type": "scatter",
         "x": [
          "06",
          "07",
          "08",
          "09",
          "10",
          "11",
          "12",
          "13",
          "14",
          "15",
          "16",
          "17",
          "18",
          "19",
          "20",
          "21",
          "22",
          "23",
          "24"
         ],
         "y": [
          27043,
          147353,
          323074,
          854010,
          696996,
          463181,
          471011,
          502707,
          540770,
          535100,
          562923,
          628322,
          808010,
          1138952,
          780363,
          465963,
          417037,
          343115,
          214314
         ]
        },
        {
         "mode": "lines+markers",
         "name": "2817",
         "type": "scatter",
         "x": [
          "06",
          "07",
          "08",
          "09",
          "10",
          "11",
          "12",
          "13",
          "14",
          "15",
          "16",
          "17",
          "18",
          "19",
          "20",
          "21",
          "22",
          "23",
          "24"
         ],
         "y": [
          24746,
          197894,
          397200,
          703440,
          406654,
          308738,
          306046,
          355040,
          399277,
          421441,
          480245,
          564474,
          731923,
          1122117,
          893928,
          494783,
          491256,
          412570,
          236312
         ]
        },
        {
         "mode": "lines+markers",
         "name": "2818",
         "type": "scatter",
         "x": [
          "06",
          "07",
          "08",
          "09",
          "10",
          "11",
          "12",
          "13",
          "14",
          "15",
          "16",
          "17",
          "18",
          "19",
          "20",
          "21",
          "22",
          "23",
          "24"
         ],
         "y": [
          97951,
          265794,
          557712,
          1517579,
          699528,
          492874,
          443391,
          422049,
          447494,
          440327,
          450422,
          507318,
          593070,
          791838,
          570310,
          363526,
          333155,
          253743,
          177549
         ]
        },
        {
         "mode": "lines+markers",
         "name": "2819",
         "type": "scatter",
         "x": [
          "06",
          "07",
          "08",
          "09",
          "10",
          "11",
          "12",
          "13",
          "14",
          "15",
          "16",
          "17",
          "18",
          "19",
          "20",
          "21",
          "22",
          "23",
          "24"
         ],
         "y": [
          122670,
          478094,
          1922411,
          6632767,
          3159027,
          1077548,
          706848,
          664877,
          775645,
          693460,
          719348,
          757446,
          925267,
          1324708,
          996517,
          564661,
          500842,
          443814,
          238588
         ]
        },
        {
         "mode": "lines+markers",
         "name": "2820",
         "type": "scatter",
         "x": [
          "06",
          "07",
          "08",
          "09",
          "10",
          "11",
          "12",
          "13",
          "14",
          "15",
          "16",
          "17",
          "18",
          "19",
          "20",
          "21",
          "22",
          "23",
          "24"
         ],
         "y": [
          99984,
          434071,
          1006070,
          1948168,
          1243854,
          778407,
          763803,
          852443,
          795644,
          857032,
          970315,
          1081873,
          1277652,
          2030392,
          1428300,
          826713,
          707202,
          665472,
          355712
         ]
        },
        {
         "mode": "lines+markers",
         "name": "2821",
         "type": "scatter",
         "x": [
          "06",
          "07",
          "08",
          "09",
          "10",
          "11",
          "12",
          "13",
          "14",
          "15",
          "16",
          "17",
          "18",
          "19",
          "20",
          "21",
          "22",
          "23",
          "24"
         ],
         "y": [
          92180,
          365738,
          458251,
          742533,
          492024,
          336994,
          295802,
          374583,
          351567,
          361554,
          410996,
          529781,
          761003,
          1225394,
          908277,
          570567,
          522357,
          470135,
          201386
         ]
        },
        {
         "mode": "lines+markers",
         "name": "2822",
         "type": "scatter",
         "x": [
          "06",
          "07",
          "08",
          "09",
          "10",
          "11",
          "12",
          "13",
          "14",
          "15",
          "16",
          "17",
          "18",
          "19",
          "20",
          "21",
          "22",
          "23",
          "24"
         ],
         "y": [
          28669,
          143470,
          146700,
          335366,
          229026,
          232563,
          197359,
          221179,
          239012,
          246587,
          321173,
          405773,
          519151,
          860780,
          736487,
          459642,
          440266,
          392881,
          207451
         ]
        },
        {
         "mode": "lines+markers",
         "name": "2823",
         "type": "scatter",
         "x": [
          "06",
          "07",
          "08",
          "09",
          "10",
          "11",
          "12",
          "13",
          "14",
          "15",
          "16",
          "17",
          "18",
          "19",
          "20",
          "21",
          "22",
          "23",
          "24"
         ],
         "y": [
          60956,
          204844,
          448552,
          1000696,
          719317,
          480379,
          430870,
          499676,
          558614,
          539301,
          687840,
          837708,
          1059612,
          1779710,
          1472010,
          899187,
          887317,
          799050,
          426023
         ]
        },
        {
         "mode": "lines+markers",
         "name": "2824",
         "type": "scatter",
         "x": [
          "06",
          "07",
          "08",
          "09",
          "10",
          "11",
          "12",
          "13",
          "14",
          "15",
          "16",
          "17",
          "18",
          "19",
          "20",
          "21",
          "22",
          "23",
          "24"
         ],
         "y": [
          76096,
          285158,
          442794,
          810548,
          414310,
          331700,
          347283,
          395258,
          425104,
          475173,
          610177,
          752985,
          909118,
          1484820,
          1225938,
          742646,
          691083,
          621622,
          366389
         ]
        },
        {
         "mode": "lines+markers",
         "name": "2825",
         "type": "scatter",
         "x": [
          "06",
          "07",
          "08",
          "09",
          "10",
          "11",
          "12",
          "13",
          "14",
          "15",
          "16",
          "17",
          "18",
          "19",
          "20",
          "21",
          "22",
          "23",
          "24"
         ],
         "y": [
          23774,
          114696,
          135480,
          273869,
          195396,
          203200,
          208875,
          242422,
          287114,
          306219,
          349493,
          401012,
          468647,
          677707,
          555804,
          339400,
          313180,
          251802,
          150971
         ]
        },
        {
         "mode": "lines+markers",
         "name": "2826",
         "type": "scatter",
         "x": [
          "06",
          "07",
          "08",
          "09",
          "10",
          "11",
          "12",
          "13",
          "14",
          "15",
          "16",
          "17",
          "18",
          "19",
          "20",
          "21",
          "22",
          "23",
          "24"
         ],
         "y": [
          22093,
          100286,
          147824,
          392514,
          231120,
          213276,
          221755,
          228698,
          288914,
          288576,
          326329,
          358456,
          411361,
          613950,
          498785,
          317627,
          311633,
          266834,
          165176
         ]
        },
        {
         "mode": "lines+markers",
         "name": "2827",
         "type": "scatter",
         "x": [
          "06",
          "07",
          "08",
          "09",
          "10",
          "11",
          "12",
          "13",
          "14",
          "15",
          "16",
          "17",
          "18",
          "19",
          "20",
          "21",
          "22",
          "23",
          "24"
         ],
         "y": [
          25725,
          130609,
          172098,
          340833,
          228070,
          233826,
          251382,
          252023,
          277516,
          264342,
          273187,
          289673,
          321009,
          402368,
          256131,
          156353,
          157451,
          131281,
          79479
         ]
        },
        {
         "mode": "lines+markers",
         "name": "2828",
         "type": "scatter",
         "x": [
          "06",
          "07",
          "08",
          "09",
          "10",
          "11",
          "12",
          "13",
          "14",
          "15",
          "16",
          "17",
          "18",
          "19",
          "20",
          "21",
          "22",
          "23",
          "24"
         ],
         "y": [
          12060,
          48251,
          113377,
          353255,
          172134,
          100938,
          96624,
          112249,
          127604,
          123587,
          144774,
          184883,
          245630,
          367343,
          280567,
          150116,
          148162,
          135142,
          86651
         ]
        }
       ],
       "layout": {
        "legend": {
         "title": {
          "text": "Metro Stop"
         }
        },
        "template": {
         "data": {
          "bar": [
           {
            "error_x": {
             "color": "#2a3f5f"
            },
            "error_y": {
             "color": "#2a3f5f"
            },
            "marker": {
             "line": {
              "color": "#E5ECF6",
              "width": 0.5
             },
             "pattern": {
              "fillmode": "overlay",
              "size": 10,
              "solidity": 0.2
             }
            },
            "type": "bar"
           }
          ],
          "barpolar": [
           {
            "marker": {
             "line": {
              "color": "#E5ECF6",
              "width": 0.5
             },
             "pattern": {
              "fillmode": "overlay",
              "size": 10,
              "solidity": 0.2
             }
            },
            "type": "barpolar"
           }
          ],
          "carpet": [
           {
            "aaxis": {
             "endlinecolor": "#2a3f5f",
             "gridcolor": "white",
             "linecolor": "white",
             "minorgridcolor": "white",
             "startlinecolor": "#2a3f5f"
            },
            "baxis": {
             "endlinecolor": "#2a3f5f",
             "gridcolor": "white",
             "linecolor": "white",
             "minorgridcolor": "white",
             "startlinecolor": "#2a3f5f"
            },
            "type": "carpet"
           }
          ],
          "choropleth": [
           {
            "colorbar": {
             "outlinewidth": 0,
             "ticks": ""
            },
            "type": "choropleth"
           }
          ],
          "contour": [
           {
            "colorbar": {
             "outlinewidth": 0,
             "ticks": ""
            },
            "colorscale": [
             [
              0,
              "#0d0887"
             ],
             [
              0.1111111111111111,
              "#46039f"
             ],
             [
              0.2222222222222222,
              "#7201a8"
             ],
             [
              0.3333333333333333,
              "#9c179e"
             ],
             [
              0.4444444444444444,
              "#bd3786"
             ],
             [
              0.5555555555555556,
              "#d8576b"
             ],
             [
              0.6666666666666666,
              "#ed7953"
             ],
             [
              0.7777777777777778,
              "#fb9f3a"
             ],
             [
              0.8888888888888888,
              "#fdca26"
             ],
             [
              1,
              "#f0f921"
             ]
            ],
            "type": "contour"
           }
          ],
          "contourcarpet": [
           {
            "colorbar": {
             "outlinewidth": 0,
             "ticks": ""
            },
            "type": "contourcarpet"
           }
          ],
          "heatmap": [
           {
            "colorbar": {
             "outlinewidth": 0,
             "ticks": ""
            },
            "colorscale": [
             [
              0,
              "#0d0887"
             ],
             [
              0.1111111111111111,
              "#46039f"
             ],
             [
              0.2222222222222222,
              "#7201a8"
             ],
             [
              0.3333333333333333,
              "#9c179e"
             ],
             [
              0.4444444444444444,
              "#bd3786"
             ],
             [
              0.5555555555555556,
              "#d8576b"
             ],
             [
              0.6666666666666666,
              "#ed7953"
             ],
             [
              0.7777777777777778,
              "#fb9f3a"
             ],
             [
              0.8888888888888888,
              "#fdca26"
             ],
             [
              1,
              "#f0f921"
             ]
            ],
            "type": "heatmap"
           }
          ],
          "heatmapgl": [
           {
            "colorbar": {
             "outlinewidth": 0,
             "ticks": ""
            },
            "colorscale": [
             [
              0,
              "#0d0887"
             ],
             [
              0.1111111111111111,
              "#46039f"
             ],
             [
              0.2222222222222222,
              "#7201a8"
             ],
             [
              0.3333333333333333,
              "#9c179e"
             ],
             [
              0.4444444444444444,
              "#bd3786"
             ],
             [
              0.5555555555555556,
              "#d8576b"
             ],
             [
              0.6666666666666666,
              "#ed7953"
             ],
             [
              0.7777777777777778,
              "#fb9f3a"
             ],
             [
              0.8888888888888888,
              "#fdca26"
             ],
             [
              1,
              "#f0f921"
             ]
            ],
            "type": "heatmapgl"
           }
          ],
          "histogram": [
           {
            "marker": {
             "pattern": {
              "fillmode": "overlay",
              "size": 10,
              "solidity": 0.2
             }
            },
            "type": "histogram"
           }
          ],
          "histogram2d": [
           {
            "colorbar": {
             "outlinewidth": 0,
             "ticks": ""
            },
            "colorscale": [
             [
              0,
              "#0d0887"
             ],
             [
              0.1111111111111111,
              "#46039f"
             ],
             [
              0.2222222222222222,
              "#7201a8"
             ],
             [
              0.3333333333333333,
              "#9c179e"
             ],
             [
              0.4444444444444444,
              "#bd3786"
             ],
             [
              0.5555555555555556,
              "#d8576b"
             ],
             [
              0.6666666666666666,
              "#ed7953"
             ],
             [
              0.7777777777777778,
              "#fb9f3a"
             ],
             [
              0.8888888888888888,
              "#fdca26"
             ],
             [
              1,
              "#f0f921"
             ]
            ],
            "type": "histogram2d"
           }
          ],
          "histogram2dcontour": [
           {
            "colorbar": {
             "outlinewidth": 0,
             "ticks": ""
            },
            "colorscale": [
             [
              0,
              "#0d0887"
             ],
             [
              0.1111111111111111,
              "#46039f"
             ],
             [
              0.2222222222222222,
              "#7201a8"
             ],
             [
              0.3333333333333333,
              "#9c179e"
             ],
             [
              0.4444444444444444,
              "#bd3786"
             ],
             [
              0.5555555555555556,
              "#d8576b"
             ],
             [
              0.6666666666666666,
              "#ed7953"
             ],
             [
              0.7777777777777778,
              "#fb9f3a"
             ],
             [
              0.8888888888888888,
              "#fdca26"
             ],
             [
              1,
              "#f0f921"
             ]
            ],
            "type": "histogram2dcontour"
           }
          ],
          "mesh3d": [
           {
            "colorbar": {
             "outlinewidth": 0,
             "ticks": ""
            },
            "type": "mesh3d"
           }
          ],
          "parcoords": [
           {
            "line": {
             "colorbar": {
              "outlinewidth": 0,
              "ticks": ""
             }
            },
            "type": "parcoords"
           }
          ],
          "pie": [
           {
            "automargin": true,
            "type": "pie"
           }
          ],
          "scatter": [
           {
            "fillpattern": {
             "fillmode": "overlay",
             "size": 10,
             "solidity": 0.2
            },
            "type": "scatter"
           }
          ],
          "scatter3d": [
           {
            "line": {
             "colorbar": {
              "outlinewidth": 0,
              "ticks": ""
             }
            },
            "marker": {
             "colorbar": {
              "outlinewidth": 0,
              "ticks": ""
             }
            },
            "type": "scatter3d"
           }
          ],
          "scattercarpet": [
           {
            "marker": {
             "colorbar": {
              "outlinewidth": 0,
              "ticks": ""
             }
            },
            "type": "scattercarpet"
           }
          ],
          "scattergeo": [
           {
            "marker": {
             "colorbar": {
              "outlinewidth": 0,
              "ticks": ""
             }
            },
            "type": "scattergeo"
           }
          ],
          "scattergl": [
           {
            "marker": {
             "colorbar": {
              "outlinewidth": 0,
              "ticks": ""
             }
            },
            "type": "scattergl"
           }
          ],
          "scattermapbox": [
           {
            "marker": {
             "colorbar": {
              "outlinewidth": 0,
              "ticks": ""
             }
            },
            "type": "scattermapbox"
           }
          ],
          "scatterpolar": [
           {
            "marker": {
             "colorbar": {
              "outlinewidth": 0,
              "ticks": ""
             }
            },
            "type": "scatterpolar"
           }
          ],
          "scatterpolargl": [
           {
            "marker": {
             "colorbar": {
              "outlinewidth": 0,
              "ticks": ""
             }
            },
            "type": "scatterpolargl"
           }
          ],
          "scatterternary": [
           {
            "marker": {
             "colorbar": {
              "outlinewidth": 0,
              "ticks": ""
             }
            },
            "type": "scatterternary"
           }
          ],
          "surface": [
           {
            "colorbar": {
             "outlinewidth": 0,
             "ticks": ""
            },
            "colorscale": [
             [
              0,
              "#0d0887"
             ],
             [
              0.1111111111111111,
              "#46039f"
             ],
             [
              0.2222222222222222,
              "#7201a8"
             ],
             [
              0.3333333333333333,
              "#9c179e"
             ],
             [
              0.4444444444444444,
              "#bd3786"
             ],
             [
              0.5555555555555556,
              "#d8576b"
             ],
             [
              0.6666666666666666,
              "#ed7953"
             ],
             [
              0.7777777777777778,
              "#fb9f3a"
             ],
             [
              0.8888888888888888,
              "#fdca26"
             ],
             [
              1,
              "#f0f921"
             ]
            ],
            "type": "surface"
           }
          ],
          "table": [
           {
            "cells": {
             "fill": {
              "color": "#EBF0F8"
             },
             "line": {
              "color": "white"
             }
            },
            "header": {
             "fill": {
              "color": "#C8D4E3"
             },
             "line": {
              "color": "white"
             }
            },
            "type": "table"
           }
          ]
         },
         "layout": {
          "annotationdefaults": {
           "arrowcolor": "#2a3f5f",
           "arrowhead": 0,
           "arrowwidth": 1
          },
          "autotypenumbers": "strict",
          "coloraxis": {
           "colorbar": {
            "outlinewidth": 0,
            "ticks": ""
           }
          },
          "colorscale": {
           "diverging": [
            [
             0,
             "#8e0152"
            ],
            [
             0.1,
             "#c51b7d"
            ],
            [
             0.2,
             "#de77ae"
            ],
            [
             0.3,
             "#f1b6da"
            ],
            [
             0.4,
             "#fde0ef"
            ],
            [
             0.5,
             "#f7f7f7"
            ],
            [
             0.6,
             "#e6f5d0"
            ],
            [
             0.7,
             "#b8e186"
            ],
            [
             0.8,
             "#7fbc41"
            ],
            [
             0.9,
             "#4d9221"
            ],
            [
             1,
             "#276419"
            ]
           ],
           "sequential": [
            [
             0,
             "#0d0887"
            ],
            [
             0.1111111111111111,
             "#46039f"
            ],
            [
             0.2222222222222222,
             "#7201a8"
            ],
            [
             0.3333333333333333,
             "#9c179e"
            ],
            [
             0.4444444444444444,
             "#bd3786"
            ],
            [
             0.5555555555555556,
             "#d8576b"
            ],
            [
             0.6666666666666666,
             "#ed7953"
            ],
            [
             0.7777777777777778,
             "#fb9f3a"
            ],
            [
             0.8888888888888888,
             "#fdca26"
            ],
            [
             1,
             "#f0f921"
            ]
           ],
           "sequentialminus": [
            [
             0,
             "#0d0887"
            ],
            [
             0.1111111111111111,
             "#46039f"
            ],
            [
             0.2222222222222222,
             "#7201a8"
            ],
            [
             0.3333333333333333,
             "#9c179e"
            ],
            [
             0.4444444444444444,
             "#bd3786"
            ],
            [
             0.5555555555555556,
             "#d8576b"
            ],
            [
             0.6666666666666666,
             "#ed7953"
            ],
            [
             0.7777777777777778,
             "#fb9f3a"
            ],
            [
             0.8888888888888888,
             "#fdca26"
            ],
            [
             1,
             "#f0f921"
            ]
           ]
          },
          "colorway": [
           "#636efa",
           "#EF553B",
           "#00cc96",
           "#ab63fa",
           "#FFA15A",
           "#19d3f3",
           "#FF6692",
           "#B6E880",
           "#FF97FF",
           "#FECB52"
          ],
          "font": {
           "color": "#2a3f5f"
          },
          "geo": {
           "bgcolor": "white",
           "lakecolor": "white",
           "landcolor": "#E5ECF6",
           "showlakes": true,
           "showland": true,
           "subunitcolor": "white"
          },
          "hoverlabel": {
           "align": "left"
          },
          "hovermode": "closest",
          "mapbox": {
           "style": "light"
          },
          "paper_bgcolor": "white",
          "plot_bgcolor": "#E5ECF6",
          "polar": {
           "angularaxis": {
            "gridcolor": "white",
            "linecolor": "white",
            "ticks": ""
           },
           "bgcolor": "#E5ECF6",
           "radialaxis": {
            "gridcolor": "white",
            "linecolor": "white",
            "ticks": ""
           }
          },
          "scene": {
           "xaxis": {
            "backgroundcolor": "#E5ECF6",
            "gridcolor": "white",
            "gridwidth": 2,
            "linecolor": "white",
            "showbackground": true,
            "ticks": "",
            "zerolinecolor": "white"
           },
           "yaxis": {
            "backgroundcolor": "#E5ECF6",
            "gridcolor": "white",
            "gridwidth": 2,
            "linecolor": "white",
            "showbackground": true,
            "ticks": "",
            "zerolinecolor": "white"
           },
           "zaxis": {
            "backgroundcolor": "#E5ECF6",
            "gridcolor": "white",
            "gridwidth": 2,
            "linecolor": "white",
            "showbackground": true,
            "ticks": "",
            "zerolinecolor": "white"
           }
          },
          "shapedefaults": {
           "line": {
            "color": "#2a3f5f"
           }
          },
          "ternary": {
           "aaxis": {
            "gridcolor": "white",
            "linecolor": "white",
            "ticks": ""
           },
           "baxis": {
            "gridcolor": "white",
            "linecolor": "white",
            "ticks": ""
           },
           "bgcolor": "#E5ECF6",
           "caxis": {
            "gridcolor": "white",
            "linecolor": "white",
            "ticks": ""
           }
          },
          "title": {
           "x": 0.05
          },
          "xaxis": {
           "automargin": true,
           "gridcolor": "white",
           "linecolor": "white",
           "ticks": "",
           "title": {
            "standoff": 15
           },
           "zerolinecolor": "white",
           "zerolinewidth": 2
          },
          "yaxis": {
           "automargin": true,
           "gridcolor": "white",
           "linecolor": "white",
           "ticks": "",
           "title": {
            "standoff": 15
           },
           "zerolinecolor": "white",
           "zerolinewidth": 2
          }
         }
        },
        "title": {
         "text": "Fréquentation quotidienne par station (sorties)"
        },
        "xaxis": {
         "title": {
          "text": "Time of the day (h)"
         }
        },
        "yaxis": {
         "title": {
          "text": "Number of people"
         }
        }
       }
      }
     },
     "metadata": {},
     "output_type": "display_data"
    }
   ],
   "source": [
    "#Plotting exits\n",
    "\n",
    "fig = go.Figure()\n",
    "\n",
    "\n",
    "for x in range(len(exits_8)):\n",
    "    fig.add_trace(go.Scatter(\n",
    "        x=exits_8.columns[1:], y=exits_8.loc[x].values[1:],\n",
    "        mode='lines + markers',\n",
    "        name=str(exits_8.loc[x].station_number)\n",
    "    ))\n",
    "\n",
    "fig.update_layout(\n",
    "    xaxis_title='Time of the day (h)',\n",
    "    yaxis_title='Number of people',\n",
    "    legend_title='Metro Stop',\n",
    "    title='Fréquentation quotidienne par station (sorties)'\n",
    ")\n",
    "fig.show()\n"
   ]
  },
  {
   "cell_type": "markdown",
   "metadata": {},
   "source": [
    "## Line 3"
   ]
  },
  {
   "cell_type": "markdown",
   "metadata": {},
   "source": [
    "### Preprocessing "
   ]
  },
  {
   "cell_type": "code",
   "execution_count": 113,
   "metadata": {},
   "outputs": [
    {
     "name": "stderr",
     "output_type": "stream",
     "text": [
      "/var/folders/zn/b4l6fdhd4fs52t3wxt1d7kn40000gn/T/ipykernel_36407/426325573.py:8: SettingWithCopyWarning: \n",
      "A value is trying to be set on a copy of a slice from a DataFrame.\n",
      "Try using .loc[row_indexer,col_indexer] = value instead\n",
      "\n",
      "See the caveats in the documentation: https://pandas.pydata.org/pandas-docs/stable/user_guide/indexing.html#returning-a-view-versus-a-copy\n",
      "  data_3['station_number'] = data_3['station_number'].astype(int)\n",
      "/var/folders/zn/b4l6fdhd4fs52t3wxt1d7kn40000gn/T/ipykernel_36407/426325573.py:12: SettingWithCopyWarning: \n",
      "A value is trying to be set on a copy of a slice from a DataFrame\n",
      "\n",
      "See the caveats in the documentation: https://pandas.pydata.org/pandas-docs/stable/user_guide/indexing.html#returning-a-view-versus-a-copy\n",
      "  data_3.drop(columns=['Unnamed: 0', 'line', '24'], inplace=True)\n"
     ]
    },
    {
     "data": {
      "text/html": [
       "<div>\n",
       "<style scoped>\n",
       "    .dataframe tbody tr th:only-of-type {\n",
       "        vertical-align: middle;\n",
       "    }\n",
       "\n",
       "    .dataframe tbody tr th {\n",
       "        vertical-align: top;\n",
       "    }\n",
       "\n",
       "    .dataframe thead th {\n",
       "        text-align: right;\n",
       "    }\n",
       "</style>\n",
       "<table border=\"1\" class=\"dataframe\">\n",
       "  <thead>\n",
       "    <tr style=\"text-align: right;\">\n",
       "      <th></th>\n",
       "      <th>station_number</th>\n",
       "      <th>station_name</th>\n",
       "      <th>entry/exit</th>\n",
       "      <th>06</th>\n",
       "      <th>06-07</th>\n",
       "      <th>07-08</th>\n",
       "      <th>08-09</th>\n",
       "      <th>09-10</th>\n",
       "      <th>10-11</th>\n",
       "      <th>11-12</th>\n",
       "      <th>...</th>\n",
       "      <th>14-15</th>\n",
       "      <th>15-16</th>\n",
       "      <th>16-17</th>\n",
       "      <th>17-18</th>\n",
       "      <th>18-19</th>\n",
       "      <th>19-20</th>\n",
       "      <th>20-21</th>\n",
       "      <th>21-22</th>\n",
       "      <th>22-23</th>\n",
       "      <th>23-24</th>\n",
       "    </tr>\n",
       "    <tr>\n",
       "      <th>date</th>\n",
       "      <th></th>\n",
       "      <th></th>\n",
       "      <th></th>\n",
       "      <th></th>\n",
       "      <th></th>\n",
       "      <th></th>\n",
       "      <th></th>\n",
       "      <th></th>\n",
       "      <th></th>\n",
       "      <th></th>\n",
       "      <th></th>\n",
       "      <th></th>\n",
       "      <th></th>\n",
       "      <th></th>\n",
       "      <th></th>\n",
       "      <th></th>\n",
       "      <th></th>\n",
       "      <th></th>\n",
       "      <th></th>\n",
       "      <th></th>\n",
       "      <th></th>\n",
       "    </tr>\n",
       "  </thead>\n",
       "  <tbody>\n",
       "    <tr>\n",
       "      <th>2023-06-30</th>\n",
       "      <td>330</td>\n",
       "      <td>교대(법원.검찰청)</td>\n",
       "      <td>exit</td>\n",
       "      <td>35</td>\n",
       "      <td>261</td>\n",
       "      <td>928</td>\n",
       "      <td>2160</td>\n",
       "      <td>1675</td>\n",
       "      <td>692</td>\n",
       "      <td>452</td>\n",
       "      <td>...</td>\n",
       "      <td>464</td>\n",
       "      <td>398</td>\n",
       "      <td>437</td>\n",
       "      <td>714</td>\n",
       "      <td>939</td>\n",
       "      <td>518</td>\n",
       "      <td>248</td>\n",
       "      <td>182</td>\n",
       "      <td>186</td>\n",
       "      <td>127</td>\n",
       "    </tr>\n",
       "    <tr>\n",
       "      <th>2023-06-30</th>\n",
       "      <td>330</td>\n",
       "      <td>교대(법원.검찰청)</td>\n",
       "      <td>entry</td>\n",
       "      <td>66</td>\n",
       "      <td>167</td>\n",
       "      <td>392</td>\n",
       "      <td>616</td>\n",
       "      <td>484</td>\n",
       "      <td>525</td>\n",
       "      <td>700</td>\n",
       "      <td>...</td>\n",
       "      <td>1107</td>\n",
       "      <td>1238</td>\n",
       "      <td>1372</td>\n",
       "      <td>2180</td>\n",
       "      <td>3099</td>\n",
       "      <td>1251</td>\n",
       "      <td>1072</td>\n",
       "      <td>1253</td>\n",
       "      <td>1174</td>\n",
       "      <td>528</td>\n",
       "    </tr>\n",
       "    <tr>\n",
       "      <th>2023-06-30</th>\n",
       "      <td>311</td>\n",
       "      <td>Yeonsinnae</td>\n",
       "      <td>exit</td>\n",
       "      <td>85</td>\n",
       "      <td>448</td>\n",
       "      <td>954</td>\n",
       "      <td>1405</td>\n",
       "      <td>1168</td>\n",
       "      <td>1190</td>\n",
       "      <td>1211</td>\n",
       "      <td>...</td>\n",
       "      <td>1647</td>\n",
       "      <td>1929</td>\n",
       "      <td>2413</td>\n",
       "      <td>2967</td>\n",
       "      <td>5328</td>\n",
       "      <td>4219</td>\n",
       "      <td>2486</td>\n",
       "      <td>2053</td>\n",
       "      <td>2148</td>\n",
       "      <td>1557</td>\n",
       "    </tr>\n",
       "    <tr>\n",
       "      <th>2023-06-30</th>\n",
       "      <td>311</td>\n",
       "      <td>Yeonsinnae</td>\n",
       "      <td>entry</td>\n",
       "      <td>992</td>\n",
       "      <td>1982</td>\n",
       "      <td>5171</td>\n",
       "      <td>5920</td>\n",
       "      <td>3099</td>\n",
       "      <td>1953</td>\n",
       "      <td>1921</td>\n",
       "      <td>...</td>\n",
       "      <td>1623</td>\n",
       "      <td>1840</td>\n",
       "      <td>2149</td>\n",
       "      <td>1967</td>\n",
       "      <td>1878</td>\n",
       "      <td>1300</td>\n",
       "      <td>1060</td>\n",
       "      <td>989</td>\n",
       "      <td>844</td>\n",
       "      <td>510</td>\n",
       "    </tr>\n",
       "    <tr>\n",
       "      <th>2023-06-30</th>\n",
       "      <td>332</td>\n",
       "      <td>Yangjae (Seocho-gu Office)</td>\n",
       "      <td>exit</td>\n",
       "      <td>118</td>\n",
       "      <td>1506</td>\n",
       "      <td>4872</td>\n",
       "      <td>10209</td>\n",
       "      <td>4846</td>\n",
       "      <td>2175</td>\n",
       "      <td>1620</td>\n",
       "      <td>...</td>\n",
       "      <td>1539</td>\n",
       "      <td>1445</td>\n",
       "      <td>1721</td>\n",
       "      <td>2770</td>\n",
       "      <td>3579</td>\n",
       "      <td>2130</td>\n",
       "      <td>1225</td>\n",
       "      <td>1104</td>\n",
       "      <td>1001</td>\n",
       "      <td>669</td>\n",
       "    </tr>\n",
       "    <tr>\n",
       "      <th>...</th>\n",
       "      <td>...</td>\n",
       "      <td>...</td>\n",
       "      <td>...</td>\n",
       "      <td>...</td>\n",
       "      <td>...</td>\n",
       "      <td>...</td>\n",
       "      <td>...</td>\n",
       "      <td>...</td>\n",
       "      <td>...</td>\n",
       "      <td>...</td>\n",
       "      <td>...</td>\n",
       "      <td>...</td>\n",
       "      <td>...</td>\n",
       "      <td>...</td>\n",
       "      <td>...</td>\n",
       "      <td>...</td>\n",
       "      <td>...</td>\n",
       "      <td>...</td>\n",
       "      <td>...</td>\n",
       "      <td>...</td>\n",
       "      <td>...</td>\n",
       "    </tr>\n",
       "    <tr>\n",
       "      <th>2020-01-01</th>\n",
       "      <td>312</td>\n",
       "      <td>Bulgwang</td>\n",
       "      <td>entry</td>\n",
       "      <td>132</td>\n",
       "      <td>211</td>\n",
       "      <td>258</td>\n",
       "      <td>312</td>\n",
       "      <td>451</td>\n",
       "      <td>535</td>\n",
       "      <td>594</td>\n",
       "      <td>...</td>\n",
       "      <td>740</td>\n",
       "      <td>739</td>\n",
       "      <td>811</td>\n",
       "      <td>749</td>\n",
       "      <td>631</td>\n",
       "      <td>493</td>\n",
       "      <td>398</td>\n",
       "      <td>323</td>\n",
       "      <td>207</td>\n",
       "      <td>87</td>\n",
       "    </tr>\n",
       "    <tr>\n",
       "      <th>2020-01-01</th>\n",
       "      <td>326</td>\n",
       "      <td>Apgujeong</td>\n",
       "      <td>exit</td>\n",
       "      <td>37</td>\n",
       "      <td>313</td>\n",
       "      <td>353</td>\n",
       "      <td>623</td>\n",
       "      <td>787</td>\n",
       "      <td>706</td>\n",
       "      <td>873</td>\n",
       "      <td>...</td>\n",
       "      <td>631</td>\n",
       "      <td>684</td>\n",
       "      <td>753</td>\n",
       "      <td>835</td>\n",
       "      <td>635</td>\n",
       "      <td>515</td>\n",
       "      <td>357</td>\n",
       "      <td>311</td>\n",
       "      <td>222</td>\n",
       "      <td>171</td>\n",
       "    </tr>\n",
       "    <tr>\n",
       "      <th>2020-01-01</th>\n",
       "      <td>326</td>\n",
       "      <td>Apgujeong</td>\n",
       "      <td>entry</td>\n",
       "      <td>134</td>\n",
       "      <td>241</td>\n",
       "      <td>140</td>\n",
       "      <td>273</td>\n",
       "      <td>226</td>\n",
       "      <td>461</td>\n",
       "      <td>412</td>\n",
       "      <td>...</td>\n",
       "      <td>666</td>\n",
       "      <td>660</td>\n",
       "      <td>772</td>\n",
       "      <td>778</td>\n",
       "      <td>745</td>\n",
       "      <td>655</td>\n",
       "      <td>629</td>\n",
       "      <td>710</td>\n",
       "      <td>602</td>\n",
       "      <td>206</td>\n",
       "    </tr>\n",
       "    <tr>\n",
       "      <th>2020-01-01</th>\n",
       "      <td>318</td>\n",
       "      <td>Anguk</td>\n",
       "      <td>exit</td>\n",
       "      <td>34</td>\n",
       "      <td>181</td>\n",
       "      <td>170</td>\n",
       "      <td>399</td>\n",
       "      <td>647</td>\n",
       "      <td>983</td>\n",
       "      <td>1227</td>\n",
       "      <td>...</td>\n",
       "      <td>1507</td>\n",
       "      <td>1222</td>\n",
       "      <td>959</td>\n",
       "      <td>731</td>\n",
       "      <td>379</td>\n",
       "      <td>297</td>\n",
       "      <td>218</td>\n",
       "      <td>195</td>\n",
       "      <td>189</td>\n",
       "      <td>114</td>\n",
       "    </tr>\n",
       "    <tr>\n",
       "      <th>2020-01-01</th>\n",
       "      <td>318</td>\n",
       "      <td>Anguk</td>\n",
       "      <td>entry</td>\n",
       "      <td>61</td>\n",
       "      <td>78</td>\n",
       "      <td>78</td>\n",
       "      <td>145</td>\n",
       "      <td>167</td>\n",
       "      <td>259</td>\n",
       "      <td>514</td>\n",
       "      <td>...</td>\n",
       "      <td>1092</td>\n",
       "      <td>1321</td>\n",
       "      <td>1489</td>\n",
       "      <td>1701</td>\n",
       "      <td>1271</td>\n",
       "      <td>927</td>\n",
       "      <td>662</td>\n",
       "      <td>521</td>\n",
       "      <td>240</td>\n",
       "      <td>61</td>\n",
       "    </tr>\n",
       "  </tbody>\n",
       "</table>\n",
       "<p>85151 rows × 22 columns</p>\n",
       "</div>"
      ],
      "text/plain": [
       "            station_number                station_name entry/exit   06  06-07  \\\n",
       "date                                                                            \n",
       "2023-06-30             330                  교대(법원.검찰청)       exit   35    261   \n",
       "2023-06-30             330                  교대(법원.검찰청)      entry   66    167   \n",
       "2023-06-30             311                  Yeonsinnae       exit   85    448   \n",
       "2023-06-30             311                  Yeonsinnae      entry  992   1982   \n",
       "2023-06-30             332  Yangjae (Seocho-gu Office)       exit  118   1506   \n",
       "...                    ...                         ...        ...  ...    ...   \n",
       "2020-01-01             312                    Bulgwang      entry  132    211   \n",
       "2020-01-01             326                   Apgujeong       exit   37    313   \n",
       "2020-01-01             326                   Apgujeong      entry  134    241   \n",
       "2020-01-01             318                       Anguk       exit   34    181   \n",
       "2020-01-01             318                       Anguk      entry   61     78   \n",
       "\n",
       "            07-08  08-09  09-10  10-11  11-12  ...  14-15  15-16  16-17  \\\n",
       "date                                           ...                        \n",
       "2023-06-30    928   2160   1675    692    452  ...    464    398    437   \n",
       "2023-06-30    392    616    484    525    700  ...   1107   1238   1372   \n",
       "2023-06-30    954   1405   1168   1190   1211  ...   1647   1929   2413   \n",
       "2023-06-30   5171   5920   3099   1953   1921  ...   1623   1840   2149   \n",
       "2023-06-30   4872  10209   4846   2175   1620  ...   1539   1445   1721   \n",
       "...           ...    ...    ...    ...    ...  ...    ...    ...    ...   \n",
       "2020-01-01    258    312    451    535    594  ...    740    739    811   \n",
       "2020-01-01    353    623    787    706    873  ...    631    684    753   \n",
       "2020-01-01    140    273    226    461    412  ...    666    660    772   \n",
       "2020-01-01    170    399    647    983   1227  ...   1507   1222    959   \n",
       "2020-01-01     78    145    167    259    514  ...   1092   1321   1489   \n",
       "\n",
       "            17-18  18-19  19-20  20-21  21-22  22-23  23-24  \n",
       "date                                                         \n",
       "2023-06-30    714    939    518    248    182    186    127  \n",
       "2023-06-30   2180   3099   1251   1072   1253   1174    528  \n",
       "2023-06-30   2967   5328   4219   2486   2053   2148   1557  \n",
       "2023-06-30   1967   1878   1300   1060    989    844    510  \n",
       "2023-06-30   2770   3579   2130   1225   1104   1001    669  \n",
       "...           ...    ...    ...    ...    ...    ...    ...  \n",
       "2020-01-01    749    631    493    398    323    207     87  \n",
       "2020-01-01    835    635    515    357    311    222    171  \n",
       "2020-01-01    778    745    655    629    710    602    206  \n",
       "2020-01-01    731    379    297    218    195    189    114  \n",
       "2020-01-01   1701   1271    927    662    521    240     61  \n",
       "\n",
       "[85151 rows x 22 columns]"
      ]
     },
     "execution_count": 113,
     "metadata": {},
     "output_type": "execute_result"
    }
   ],
   "source": [
    "#convert line number to int\n",
    "df['line'] = df['line'].astype(int)\n",
    "\n",
    "# Keeping only line 8\n",
    "data_3 = df[df['line'] == 3]\n",
    "\n",
    "#station number and line number of type object : convert to int\n",
    "data_3['station_number'] = data_3['station_number'].astype(int)\n",
    "\n",
    "# no need to keep useless info\n",
    "#rmoving last column giving us weird info\n",
    "data_3.drop(columns=['Unnamed: 0', 'line', '24'], inplace=True)\n",
    "\n",
    "#Setting date as an index\n",
    "data_3 = data_3.set_index('date')\n",
    "\n",
    "# Converting index as datetime object\n",
    "data_3.index = pd.to_datetime(data_3.index)\n",
    "\n",
    "data_3\n"
   ]
  },
  {
   "cell_type": "code",
   "execution_count": 137,
   "metadata": {},
   "outputs": [],
   "source": [
    "#splitting entry and exit\n",
    "\n",
    "entry_3 = data_3[data_3['entry/exit'] == 'entry']\n",
    "exit_3 = data_3[data_3['entry/exit'] == 'exit']\n"
   ]
  },
  {
   "cell_type": "markdown",
   "metadata": {},
   "source": [
    "### Entries vs exits line 3"
   ]
  },
  {
   "cell_type": "code",
   "execution_count": 203,
   "metadata": {},
   "outputs": [],
   "source": [
    "#ENTRIES\n",
    "#groub by station number and sum\n",
    "entry_3 = entry_3.groupby(by='station_number').sum().reset_index()\n",
    "\n",
    "# entries_3 = entry_3.drop(columns=['station_number', 'station_name', 'entry/exit'])\n",
    "entries_3 = entry_3.drop(columns=['station_name', 'entry/exit'])\n",
    "\n",
    "entries_3.rename(columns={'06-07':'07', '07-08':'08', '08-09':'09', '09-10':'10', '10-11':'11',\n",
    "                '11-12':'12', '12-13':'13', '13-14':'14', '14-15':'15', '15-16':'16',\n",
    "                '16-17':'17', '17-18':'18', '18-19':'19', '19-20':'20', '20-21':'21',\n",
    "                '21-22':'22', '22-23':'23', '23-24':'24'}, inplace=True)\n",
    "\n",
    "#EXITS\n",
    "\n",
    "exit_3 = exit_3.groupby(by='station_number').sum().reset_index()\n",
    "exits_3 = exit_3.drop(columns=['station_name', 'entry/exit'])\n",
    "exits_3.rename(columns={'06-07':'07', '07-08':'08', '08-09':'09', '09-10':'10', '10-11':'11',\n",
    "                '11-12':'12', '12-13':'13', '13-14':'14', '14-15':'15', '15-16':'16',\n",
    "                '16-17':'17', '17-18':'18', '18-19':'19', '19-20':'20', '20-21':'21',\n",
    "                '21-22':'22', '22-23':'23', '23-24':'24'}, inplace=True)\n"
   ]
  },
  {
   "cell_type": "code",
   "execution_count": 204,
   "metadata": {},
   "outputs": [
    {
     "data": {
      "application/vnd.plotly.v1+json": {
       "config": {
        "plotlyServerURL": "https://plot.ly"
       },
       "data": [
        {
         "mode": "lines+markers",
         "name": "309",
         "type": "scatter",
         "x": [
          "06",
          "07",
          "08",
          "09",
          "10",
          "11",
          "12",
          "13",
          "14",
          "15",
          "16",
          "17",
          "18",
          "19",
          "20",
          "21",
          "22",
          "23",
          "24"
         ],
         "y": [
          85414,
          291729,
          820368,
          795988,
          406137,
          281279,
          248951,
          243615,
          238483,
          214339,
          251524,
          328284,
          293983,
          206288,
          123614,
          86193,
          67036,
          53539,
          26094
         ]
        },
        {
         "mode": "lines+markers",
         "name": "310",
         "type": "scatter",
         "x": [
          "06",
          "07",
          "08",
          "09",
          "10",
          "11",
          "12",
          "13",
          "14",
          "15",
          "16",
          "17",
          "18",
          "19",
          "20",
          "21",
          "22",
          "23",
          "24"
         ],
         "y": [
          405404,
          1199471,
          3344962,
          3120151,
          1689171,
          1164698,
          1108089,
          1164892,
          1098984,
          1113321,
          1237519,
          1405971,
          1459653,
          1228965,
          764291,
          614875,
          552469,
          408666,
          102986
         ]
        },
        {
         "mode": "lines+markers",
         "name": "311",
         "type": "scatter",
         "x": [
          "06",
          "07",
          "08",
          "09",
          "10",
          "11",
          "12",
          "13",
          "14",
          "15",
          "16",
          "17",
          "18",
          "19",
          "20",
          "21",
          "22",
          "23",
          "24"
         ],
         "y": [
          1070204,
          2010617,
          5150757,
          6084803,
          3462113,
          2297645,
          2120499,
          2298085,
          2154318,
          1998515,
          2010544,
          2241844,
          2104876,
          1925595,
          1341829,
          1093546,
          1032246,
          809708,
          289006
         ]
        },
        {
         "mode": "lines+markers",
         "name": "312",
         "type": "scatter",
         "x": [
          "06",
          "07",
          "08",
          "09",
          "10",
          "11",
          "12",
          "13",
          "14",
          "15",
          "16",
          "17",
          "18",
          "19",
          "20",
          "21",
          "22",
          "23",
          "24"
         ],
         "y": [
          371224,
          756320,
          2002473,
          2402382,
          1368283,
          974575,
          923424,
          968111,
          993185,
          992232,
          1039248,
          1099437,
          1153879,
          1220921,
          685923,
          538004,
          468598,
          304846,
          102961
         ]
        },
        {
         "mode": "lines+markers",
         "name": "313",
         "type": "scatter",
         "x": [
          "06",
          "07",
          "08",
          "09",
          "10",
          "11",
          "12",
          "13",
          "14",
          "15",
          "16",
          "17",
          "18",
          "19",
          "20",
          "21",
          "22",
          "23",
          "24"
         ],
         "y": [
          376969,
          952295,
          2590769,
          2908128,
          1639669,
          1004923,
          829524,
          825681,
          765392,
          674846,
          631917,
          678756,
          723623,
          785301,
          378855,
          279523,
          235613,
          169586,
          54686
         ]
        },
        {
         "mode": "lines+markers",
         "name": "314",
         "type": "scatter",
         "x": [
          "06",
          "07",
          "08",
          "09",
          "10",
          "11",
          "12",
          "13",
          "14",
          "15",
          "16",
          "17",
          "18",
          "19",
          "20",
          "21",
          "22",
          "23",
          "24"
         ],
         "y": [
          386206,
          904711,
          2424467,
          2747026,
          1678930,
          1183391,
          1084203,
          1149639,
          1051804,
          980336,
          985313,
          1071546,
          1124558,
          1064091,
          574596,
          447421,
          369846,
          255743,
          87528
         ]
        },
        {
         "mode": "lines+markers",
         "name": "315",
         "type": "scatter",
         "x": [
          "06",
          "07",
          "08",
          "09",
          "10",
          "11",
          "12",
          "13",
          "14",
          "15",
          "16",
          "17",
          "18",
          "19",
          "20",
          "21",
          "22",
          "23",
          "24"
         ],
         "y": [
          76035,
          208204,
          578267,
          672900,
          409644,
          281843,
          244341,
          237109,
          223375,
          200910,
          192685,
          219711,
          250034,
          267595,
          123228,
          92189,
          78063,
          55861,
          23703
         ]
        },
        {
         "mode": "lines+markers",
         "name": "316",
         "type": "scatter",
         "x": [
          "06",
          "07",
          "08",
          "09",
          "10",
          "11",
          "12",
          "13",
          "14",
          "15",
          "16",
          "17",
          "18",
          "19",
          "20",
          "21",
          "22",
          "23",
          "24"
         ],
         "y": [
          210968,
          232562,
          596318,
          727515,
          555654,
          473622,
          466109,
          513854,
          499111,
          515837,
          558882,
          614680,
          604904,
          641892,
          306182,
          218130,
          180619,
          126655,
          37448
         ]
        },
        {
         "mode": "lines+markers",
         "name": "317",
         "type": "scatter",
         "x": [
          "06",
          "07",
          "08",
          "09",
          "10",
          "11",
          "12",
          "13",
          "14",
          "15",
          "16",
          "17",
          "18",
          "19",
          "20",
          "21",
          "22",
          "23",
          "24"
         ],
         "y": [
          106156,
          222097,
          524990,
          776470,
          745319,
          635604,
          769922,
          942099,
          1166665,
          1406303,
          1742475,
          2104557,
          2772620,
          3992684,
          1669999,
          1374640,
          1406078,
          865553,
          261388
         ]
        },
        {
         "mode": "lines+markers",
         "name": "318",
         "type": "scatter",
         "x": [
          "06",
          "07",
          "08",
          "09",
          "10",
          "11",
          "12",
          "13",
          "14",
          "15",
          "16",
          "17",
          "18",
          "19",
          "20",
          "21",
          "22",
          "23",
          "24"
         ],
         "y": [
          70088,
          121316,
          234547,
          356352,
          364869,
          429275,
          621363,
          892077,
          1035091,
          1337019,
          1787313,
          2355435,
          4049493,
          4335482,
          1848311,
          1467650,
          1321712,
          737216,
          195258
         ]
        },
        {
         "mode": "lines+markers",
         "name": "319",
         "type": "scatter",
         "x": [
          "06",
          "07",
          "08",
          "09",
          "10",
          "11",
          "12",
          "13",
          "14",
          "15",
          "16",
          "17",
          "18",
          "19",
          "20",
          "21",
          "22",
          "23",
          "24"
         ],
         "y": [
          32341,
          48288,
          71187,
          102129,
          152245,
          227336,
          332434,
          398234,
          457518,
          552716,
          700044,
          814405,
          1239019,
          2116033,
          1250176,
          698222,
          753225,
          540190,
          197103
         ]
        },
        {
         "mode": "lines+markers",
         "name": "320",
         "type": "scatter",
         "x": [
          "06",
          "07",
          "08",
          "09",
          "10",
          "11",
          "12",
          "13",
          "14",
          "15",
          "16",
          "17",
          "18",
          "19",
          "20",
          "21",
          "22",
          "23",
          "24"
         ],
         "y": [
          26438,
          39935,
          82238,
          143178,
          195645,
          245604,
          321217,
          358486,
          433451,
          525722,
          588843,
          726902,
          1513246,
          2601609,
          1064885,
          711334,
          727037,
          556610,
          228063
         ]
        },
        {
         "mode": "lines+markers",
         "name": "321",
         "type": "scatter",
         "x": [
          "06",
          "07",
          "08",
          "09",
          "10",
          "11",
          "12",
          "13",
          "14",
          "15",
          "16",
          "17",
          "18",
          "19",
          "20",
          "21",
          "22",
          "23",
          "24"
         ],
         "y": [
          0,
          0,
          0,
          0,
          2,
          13,
          9,
          0,
          1,
          3,
          0,
          0,
          0,
          0,
          0,
          0,
          0,
          0,
          0
         ]
        },
        {
         "mode": "lines+markers",
         "name": "322",
         "type": "scatter",
         "x": [
          "06",
          "07",
          "08",
          "09",
          "10",
          "11",
          "12",
          "13",
          "14",
          "15",
          "16",
          "17",
          "18",
          "19",
          "20",
          "21",
          "22",
          "23",
          "24"
         ],
         "y": [
          62572,
          100669,
          215783,
          298971,
          251281,
          234018,
          310734,
          347736,
          419145,
          551681,
          604449,
          802132,
          1356398,
          1512569,
          680232,
          545447,
          613222,
          455040,
          118733
         ]
        },
        {
         "mode": "lines+markers",
         "name": "323",
         "type": "scatter",
         "x": [
          "06",
          "07",
          "08",
          "09",
          "10",
          "11",
          "12",
          "13",
          "14",
          "15",
          "16",
          "17",
          "18",
          "19",
          "20",
          "21",
          "22",
          "23",
          "24"
         ],
         "y": [
          258661,
          405968,
          988145,
          1523566,
          1067224,
          739881,
          698606,
          762924,
          776572,
          742940,
          777591,
          860888,
          1016090,
          1315394,
          717866,
          574896,
          581399,
          419941,
          153251
         ]
        },
        {
         "mode": "lines+markers",
         "name": "324",
         "type": "scatter",
         "x": [
          "06",
          "07",
          "08",
          "09",
          "10",
          "11",
          "12",
          "13",
          "14",
          "15",
          "16",
          "17",
          "18",
          "19",
          "20",
          "21",
          "22",
          "23",
          "24"
         ],
         "y": [
          188284,
          391592,
          1019553,
          1421429,
          889143,
          566561,
          486019,
          486298,
          471689,
          411875,
          407724,
          438576,
          465777,
          460714,
          301507,
          229402,
          189419,
          142488,
          54618
         ]
        },
        {
         "mode": "lines+markers",
         "name": "325",
         "type": "scatter",
         "x": [
          "06",
          "07",
          "08",
          "09",
          "10",
          "11",
          "12",
          "13",
          "14",
          "15",
          "16",
          "17",
          "18",
          "19",
          "20",
          "21",
          "22",
          "23",
          "24"
         ],
         "y": [
          130489,
          363718,
          887200,
          1202655,
          846545,
          582657,
          530765,
          540001,
          575799,
          549447,
          561352,
          623037,
          698203,
          739501,
          447805,
          354471,
          325260,
          222358,
          89839
         ]
        },
        {
         "mode": "lines+markers",
         "name": "326",
         "type": "scatter",
         "x": [
          "06",
          "07",
          "08",
          "09",
          "10",
          "11",
          "12",
          "13",
          "14",
          "15",
          "16",
          "17",
          "18",
          "19",
          "20",
          "21",
          "22",
          "23",
          "24"
         ],
         "y": [
          124080,
          310440,
          601336,
          932532,
          763787,
          928822,
          1191084,
          1398698,
          1553020,
          1876541,
          2243035,
          2679310,
          3599872,
          5436921,
          3810636,
          2977446,
          2282920,
          1565542,
          378230
         ]
        },
        {
         "mode": "lines+markers",
         "name": "327",
         "type": "scatter",
         "x": [
          "06",
          "07",
          "08",
          "09",
          "10",
          "11",
          "12",
          "13",
          "14",
          "15",
          "16",
          "17",
          "18",
          "19",
          "20",
          "21",
          "22",
          "23",
          "24"
         ],
         "y": [
          141245,
          239456,
          419847,
          685179,
          575484,
          700206,
          924866,
          1108286,
          1295437,
          1590070,
          1939672,
          2364540,
          3462291,
          5290908,
          3715648,
          2556632,
          2834087,
          2163526,
          696096
         ]
        },
        {
         "mode": "lines+markers",
         "name": "328",
         "type": "scatter",
         "x": [
          "06",
          "07",
          "08",
          "09",
          "10",
          "11",
          "12",
          "13",
          "14",
          "15",
          "16",
          "17",
          "18",
          "19",
          "20",
          "21",
          "22",
          "23",
          "24"
         ],
         "y": [
          48385,
          189031,
          474169,
          669119,
          427513,
          295441,
          293185,
          308794,
          305518,
          278915,
          304731,
          393325,
          446652,
          394425,
          240811,
          169128,
          174500,
          117988,
          35510
         ]
        },
        {
         "mode": "lines+markers",
         "name": "329",
         "type": "scatter",
         "x": [
          "06",
          "07",
          "08",
          "09",
          "10",
          "11",
          "12",
          "13",
          "14",
          "15",
          "16",
          "17",
          "18",
          "19",
          "20",
          "21",
          "22",
          "23",
          "24"
         ],
         "y": [
          203687,
          270330,
          964515,
          1618441,
          1797334,
          1860847,
          2327195,
          2785719,
          3073197,
          3419881,
          3864077,
          4330293,
          5046302,
          5121821,
          4284132,
          4843579,
          3030088,
          1892125,
          622732
         ]
        },
        {
         "mode": "lines+markers",
         "name": "330",
         "type": "scatter",
         "x": [
          "06",
          "07",
          "08",
          "09",
          "10",
          "11",
          "12",
          "13",
          "14",
          "15",
          "16",
          "17",
          "18",
          "19",
          "20",
          "21",
          "22",
          "23",
          "24"
         ],
         "y": [
          52392,
          136212,
          323299,
          482478,
          404573,
          439015,
          549897,
          618513,
          755689,
          867613,
          945365,
          1064432,
          1683821,
          2615756,
          1119303,
          922105,
          1004472,
          868299,
          231911
         ]
        },
        {
         "mode": "lines+markers",
         "name": "331",
         "type": "scatter",
         "x": [
          "06",
          "07",
          "08",
          "09",
          "10",
          "11",
          "12",
          "13",
          "14",
          "15",
          "16",
          "17",
          "18",
          "19",
          "20",
          "21",
          "22",
          "23",
          "24"
         ],
         "y": [
          111820,
          339235,
          1060486,
          1597175,
          1308540,
          1223194,
          1380474,
          1462171,
          1590229,
          1625789,
          1813124,
          2238373,
          3654678,
          5386232,
          2499520,
          1722522,
          1598461,
          1172536,
          305866
         ]
        },
        {
         "mode": "lines+markers",
         "name": "332",
         "type": "scatter",
         "x": [
          "06",
          "07",
          "08",
          "09",
          "10",
          "11",
          "12",
          "13",
          "14",
          "15",
          "16",
          "17",
          "18",
          "19",
          "20",
          "21",
          "22",
          "23",
          "24"
         ],
         "y": [
          212104,
          545718,
          1316021,
          1754998,
          1267872,
          1152684,
          1283199,
          1435549,
          1639631,
          1784288,
          2113693,
          2651033,
          4759186,
          7867791,
          3531616,
          2428633,
          2294665,
          1495158,
          398460
         ]
        },
        {
         "mode": "lines+markers",
         "name": "333",
         "type": "scatter",
         "x": [
          "06",
          "07",
          "08",
          "09",
          "10",
          "11",
          "12",
          "13",
          "14",
          "15",
          "16",
          "17",
          "18",
          "19",
          "20",
          "21",
          "22",
          "23",
          "24"
         ],
         "y": [
          63135,
          260171,
          619802,
          773406,
          542842,
          448546,
          454835,
          474386,
          525430,
          601827,
          683132,
          795996,
          1422943,
          2493159,
          897594,
          596956,
          649712,
          387515,
          101760
         ]
        },
        {
         "mode": "lines+markers",
         "name": "334",
         "type": "scatter",
         "x": [
          "06",
          "07",
          "08",
          "09",
          "10",
          "11",
          "12",
          "13",
          "14",
          "15",
          "16",
          "17",
          "18",
          "19",
          "20",
          "21",
          "22",
          "23",
          "24"
         ],
         "y": [
          40956,
          133570,
          337834,
          429359,
          280777,
          231551,
          235500,
          254699,
          273286,
          288299,
          360380,
          463884,
          642030,
          705999,
          360785,
          243748,
          218217,
          162788,
          39649
         ]
        },
        {
         "mode": "lines+markers",
         "name": "335",
         "type": "scatter",
         "x": [
          "06",
          "07",
          "08",
          "09",
          "10",
          "11",
          "12",
          "13",
          "14",
          "15",
          "16",
          "17",
          "18",
          "19",
          "20",
          "21",
          "22",
          "23",
          "24"
         ],
         "y": [
          106975,
          445808,
          938285,
          956436,
          586278,
          475457,
          478002,
          577602,
          608250,
          577121,
          679350,
          753545,
          1095871,
          1105390,
          690082,
          510775,
          643848,
          1101777,
          111959
         ]
        },
        {
         "mode": "lines+markers",
         "name": "336",
         "type": "scatter",
         "x": [
          "06",
          "07",
          "08",
          "09",
          "10",
          "11",
          "12",
          "13",
          "14",
          "15",
          "16",
          "17",
          "18",
          "19",
          "20",
          "21",
          "22",
          "23",
          "24"
         ],
         "y": [
          22883,
          67988,
          150530,
          172268,
          115156,
          93479,
          108110,
          133654,
          144142,
          153353,
          190162,
          220464,
          263772,
          283546,
          117047,
          76682,
          68260,
          45253,
          12109
         ]
        },
        {
         "mode": "lines+markers",
         "name": "337",
         "type": "scatter",
         "x": [
          "06",
          "07",
          "08",
          "09",
          "10",
          "11",
          "12",
          "13",
          "14",
          "15",
          "16",
          "17",
          "18",
          "19",
          "20",
          "21",
          "22",
          "23",
          "24"
         ],
         "y": [
          146792,
          411496,
          1045194,
          1270198,
          723451,
          558782,
          515349,
          511024,
          537239,
          523952,
          630386,
          740584,
          887479,
          1021909,
          450414,
          309290,
          257531,
          182185,
          57119
         ]
        },
        {
         "mode": "lines+markers",
         "name": "338",
         "type": "scatter",
         "x": [
          "06",
          "07",
          "08",
          "09",
          "10",
          "11",
          "12",
          "13",
          "14",
          "15",
          "16",
          "17",
          "18",
          "19",
          "20",
          "21",
          "22",
          "23",
          "24"
         ],
         "y": [
          85945,
          323225,
          858028,
          882935,
          618946,
          611429,
          642041,
          635438,
          574692,
          623111,
          785307,
          1007212,
          1321106,
          687927,
          376257,
          243849,
          170005,
          135291,
          46196
         ]
        },
        {
         "mode": "lines+markers",
         "name": "339",
         "type": "scatter",
         "x": [
          "06",
          "07",
          "08",
          "09",
          "10",
          "11",
          "12",
          "13",
          "14",
          "15",
          "16",
          "17",
          "18",
          "19",
          "20",
          "21",
          "22",
          "23",
          "24"
         ],
         "y": [
          195966,
          480151,
          1332856,
          1718032,
          1152934,
          1102329,
          915469,
          1125551,
          1052705,
          851551,
          1210943,
          1381759,
          1651184,
          2035285,
          939821,
          901094,
          609206,
          568611,
          193218
         ]
        },
        {
         "mode": "lines+markers",
         "name": "340",
         "type": "scatter",
         "x": [
          "06",
          "07",
          "08",
          "09",
          "10",
          "11",
          "12",
          "13",
          "14",
          "15",
          "16",
          "17",
          "18",
          "19",
          "20",
          "21",
          "22",
          "23",
          "24"
         ],
         "y": [
          107216,
          269532,
          758693,
          863770,
          606536,
          522559,
          518769,
          520727,
          528715,
          535725,
          567807,
          623435,
          795629,
          1140026,
          486129,
          369886,
          336598,
          225729,
          69874
         ]
        },
        {
         "mode": "lines+markers",
         "name": "341",
         "type": "scatter",
         "x": [
          "06",
          "07",
          "08",
          "09",
          "10",
          "11",
          "12",
          "13",
          "14",
          "15",
          "16",
          "17",
          "18",
          "19",
          "20",
          "21",
          "22",
          "23",
          "24"
         ],
         "y": [
          106188,
          282815,
          859354,
          1013740,
          588150,
          437971,
          391982,
          368479,
          384538,
          378298,
          401623,
          400047,
          608715,
          809305,
          282165,
          224662,
          212656,
          131086,
          35835
         ]
        },
        {
         "mode": "lines+markers",
         "name": "342",
         "type": "scatter",
         "x": [
          "06",
          "07",
          "08",
          "09",
          "10",
          "11",
          "12",
          "13",
          "14",
          "15",
          "16",
          "17",
          "18",
          "19",
          "20",
          "21",
          "22",
          "23",
          "24"
         ],
         "y": [
          151141,
          300874,
          997899,
          1175032,
          598096,
          346835,
          298544,
          321963,
          310779,
          259965,
          257280,
          306642,
          408326,
          474528,
          194916,
          141385,
          123111,
          93780,
          22867
         ]
        }
       ],
       "layout": {
        "legend": {
         "title": {
          "text": "Metro Stop"
         }
        },
        "template": {
         "data": {
          "bar": [
           {
            "error_x": {
             "color": "#2a3f5f"
            },
            "error_y": {
             "color": "#2a3f5f"
            },
            "marker": {
             "line": {
              "color": "#E5ECF6",
              "width": 0.5
             },
             "pattern": {
              "fillmode": "overlay",
              "size": 10,
              "solidity": 0.2
             }
            },
            "type": "bar"
           }
          ],
          "barpolar": [
           {
            "marker": {
             "line": {
              "color": "#E5ECF6",
              "width": 0.5
             },
             "pattern": {
              "fillmode": "overlay",
              "size": 10,
              "solidity": 0.2
             }
            },
            "type": "barpolar"
           }
          ],
          "carpet": [
           {
            "aaxis": {
             "endlinecolor": "#2a3f5f",
             "gridcolor": "white",
             "linecolor": "white",
             "minorgridcolor": "white",
             "startlinecolor": "#2a3f5f"
            },
            "baxis": {
             "endlinecolor": "#2a3f5f",
             "gridcolor": "white",
             "linecolor": "white",
             "minorgridcolor": "white",
             "startlinecolor": "#2a3f5f"
            },
            "type": "carpet"
           }
          ],
          "choropleth": [
           {
            "colorbar": {
             "outlinewidth": 0,
             "ticks": ""
            },
            "type": "choropleth"
           }
          ],
          "contour": [
           {
            "colorbar": {
             "outlinewidth": 0,
             "ticks": ""
            },
            "colorscale": [
             [
              0,
              "#0d0887"
             ],
             [
              0.1111111111111111,
              "#46039f"
             ],
             [
              0.2222222222222222,
              "#7201a8"
             ],
             [
              0.3333333333333333,
              "#9c179e"
             ],
             [
              0.4444444444444444,
              "#bd3786"
             ],
             [
              0.5555555555555556,
              "#d8576b"
             ],
             [
              0.6666666666666666,
              "#ed7953"
             ],
             [
              0.7777777777777778,
              "#fb9f3a"
             ],
             [
              0.8888888888888888,
              "#fdca26"
             ],
             [
              1,
              "#f0f921"
             ]
            ],
            "type": "contour"
           }
          ],
          "contourcarpet": [
           {
            "colorbar": {
             "outlinewidth": 0,
             "ticks": ""
            },
            "type": "contourcarpet"
           }
          ],
          "heatmap": [
           {
            "colorbar": {
             "outlinewidth": 0,
             "ticks": ""
            },
            "colorscale": [
             [
              0,
              "#0d0887"
             ],
             [
              0.1111111111111111,
              "#46039f"
             ],
             [
              0.2222222222222222,
              "#7201a8"
             ],
             [
              0.3333333333333333,
              "#9c179e"
             ],
             [
              0.4444444444444444,
              "#bd3786"
             ],
             [
              0.5555555555555556,
              "#d8576b"
             ],
             [
              0.6666666666666666,
              "#ed7953"
             ],
             [
              0.7777777777777778,
              "#fb9f3a"
             ],
             [
              0.8888888888888888,
              "#fdca26"
             ],
             [
              1,
              "#f0f921"
             ]
            ],
            "type": "heatmap"
           }
          ],
          "heatmapgl": [
           {
            "colorbar": {
             "outlinewidth": 0,
             "ticks": ""
            },
            "colorscale": [
             [
              0,
              "#0d0887"
             ],
             [
              0.1111111111111111,
              "#46039f"
             ],
             [
              0.2222222222222222,
              "#7201a8"
             ],
             [
              0.3333333333333333,
              "#9c179e"
             ],
             [
              0.4444444444444444,
              "#bd3786"
             ],
             [
              0.5555555555555556,
              "#d8576b"
             ],
             [
              0.6666666666666666,
              "#ed7953"
             ],
             [
              0.7777777777777778,
              "#fb9f3a"
             ],
             [
              0.8888888888888888,
              "#fdca26"
             ],
             [
              1,
              "#f0f921"
             ]
            ],
            "type": "heatmapgl"
           }
          ],
          "histogram": [
           {
            "marker": {
             "pattern": {
              "fillmode": "overlay",
              "size": 10,
              "solidity": 0.2
             }
            },
            "type": "histogram"
           }
          ],
          "histogram2d": [
           {
            "colorbar": {
             "outlinewidth": 0,
             "ticks": ""
            },
            "colorscale": [
             [
              0,
              "#0d0887"
             ],
             [
              0.1111111111111111,
              "#46039f"
             ],
             [
              0.2222222222222222,
              "#7201a8"
             ],
             [
              0.3333333333333333,
              "#9c179e"
             ],
             [
              0.4444444444444444,
              "#bd3786"
             ],
             [
              0.5555555555555556,
              "#d8576b"
             ],
             [
              0.6666666666666666,
              "#ed7953"
             ],
             [
              0.7777777777777778,
              "#fb9f3a"
             ],
             [
              0.8888888888888888,
              "#fdca26"
             ],
             [
              1,
              "#f0f921"
             ]
            ],
            "type": "histogram2d"
           }
          ],
          "histogram2dcontour": [
           {
            "colorbar": {
             "outlinewidth": 0,
             "ticks": ""
            },
            "colorscale": [
             [
              0,
              "#0d0887"
             ],
             [
              0.1111111111111111,
              "#46039f"
             ],
             [
              0.2222222222222222,
              "#7201a8"
             ],
             [
              0.3333333333333333,
              "#9c179e"
             ],
             [
              0.4444444444444444,
              "#bd3786"
             ],
             [
              0.5555555555555556,
              "#d8576b"
             ],
             [
              0.6666666666666666,
              "#ed7953"
             ],
             [
              0.7777777777777778,
              "#fb9f3a"
             ],
             [
              0.8888888888888888,
              "#fdca26"
             ],
             [
              1,
              "#f0f921"
             ]
            ],
            "type": "histogram2dcontour"
           }
          ],
          "mesh3d": [
           {
            "colorbar": {
             "outlinewidth": 0,
             "ticks": ""
            },
            "type": "mesh3d"
           }
          ],
          "parcoords": [
           {
            "line": {
             "colorbar": {
              "outlinewidth": 0,
              "ticks": ""
             }
            },
            "type": "parcoords"
           }
          ],
          "pie": [
           {
            "automargin": true,
            "type": "pie"
           }
          ],
          "scatter": [
           {
            "fillpattern": {
             "fillmode": "overlay",
             "size": 10,
             "solidity": 0.2
            },
            "type": "scatter"
           }
          ],
          "scatter3d": [
           {
            "line": {
             "colorbar": {
              "outlinewidth": 0,
              "ticks": ""
             }
            },
            "marker": {
             "colorbar": {
              "outlinewidth": 0,
              "ticks": ""
             }
            },
            "type": "scatter3d"
           }
          ],
          "scattercarpet": [
           {
            "marker": {
             "colorbar": {
              "outlinewidth": 0,
              "ticks": ""
             }
            },
            "type": "scattercarpet"
           }
          ],
          "scattergeo": [
           {
            "marker": {
             "colorbar": {
              "outlinewidth": 0,
              "ticks": ""
             }
            },
            "type": "scattergeo"
           }
          ],
          "scattergl": [
           {
            "marker": {
             "colorbar": {
              "outlinewidth": 0,
              "ticks": ""
             }
            },
            "type": "scattergl"
           }
          ],
          "scattermapbox": [
           {
            "marker": {
             "colorbar": {
              "outlinewidth": 0,
              "ticks": ""
             }
            },
            "type": "scattermapbox"
           }
          ],
          "scatterpolar": [
           {
            "marker": {
             "colorbar": {
              "outlinewidth": 0,
              "ticks": ""
             }
            },
            "type": "scatterpolar"
           }
          ],
          "scatterpolargl": [
           {
            "marker": {
             "colorbar": {
              "outlinewidth": 0,
              "ticks": ""
             }
            },
            "type": "scatterpolargl"
           }
          ],
          "scatterternary": [
           {
            "marker": {
             "colorbar": {
              "outlinewidth": 0,
              "ticks": ""
             }
            },
            "type": "scatterternary"
           }
          ],
          "surface": [
           {
            "colorbar": {
             "outlinewidth": 0,
             "ticks": ""
            },
            "colorscale": [
             [
              0,
              "#0d0887"
             ],
             [
              0.1111111111111111,
              "#46039f"
             ],
             [
              0.2222222222222222,
              "#7201a8"
             ],
             [
              0.3333333333333333,
              "#9c179e"
             ],
             [
              0.4444444444444444,
              "#bd3786"
             ],
             [
              0.5555555555555556,
              "#d8576b"
             ],
             [
              0.6666666666666666,
              "#ed7953"
             ],
             [
              0.7777777777777778,
              "#fb9f3a"
             ],
             [
              0.8888888888888888,
              "#fdca26"
             ],
             [
              1,
              "#f0f921"
             ]
            ],
            "type": "surface"
           }
          ],
          "table": [
           {
            "cells": {
             "fill": {
              "color": "#EBF0F8"
             },
             "line": {
              "color": "white"
             }
            },
            "header": {
             "fill": {
              "color": "#C8D4E3"
             },
             "line": {
              "color": "white"
             }
            },
            "type": "table"
           }
          ]
         },
         "layout": {
          "annotationdefaults": {
           "arrowcolor": "#2a3f5f",
           "arrowhead": 0,
           "arrowwidth": 1
          },
          "autotypenumbers": "strict",
          "coloraxis": {
           "colorbar": {
            "outlinewidth": 0,
            "ticks": ""
           }
          },
          "colorscale": {
           "diverging": [
            [
             0,
             "#8e0152"
            ],
            [
             0.1,
             "#c51b7d"
            ],
            [
             0.2,
             "#de77ae"
            ],
            [
             0.3,
             "#f1b6da"
            ],
            [
             0.4,
             "#fde0ef"
            ],
            [
             0.5,
             "#f7f7f7"
            ],
            [
             0.6,
             "#e6f5d0"
            ],
            [
             0.7,
             "#b8e186"
            ],
            [
             0.8,
             "#7fbc41"
            ],
            [
             0.9,
             "#4d9221"
            ],
            [
             1,
             "#276419"
            ]
           ],
           "sequential": [
            [
             0,
             "#0d0887"
            ],
            [
             0.1111111111111111,
             "#46039f"
            ],
            [
             0.2222222222222222,
             "#7201a8"
            ],
            [
             0.3333333333333333,
             "#9c179e"
            ],
            [
             0.4444444444444444,
             "#bd3786"
            ],
            [
             0.5555555555555556,
             "#d8576b"
            ],
            [
             0.6666666666666666,
             "#ed7953"
            ],
            [
             0.7777777777777778,
             "#fb9f3a"
            ],
            [
             0.8888888888888888,
             "#fdca26"
            ],
            [
             1,
             "#f0f921"
            ]
           ],
           "sequentialminus": [
            [
             0,
             "#0d0887"
            ],
            [
             0.1111111111111111,
             "#46039f"
            ],
            [
             0.2222222222222222,
             "#7201a8"
            ],
            [
             0.3333333333333333,
             "#9c179e"
            ],
            [
             0.4444444444444444,
             "#bd3786"
            ],
            [
             0.5555555555555556,
             "#d8576b"
            ],
            [
             0.6666666666666666,
             "#ed7953"
            ],
            [
             0.7777777777777778,
             "#fb9f3a"
            ],
            [
             0.8888888888888888,
             "#fdca26"
            ],
            [
             1,
             "#f0f921"
            ]
           ]
          },
          "colorway": [
           "#636efa",
           "#EF553B",
           "#00cc96",
           "#ab63fa",
           "#FFA15A",
           "#19d3f3",
           "#FF6692",
           "#B6E880",
           "#FF97FF",
           "#FECB52"
          ],
          "font": {
           "color": "#2a3f5f"
          },
          "geo": {
           "bgcolor": "white",
           "lakecolor": "white",
           "landcolor": "#E5ECF6",
           "showlakes": true,
           "showland": true,
           "subunitcolor": "white"
          },
          "hoverlabel": {
           "align": "left"
          },
          "hovermode": "closest",
          "mapbox": {
           "style": "light"
          },
          "paper_bgcolor": "white",
          "plot_bgcolor": "#E5ECF6",
          "polar": {
           "angularaxis": {
            "gridcolor": "white",
            "linecolor": "white",
            "ticks": ""
           },
           "bgcolor": "#E5ECF6",
           "radialaxis": {
            "gridcolor": "white",
            "linecolor": "white",
            "ticks": ""
           }
          },
          "scene": {
           "xaxis": {
            "backgroundcolor": "#E5ECF6",
            "gridcolor": "white",
            "gridwidth": 2,
            "linecolor": "white",
            "showbackground": true,
            "ticks": "",
            "zerolinecolor": "white"
           },
           "yaxis": {
            "backgroundcolor": "#E5ECF6",
            "gridcolor": "white",
            "gridwidth": 2,
            "linecolor": "white",
            "showbackground": true,
            "ticks": "",
            "zerolinecolor": "white"
           },
           "zaxis": {
            "backgroundcolor": "#E5ECF6",
            "gridcolor": "white",
            "gridwidth": 2,
            "linecolor": "white",
            "showbackground": true,
            "ticks": "",
            "zerolinecolor": "white"
           }
          },
          "shapedefaults": {
           "line": {
            "color": "#2a3f5f"
           }
          },
          "ternary": {
           "aaxis": {
            "gridcolor": "white",
            "linecolor": "white",
            "ticks": ""
           },
           "baxis": {
            "gridcolor": "white",
            "linecolor": "white",
            "ticks": ""
           },
           "bgcolor": "#E5ECF6",
           "caxis": {
            "gridcolor": "white",
            "linecolor": "white",
            "ticks": ""
           }
          },
          "title": {
           "x": 0.05
          },
          "xaxis": {
           "automargin": true,
           "gridcolor": "white",
           "linecolor": "white",
           "ticks": "",
           "title": {
            "standoff": 15
           },
           "zerolinecolor": "white",
           "zerolinewidth": 2
          },
          "yaxis": {
           "automargin": true,
           "gridcolor": "white",
           "linecolor": "white",
           "ticks": "",
           "title": {
            "standoff": 15
           },
           "zerolinecolor": "white",
           "zerolinewidth": 2
          }
         }
        },
        "title": {
         "text": "Fréquentation quotidienne par station (entrées)"
        },
        "xaxis": {
         "title": {
          "text": "Time of the day (h)"
         }
        },
        "yaxis": {
         "title": {
          "text": "Number of people"
         }
        }
       }
      }
     },
     "metadata": {},
     "output_type": "display_data"
    }
   ],
   "source": [
    "#Plotting entries\n",
    "fig = go.Figure()\n",
    "\n",
    "\n",
    "for x in range(len(entries_3)):\n",
    "    fig.add_trace(go.Scatter(\n",
    "        x=entries_3.columns[1:], y=entries_3.loc[x].values[1:],\n",
    "        mode='lines + markers',\n",
    "        name=str(entries_3.loc[x].station_number)\n",
    "    ))\n",
    "\n",
    "fig.update_layout(\n",
    "    xaxis_title='Time of the day (h)',\n",
    "    yaxis_title='Number of people',\n",
    "    legend_title='Metro Stop',\n",
    "    title='Fréquentation quotidienne par station (entrées)'\n",
    ")\n",
    "fig.show()\n"
   ]
  },
  {
   "cell_type": "code",
   "execution_count": 206,
   "metadata": {},
   "outputs": [
    {
     "data": {
      "application/vnd.plotly.v1+json": {
       "config": {
        "plotlyServerURL": "https://plot.ly"
       },
       "data": [
        {
         "mode": "lines+markers",
         "name": "309",
         "type": "scatter",
         "x": [
          "06",
          "07",
          "08",
          "09",
          "10",
          "11",
          "12",
          "13",
          "14",
          "15",
          "16",
          "17",
          "18",
          "19",
          "20",
          "21",
          "22",
          "23",
          "24"
         ],
         "y": [
          32675,
          189101,
          153998,
          187591,
          134520,
          117336,
          144543,
          168443,
          180430,
          192344,
          232836,
          306577,
          395373,
          720949,
          573808,
          372379,
          324807,
          303890,
          149596
         ]
        },
        {
         "mode": "lines+markers",
         "name": "310",
         "type": "scatter",
         "x": [
          "06",
          "07",
          "08",
          "09",
          "10",
          "11",
          "12",
          "13",
          "14",
          "15",
          "16",
          "17",
          "18",
          "19",
          "20",
          "21",
          "22",
          "23",
          "24"
         ],
         "y": [
          59073,
          373499,
          881111,
          1154602,
          1066049,
          1042998,
          909052,
          974762,
          1051019,
          1078261,
          1093869,
          1300794,
          1628978,
          2790689,
          2390902,
          1343972,
          1232742,
          1027894,
          805513
         ]
        },
        {
         "mode": "lines+markers",
         "name": "311",
         "type": "scatter",
         "x": [
          "06",
          "07",
          "08",
          "09",
          "10",
          "11",
          "12",
          "13",
          "14",
          "15",
          "16",
          "17",
          "18",
          "19",
          "20",
          "21",
          "22",
          "23",
          "24"
         ],
         "y": [
          78039,
          454470,
          862606,
          1382943,
          1410892,
          1367649,
          1422028,
          1541945,
          1714785,
          1801216,
          2200162,
          2617904,
          3365435,
          5393709,
          4749470,
          2644550,
          2524788,
          2152557,
          1389560
         ]
        },
        {
         "mode": "lines+markers",
         "name": "312",
         "type": "scatter",
         "x": [
          "06",
          "07",
          "08",
          "09",
          "10",
          "11",
          "12",
          "13",
          "14",
          "15",
          "16",
          "17",
          "18",
          "19",
          "20",
          "21",
          "22",
          "23",
          "24"
         ],
         "y": [
          46259,
          225973,
          419042,
          1280340,
          1207218,
          1006415,
          920193,
          977936,
          1065399,
          1064487,
          1161461,
          1294368,
          1556148,
          2319997,
          1879544,
          1102066,
          967441,
          846504,
          500548
         ]
        },
        {
         "mode": "lines+markers",
         "name": "313",
         "type": "scatter",
         "x": [
          "06",
          "07",
          "08",
          "09",
          "10",
          "11",
          "12",
          "13",
          "14",
          "15",
          "16",
          "17",
          "18",
          "19",
          "20",
          "21",
          "22",
          "23",
          "24"
         ],
         "y": [
          34329,
          203681,
          305729,
          722546,
          414524,
          368950,
          395276,
          465151,
          504167,
          568231,
          699080,
          953593,
          1299217,
          2282415,
          1957536,
          1142689,
          1052824,
          916894,
          513826
         ]
        },
        {
         "mode": "lines+markers",
         "name": "314",
         "type": "scatter",
         "x": [
          "06",
          "07",
          "08",
          "09",
          "10",
          "11",
          "12",
          "13",
          "14",
          "15",
          "16",
          "17",
          "18",
          "19",
          "20",
          "21",
          "22",
          "23",
          "24"
         ],
         "y": [
          61670,
          328078,
          448374,
          992854,
          757561,
          690316,
          672810,
          745939,
          822702,
          894789,
          1080362,
          1271907,
          1581370,
          2436730,
          2015283,
          1166836,
          1114804,
          917035,
          552425
         ]
        },
        {
         "mode": "lines+markers",
         "name": "315",
         "type": "scatter",
         "x": [
          "06",
          "07",
          "08",
          "09",
          "10",
          "11",
          "12",
          "13",
          "14",
          "15",
          "16",
          "17",
          "18",
          "19",
          "20",
          "21",
          "22",
          "23",
          "24"
         ],
         "y": [
          13633,
          92435,
          119145,
          237802,
          147230,
          145006,
          144529,
          156179,
          178019,
          192901,
          237386,
          291624,
          378525,
          606017,
          508312,
          312962,
          292762,
          256787,
          158982
         ]
        },
        {
         "mode": "lines+markers",
         "name": "316",
         "type": "scatter",
         "x": [
          "06",
          "07",
          "08",
          "09",
          "10",
          "11",
          "12",
          "13",
          "14",
          "15",
          "16",
          "17",
          "18",
          "19",
          "20",
          "21",
          "22",
          "23",
          "24"
         ],
         "y": [
          33979,
          210455,
          535830,
          816127,
          592232,
          550395,
          435292,
          415836,
          467687,
          431992,
          445609,
          479060,
          552897,
          676781,
          544405,
          336250,
          314019,
          282726,
          202777
         ]
        },
        {
         "mode": "lines+markers",
         "name": "317",
         "type": "scatter",
         "x": [
          "06",
          "07",
          "08",
          "09",
          "10",
          "11",
          "12",
          "13",
          "14",
          "15",
          "16",
          "17",
          "18",
          "19",
          "20",
          "21",
          "22",
          "23",
          "24"
         ],
         "y": [
          65894,
          536010,
          1588865,
          4464479,
          2578725,
          1704478,
          1578881,
          1475530,
          1503474,
          1340536,
          1142849,
          1107110,
          1144664,
          1299132,
          830682,
          447853,
          403964,
          363812,
          204528
         ]
        },
        {
         "mode": "lines+markers",
         "name": "318",
         "type": "scatter",
         "x": [
          "06",
          "07",
          "08",
          "09",
          "10",
          "11",
          "12",
          "13",
          "14",
          "15",
          "16",
          "17",
          "18",
          "19",
          "20",
          "21",
          "22",
          "23",
          "24"
         ],
         "y": [
          65670,
          796587,
          3433028,
          4071952,
          2524039,
          1756000,
          1827515,
          1630571,
          1637222,
          1521871,
          1232294,
          1075969,
          981731,
          902892,
          447816,
          239999,
          205677,
          175429,
          105594
         ]
        },
        {
         "mode": "lines+markers",
         "name": "319",
         "type": "scatter",
         "x": [
          "06",
          "07",
          "08",
          "09",
          "10",
          "11",
          "12",
          "13",
          "14",
          "15",
          "16",
          "17",
          "18",
          "19",
          "20",
          "21",
          "22",
          "23",
          "24"
         ],
         "y": [
          41082,
          228204,
          601163,
          1824075,
          1796577,
          1254121,
          972480,
          913319,
          858784,
          826338,
          743097,
          657264,
          642083,
          630541,
          342280,
          164144,
          131108,
          97737,
          74230
         ]
        },
        {
         "mode": "lines+markers",
         "name": "320",
         "type": "scatter",
         "x": [
          "06",
          "07",
          "08",
          "09",
          "10",
          "11",
          "12",
          "13",
          "14",
          "15",
          "16",
          "17",
          "18",
          "19",
          "20",
          "21",
          "22",
          "23",
          "24"
         ],
         "y": [
          39441,
          339240,
          1290463,
          3017030,
          1319617,
          630244,
          521352,
          490337,
          507928,
          451804,
          447358,
          454627,
          535609,
          631362,
          337118,
          158240,
          121125,
          86087,
          62312
         ]
        },
        {
         "mode": "lines+markers",
         "name": "321",
         "type": "scatter",
         "x": [
          "06",
          "07",
          "08",
          "09",
          "10",
          "11",
          "12",
          "13",
          "14",
          "15",
          "16",
          "17",
          "18",
          "19",
          "20",
          "21",
          "22",
          "23",
          "24"
         ],
         "y": [
          0,
          0,
          0,
          0,
          0,
          12,
          3,
          0,
          3,
          0,
          0,
          0,
          0,
          0,
          0,
          0,
          0,
          0,
          0
         ]
        },
        {
         "mode": "lines+markers",
         "name": "322",
         "type": "scatter",
         "x": [
          "06",
          "07",
          "08",
          "09",
          "10",
          "11",
          "12",
          "13",
          "14",
          "15",
          "16",
          "17",
          "18",
          "19",
          "20",
          "21",
          "22",
          "23",
          "24"
         ],
         "y": [
          45432,
          373674,
          609436,
          1996333,
          1171811,
          790500,
          674431,
          583376,
          609792,
          525395,
          436362,
          447028,
          516608,
          578696,
          323102,
          187791,
          197669,
          157742,
          93875
         ]
        },
        {
         "mode": "lines+markers",
         "name": "323",
         "type": "scatter",
         "x": [
          "06",
          "07",
          "08",
          "09",
          "10",
          "11",
          "12",
          "13",
          "14",
          "15",
          "16",
          "17",
          "18",
          "19",
          "20",
          "21",
          "22",
          "23",
          "24"
         ],
         "y": [
          43067,
          239944,
          574039,
          1351100,
          840391,
          590766,
          577030,
          595835,
          617617,
          674352,
          734592,
          892688,
          1119350,
          1645897,
          1085518,
          703781,
          673130,
          597189,
          348585
         ]
        },
        {
         "mode": "lines+markers",
         "name": "324",
         "type": "scatter",
         "x": [
          "06",
          "07",
          "08",
          "09",
          "10",
          "11",
          "12",
          "13",
          "14",
          "15",
          "16",
          "17",
          "18",
          "19",
          "20",
          "21",
          "22",
          "23",
          "24"
         ],
         "y": [
          26875,
          111466,
          189496,
          355877,
          274374,
          262154,
          278446,
          321888,
          374209,
          406170,
          504026,
          586051,
          812677,
          1202453,
          860900,
          584998,
          523928,
          476799,
          233881
         ]
        },
        {
         "mode": "lines+markers",
         "name": "325",
         "type": "scatter",
         "x": [
          "06",
          "07",
          "08",
          "09",
          "10",
          "11",
          "12",
          "13",
          "14",
          "15",
          "16",
          "17",
          "18",
          "19",
          "20",
          "21",
          "22",
          "23",
          "24"
         ],
         "y": [
          42933,
          185712,
          336147,
          629400,
          445886,
          353818,
          411573,
          445526,
          502478,
          524216,
          618704,
          714748,
          976854,
          1337828,
          983609,
          636733,
          591498,
          549480,
          266715
         ]
        },
        {
         "mode": "lines+markers",
         "name": "326",
         "type": "scatter",
         "x": [
          "06",
          "07",
          "08",
          "09",
          "10",
          "11",
          "12",
          "13",
          "14",
          "15",
          "16",
          "17",
          "18",
          "19",
          "20",
          "21",
          "22",
          "23",
          "24"
         ],
         "y": [
          88227,
          913485,
          1824650,
          5650924,
          6187855,
          3005298,
          2334043,
          1953979,
          2147614,
          1963837,
          1770929,
          1790933,
          2095607,
          2295881,
          1287436,
          617307,
          494143,
          401997,
          225451
         ]
        },
        {
         "mode": "lines+markers",
         "name": "327",
         "type": "scatter",
         "x": [
          "06",
          "07",
          "08",
          "09",
          "10",
          "11",
          "12",
          "13",
          "14",
          "15",
          "16",
          "17",
          "18",
          "19",
          "20",
          "21",
          "22",
          "23",
          "24"
         ],
         "y": [
          66638,
          767190,
          1735813,
          4325258,
          5438360,
          2723720,
          1914533,
          1886467,
          2031808,
          1934983,
          1806209,
          1840099,
          2100061,
          2667629,
          1444193,
          637531,
          489840,
          374995,
          245726
         ]
        },
        {
         "mode": "lines+markers",
         "name": "328",
         "type": "scatter",
         "x": [
          "06",
          "07",
          "08",
          "09",
          "10",
          "11",
          "12",
          "13",
          "14",
          "15",
          "16",
          "17",
          "18",
          "19",
          "20",
          "21",
          "22",
          "23",
          "24"
         ],
         "y": [
          33396,
          225352,
          282810,
          406688,
          283728,
          195156,
          207926,
          232699,
          274004,
          258034,
          287474,
          314869,
          420705,
          587619,
          433659,
          263931,
          266832,
          282791,
          139591
         ]
        },
        {
         "mode": "lines+markers",
         "name": "329",
         "type": "scatter",
         "x": [
          "06",
          "07",
          "08",
          "09",
          "10",
          "11",
          "12",
          "13",
          "14",
          "15",
          "16",
          "17",
          "18",
          "19",
          "20",
          "21",
          "22",
          "23",
          "24"
         ],
         "y": [
          147182,
          1226429,
          1823853,
          2886763,
          3681075,
          3382595,
          3597299,
          3449749,
          3526389,
          3628275,
          3771354,
          3695662,
          3930644,
          4372239,
          2773046,
          1651138,
          1283215,
          892566,
          455634
         ]
        },
        {
         "mode": "lines+markers",
         "name": "330",
         "type": "scatter",
         "x": [
          "06",
          "07",
          "08",
          "09",
          "10",
          "11",
          "12",
          "13",
          "14",
          "15",
          "16",
          "17",
          "18",
          "19",
          "20",
          "21",
          "22",
          "23",
          "24"
         ],
         "y": [
          28333,
          259686,
          759610,
          1912004,
          1412306,
          641375,
          444578,
          423536,
          443629,
          410778,
          389403,
          404397,
          537475,
          700159,
          378864,
          194688,
          163380,
          146265,
          88517
         ]
        },
        {
         "mode": "lines+markers",
         "name": "331",
         "type": "scatter",
         "x": [
          "06",
          "07",
          "08",
          "09",
          "10",
          "11",
          "12",
          "13",
          "14",
          "15",
          "16",
          "17",
          "18",
          "19",
          "20",
          "21",
          "22",
          "23",
          "24"
         ],
         "y": [
          54879,
          983374,
          2326254,
          6086611,
          3285438,
          1886860,
          1439621,
          1500811,
          1686247,
          1700455,
          1664740,
          1761755,
          1960903,
          2360062,
          1554629,
          924715,
          742211,
          550513,
          324156
         ]
        },
        {
         "mode": "lines+markers",
         "name": "332",
         "type": "scatter",
         "x": [
          "06",
          "07",
          "08",
          "09",
          "10",
          "11",
          "12",
          "13",
          "14",
          "15",
          "16",
          "17",
          "18",
          "19",
          "20",
          "21",
          "22",
          "23",
          "24"
         ],
         "y": [
          108006,
          1618450,
          4145500,
          9381599,
          4888171,
          2196631,
          1755098,
          1601025,
          1831135,
          1598131,
          1607100,
          1706286,
          2285093,
          2915805,
          1960494,
          1206028,
          1091931,
          898438,
          495476
         ]
        },
        {
         "mode": "lines+markers",
         "name": "333",
         "type": "scatter",
         "x": [
          "06",
          "07",
          "08",
          "09",
          "10",
          "11",
          "12",
          "13",
          "14",
          "15",
          "16",
          "17",
          "18",
          "19",
          "20",
          "21",
          "22",
          "23",
          "24"
         ],
         "y": [
          25411,
          356207,
          873515,
          2757049,
          1484090,
          584356,
          499310,
          468467,
          481637,
          435801,
          468131,
          499989,
          680575,
          895829,
          612921,
          357363,
          324134,
          299326,
          164856
         ]
        },
        {
         "mode": "lines+markers",
         "name": "334",
         "type": "scatter",
         "x": [
          "06",
          "07",
          "08",
          "09",
          "10",
          "11",
          "12",
          "13",
          "14",
          "15",
          "16",
          "17",
          "18",
          "19",
          "20",
          "21",
          "22",
          "23",
          "24"
         ],
         "y": [
          16066,
          186591,
          516531,
          812992,
          626975,
          308471,
          266249,
          261963,
          276588,
          252991,
          251980,
          260816,
          323898,
          409031,
          334706,
          192966,
          184476,
          169579,
          108266
         ]
        },
        {
         "mode": "lines+markers",
         "name": "335",
         "type": "scatter",
         "x": [
          "06",
          "07",
          "08",
          "09",
          "10",
          "11",
          "12",
          "13",
          "14",
          "15",
          "16",
          "17",
          "18",
          "19",
          "20",
          "21",
          "22",
          "23",
          "24"
         ],
         "y": [
          34648,
          328566,
          703769,
          1076310,
          751800,
          537532,
          499530,
          615958,
          744030,
          673253,
          715276,
          863691,
          1045142,
          1122998,
          870400,
          479667,
          458977,
          412124,
          225211
         ]
        },
        {
         "mode": "lines+markers",
         "name": "336",
         "type": "scatter",
         "x": [
          "06",
          "07",
          "08",
          "09",
          "10",
          "11",
          "12",
          "13",
          "14",
          "15",
          "16",
          "17",
          "18",
          "19",
          "20",
          "21",
          "22",
          "23",
          "24"
         ],
         "y": [
          12092,
          69902,
          134421,
          311723,
          213864,
          171927,
          137207,
          142248,
          157975,
          152898,
          141915,
          125322,
          141507,
          172050,
          135086,
          85224,
          78497,
          73007,
          43465
         ]
        },
        {
         "mode": "lines+markers",
         "name": "337",
         "type": "scatter",
         "x": [
          "06",
          "07",
          "08",
          "09",
          "10",
          "11",
          "12",
          "13",
          "14",
          "15",
          "16",
          "17",
          "18",
          "19",
          "20",
          "21",
          "22",
          "23",
          "24"
         ],
         "y": [
          48396,
          270382,
          576890,
          1028638,
          487964,
          331278,
          319023,
          376828,
          404876,
          422609,
          519468,
          567631,
          729149,
          1054835,
          882886,
          569683,
          533900,
          552763,
          282815
         ]
        },
        {
         "mode": "lines+markers",
         "name": "338",
         "type": "scatter",
         "x": [
          "06",
          "07",
          "08",
          "09",
          "10",
          "11",
          "12",
          "13",
          "14",
          "15",
          "16",
          "17",
          "18",
          "19",
          "20",
          "21",
          "22",
          "23",
          "24"
         ],
         "y": [
          63281,
          388780,
          1155970,
          972363,
          713700,
          617970,
          457382,
          532247,
          598510,
          531827,
          499158,
          451516,
          555487,
          764856,
          635733,
          406219,
          404280,
          405257,
          175807
         ]
        },
        {
         "mode": "lines+markers",
         "name": "339",
         "type": "scatter",
         "x": [
          "06",
          "07",
          "08",
          "09",
          "10",
          "11",
          "12",
          "13",
          "14",
          "15",
          "16",
          "17",
          "18",
          "19",
          "20",
          "21",
          "22",
          "23",
          "24"
         ],
         "y": [
          88622,
          634910,
          1304638,
          2123887,
          1278744,
          886773,
          734224,
          904317,
          865105,
          888221,
          1027626,
          1151291,
          1417623,
          1943532,
          1461105,
          975921,
          836063,
          786670,
          318505
         ]
        },
        {
         "mode": "lines+markers",
         "name": "340",
         "type": "scatter",
         "x": [
          "06",
          "07",
          "08",
          "09",
          "10",
          "11",
          "12",
          "13",
          "14",
          "15",
          "16",
          "17",
          "18",
          "19",
          "20",
          "21",
          "22",
          "23",
          "24"
         ],
         "y": [
          23590,
          224534,
          454491,
          1166396,
          618694,
          435473,
          433440,
          449692,
          473726,
          490906,
          554363,
          596195,
          710966,
          943960,
          681691,
          442789,
          385384,
          345708,
          199788
         ]
        },
        {
         "mode": "lines+markers",
         "name": "341",
         "type": "scatter",
         "x": [
          "06",
          "07",
          "08",
          "09",
          "10",
          "11",
          "12",
          "13",
          "14",
          "15",
          "16",
          "17",
          "18",
          "19",
          "20",
          "21",
          "22",
          "23",
          "24"
         ],
         "y": [
          11015,
          125636,
          343338,
          1149368,
          574723,
          350671,
          269089,
          308568,
          364750,
          337557,
          348756,
          382210,
          552890,
          839927,
          664079,
          411670,
          347185,
          323753,
          187746
         ]
        },
        {
         "mode": "lines+markers",
         "name": "342",
         "type": "scatter",
         "x": [
          "06",
          "07",
          "08",
          "09",
          "10",
          "11",
          "12",
          "13",
          "14",
          "15",
          "16",
          "17",
          "18",
          "19",
          "20",
          "21",
          "22",
          "23",
          "24"
         ],
         "y": [
          1230,
          91192,
          222452,
          540912,
          231628,
          189159,
          172502,
          211960,
          235366,
          230468,
          307633,
          356781,
          517351,
          823679,
          612376,
          401315,
          364009,
          384445,
          217835
         ]
        }
       ],
       "layout": {
        "legend": {
         "title": {
          "text": "Metro Stop"
         }
        },
        "template": {
         "data": {
          "bar": [
           {
            "error_x": {
             "color": "#2a3f5f"
            },
            "error_y": {
             "color": "#2a3f5f"
            },
            "marker": {
             "line": {
              "color": "#E5ECF6",
              "width": 0.5
             },
             "pattern": {
              "fillmode": "overlay",
              "size": 10,
              "solidity": 0.2
             }
            },
            "type": "bar"
           }
          ],
          "barpolar": [
           {
            "marker": {
             "line": {
              "color": "#E5ECF6",
              "width": 0.5
             },
             "pattern": {
              "fillmode": "overlay",
              "size": 10,
              "solidity": 0.2
             }
            },
            "type": "barpolar"
           }
          ],
          "carpet": [
           {
            "aaxis": {
             "endlinecolor": "#2a3f5f",
             "gridcolor": "white",
             "linecolor": "white",
             "minorgridcolor": "white",
             "startlinecolor": "#2a3f5f"
            },
            "baxis": {
             "endlinecolor": "#2a3f5f",
             "gridcolor": "white",
             "linecolor": "white",
             "minorgridcolor": "white",
             "startlinecolor": "#2a3f5f"
            },
            "type": "carpet"
           }
          ],
          "choropleth": [
           {
            "colorbar": {
             "outlinewidth": 0,
             "ticks": ""
            },
            "type": "choropleth"
           }
          ],
          "contour": [
           {
            "colorbar": {
             "outlinewidth": 0,
             "ticks": ""
            },
            "colorscale": [
             [
              0,
              "#0d0887"
             ],
             [
              0.1111111111111111,
              "#46039f"
             ],
             [
              0.2222222222222222,
              "#7201a8"
             ],
             [
              0.3333333333333333,
              "#9c179e"
             ],
             [
              0.4444444444444444,
              "#bd3786"
             ],
             [
              0.5555555555555556,
              "#d8576b"
             ],
             [
              0.6666666666666666,
              "#ed7953"
             ],
             [
              0.7777777777777778,
              "#fb9f3a"
             ],
             [
              0.8888888888888888,
              "#fdca26"
             ],
             [
              1,
              "#f0f921"
             ]
            ],
            "type": "contour"
           }
          ],
          "contourcarpet": [
           {
            "colorbar": {
             "outlinewidth": 0,
             "ticks": ""
            },
            "type": "contourcarpet"
           }
          ],
          "heatmap": [
           {
            "colorbar": {
             "outlinewidth": 0,
             "ticks": ""
            },
            "colorscale": [
             [
              0,
              "#0d0887"
             ],
             [
              0.1111111111111111,
              "#46039f"
             ],
             [
              0.2222222222222222,
              "#7201a8"
             ],
             [
              0.3333333333333333,
              "#9c179e"
             ],
             [
              0.4444444444444444,
              "#bd3786"
             ],
             [
              0.5555555555555556,
              "#d8576b"
             ],
             [
              0.6666666666666666,
              "#ed7953"
             ],
             [
              0.7777777777777778,
              "#fb9f3a"
             ],
             [
              0.8888888888888888,
              "#fdca26"
             ],
             [
              1,
              "#f0f921"
             ]
            ],
            "type": "heatmap"
           }
          ],
          "heatmapgl": [
           {
            "colorbar": {
             "outlinewidth": 0,
             "ticks": ""
            },
            "colorscale": [
             [
              0,
              "#0d0887"
             ],
             [
              0.1111111111111111,
              "#46039f"
             ],
             [
              0.2222222222222222,
              "#7201a8"
             ],
             [
              0.3333333333333333,
              "#9c179e"
             ],
             [
              0.4444444444444444,
              "#bd3786"
             ],
             [
              0.5555555555555556,
              "#d8576b"
             ],
             [
              0.6666666666666666,
              "#ed7953"
             ],
             [
              0.7777777777777778,
              "#fb9f3a"
             ],
             [
              0.8888888888888888,
              "#fdca26"
             ],
             [
              1,
              "#f0f921"
             ]
            ],
            "type": "heatmapgl"
           }
          ],
          "histogram": [
           {
            "marker": {
             "pattern": {
              "fillmode": "overlay",
              "size": 10,
              "solidity": 0.2
             }
            },
            "type": "histogram"
           }
          ],
          "histogram2d": [
           {
            "colorbar": {
             "outlinewidth": 0,
             "ticks": ""
            },
            "colorscale": [
             [
              0,
              "#0d0887"
             ],
             [
              0.1111111111111111,
              "#46039f"
             ],
             [
              0.2222222222222222,
              "#7201a8"
             ],
             [
              0.3333333333333333,
              "#9c179e"
             ],
             [
              0.4444444444444444,
              "#bd3786"
             ],
             [
              0.5555555555555556,
              "#d8576b"
             ],
             [
              0.6666666666666666,
              "#ed7953"
             ],
             [
              0.7777777777777778,
              "#fb9f3a"
             ],
             [
              0.8888888888888888,
              "#fdca26"
             ],
             [
              1,
              "#f0f921"
             ]
            ],
            "type": "histogram2d"
           }
          ],
          "histogram2dcontour": [
           {
            "colorbar": {
             "outlinewidth": 0,
             "ticks": ""
            },
            "colorscale": [
             [
              0,
              "#0d0887"
             ],
             [
              0.1111111111111111,
              "#46039f"
             ],
             [
              0.2222222222222222,
              "#7201a8"
             ],
             [
              0.3333333333333333,
              "#9c179e"
             ],
             [
              0.4444444444444444,
              "#bd3786"
             ],
             [
              0.5555555555555556,
              "#d8576b"
             ],
             [
              0.6666666666666666,
              "#ed7953"
             ],
             [
              0.7777777777777778,
              "#fb9f3a"
             ],
             [
              0.8888888888888888,
              "#fdca26"
             ],
             [
              1,
              "#f0f921"
             ]
            ],
            "type": "histogram2dcontour"
           }
          ],
          "mesh3d": [
           {
            "colorbar": {
             "outlinewidth": 0,
             "ticks": ""
            },
            "type": "mesh3d"
           }
          ],
          "parcoords": [
           {
            "line": {
             "colorbar": {
              "outlinewidth": 0,
              "ticks": ""
             }
            },
            "type": "parcoords"
           }
          ],
          "pie": [
           {
            "automargin": true,
            "type": "pie"
           }
          ],
          "scatter": [
           {
            "fillpattern": {
             "fillmode": "overlay",
             "size": 10,
             "solidity": 0.2
            },
            "type": "scatter"
           }
          ],
          "scatter3d": [
           {
            "line": {
             "colorbar": {
              "outlinewidth": 0,
              "ticks": ""
             }
            },
            "marker": {
             "colorbar": {
              "outlinewidth": 0,
              "ticks": ""
             }
            },
            "type": "scatter3d"
           }
          ],
          "scattercarpet": [
           {
            "marker": {
             "colorbar": {
              "outlinewidth": 0,
              "ticks": ""
             }
            },
            "type": "scattercarpet"
           }
          ],
          "scattergeo": [
           {
            "marker": {
             "colorbar": {
              "outlinewidth": 0,
              "ticks": ""
             }
            },
            "type": "scattergeo"
           }
          ],
          "scattergl": [
           {
            "marker": {
             "colorbar": {
              "outlinewidth": 0,
              "ticks": ""
             }
            },
            "type": "scattergl"
           }
          ],
          "scattermapbox": [
           {
            "marker": {
             "colorbar": {
              "outlinewidth": 0,
              "ticks": ""
             }
            },
            "type": "scattermapbox"
           }
          ],
          "scatterpolar": [
           {
            "marker": {
             "colorbar": {
              "outlinewidth": 0,
              "ticks": ""
             }
            },
            "type": "scatterpolar"
           }
          ],
          "scatterpolargl": [
           {
            "marker": {
             "colorbar": {
              "outlinewidth": 0,
              "ticks": ""
             }
            },
            "type": "scatterpolargl"
           }
          ],
          "scatterternary": [
           {
            "marker": {
             "colorbar": {
              "outlinewidth": 0,
              "ticks": ""
             }
            },
            "type": "scatterternary"
           }
          ],
          "surface": [
           {
            "colorbar": {
             "outlinewidth": 0,
             "ticks": ""
            },
            "colorscale": [
             [
              0,
              "#0d0887"
             ],
             [
              0.1111111111111111,
              "#46039f"
             ],
             [
              0.2222222222222222,
              "#7201a8"
             ],
             [
              0.3333333333333333,
              "#9c179e"
             ],
             [
              0.4444444444444444,
              "#bd3786"
             ],
             [
              0.5555555555555556,
              "#d8576b"
             ],
             [
              0.6666666666666666,
              "#ed7953"
             ],
             [
              0.7777777777777778,
              "#fb9f3a"
             ],
             [
              0.8888888888888888,
              "#fdca26"
             ],
             [
              1,
              "#f0f921"
             ]
            ],
            "type": "surface"
           }
          ],
          "table": [
           {
            "cells": {
             "fill": {
              "color": "#EBF0F8"
             },
             "line": {
              "color": "white"
             }
            },
            "header": {
             "fill": {
              "color": "#C8D4E3"
             },
             "line": {
              "color": "white"
             }
            },
            "type": "table"
           }
          ]
         },
         "layout": {
          "annotationdefaults": {
           "arrowcolor": "#2a3f5f",
           "arrowhead": 0,
           "arrowwidth": 1
          },
          "autotypenumbers": "strict",
          "coloraxis": {
           "colorbar": {
            "outlinewidth": 0,
            "ticks": ""
           }
          },
          "colorscale": {
           "diverging": [
            [
             0,
             "#8e0152"
            ],
            [
             0.1,
             "#c51b7d"
            ],
            [
             0.2,
             "#de77ae"
            ],
            [
             0.3,
             "#f1b6da"
            ],
            [
             0.4,
             "#fde0ef"
            ],
            [
             0.5,
             "#f7f7f7"
            ],
            [
             0.6,
             "#e6f5d0"
            ],
            [
             0.7,
             "#b8e186"
            ],
            [
             0.8,
             "#7fbc41"
            ],
            [
             0.9,
             "#4d9221"
            ],
            [
             1,
             "#276419"
            ]
           ],
           "sequential": [
            [
             0,
             "#0d0887"
            ],
            [
             0.1111111111111111,
             "#46039f"
            ],
            [
             0.2222222222222222,
             "#7201a8"
            ],
            [
             0.3333333333333333,
             "#9c179e"
            ],
            [
             0.4444444444444444,
             "#bd3786"
            ],
            [
             0.5555555555555556,
             "#d8576b"
            ],
            [
             0.6666666666666666,
             "#ed7953"
            ],
            [
             0.7777777777777778,
             "#fb9f3a"
            ],
            [
             0.8888888888888888,
             "#fdca26"
            ],
            [
             1,
             "#f0f921"
            ]
           ],
           "sequentialminus": [
            [
             0,
             "#0d0887"
            ],
            [
             0.1111111111111111,
             "#46039f"
            ],
            [
             0.2222222222222222,
             "#7201a8"
            ],
            [
             0.3333333333333333,
             "#9c179e"
            ],
            [
             0.4444444444444444,
             "#bd3786"
            ],
            [
             0.5555555555555556,
             "#d8576b"
            ],
            [
             0.6666666666666666,
             "#ed7953"
            ],
            [
             0.7777777777777778,
             "#fb9f3a"
            ],
            [
             0.8888888888888888,
             "#fdca26"
            ],
            [
             1,
             "#f0f921"
            ]
           ]
          },
          "colorway": [
           "#636efa",
           "#EF553B",
           "#00cc96",
           "#ab63fa",
           "#FFA15A",
           "#19d3f3",
           "#FF6692",
           "#B6E880",
           "#FF97FF",
           "#FECB52"
          ],
          "font": {
           "color": "#2a3f5f"
          },
          "geo": {
           "bgcolor": "white",
           "lakecolor": "white",
           "landcolor": "#E5ECF6",
           "showlakes": true,
           "showland": true,
           "subunitcolor": "white"
          },
          "hoverlabel": {
           "align": "left"
          },
          "hovermode": "closest",
          "mapbox": {
           "style": "light"
          },
          "paper_bgcolor": "white",
          "plot_bgcolor": "#E5ECF6",
          "polar": {
           "angularaxis": {
            "gridcolor": "white",
            "linecolor": "white",
            "ticks": ""
           },
           "bgcolor": "#E5ECF6",
           "radialaxis": {
            "gridcolor": "white",
            "linecolor": "white",
            "ticks": ""
           }
          },
          "scene": {
           "xaxis": {
            "backgroundcolor": "#E5ECF6",
            "gridcolor": "white",
            "gridwidth": 2,
            "linecolor": "white",
            "showbackground": true,
            "ticks": "",
            "zerolinecolor": "white"
           },
           "yaxis": {
            "backgroundcolor": "#E5ECF6",
            "gridcolor": "white",
            "gridwidth": 2,
            "linecolor": "white",
            "showbackground": true,
            "ticks": "",
            "zerolinecolor": "white"
           },
           "zaxis": {
            "backgroundcolor": "#E5ECF6",
            "gridcolor": "white",
            "gridwidth": 2,
            "linecolor": "white",
            "showbackground": true,
            "ticks": "",
            "zerolinecolor": "white"
           }
          },
          "shapedefaults": {
           "line": {
            "color": "#2a3f5f"
           }
          },
          "ternary": {
           "aaxis": {
            "gridcolor": "white",
            "linecolor": "white",
            "ticks": ""
           },
           "baxis": {
            "gridcolor": "white",
            "linecolor": "white",
            "ticks": ""
           },
           "bgcolor": "#E5ECF6",
           "caxis": {
            "gridcolor": "white",
            "linecolor": "white",
            "ticks": ""
           }
          },
          "title": {
           "x": 0.05
          },
          "xaxis": {
           "automargin": true,
           "gridcolor": "white",
           "linecolor": "white",
           "ticks": "",
           "title": {
            "standoff": 15
           },
           "zerolinecolor": "white",
           "zerolinewidth": 2
          },
          "yaxis": {
           "automargin": true,
           "gridcolor": "white",
           "linecolor": "white",
           "ticks": "",
           "title": {
            "standoff": 15
           },
           "zerolinecolor": "white",
           "zerolinewidth": 2
          }
         }
        },
        "title": {
         "text": "Fréquentation quotidienne par station (sorties)"
        },
        "xaxis": {
         "title": {
          "text": "Time of the day (h)"
         }
        },
        "yaxis": {
         "title": {
          "text": "Number of people"
         }
        }
       }
      }
     },
     "metadata": {},
     "output_type": "display_data"
    }
   ],
   "source": [
    "#Plotting exits\n",
    "fig = go.Figure()\n",
    "\n",
    "\n",
    "for x in range(len(exits_3)):\n",
    "    fig.add_trace(go.Scatter(\n",
    "        x=exits_3.columns[1:], y=exits_3.loc[x].values[1:],\n",
    "        mode='lines + markers',\n",
    "        name=str(exits_3.loc[x].station_number)\n",
    "    ))\n",
    "\n",
    "fig.update_layout(\n",
    "    xaxis_title='Time of the day (h)',\n",
    "    yaxis_title='Number of people',\n",
    "    legend_title='Metro Stop',\n",
    "    title='Fréquentation quotidienne par station (sorties)'\n",
    ")\n",
    "fig.show()\n"
   ]
  },
  {
   "cell_type": "code",
   "execution_count": 217,
   "metadata": {},
   "outputs": [
    {
     "data": {
      "text/html": [
       "<div>\n",
       "<style scoped>\n",
       "    .dataframe tbody tr th:only-of-type {\n",
       "        vertical-align: middle;\n",
       "    }\n",
       "\n",
       "    .dataframe tbody tr th {\n",
       "        vertical-align: top;\n",
       "    }\n",
       "\n",
       "    .dataframe thead th {\n",
       "        text-align: right;\n",
       "    }\n",
       "</style>\n",
       "<table border=\"1\" class=\"dataframe\">\n",
       "  <thead>\n",
       "    <tr style=\"text-align: right;\">\n",
       "      <th></th>\n",
       "      <th>station_number</th>\n",
       "      <th>station_name</th>\n",
       "      <th>entry/exit</th>\n",
       "      <th>06</th>\n",
       "      <th>07</th>\n",
       "      <th>08</th>\n",
       "      <th>09</th>\n",
       "      <th>10</th>\n",
       "      <th>11</th>\n",
       "      <th>12</th>\n",
       "      <th>...</th>\n",
       "      <th>15</th>\n",
       "      <th>16</th>\n",
       "      <th>17</th>\n",
       "      <th>18</th>\n",
       "      <th>19</th>\n",
       "      <th>20</th>\n",
       "      <th>21</th>\n",
       "      <th>22</th>\n",
       "      <th>23</th>\n",
       "      <th>24</th>\n",
       "    </tr>\n",
       "    <tr>\n",
       "      <th>date</th>\n",
       "      <th></th>\n",
       "      <th></th>\n",
       "      <th></th>\n",
       "      <th></th>\n",
       "      <th></th>\n",
       "      <th></th>\n",
       "      <th></th>\n",
       "      <th></th>\n",
       "      <th></th>\n",
       "      <th></th>\n",
       "      <th></th>\n",
       "      <th></th>\n",
       "      <th></th>\n",
       "      <th></th>\n",
       "      <th></th>\n",
       "      <th></th>\n",
       "      <th></th>\n",
       "      <th></th>\n",
       "      <th></th>\n",
       "      <th></th>\n",
       "      <th></th>\n",
       "    </tr>\n",
       "  </thead>\n",
       "  <tbody>\n",
       "    <tr>\n",
       "      <th>2022-05-05</th>\n",
       "      <td>2823</td>\n",
       "      <td>남한산성입구(성남법원.검찰청)</td>\n",
       "      <td>entry</td>\n",
       "      <td>242</td>\n",
       "      <td>363</td>\n",
       "      <td>423</td>\n",
       "      <td>717</td>\n",
       "      <td>795</td>\n",
       "      <td>787</td>\n",
       "      <td>830</td>\n",
       "      <td>...</td>\n",
       "      <td>615</td>\n",
       "      <td>545</td>\n",
       "      <td>500</td>\n",
       "      <td>440</td>\n",
       "      <td>387</td>\n",
       "      <td>252</td>\n",
       "      <td>185</td>\n",
       "      <td>141</td>\n",
       "      <td>104</td>\n",
       "      <td>39</td>\n",
       "    </tr>\n",
       "    <tr>\n",
       "      <th>2022-05-05</th>\n",
       "      <td>2823</td>\n",
       "      <td>남한산성입구(성남법원.검찰청)</td>\n",
       "      <td>exit</td>\n",
       "      <td>44</td>\n",
       "      <td>136</td>\n",
       "      <td>153</td>\n",
       "      <td>219</td>\n",
       "      <td>274</td>\n",
       "      <td>339</td>\n",
       "      <td>319</td>\n",
       "      <td>...</td>\n",
       "      <td>406</td>\n",
       "      <td>439</td>\n",
       "      <td>564</td>\n",
       "      <td>619</td>\n",
       "      <td>633</td>\n",
       "      <td>628</td>\n",
       "      <td>631</td>\n",
       "      <td>725</td>\n",
       "      <td>682</td>\n",
       "      <td>453</td>\n",
       "    </tr>\n",
       "    <tr>\n",
       "      <th>2022-05-05</th>\n",
       "      <td>2826</td>\n",
       "      <td>Sujin</td>\n",
       "      <td>entry</td>\n",
       "      <td>100</td>\n",
       "      <td>123</td>\n",
       "      <td>162</td>\n",
       "      <td>264</td>\n",
       "      <td>293</td>\n",
       "      <td>287</td>\n",
       "      <td>298</td>\n",
       "      <td>...</td>\n",
       "      <td>263</td>\n",
       "      <td>251</td>\n",
       "      <td>259</td>\n",
       "      <td>218</td>\n",
       "      <td>178</td>\n",
       "      <td>139</td>\n",
       "      <td>113</td>\n",
       "      <td>90</td>\n",
       "      <td>62</td>\n",
       "      <td>14</td>\n",
       "    </tr>\n",
       "    <tr>\n",
       "      <th>2022-05-05</th>\n",
       "      <td>2826</td>\n",
       "      <td>Sujin</td>\n",
       "      <td>exit</td>\n",
       "      <td>16</td>\n",
       "      <td>75</td>\n",
       "      <td>61</td>\n",
       "      <td>79</td>\n",
       "      <td>88</td>\n",
       "      <td>130</td>\n",
       "      <td>130</td>\n",
       "      <td>...</td>\n",
       "      <td>222</td>\n",
       "      <td>210</td>\n",
       "      <td>230</td>\n",
       "      <td>245</td>\n",
       "      <td>279</td>\n",
       "      <td>231</td>\n",
       "      <td>184</td>\n",
       "      <td>221</td>\n",
       "      <td>223</td>\n",
       "      <td>142</td>\n",
       "    </tr>\n",
       "    <tr>\n",
       "      <th>2022-05-05</th>\n",
       "      <td>2817</td>\n",
       "      <td>Songpa</td>\n",
       "      <td>entry</td>\n",
       "      <td>62</td>\n",
       "      <td>125</td>\n",
       "      <td>166</td>\n",
       "      <td>293</td>\n",
       "      <td>351</td>\n",
       "      <td>448</td>\n",
       "      <td>454</td>\n",
       "      <td>...</td>\n",
       "      <td>353</td>\n",
       "      <td>342</td>\n",
       "      <td>366</td>\n",
       "      <td>330</td>\n",
       "      <td>234</td>\n",
       "      <td>185</td>\n",
       "      <td>151</td>\n",
       "      <td>122</td>\n",
       "      <td>91</td>\n",
       "      <td>34</td>\n",
       "    </tr>\n",
       "    <tr>\n",
       "      <th>2022-05-05</th>\n",
       "      <td>2817</td>\n",
       "      <td>Songpa</td>\n",
       "      <td>exit</td>\n",
       "      <td>14</td>\n",
       "      <td>116</td>\n",
       "      <td>76</td>\n",
       "      <td>153</td>\n",
       "      <td>167</td>\n",
       "      <td>177</td>\n",
       "      <td>202</td>\n",
       "      <td>...</td>\n",
       "      <td>332</td>\n",
       "      <td>359</td>\n",
       "      <td>375</td>\n",
       "      <td>427</td>\n",
       "      <td>374</td>\n",
       "      <td>326</td>\n",
       "      <td>308</td>\n",
       "      <td>285</td>\n",
       "      <td>264</td>\n",
       "      <td>179</td>\n",
       "    </tr>\n",
       "    <tr>\n",
       "      <th>2022-05-05</th>\n",
       "      <td>2825</td>\n",
       "      <td>Sinheung</td>\n",
       "      <td>entry</td>\n",
       "      <td>90</td>\n",
       "      <td>80</td>\n",
       "      <td>86</td>\n",
       "      <td>179</td>\n",
       "      <td>237</td>\n",
       "      <td>236</td>\n",
       "      <td>282</td>\n",
       "      <td>...</td>\n",
       "      <td>268</td>\n",
       "      <td>212</td>\n",
       "      <td>232</td>\n",
       "      <td>272</td>\n",
       "      <td>161</td>\n",
       "      <td>140</td>\n",
       "      <td>151</td>\n",
       "      <td>108</td>\n",
       "      <td>86</td>\n",
       "      <td>37</td>\n",
       "    </tr>\n",
       "    <tr>\n",
       "      <th>2022-05-05</th>\n",
       "      <td>2825</td>\n",
       "      <td>Sinheung</td>\n",
       "      <td>exit</td>\n",
       "      <td>16</td>\n",
       "      <td>91</td>\n",
       "      <td>69</td>\n",
       "      <td>91</td>\n",
       "      <td>111</td>\n",
       "      <td>136</td>\n",
       "      <td>167</td>\n",
       "      <td>...</td>\n",
       "      <td>247</td>\n",
       "      <td>257</td>\n",
       "      <td>324</td>\n",
       "      <td>314</td>\n",
       "      <td>337</td>\n",
       "      <td>272</td>\n",
       "      <td>244</td>\n",
       "      <td>236</td>\n",
       "      <td>200</td>\n",
       "      <td>123</td>\n",
       "    </tr>\n",
       "    <tr>\n",
       "      <th>2022-05-05</th>\n",
       "      <td>2816</td>\n",
       "      <td>Seokchon</td>\n",
       "      <td>entry</td>\n",
       "      <td>74</td>\n",
       "      <td>123</td>\n",
       "      <td>152</td>\n",
       "      <td>192</td>\n",
       "      <td>314</td>\n",
       "      <td>300</td>\n",
       "      <td>304</td>\n",
       "      <td>...</td>\n",
       "      <td>358</td>\n",
       "      <td>352</td>\n",
       "      <td>358</td>\n",
       "      <td>382</td>\n",
       "      <td>337</td>\n",
       "      <td>260</td>\n",
       "      <td>265</td>\n",
       "      <td>298</td>\n",
       "      <td>202</td>\n",
       "      <td>85</td>\n",
       "    </tr>\n",
       "    <tr>\n",
       "      <th>2022-05-05</th>\n",
       "      <td>2816</td>\n",
       "      <td>Seokchon</td>\n",
       "      <td>exit</td>\n",
       "      <td>19</td>\n",
       "      <td>88</td>\n",
       "      <td>132</td>\n",
       "      <td>180</td>\n",
       "      <td>257</td>\n",
       "      <td>276</td>\n",
       "      <td>484</td>\n",
       "      <td>...</td>\n",
       "      <td>454</td>\n",
       "      <td>448</td>\n",
       "      <td>545</td>\n",
       "      <td>551</td>\n",
       "      <td>464</td>\n",
       "      <td>413</td>\n",
       "      <td>317</td>\n",
       "      <td>358</td>\n",
       "      <td>230</td>\n",
       "      <td>184</td>\n",
       "    </tr>\n",
       "    <tr>\n",
       "      <th>2022-05-05</th>\n",
       "      <td>2822</td>\n",
       "      <td>Sanseong</td>\n",
       "      <td>entry</td>\n",
       "      <td>86</td>\n",
       "      <td>108</td>\n",
       "      <td>134</td>\n",
       "      <td>229</td>\n",
       "      <td>277</td>\n",
       "      <td>329</td>\n",
       "      <td>329</td>\n",
       "      <td>...</td>\n",
       "      <td>305</td>\n",
       "      <td>245</td>\n",
       "      <td>315</td>\n",
       "      <td>266</td>\n",
       "      <td>219</td>\n",
       "      <td>134</td>\n",
       "      <td>81</td>\n",
       "      <td>50</td>\n",
       "      <td>38</td>\n",
       "      <td>22</td>\n",
       "    </tr>\n",
       "    <tr>\n",
       "      <th>2022-05-05</th>\n",
       "      <td>2822</td>\n",
       "      <td>Sanseong</td>\n",
       "      <td>exit</td>\n",
       "      <td>25</td>\n",
       "      <td>110</td>\n",
       "      <td>77</td>\n",
       "      <td>110</td>\n",
       "      <td>196</td>\n",
       "      <td>289</td>\n",
       "      <td>232</td>\n",
       "      <td>...</td>\n",
       "      <td>197</td>\n",
       "      <td>202</td>\n",
       "      <td>246</td>\n",
       "      <td>249</td>\n",
       "      <td>287</td>\n",
       "      <td>259</td>\n",
       "      <td>270</td>\n",
       "      <td>298</td>\n",
       "      <td>249</td>\n",
       "      <td>176</td>\n",
       "    </tr>\n",
       "    <tr>\n",
       "      <th>2022-05-05</th>\n",
       "      <td>2828</td>\n",
       "      <td>Namwirye</td>\n",
       "      <td>entry</td>\n",
       "      <td>26</td>\n",
       "      <td>46</td>\n",
       "      <td>92</td>\n",
       "      <td>161</td>\n",
       "      <td>167</td>\n",
       "      <td>245</td>\n",
       "      <td>268</td>\n",
       "      <td>...</td>\n",
       "      <td>207</td>\n",
       "      <td>200</td>\n",
       "      <td>204</td>\n",
       "      <td>222</td>\n",
       "      <td>215</td>\n",
       "      <td>121</td>\n",
       "      <td>147</td>\n",
       "      <td>118</td>\n",
       "      <td>95</td>\n",
       "      <td>39</td>\n",
       "    </tr>\n",
       "    <tr>\n",
       "      <th>2022-05-05</th>\n",
       "      <td>2828</td>\n",
       "      <td>Namwirye</td>\n",
       "      <td>exit</td>\n",
       "      <td>17</td>\n",
       "      <td>44</td>\n",
       "      <td>68</td>\n",
       "      <td>85</td>\n",
       "      <td>147</td>\n",
       "      <td>127</td>\n",
       "      <td>156</td>\n",
       "      <td>...</td>\n",
       "      <td>234</td>\n",
       "      <td>246</td>\n",
       "      <td>269</td>\n",
       "      <td>240</td>\n",
       "      <td>293</td>\n",
       "      <td>220</td>\n",
       "      <td>189</td>\n",
       "      <td>167</td>\n",
       "      <td>168</td>\n",
       "      <td>137</td>\n",
       "    </tr>\n",
       "    <tr>\n",
       "      <th>2022-05-05</th>\n",
       "      <td>2819</td>\n",
       "      <td>Munjeong</td>\n",
       "      <td>entry</td>\n",
       "      <td>45</td>\n",
       "      <td>123</td>\n",
       "      <td>178</td>\n",
       "      <td>270</td>\n",
       "      <td>387</td>\n",
       "      <td>362</td>\n",
       "      <td>399</td>\n",
       "      <td>...</td>\n",
       "      <td>493</td>\n",
       "      <td>488</td>\n",
       "      <td>542</td>\n",
       "      <td>495</td>\n",
       "      <td>344</td>\n",
       "      <td>335</td>\n",
       "      <td>350</td>\n",
       "      <td>333</td>\n",
       "      <td>241</td>\n",
       "      <td>99</td>\n",
       "    </tr>\n",
       "    <tr>\n",
       "      <th>2022-05-05</th>\n",
       "      <td>2819</td>\n",
       "      <td>Munjeong</td>\n",
       "      <td>exit</td>\n",
       "      <td>54</td>\n",
       "      <td>205</td>\n",
       "      <td>273</td>\n",
       "      <td>299</td>\n",
       "      <td>401</td>\n",
       "      <td>357</td>\n",
       "      <td>344</td>\n",
       "      <td>...</td>\n",
       "      <td>330</td>\n",
       "      <td>393</td>\n",
       "      <td>414</td>\n",
       "      <td>525</td>\n",
       "      <td>475</td>\n",
       "      <td>308</td>\n",
       "      <td>331</td>\n",
       "      <td>390</td>\n",
       "      <td>302</td>\n",
       "      <td>182</td>\n",
       "    </tr>\n",
       "    <tr>\n",
       "      <th>2022-05-05</th>\n",
       "      <td>2827</td>\n",
       "      <td>Moran</td>\n",
       "      <td>entry</td>\n",
       "      <td>78</td>\n",
       "      <td>50</td>\n",
       "      <td>82</td>\n",
       "      <td>142</td>\n",
       "      <td>179</td>\n",
       "      <td>229</td>\n",
       "      <td>245</td>\n",
       "      <td>...</td>\n",
       "      <td>303</td>\n",
       "      <td>258</td>\n",
       "      <td>270</td>\n",
       "      <td>251</td>\n",
       "      <td>223</td>\n",
       "      <td>162</td>\n",
       "      <td>155</td>\n",
       "      <td>129</td>\n",
       "      <td>114</td>\n",
       "      <td>73</td>\n",
       "    </tr>\n",
       "    <tr>\n",
       "      <th>2022-05-05</th>\n",
       "      <td>2827</td>\n",
       "      <td>Moran</td>\n",
       "      <td>exit</td>\n",
       "      <td>17</td>\n",
       "      <td>108</td>\n",
       "      <td>92</td>\n",
       "      <td>117</td>\n",
       "      <td>139</td>\n",
       "      <td>146</td>\n",
       "      <td>163</td>\n",
       "      <td>...</td>\n",
       "      <td>198</td>\n",
       "      <td>195</td>\n",
       "      <td>216</td>\n",
       "      <td>262</td>\n",
       "      <td>238</td>\n",
       "      <td>175</td>\n",
       "      <td>141</td>\n",
       "      <td>171</td>\n",
       "      <td>115</td>\n",
       "      <td>100</td>\n",
       "    </tr>\n",
       "    <tr>\n",
       "      <th>2022-05-05</th>\n",
       "      <td>2814</td>\n",
       "      <td>Mongchontoseong(World Peace Gate)</td>\n",
       "      <td>entry</td>\n",
       "      <td>44</td>\n",
       "      <td>76</td>\n",
       "      <td>103</td>\n",
       "      <td>175</td>\n",
       "      <td>209</td>\n",
       "      <td>205</td>\n",
       "      <td>239</td>\n",
       "      <td>...</td>\n",
       "      <td>362</td>\n",
       "      <td>414</td>\n",
       "      <td>487</td>\n",
       "      <td>358</td>\n",
       "      <td>342</td>\n",
       "      <td>255</td>\n",
       "      <td>226</td>\n",
       "      <td>231</td>\n",
       "      <td>133</td>\n",
       "      <td>75</td>\n",
       "    </tr>\n",
       "    <tr>\n",
       "      <th>2022-05-05</th>\n",
       "      <td>2814</td>\n",
       "      <td>Mongchontoseong(World Peace Gate)</td>\n",
       "      <td>exit</td>\n",
       "      <td>26</td>\n",
       "      <td>140</td>\n",
       "      <td>109</td>\n",
       "      <td>147</td>\n",
       "      <td>241</td>\n",
       "      <td>260</td>\n",
       "      <td>393</td>\n",
       "      <td>...</td>\n",
       "      <td>319</td>\n",
       "      <td>332</td>\n",
       "      <td>318</td>\n",
       "      <td>279</td>\n",
       "      <td>261</td>\n",
       "      <td>201</td>\n",
       "      <td>191</td>\n",
       "      <td>161</td>\n",
       "      <td>175</td>\n",
       "      <td>90</td>\n",
       "    </tr>\n",
       "    <tr>\n",
       "      <th>2022-05-05</th>\n",
       "      <td>2820</td>\n",
       "      <td>Jangji</td>\n",
       "      <td>exit</td>\n",
       "      <td>66</td>\n",
       "      <td>233</td>\n",
       "      <td>368</td>\n",
       "      <td>459</td>\n",
       "      <td>631</td>\n",
       "      <td>656</td>\n",
       "      <td>685</td>\n",
       "      <td>...</td>\n",
       "      <td>975</td>\n",
       "      <td>975</td>\n",
       "      <td>842</td>\n",
       "      <td>833</td>\n",
       "      <td>820</td>\n",
       "      <td>612</td>\n",
       "      <td>536</td>\n",
       "      <td>502</td>\n",
       "      <td>509</td>\n",
       "      <td>286</td>\n",
       "    </tr>\n",
       "    <tr>\n",
       "      <th>2022-05-05</th>\n",
       "      <td>2820</td>\n",
       "      <td>Jangji</td>\n",
       "      <td>entry</td>\n",
       "      <td>188</td>\n",
       "      <td>253</td>\n",
       "      <td>308</td>\n",
       "      <td>486</td>\n",
       "      <td>554</td>\n",
       "      <td>594</td>\n",
       "      <td>676</td>\n",
       "      <td>...</td>\n",
       "      <td>772</td>\n",
       "      <td>840</td>\n",
       "      <td>974</td>\n",
       "      <td>1008</td>\n",
       "      <td>870</td>\n",
       "      <td>729</td>\n",
       "      <td>830</td>\n",
       "      <td>561</td>\n",
       "      <td>299</td>\n",
       "      <td>83</td>\n",
       "    </tr>\n",
       "    <tr>\n",
       "      <th>2022-05-05</th>\n",
       "      <td>2815</td>\n",
       "      <td>Jamsil(Songpa-gu Office)</td>\n",
       "      <td>entry</td>\n",
       "      <td>48</td>\n",
       "      <td>109</td>\n",
       "      <td>91</td>\n",
       "      <td>175</td>\n",
       "      <td>197</td>\n",
       "      <td>264</td>\n",
       "      <td>424</td>\n",
       "      <td>...</td>\n",
       "      <td>920</td>\n",
       "      <td>1188</td>\n",
       "      <td>1243</td>\n",
       "      <td>1359</td>\n",
       "      <td>1395</td>\n",
       "      <td>1050</td>\n",
       "      <td>1288</td>\n",
       "      <td>1285</td>\n",
       "      <td>947</td>\n",
       "      <td>270</td>\n",
       "    </tr>\n",
       "    <tr>\n",
       "      <th>2022-05-05</th>\n",
       "      <td>2815</td>\n",
       "      <td>Jamsil(Songpa-gu Office)</td>\n",
       "      <td>exit</td>\n",
       "      <td>40</td>\n",
       "      <td>206</td>\n",
       "      <td>351</td>\n",
       "      <td>692</td>\n",
       "      <td>1116</td>\n",
       "      <td>1148</td>\n",
       "      <td>1501</td>\n",
       "      <td>...</td>\n",
       "      <td>1373</td>\n",
       "      <td>1375</td>\n",
       "      <td>1216</td>\n",
       "      <td>1071</td>\n",
       "      <td>801</td>\n",
       "      <td>521</td>\n",
       "      <td>376</td>\n",
       "      <td>251</td>\n",
       "      <td>188</td>\n",
       "      <td>119</td>\n",
       "    </tr>\n",
       "    <tr>\n",
       "      <th>2022-05-05</th>\n",
       "      <td>2818</td>\n",
       "      <td>Garak Market</td>\n",
       "      <td>entry</td>\n",
       "      <td>100</td>\n",
       "      <td>160</td>\n",
       "      <td>203</td>\n",
       "      <td>217</td>\n",
       "      <td>237</td>\n",
       "      <td>330</td>\n",
       "      <td>338</td>\n",
       "      <td>...</td>\n",
       "      <td>355</td>\n",
       "      <td>311</td>\n",
       "      <td>279</td>\n",
       "      <td>288</td>\n",
       "      <td>233</td>\n",
       "      <td>279</td>\n",
       "      <td>230</td>\n",
       "      <td>209</td>\n",
       "      <td>183</td>\n",
       "      <td>85</td>\n",
       "    </tr>\n",
       "    <tr>\n",
       "      <th>2022-05-05</th>\n",
       "      <td>2818</td>\n",
       "      <td>Garak Market</td>\n",
       "      <td>exit</td>\n",
       "      <td>64</td>\n",
       "      <td>191</td>\n",
       "      <td>218</td>\n",
       "      <td>283</td>\n",
       "      <td>314</td>\n",
       "      <td>256</td>\n",
       "      <td>259</td>\n",
       "      <td>...</td>\n",
       "      <td>299</td>\n",
       "      <td>287</td>\n",
       "      <td>355</td>\n",
       "      <td>373</td>\n",
       "      <td>370</td>\n",
       "      <td>293</td>\n",
       "      <td>330</td>\n",
       "      <td>225</td>\n",
       "      <td>169</td>\n",
       "      <td>214</td>\n",
       "    </tr>\n",
       "    <tr>\n",
       "      <th>2022-05-05</th>\n",
       "      <td>2813</td>\n",
       "      <td>Gangdong-gu Office</td>\n",
       "      <td>entry</td>\n",
       "      <td>110</td>\n",
       "      <td>158</td>\n",
       "      <td>200</td>\n",
       "      <td>387</td>\n",
       "      <td>490</td>\n",
       "      <td>426</td>\n",
       "      <td>505</td>\n",
       "      <td>...</td>\n",
       "      <td>405</td>\n",
       "      <td>361</td>\n",
       "      <td>292</td>\n",
       "      <td>367</td>\n",
       "      <td>279</td>\n",
       "      <td>199</td>\n",
       "      <td>179</td>\n",
       "      <td>143</td>\n",
       "      <td>125</td>\n",
       "      <td>43</td>\n",
       "    </tr>\n",
       "    <tr>\n",
       "      <th>2022-05-05</th>\n",
       "      <td>2813</td>\n",
       "      <td>Gangdong-gu Office</td>\n",
       "      <td>exit</td>\n",
       "      <td>31</td>\n",
       "      <td>115</td>\n",
       "      <td>122</td>\n",
       "      <td>193</td>\n",
       "      <td>217</td>\n",
       "      <td>196</td>\n",
       "      <td>258</td>\n",
       "      <td>...</td>\n",
       "      <td>348</td>\n",
       "      <td>346</td>\n",
       "      <td>452</td>\n",
       "      <td>535</td>\n",
       "      <td>505</td>\n",
       "      <td>390</td>\n",
       "      <td>352</td>\n",
       "      <td>372</td>\n",
       "      <td>295</td>\n",
       "      <td>211</td>\n",
       "    </tr>\n",
       "    <tr>\n",
       "      <th>2022-05-05</th>\n",
       "      <td>2824</td>\n",
       "      <td>Dandaeogeori</td>\n",
       "      <td>exit</td>\n",
       "      <td>63</td>\n",
       "      <td>161</td>\n",
       "      <td>127</td>\n",
       "      <td>149</td>\n",
       "      <td>188</td>\n",
       "      <td>218</td>\n",
       "      <td>250</td>\n",
       "      <td>...</td>\n",
       "      <td>324</td>\n",
       "      <td>461</td>\n",
       "      <td>541</td>\n",
       "      <td>644</td>\n",
       "      <td>606</td>\n",
       "      <td>505</td>\n",
       "      <td>515</td>\n",
       "      <td>609</td>\n",
       "      <td>457</td>\n",
       "      <td>420</td>\n",
       "    </tr>\n",
       "    <tr>\n",
       "      <th>2022-05-05</th>\n",
       "      <td>2824</td>\n",
       "      <td>Dandaeogeori</td>\n",
       "      <td>entry</td>\n",
       "      <td>223</td>\n",
       "      <td>287</td>\n",
       "      <td>351</td>\n",
       "      <td>512</td>\n",
       "      <td>611</td>\n",
       "      <td>708</td>\n",
       "      <td>630</td>\n",
       "      <td>...</td>\n",
       "      <td>512</td>\n",
       "      <td>403</td>\n",
       "      <td>433</td>\n",
       "      <td>343</td>\n",
       "      <td>327</td>\n",
       "      <td>215</td>\n",
       "      <td>177</td>\n",
       "      <td>145</td>\n",
       "      <td>97</td>\n",
       "      <td>46</td>\n",
       "    </tr>\n",
       "    <tr>\n",
       "      <th>2022-05-05</th>\n",
       "      <td>2812</td>\n",
       "      <td>Cheonho(Pungnaptoseong)</td>\n",
       "      <td>entry</td>\n",
       "      <td>282</td>\n",
       "      <td>275</td>\n",
       "      <td>367</td>\n",
       "      <td>523</td>\n",
       "      <td>645</td>\n",
       "      <td>589</td>\n",
       "      <td>580</td>\n",
       "      <td>...</td>\n",
       "      <td>682</td>\n",
       "      <td>740</td>\n",
       "      <td>744</td>\n",
       "      <td>775</td>\n",
       "      <td>609</td>\n",
       "      <td>584</td>\n",
       "      <td>540</td>\n",
       "      <td>448</td>\n",
       "      <td>351</td>\n",
       "      <td>137</td>\n",
       "    </tr>\n",
       "    <tr>\n",
       "      <th>2022-05-05</th>\n",
       "      <td>2812</td>\n",
       "      <td>Cheonho(Pungnaptoseong)</td>\n",
       "      <td>exit</td>\n",
       "      <td>44</td>\n",
       "      <td>322</td>\n",
       "      <td>224</td>\n",
       "      <td>274</td>\n",
       "      <td>509</td>\n",
       "      <td>528</td>\n",
       "      <td>642</td>\n",
       "      <td>...</td>\n",
       "      <td>837</td>\n",
       "      <td>967</td>\n",
       "      <td>1006</td>\n",
       "      <td>1130</td>\n",
       "      <td>1024</td>\n",
       "      <td>852</td>\n",
       "      <td>714</td>\n",
       "      <td>741</td>\n",
       "      <td>534</td>\n",
       "      <td>412</td>\n",
       "    </tr>\n",
       "    <tr>\n",
       "      <th>2022-05-05</th>\n",
       "      <td>2821</td>\n",
       "      <td>Bokjeong</td>\n",
       "      <td>exit</td>\n",
       "      <td>85</td>\n",
       "      <td>259</td>\n",
       "      <td>214</td>\n",
       "      <td>348</td>\n",
       "      <td>280</td>\n",
       "      <td>214</td>\n",
       "      <td>189</td>\n",
       "      <td>...</td>\n",
       "      <td>210</td>\n",
       "      <td>244</td>\n",
       "      <td>294</td>\n",
       "      <td>287</td>\n",
       "      <td>313</td>\n",
       "      <td>263</td>\n",
       "      <td>293</td>\n",
       "      <td>365</td>\n",
       "      <td>295</td>\n",
       "      <td>153</td>\n",
       "    </tr>\n",
       "    <tr>\n",
       "      <th>2022-05-05</th>\n",
       "      <td>2821</td>\n",
       "      <td>Bokjeong</td>\n",
       "      <td>entry</td>\n",
       "      <td>184</td>\n",
       "      <td>156</td>\n",
       "      <td>205</td>\n",
       "      <td>318</td>\n",
       "      <td>378</td>\n",
       "      <td>551</td>\n",
       "      <td>513</td>\n",
       "      <td>...</td>\n",
       "      <td>362</td>\n",
       "      <td>320</td>\n",
       "      <td>370</td>\n",
       "      <td>330</td>\n",
       "      <td>327</td>\n",
       "      <td>221</td>\n",
       "      <td>164</td>\n",
       "      <td>193</td>\n",
       "      <td>116</td>\n",
       "      <td>55</td>\n",
       "    </tr>\n",
       "    <tr>\n",
       "      <th>2022-05-05</th>\n",
       "      <td>2811</td>\n",
       "      <td>Amsa</td>\n",
       "      <td>entry</td>\n",
       "      <td>333</td>\n",
       "      <td>387</td>\n",
       "      <td>538</td>\n",
       "      <td>783</td>\n",
       "      <td>982</td>\n",
       "      <td>950</td>\n",
       "      <td>1016</td>\n",
       "      <td>...</td>\n",
       "      <td>731</td>\n",
       "      <td>737</td>\n",
       "      <td>679</td>\n",
       "      <td>582</td>\n",
       "      <td>480</td>\n",
       "      <td>376</td>\n",
       "      <td>332</td>\n",
       "      <td>250</td>\n",
       "      <td>158</td>\n",
       "      <td>61</td>\n",
       "    </tr>\n",
       "    <tr>\n",
       "      <th>2022-05-05</th>\n",
       "      <td>2811</td>\n",
       "      <td>Amsa</td>\n",
       "      <td>exit</td>\n",
       "      <td>39</td>\n",
       "      <td>190</td>\n",
       "      <td>193</td>\n",
       "      <td>289</td>\n",
       "      <td>324</td>\n",
       "      <td>341</td>\n",
       "      <td>350</td>\n",
       "      <td>...</td>\n",
       "      <td>585</td>\n",
       "      <td>656</td>\n",
       "      <td>773</td>\n",
       "      <td>951</td>\n",
       "      <td>991</td>\n",
       "      <td>769</td>\n",
       "      <td>732</td>\n",
       "      <td>737</td>\n",
       "      <td>663</td>\n",
       "      <td>519</td>\n",
       "    </tr>\n",
       "  </tbody>\n",
       "</table>\n",
       "<p>36 rows × 22 columns</p>\n",
       "</div>"
      ],
      "text/plain": [
       "            station_number                       station_name entry/exit   06  \\\n",
       "date                                                                            \n",
       "2022-05-05            2823                   남한산성입구(성남법원.검찰청)      entry  242   \n",
       "2022-05-05            2823                   남한산성입구(성남법원.검찰청)       exit   44   \n",
       "2022-05-05            2826                              Sujin      entry  100   \n",
       "2022-05-05            2826                              Sujin       exit   16   \n",
       "2022-05-05            2817                             Songpa      entry   62   \n",
       "2022-05-05            2817                             Songpa       exit   14   \n",
       "2022-05-05            2825                           Sinheung      entry   90   \n",
       "2022-05-05            2825                           Sinheung       exit   16   \n",
       "2022-05-05            2816                           Seokchon      entry   74   \n",
       "2022-05-05            2816                           Seokchon       exit   19   \n",
       "2022-05-05            2822                           Sanseong      entry   86   \n",
       "2022-05-05            2822                           Sanseong       exit   25   \n",
       "2022-05-05            2828                           Namwirye      entry   26   \n",
       "2022-05-05            2828                           Namwirye       exit   17   \n",
       "2022-05-05            2819                           Munjeong      entry   45   \n",
       "2022-05-05            2819                           Munjeong       exit   54   \n",
       "2022-05-05            2827                              Moran      entry   78   \n",
       "2022-05-05            2827                              Moran       exit   17   \n",
       "2022-05-05            2814  Mongchontoseong(World Peace Gate)      entry   44   \n",
       "2022-05-05            2814  Mongchontoseong(World Peace Gate)       exit   26   \n",
       "2022-05-05            2820                             Jangji       exit   66   \n",
       "2022-05-05            2820                             Jangji      entry  188   \n",
       "2022-05-05            2815           Jamsil(Songpa-gu Office)      entry   48   \n",
       "2022-05-05            2815           Jamsil(Songpa-gu Office)       exit   40   \n",
       "2022-05-05            2818                       Garak Market      entry  100   \n",
       "2022-05-05            2818                       Garak Market       exit   64   \n",
       "2022-05-05            2813                 Gangdong-gu Office      entry  110   \n",
       "2022-05-05            2813                 Gangdong-gu Office       exit   31   \n",
       "2022-05-05            2824                       Dandaeogeori       exit   63   \n",
       "2022-05-05            2824                       Dandaeogeori      entry  223   \n",
       "2022-05-05            2812            Cheonho(Pungnaptoseong)      entry  282   \n",
       "2022-05-05            2812            Cheonho(Pungnaptoseong)       exit   44   \n",
       "2022-05-05            2821                           Bokjeong       exit   85   \n",
       "2022-05-05            2821                           Bokjeong      entry  184   \n",
       "2022-05-05            2811                               Amsa      entry  333   \n",
       "2022-05-05            2811                               Amsa       exit   39   \n",
       "\n",
       "             07   08   09    10    11    12  ...    15    16    17    18  \\\n",
       "date                                         ...                           \n",
       "2022-05-05  363  423  717   795   787   830  ...   615   545   500   440   \n",
       "2022-05-05  136  153  219   274   339   319  ...   406   439   564   619   \n",
       "2022-05-05  123  162  264   293   287   298  ...   263   251   259   218   \n",
       "2022-05-05   75   61   79    88   130   130  ...   222   210   230   245   \n",
       "2022-05-05  125  166  293   351   448   454  ...   353   342   366   330   \n",
       "2022-05-05  116   76  153   167   177   202  ...   332   359   375   427   \n",
       "2022-05-05   80   86  179   237   236   282  ...   268   212   232   272   \n",
       "2022-05-05   91   69   91   111   136   167  ...   247   257   324   314   \n",
       "2022-05-05  123  152  192   314   300   304  ...   358   352   358   382   \n",
       "2022-05-05   88  132  180   257   276   484  ...   454   448   545   551   \n",
       "2022-05-05  108  134  229   277   329   329  ...   305   245   315   266   \n",
       "2022-05-05  110   77  110   196   289   232  ...   197   202   246   249   \n",
       "2022-05-05   46   92  161   167   245   268  ...   207   200   204   222   \n",
       "2022-05-05   44   68   85   147   127   156  ...   234   246   269   240   \n",
       "2022-05-05  123  178  270   387   362   399  ...   493   488   542   495   \n",
       "2022-05-05  205  273  299   401   357   344  ...   330   393   414   525   \n",
       "2022-05-05   50   82  142   179   229   245  ...   303   258   270   251   \n",
       "2022-05-05  108   92  117   139   146   163  ...   198   195   216   262   \n",
       "2022-05-05   76  103  175   209   205   239  ...   362   414   487   358   \n",
       "2022-05-05  140  109  147   241   260   393  ...   319   332   318   279   \n",
       "2022-05-05  233  368  459   631   656   685  ...   975   975   842   833   \n",
       "2022-05-05  253  308  486   554   594   676  ...   772   840   974  1008   \n",
       "2022-05-05  109   91  175   197   264   424  ...   920  1188  1243  1359   \n",
       "2022-05-05  206  351  692  1116  1148  1501  ...  1373  1375  1216  1071   \n",
       "2022-05-05  160  203  217   237   330   338  ...   355   311   279   288   \n",
       "2022-05-05  191  218  283   314   256   259  ...   299   287   355   373   \n",
       "2022-05-05  158  200  387   490   426   505  ...   405   361   292   367   \n",
       "2022-05-05  115  122  193   217   196   258  ...   348   346   452   535   \n",
       "2022-05-05  161  127  149   188   218   250  ...   324   461   541   644   \n",
       "2022-05-05  287  351  512   611   708   630  ...   512   403   433   343   \n",
       "2022-05-05  275  367  523   645   589   580  ...   682   740   744   775   \n",
       "2022-05-05  322  224  274   509   528   642  ...   837   967  1006  1130   \n",
       "2022-05-05  259  214  348   280   214   189  ...   210   244   294   287   \n",
       "2022-05-05  156  205  318   378   551   513  ...   362   320   370   330   \n",
       "2022-05-05  387  538  783   982   950  1016  ...   731   737   679   582   \n",
       "2022-05-05  190  193  289   324   341   350  ...   585   656   773   951   \n",
       "\n",
       "              19    20    21    22   23   24  \n",
       "date                                          \n",
       "2022-05-05   387   252   185   141  104   39  \n",
       "2022-05-05   633   628   631   725  682  453  \n",
       "2022-05-05   178   139   113    90   62   14  \n",
       "2022-05-05   279   231   184   221  223  142  \n",
       "2022-05-05   234   185   151   122   91   34  \n",
       "2022-05-05   374   326   308   285  264  179  \n",
       "2022-05-05   161   140   151   108   86   37  \n",
       "2022-05-05   337   272   244   236  200  123  \n",
       "2022-05-05   337   260   265   298  202   85  \n",
       "2022-05-05   464   413   317   358  230  184  \n",
       "2022-05-05   219   134    81    50   38   22  \n",
       "2022-05-05   287   259   270   298  249  176  \n",
       "2022-05-05   215   121   147   118   95   39  \n",
       "2022-05-05   293   220   189   167  168  137  \n",
       "2022-05-05   344   335   350   333  241   99  \n",
       "2022-05-05   475   308   331   390  302  182  \n",
       "2022-05-05   223   162   155   129  114   73  \n",
       "2022-05-05   238   175   141   171  115  100  \n",
       "2022-05-05   342   255   226   231  133   75  \n",
       "2022-05-05   261   201   191   161  175   90  \n",
       "2022-05-05   820   612   536   502  509  286  \n",
       "2022-05-05   870   729   830   561  299   83  \n",
       "2022-05-05  1395  1050  1288  1285  947  270  \n",
       "2022-05-05   801   521   376   251  188  119  \n",
       "2022-05-05   233   279   230   209  183   85  \n",
       "2022-05-05   370   293   330   225  169  214  \n",
       "2022-05-05   279   199   179   143  125   43  \n",
       "2022-05-05   505   390   352   372  295  211  \n",
       "2022-05-05   606   505   515   609  457  420  \n",
       "2022-05-05   327   215   177   145   97   46  \n",
       "2022-05-05   609   584   540   448  351  137  \n",
       "2022-05-05  1024   852   714   741  534  412  \n",
       "2022-05-05   313   263   293   365  295  153  \n",
       "2022-05-05   327   221   164   193  116   55  \n",
       "2022-05-05   480   376   332   250  158   61  \n",
       "2022-05-05   991   769   732   737  663  519  \n",
       "\n",
       "[36 rows x 22 columns]"
      ]
     },
     "execution_count": 217,
     "metadata": {},
     "output_type": "execute_result"
    }
   ],
   "source": [
    "test = data_8\n",
    "test.rename(columns={'06-07':'07', '07-08':'08', '08-09':'09', '09-10':'10', '10-11':'11',\n",
    "                '11-12':'12', '12-13':'13', '13-14':'14', '14-15':'15', '15-16':'16',\n",
    "                '16-17':'17', '17-18':'18', '18-19':'19', '19-20':'20', '20-21':'21',\n",
    "                '21-22':'22', '22-23':'23', '23-24':'24'}, inplace=True)\n",
    "test[test.index == '2022-05-05']\n"
   ]
  },
  {
   "cell_type": "code",
   "execution_count": null,
   "metadata": {},
   "outputs": [],
   "source": []
  }
 ],
 "metadata": {
  "kernelspec": {
   "display_name": "metro_seoul",
   "language": "python",
   "name": "python3"
  },
  "language_info": {
   "codemirror_mode": {
    "name": "ipython",
    "version": 3
   },
   "file_extension": ".py",
   "mimetype": "text/x-python",
   "name": "python",
   "nbconvert_exporter": "python",
   "pygments_lexer": "ipython3",
   "version": "3.10.6"
  }
 },
 "nbformat": 4,
 "nbformat_minor": 2
}
