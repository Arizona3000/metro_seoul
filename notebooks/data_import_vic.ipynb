{
 "cells": [
  {
   "cell_type": "markdown",
   "metadata": {},
   "source": [
    "## Imports"
   ]
  },
  {
   "cell_type": "code",
   "execution_count": 72,
   "metadata": {},
   "outputs": [],
   "source": [
    "import pandas as pd\n",
    "import numpy as np\n",
    "import matplotlib.pyplot as plt\n",
    "import seaborn as sns\n"
   ]
  },
  {
   "cell_type": "markdown",
   "metadata": {},
   "source": [
    "## Data"
   ]
  },
  {
   "cell_type": "markdown",
   "metadata": {},
   "source": [
    "### Crowding"
   ]
  },
  {
   "cell_type": "code",
   "execution_count": 90,
   "metadata": {},
   "outputs": [
    {
     "name": "stderr",
     "output_type": "stream",
     "text": [
      "/var/folders/hk/msc7vpvd23n4fn3ktyxcpm2w0000gn/T/ipykernel_7370/1478622713.py:2: DtypeWarning: Columns (3) have mixed types. Specify dtype option on import or set low_memory=False.\n",
      "  crowd2022 = pd.read_csv('/Users/victor/code/Arizona3000/metro_project/data/metro_crowding/서울교통공사_역별 일별 시간대별 승하차인원 정보_20221231 (1).csv', encoding='euc_kr')\n"
     ]
    }
   ],
   "source": [
    "crowd2023 = pd.read_csv('/Users/victor/code/Arizona3000/metro_project/data/metro_crowding/서울교통공사_역별 일별 시간대별 승하차인원_20230630 (2).csv', encoding='euc_kr')\n",
    "crowd2022 = pd.read_csv('/Users/victor/code/Arizona3000/metro_project/data/metro_crowding/서울교통공사_역별 일별 시간대별 승하차인원 정보_20221231 (1).csv', encoding='euc_kr')\n",
    "crowd2021 = pd.read_csv('/Users/victor/code/Arizona3000/metro_project/data/metro_crowding/서울교통공사 2021년 일별 역별 시간대별 승하차인원(1_8호선).csv', encoding='euc_kr')\n",
    "crowd2020 = pd.read_csv('/Users/victor/code/Arizona3000/metro_project/data/metro_crowding/서울교통공사 2020년 일별 역별 시간대별 승하차인원(1_8호선).csv', encoding='euc_kr')\n",
    "#crowd2019 = pd.read_csv('/Users/victor/code/Arizona3000/metro_project/data/metro_crowding/서울교통공사 2019년 일별 역별 시간대별 승하차인원(1_8호선).xlsx', encoding='utf-8')\n"
   ]
  },
  {
   "cell_type": "markdown",
   "metadata": {},
   "source": [
    "### Translate"
   ]
  },
  {
   "cell_type": "code",
   "execution_count": 74,
   "metadata": {},
   "outputs": [
    {
     "ename": "UnicodeDecodeError",
     "evalue": "'euc_kr' codec can't decode byte 0xee in position 15: illegal multibyte sequence",
     "output_type": "error",
     "traceback": [
      "\u001b[0;31m---------------------------------------------------------------------------\u001b[0m",
      "\u001b[0;31mUnicodeDecodeError\u001b[0m                        Traceback (most recent call last)",
      "\u001b[1;32m/Users/victor/code/Arizona3000/metro_project/data_import.ipynb Cell 7\u001b[0m line \u001b[0;36m1\n\u001b[0;32m----> <a href='vscode-notebook-cell:/Users/victor/code/Arizona3000/metro_project/data_import.ipynb#X11sZmlsZQ%3D%3D?line=0'>1</a>\u001b[0m translate \u001b[39m=\u001b[39m pd\u001b[39m.\u001b[39;49mread_csv(\u001b[39m'\u001b[39;49m\u001b[39mdata/translate/translate2.xlsx\u001b[39;49m\u001b[39m'\u001b[39;49m, encoding\u001b[39m=\u001b[39;49m\u001b[39m'\u001b[39;49m\u001b[39meuc_kr\u001b[39;49m\u001b[39m'\u001b[39;49m)\n",
      "File \u001b[0;32m~/.pyenv/versions/3.10.6/envs/lewagon/lib/python3.10/site-packages/pandas/util/_decorators.py:311\u001b[0m, in \u001b[0;36mdeprecate_nonkeyword_arguments.<locals>.decorate.<locals>.wrapper\u001b[0;34m(*args, **kwargs)\u001b[0m\n\u001b[1;32m    305\u001b[0m \u001b[39mif\u001b[39;00m \u001b[39mlen\u001b[39m(args) \u001b[39m>\u001b[39m num_allow_args:\n\u001b[1;32m    306\u001b[0m     warnings\u001b[39m.\u001b[39mwarn(\n\u001b[1;32m    307\u001b[0m         msg\u001b[39m.\u001b[39mformat(arguments\u001b[39m=\u001b[39marguments),\n\u001b[1;32m    308\u001b[0m         \u001b[39mFutureWarning\u001b[39;00m,\n\u001b[1;32m    309\u001b[0m         stacklevel\u001b[39m=\u001b[39mstacklevel,\n\u001b[1;32m    310\u001b[0m     )\n\u001b[0;32m--> 311\u001b[0m \u001b[39mreturn\u001b[39;00m func(\u001b[39m*\u001b[39;49margs, \u001b[39m*\u001b[39;49m\u001b[39m*\u001b[39;49mkwargs)\n",
      "File \u001b[0;32m~/.pyenv/versions/3.10.6/envs/lewagon/lib/python3.10/site-packages/pandas/io/parsers/readers.py:678\u001b[0m, in \u001b[0;36mread_csv\u001b[0;34m(filepath_or_buffer, sep, delimiter, header, names, index_col, usecols, squeeze, prefix, mangle_dupe_cols, dtype, engine, converters, true_values, false_values, skipinitialspace, skiprows, skipfooter, nrows, na_values, keep_default_na, na_filter, verbose, skip_blank_lines, parse_dates, infer_datetime_format, keep_date_col, date_parser, dayfirst, cache_dates, iterator, chunksize, compression, thousands, decimal, lineterminator, quotechar, quoting, doublequote, escapechar, comment, encoding, encoding_errors, dialect, error_bad_lines, warn_bad_lines, on_bad_lines, delim_whitespace, low_memory, memory_map, float_precision, storage_options)\u001b[0m\n\u001b[1;32m    663\u001b[0m kwds_defaults \u001b[39m=\u001b[39m _refine_defaults_read(\n\u001b[1;32m    664\u001b[0m     dialect,\n\u001b[1;32m    665\u001b[0m     delimiter,\n\u001b[0;32m   (...)\u001b[0m\n\u001b[1;32m    674\u001b[0m     defaults\u001b[39m=\u001b[39m{\u001b[39m\"\u001b[39m\u001b[39mdelimiter\u001b[39m\u001b[39m\"\u001b[39m: \u001b[39m\"\u001b[39m\u001b[39m,\u001b[39m\u001b[39m\"\u001b[39m},\n\u001b[1;32m    675\u001b[0m )\n\u001b[1;32m    676\u001b[0m kwds\u001b[39m.\u001b[39mupdate(kwds_defaults)\n\u001b[0;32m--> 678\u001b[0m \u001b[39mreturn\u001b[39;00m _read(filepath_or_buffer, kwds)\n",
      "File \u001b[0;32m~/.pyenv/versions/3.10.6/envs/lewagon/lib/python3.10/site-packages/pandas/io/parsers/readers.py:575\u001b[0m, in \u001b[0;36m_read\u001b[0;34m(filepath_or_buffer, kwds)\u001b[0m\n\u001b[1;32m    572\u001b[0m _validate_names(kwds\u001b[39m.\u001b[39mget(\u001b[39m\"\u001b[39m\u001b[39mnames\u001b[39m\u001b[39m\"\u001b[39m, \u001b[39mNone\u001b[39;00m))\n\u001b[1;32m    574\u001b[0m \u001b[39m# Create the parser.\u001b[39;00m\n\u001b[0;32m--> 575\u001b[0m parser \u001b[39m=\u001b[39m TextFileReader(filepath_or_buffer, \u001b[39m*\u001b[39;49m\u001b[39m*\u001b[39;49mkwds)\n\u001b[1;32m    577\u001b[0m \u001b[39mif\u001b[39;00m chunksize \u001b[39mor\u001b[39;00m iterator:\n\u001b[1;32m    578\u001b[0m     \u001b[39mreturn\u001b[39;00m parser\n",
      "File \u001b[0;32m~/.pyenv/versions/3.10.6/envs/lewagon/lib/python3.10/site-packages/pandas/io/parsers/readers.py:932\u001b[0m, in \u001b[0;36mTextFileReader.__init__\u001b[0;34m(self, f, engine, **kwds)\u001b[0m\n\u001b[1;32m    929\u001b[0m     \u001b[39mself\u001b[39m\u001b[39m.\u001b[39moptions[\u001b[39m\"\u001b[39m\u001b[39mhas_index_names\u001b[39m\u001b[39m\"\u001b[39m] \u001b[39m=\u001b[39m kwds[\u001b[39m\"\u001b[39m\u001b[39mhas_index_names\u001b[39m\u001b[39m\"\u001b[39m]\n\u001b[1;32m    931\u001b[0m \u001b[39mself\u001b[39m\u001b[39m.\u001b[39mhandles: IOHandles \u001b[39m|\u001b[39m \u001b[39mNone\u001b[39;00m \u001b[39m=\u001b[39m \u001b[39mNone\u001b[39;00m\n\u001b[0;32m--> 932\u001b[0m \u001b[39mself\u001b[39m\u001b[39m.\u001b[39m_engine \u001b[39m=\u001b[39m \u001b[39mself\u001b[39;49m\u001b[39m.\u001b[39;49m_make_engine(f, \u001b[39mself\u001b[39;49m\u001b[39m.\u001b[39;49mengine)\n",
      "File \u001b[0;32m~/.pyenv/versions/3.10.6/envs/lewagon/lib/python3.10/site-packages/pandas/io/parsers/readers.py:1234\u001b[0m, in \u001b[0;36mTextFileReader._make_engine\u001b[0;34m(self, f, engine)\u001b[0m\n\u001b[1;32m   1231\u001b[0m     \u001b[39mraise\u001b[39;00m \u001b[39mValueError\u001b[39;00m(msg)\n\u001b[1;32m   1233\u001b[0m \u001b[39mtry\u001b[39;00m:\n\u001b[0;32m-> 1234\u001b[0m     \u001b[39mreturn\u001b[39;00m mapping[engine](f, \u001b[39m*\u001b[39;49m\u001b[39m*\u001b[39;49m\u001b[39mself\u001b[39;49m\u001b[39m.\u001b[39;49moptions)\n\u001b[1;32m   1235\u001b[0m \u001b[39mexcept\u001b[39;00m \u001b[39mException\u001b[39;00m:\n\u001b[1;32m   1236\u001b[0m     \u001b[39mif\u001b[39;00m \u001b[39mself\u001b[39m\u001b[39m.\u001b[39mhandles \u001b[39mis\u001b[39;00m \u001b[39mnot\u001b[39;00m \u001b[39mNone\u001b[39;00m:\n",
      "File \u001b[0;32m~/.pyenv/versions/3.10.6/envs/lewagon/lib/python3.10/site-packages/pandas/io/parsers/c_parser_wrapper.py:75\u001b[0m, in \u001b[0;36mCParserWrapper.__init__\u001b[0;34m(self, src, **kwds)\u001b[0m\n\u001b[1;32m     72\u001b[0m     kwds\u001b[39m.\u001b[39mpop(key, \u001b[39mNone\u001b[39;00m)\n\u001b[1;32m     74\u001b[0m kwds[\u001b[39m\"\u001b[39m\u001b[39mdtype\u001b[39m\u001b[39m\"\u001b[39m] \u001b[39m=\u001b[39m ensure_dtype_objs(kwds\u001b[39m.\u001b[39mget(\u001b[39m\"\u001b[39m\u001b[39mdtype\u001b[39m\u001b[39m\"\u001b[39m, \u001b[39mNone\u001b[39;00m))\n\u001b[0;32m---> 75\u001b[0m \u001b[39mself\u001b[39m\u001b[39m.\u001b[39m_reader \u001b[39m=\u001b[39m parsers\u001b[39m.\u001b[39;49mTextReader(src, \u001b[39m*\u001b[39;49m\u001b[39m*\u001b[39;49mkwds)\n\u001b[1;32m     77\u001b[0m \u001b[39mself\u001b[39m\u001b[39m.\u001b[39munnamed_cols \u001b[39m=\u001b[39m \u001b[39mself\u001b[39m\u001b[39m.\u001b[39m_reader\u001b[39m.\u001b[39munnamed_cols\n\u001b[1;32m     79\u001b[0m \u001b[39m# error: Cannot determine type of 'names'\u001b[39;00m\n",
      "File \u001b[0;32m~/.pyenv/versions/3.10.6/envs/lewagon/lib/python3.10/site-packages/pandas/_libs/parsers.pyx:544\u001b[0m, in \u001b[0;36mpandas._libs.parsers.TextReader.__cinit__\u001b[0;34m()\u001b[0m\n",
      "File \u001b[0;32m~/.pyenv/versions/3.10.6/envs/lewagon/lib/python3.10/site-packages/pandas/_libs/parsers.pyx:633\u001b[0m, in \u001b[0;36mpandas._libs.parsers.TextReader._get_header\u001b[0;34m()\u001b[0m\n",
      "File \u001b[0;32m~/.pyenv/versions/3.10.6/envs/lewagon/lib/python3.10/site-packages/pandas/_libs/parsers.pyx:847\u001b[0m, in \u001b[0;36mpandas._libs.parsers.TextReader._tokenize_rows\u001b[0;34m()\u001b[0m\n",
      "File \u001b[0;32m~/.pyenv/versions/3.10.6/envs/lewagon/lib/python3.10/site-packages/pandas/_libs/parsers.pyx:1952\u001b[0m, in \u001b[0;36mpandas._libs.parsers.raise_parser_error\u001b[0;34m()\u001b[0m\n",
      "\u001b[0;31mUnicodeDecodeError\u001b[0m: 'euc_kr' codec can't decode byte 0xee in position 15: illegal multibyte sequence"
     ]
    }
   ],
   "source": [
    "translate = pd.read_csv('data/translate/translate2.xlsx', encoding='euc_kr')\n"
   ]
  },
  {
   "cell_type": "code",
   "execution_count": null,
   "metadata": {},
   "outputs": [
    {
     "data": {
      "text/html": [
       "<div>\n",
       "<style scoped>\n",
       "    .dataframe tbody tr th:only-of-type {\n",
       "        vertical-align: middle;\n",
       "    }\n",
       "\n",
       "    .dataframe tbody tr th {\n",
       "        vertical-align: top;\n",
       "    }\n",
       "\n",
       "    .dataframe thead th {\n",
       "        text-align: right;\n",
       "    }\n",
       "</style>\n",
       "<table border=\"1\" class=\"dataframe\">\n",
       "  <thead>\n",
       "    <tr style=\"text-align: right;\">\n",
       "      <th></th>\n",
       "      <th>\u0015Microsoft Office User                                 \u0015</th>\n",
       "    </tr>\n",
       "  </thead>\n",
       "  <tbody>\n",
       "  </tbody>\n",
       "</table>\n",
       "</div>"
      ],
      "text/plain": [
       "Empty DataFrame\n",
       "Columns: [\u0015Microsoft Office User                                 \u0015]\n",
       "Index: []"
      ]
     },
     "execution_count": 40,
     "metadata": {},
     "output_type": "execute_result"
    }
   ],
   "source": [
    "translate\n"
   ]
  },
  {
   "cell_type": "markdown",
   "metadata": {},
   "source": [
    "## Merge"
   ]
  },
  {
   "cell_type": "code",
   "execution_count": 91,
   "metadata": {},
   "outputs": [],
   "source": [
    "list_columns_name = ['id', 'date', 'line', 'station_number', 'station_name', 'entry/exit', '06', '06-07',\n",
    "       '07-08', '08-09', '09-10', '10-11', '11-12', '12-13',\n",
    "       '13-14', '14-15', '15-16', '16-17', '17-18', '18-19',\n",
    "       '19-20', '20-21', '21-22', '22-23', '23-24', '24']\n"
   ]
  },
  {
   "cell_type": "code",
   "execution_count": 92,
   "metadata": {},
   "outputs": [],
   "source": [
    "list_columns_name2 = ['date', 'line', 'station_number', 'station_name', 'entry/exit', '06', '06-07',\n",
    "       '07-08', '08-09', '09-10', '10-11', '11-12', '12-13',\n",
    "       '13-14', '14-15', '15-16', '16-17', '17-18', '18-19',\n",
    "       '19-20', '20-21', '21-22', '22-23', '23-24', '24']\n"
   ]
  },
  {
   "cell_type": "code",
   "execution_count": 93,
   "metadata": {},
   "outputs": [
    {
     "data": {
      "text/plain": [
       "25"
      ]
     },
     "execution_count": 93,
     "metadata": {},
     "output_type": "execute_result"
    }
   ],
   "source": [
    "len(list_columns_name2)\n"
   ]
  },
  {
   "cell_type": "code",
   "execution_count": 96,
   "metadata": {},
   "outputs": [
    {
     "data": {
      "text/plain": [
       "26"
      ]
     },
     "execution_count": 96,
     "metadata": {},
     "output_type": "execute_result"
    }
   ],
   "source": [
    "len(crowd2021.columns)\n"
   ]
  },
  {
   "cell_type": "code",
   "execution_count": 97,
   "metadata": {},
   "outputs": [],
   "source": [
    "crowd2023.columns = list_columns_name\n",
    "crowd2022.columns = list_columns_name\n",
    "crowd2021.columns = list_columns_name\n",
    "crowd2020.columns = list_columns_name2\n"
   ]
  },
  {
   "cell_type": "code",
   "execution_count": 102,
   "metadata": {},
   "outputs": [],
   "source": [
    "crowd2023.set_index('id', inplace=True)\n",
    "crowd2022.set_index('id', inplace=True)\n",
    "crowd2021.set_index('id', inplace=True)\n"
   ]
  },
  {
   "cell_type": "code",
   "execution_count": 103,
   "metadata": {},
   "outputs": [],
   "source": [
    "crowd2023_22 = pd.concat([crowd2023, crowd2022])\n"
   ]
  },
  {
   "cell_type": "code",
   "execution_count": 104,
   "metadata": {},
   "outputs": [],
   "source": [
    "crowd2023_21 = pd.concat([crowd2023_22, crowd2021])\n"
   ]
  },
  {
   "cell_type": "code",
   "execution_count": 106,
   "metadata": {},
   "outputs": [],
   "source": [
    "total_crowd = pd.concat([crowd2023_21, crowd2020])\n"
   ]
  },
  {
   "cell_type": "code",
   "execution_count": 109,
   "metadata": {},
   "outputs": [],
   "source": [
    "total_crowd.reset_index(inplace=True)\n"
   ]
  },
  {
   "cell_type": "code",
   "execution_count": 114,
   "metadata": {},
   "outputs": [
    {
     "data": {
      "text/plain": [
       "Index(['index', 'date', 'line', 'station_number', 'station_name', 'entry/exit',\n",
       "       '06', '06-07', '07-08', '08-09', '09-10', '10-11', '11-12', '12-13',\n",
       "       '13-14', '14-15', '15-16', '16-17', '17-18', '18-19', '19-20', '20-21',\n",
       "       '21-22', '22-23', '23-24', '24'],\n",
       "      dtype='object')"
      ]
     },
     "execution_count": 114,
     "metadata": {},
     "output_type": "execute_result"
    }
   ],
   "source": [
    "total_crowd.columns\n"
   ]
  },
  {
   "cell_type": "code",
   "execution_count": 115,
   "metadata": {},
   "outputs": [],
   "source": [
    "total_crowd.drop(['index'], inplace=True, axis=1)\n"
   ]
  },
  {
   "cell_type": "code",
   "execution_count": 116,
   "metadata": {},
   "outputs": [
    {
     "data": {
      "text/html": [
       "<div>\n",
       "<style scoped>\n",
       "    .dataframe tbody tr th:only-of-type {\n",
       "        vertical-align: middle;\n",
       "    }\n",
       "\n",
       "    .dataframe tbody tr th {\n",
       "        vertical-align: top;\n",
       "    }\n",
       "\n",
       "    .dataframe thead th {\n",
       "        text-align: right;\n",
       "    }\n",
       "</style>\n",
       "<table border=\"1\" class=\"dataframe\">\n",
       "  <thead>\n",
       "    <tr style=\"text-align: right;\">\n",
       "      <th></th>\n",
       "      <th>date</th>\n",
       "      <th>line</th>\n",
       "      <th>station_number</th>\n",
       "      <th>station_name</th>\n",
       "      <th>entry/exit</th>\n",
       "      <th>06</th>\n",
       "      <th>06-07</th>\n",
       "      <th>07-08</th>\n",
       "      <th>08-09</th>\n",
       "      <th>09-10</th>\n",
       "      <th>...</th>\n",
       "      <th>15-16</th>\n",
       "      <th>16-17</th>\n",
       "      <th>17-18</th>\n",
       "      <th>18-19</th>\n",
       "      <th>19-20</th>\n",
       "      <th>20-21</th>\n",
       "      <th>21-22</th>\n",
       "      <th>22-23</th>\n",
       "      <th>23-24</th>\n",
       "      <th>24</th>\n",
       "    </tr>\n",
       "  </thead>\n",
       "  <tbody>\n",
       "    <tr>\n",
       "      <th>0</th>\n",
       "      <td>2023-01-01</td>\n",
       "      <td>1호선</td>\n",
       "      <td>150</td>\n",
       "      <td>서울역</td>\n",
       "      <td>승차</td>\n",
       "      <td>215</td>\n",
       "      <td>145</td>\n",
       "      <td>231</td>\n",
       "      <td>594</td>\n",
       "      <td>923</td>\n",
       "      <td>...</td>\n",
       "      <td>2655</td>\n",
       "      <td>2509</td>\n",
       "      <td>2696</td>\n",
       "      <td>2549</td>\n",
       "      <td>2462</td>\n",
       "      <td>2177</td>\n",
       "      <td>2190</td>\n",
       "      <td>1808</td>\n",
       "      <td>734</td>\n",
       "      <td>7.0</td>\n",
       "    </tr>\n",
       "    <tr>\n",
       "      <th>1</th>\n",
       "      <td>2023-01-01</td>\n",
       "      <td>1호선</td>\n",
       "      <td>150</td>\n",
       "      <td>서울역</td>\n",
       "      <td>하차</td>\n",
       "      <td>154</td>\n",
       "      <td>636</td>\n",
       "      <td>595</td>\n",
       "      <td>939</td>\n",
       "      <td>1306</td>\n",
       "      <td>...</td>\n",
       "      <td>2282</td>\n",
       "      <td>2295</td>\n",
       "      <td>2526</td>\n",
       "      <td>1930</td>\n",
       "      <td>1897</td>\n",
       "      <td>1487</td>\n",
       "      <td>991</td>\n",
       "      <td>609</td>\n",
       "      <td>280</td>\n",
       "      <td>46.0</td>\n",
       "    </tr>\n",
       "    <tr>\n",
       "      <th>2</th>\n",
       "      <td>2023-01-01</td>\n",
       "      <td>1호선</td>\n",
       "      <td>151</td>\n",
       "      <td>시청</td>\n",
       "      <td>승차</td>\n",
       "      <td>48</td>\n",
       "      <td>73</td>\n",
       "      <td>106</td>\n",
       "      <td>194</td>\n",
       "      <td>239</td>\n",
       "      <td>...</td>\n",
       "      <td>843</td>\n",
       "      <td>895</td>\n",
       "      <td>959</td>\n",
       "      <td>985</td>\n",
       "      <td>670</td>\n",
       "      <td>630</td>\n",
       "      <td>515</td>\n",
       "      <td>330</td>\n",
       "      <td>146</td>\n",
       "      <td>0.0</td>\n",
       "    </tr>\n",
       "    <tr>\n",
       "      <th>3</th>\n",
       "      <td>2023-01-01</td>\n",
       "      <td>1호선</td>\n",
       "      <td>151</td>\n",
       "      <td>시청</td>\n",
       "      <td>하차</td>\n",
       "      <td>64</td>\n",
       "      <td>247</td>\n",
       "      <td>293</td>\n",
       "      <td>463</td>\n",
       "      <td>522</td>\n",
       "      <td>...</td>\n",
       "      <td>602</td>\n",
       "      <td>575</td>\n",
       "      <td>533</td>\n",
       "      <td>456</td>\n",
       "      <td>285</td>\n",
       "      <td>267</td>\n",
       "      <td>246</td>\n",
       "      <td>154</td>\n",
       "      <td>79</td>\n",
       "      <td>18.0</td>\n",
       "    </tr>\n",
       "    <tr>\n",
       "      <th>4</th>\n",
       "      <td>2023-01-01</td>\n",
       "      <td>1호선</td>\n",
       "      <td>152</td>\n",
       "      <td>종각</td>\n",
       "      <td>승차</td>\n",
       "      <td>407</td>\n",
       "      <td>235</td>\n",
       "      <td>158</td>\n",
       "      <td>201</td>\n",
       "      <td>188</td>\n",
       "      <td>...</td>\n",
       "      <td>1145</td>\n",
       "      <td>1402</td>\n",
       "      <td>1223</td>\n",
       "      <td>1272</td>\n",
       "      <td>911</td>\n",
       "      <td>913</td>\n",
       "      <td>906</td>\n",
       "      <td>602</td>\n",
       "      <td>232</td>\n",
       "      <td>3.0</td>\n",
       "    </tr>\n",
       "    <tr>\n",
       "      <th>...</th>\n",
       "      <td>...</td>\n",
       "      <td>...</td>\n",
       "      <td>...</td>\n",
       "      <td>...</td>\n",
       "      <td>...</td>\n",
       "      <td>...</td>\n",
       "      <td>...</td>\n",
       "      <td>...</td>\n",
       "      <td>...</td>\n",
       "      <td>...</td>\n",
       "      <td>...</td>\n",
       "      <td>...</td>\n",
       "      <td>...</td>\n",
       "      <td>...</td>\n",
       "      <td>...</td>\n",
       "      <td>...</td>\n",
       "      <td>...</td>\n",
       "      <td>...</td>\n",
       "      <td>...</td>\n",
       "      <td>...</td>\n",
       "      <td>...</td>\n",
       "    </tr>\n",
       "    <tr>\n",
       "      <th>704332</th>\n",
       "      <td>2020-12-31</td>\n",
       "      <td>8호선</td>\n",
       "      <td>2825</td>\n",
       "      <td>신흥</td>\n",
       "      <td>하차</td>\n",
       "      <td>31</td>\n",
       "      <td>95</td>\n",
       "      <td>78</td>\n",
       "      <td>211</td>\n",
       "      <td>145</td>\n",
       "      <td>...</td>\n",
       "      <td>341</td>\n",
       "      <td>341</td>\n",
       "      <td>381</td>\n",
       "      <td>428</td>\n",
       "      <td>292</td>\n",
       "      <td>229</td>\n",
       "      <td>219</td>\n",
       "      <td>85</td>\n",
       "      <td>42</td>\n",
       "      <td>0.0</td>\n",
       "    </tr>\n",
       "    <tr>\n",
       "      <th>704333</th>\n",
       "      <td>2020-12-31</td>\n",
       "      <td>8호선</td>\n",
       "      <td>2826</td>\n",
       "      <td>수진</td>\n",
       "      <td>승차</td>\n",
       "      <td>112</td>\n",
       "      <td>203</td>\n",
       "      <td>475</td>\n",
       "      <td>641</td>\n",
       "      <td>311</td>\n",
       "      <td>...</td>\n",
       "      <td>210</td>\n",
       "      <td>236</td>\n",
       "      <td>226</td>\n",
       "      <td>223</td>\n",
       "      <td>121</td>\n",
       "      <td>90</td>\n",
       "      <td>109</td>\n",
       "      <td>35</td>\n",
       "      <td>19</td>\n",
       "      <td>0.0</td>\n",
       "    </tr>\n",
       "    <tr>\n",
       "      <th>704334</th>\n",
       "      <td>2020-12-31</td>\n",
       "      <td>8호선</td>\n",
       "      <td>2826</td>\n",
       "      <td>수진</td>\n",
       "      <td>하차</td>\n",
       "      <td>15</td>\n",
       "      <td>70</td>\n",
       "      <td>92</td>\n",
       "      <td>227</td>\n",
       "      <td>190</td>\n",
       "      <td>...</td>\n",
       "      <td>296</td>\n",
       "      <td>309</td>\n",
       "      <td>300</td>\n",
       "      <td>372</td>\n",
       "      <td>296</td>\n",
       "      <td>232</td>\n",
       "      <td>202</td>\n",
       "      <td>127</td>\n",
       "      <td>45</td>\n",
       "      <td>0.0</td>\n",
       "    </tr>\n",
       "    <tr>\n",
       "      <th>704335</th>\n",
       "      <td>2020-12-31</td>\n",
       "      <td>8호선</td>\n",
       "      <td>2827</td>\n",
       "      <td>모란</td>\n",
       "      <td>승차</td>\n",
       "      <td>49</td>\n",
       "      <td>88</td>\n",
       "      <td>246</td>\n",
       "      <td>314</td>\n",
       "      <td>176</td>\n",
       "      <td>...</td>\n",
       "      <td>282</td>\n",
       "      <td>234</td>\n",
       "      <td>261</td>\n",
       "      <td>282</td>\n",
       "      <td>140</td>\n",
       "      <td>86</td>\n",
       "      <td>112</td>\n",
       "      <td>45</td>\n",
       "      <td>6</td>\n",
       "      <td>0.0</td>\n",
       "    </tr>\n",
       "    <tr>\n",
       "      <th>704336</th>\n",
       "      <td>2020-12-31</td>\n",
       "      <td>8호선</td>\n",
       "      <td>2827</td>\n",
       "      <td>모란</td>\n",
       "      <td>하차</td>\n",
       "      <td>15</td>\n",
       "      <td>59</td>\n",
       "      <td>111</td>\n",
       "      <td>181</td>\n",
       "      <td>142</td>\n",
       "      <td>...</td>\n",
       "      <td>163</td>\n",
       "      <td>183</td>\n",
       "      <td>228</td>\n",
       "      <td>183</td>\n",
       "      <td>162</td>\n",
       "      <td>71</td>\n",
       "      <td>99</td>\n",
       "      <td>39</td>\n",
       "      <td>25</td>\n",
       "      <td>3.0</td>\n",
       "    </tr>\n",
       "  </tbody>\n",
       "</table>\n",
       "<p>704337 rows × 25 columns</p>\n",
       "</div>"
      ],
      "text/plain": [
       "              date line station_number station_name entry/exit   06  06-07  \\\n",
       "0       2023-01-01  1호선            150          서울역         승차  215    145   \n",
       "1       2023-01-01  1호선            150          서울역         하차  154    636   \n",
       "2       2023-01-01  1호선            151           시청         승차   48     73   \n",
       "3       2023-01-01  1호선            151           시청         하차   64    247   \n",
       "4       2023-01-01  1호선            152           종각         승차  407    235   \n",
       "...            ...  ...            ...          ...        ...  ...    ...   \n",
       "704332  2020-12-31  8호선           2825           신흥         하차   31     95   \n",
       "704333  2020-12-31  8호선           2826           수진         승차  112    203   \n",
       "704334  2020-12-31  8호선           2826           수진         하차   15     70   \n",
       "704335  2020-12-31  8호선           2827           모란         승차   49     88   \n",
       "704336  2020-12-31  8호선           2827           모란         하차   15     59   \n",
       "\n",
       "        07-08  08-09  09-10  ...  15-16  16-17  17-18  18-19  19-20  20-21  \\\n",
       "0         231    594    923  ...   2655   2509   2696   2549   2462   2177   \n",
       "1         595    939   1306  ...   2282   2295   2526   1930   1897   1487   \n",
       "2         106    194    239  ...    843    895    959    985    670    630   \n",
       "3         293    463    522  ...    602    575    533    456    285    267   \n",
       "4         158    201    188  ...   1145   1402   1223   1272    911    913   \n",
       "...       ...    ...    ...  ...    ...    ...    ...    ...    ...    ...   \n",
       "704332     78    211    145  ...    341    341    381    428    292    229   \n",
       "704333    475    641    311  ...    210    236    226    223    121     90   \n",
       "704334     92    227    190  ...    296    309    300    372    296    232   \n",
       "704335    246    314    176  ...    282    234    261    282    140     86   \n",
       "704336    111    181    142  ...    163    183    228    183    162     71   \n",
       "\n",
       "        21-22  22-23  23-24    24  \n",
       "0        2190   1808    734   7.0  \n",
       "1         991    609    280  46.0  \n",
       "2         515    330    146   0.0  \n",
       "3         246    154     79  18.0  \n",
       "4         906    602    232   3.0  \n",
       "...       ...    ...    ...   ...  \n",
       "704332    219     85     42   0.0  \n",
       "704333    109     35     19   0.0  \n",
       "704334    202    127     45   0.0  \n",
       "704335    112     45      6   0.0  \n",
       "704336     99     39     25   3.0  \n",
       "\n",
       "[704337 rows x 25 columns]"
      ]
     },
     "execution_count": 116,
     "metadata": {},
     "output_type": "execute_result"
    }
   ],
   "source": [
    "total_crowd\n"
   ]
  },
  {
   "cell_type": "markdown",
   "metadata": {},
   "source": [
    "## Cleaning (translate, null etc..)"
   ]
  },
  {
   "cell_type": "code",
   "execution_count": null,
   "metadata": {},
   "outputs": [],
   "source": []
  },
  {
   "cell_type": "markdown",
   "metadata": {},
   "source": [
    "### Translate"
   ]
  },
  {
   "cell_type": "code",
   "execution_count": null,
   "metadata": {},
   "outputs": [],
   "source": []
  },
  {
   "cell_type": "markdown",
   "metadata": {},
   "source": []
  }
 ],
 "metadata": {
  "kernelspec": {
   "display_name": "lewagon",
   "language": "python",
   "name": "python3"
  },
  "language_info": {
   "codemirror_mode": {
    "name": "ipython",
    "version": 3
   },
   "file_extension": ".py",
   "mimetype": "text/x-python",
   "name": "python",
   "nbconvert_exporter": "python",
   "pygments_lexer": "ipython3",
   "version": "3.10.6"
  }
 },
 "nbformat": 4,
 "nbformat_minor": 2
}
