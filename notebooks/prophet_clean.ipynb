{
 "cells": [
  {
   "cell_type": "code",
   "execution_count": 41,
   "metadata": {},
   "outputs": [],
   "source": [
    "import pandas as pd\n",
    "#pip install prophet\n",
    "#pip install ipywidgets\n",
    "from prophet import Prophet\n",
    "import itertools\n",
    "import numpy as np\n",
    "\n",
    "# import sys\n",
    "# sys.path.append('/Users/thomas_metral/code/thomas-metral/metro_seoul')\n",
    "# print(sys.path)\n",
    "\n",
    "\n",
    "from prophet.plot import plot_plotly, plot_components_plotly\n",
    "from prophet.diagnostics import cross_validation\n",
    "from prophet.diagnostics import performance_metrics\n",
    "from prophet.plot import plot_cross_validation_metric\n",
    "import matplotlib.pyplot as plt\n",
    "import seaborn as sns\n",
    "from metro_app.ml_logic.preprocess import general_preprocessing, model_data_preprocessing, preprocess_lstm, prophet_preprocessing_one_station\n",
    "\n",
    "from metro_app.ml_logic.model import train_prophet, predict_prophet\n",
    "from sklearn.metrics import mean_absolute_percentage_error as mape\n",
    "from sklearn.metrics import mean_squared_error\n",
    "import datetime\n",
    "import plotly.express as px\n"
   ]
  },
  {
   "cell_type": "code",
   "execution_count": 24,
   "metadata": {},
   "outputs": [
    {
     "name": "stderr",
     "output_type": "stream",
     "text": [
      "/var/folders/zn/b4l6fdhd4fs52t3wxt1d7kn40000gn/T/ipykernel_64651/2845828255.py:1: DtypeWarning: Columns (3) have mixed types. Specify dtype option on import or set low_memory=False.\n",
      "  df = pd.read_csv('/Users/thomas_metral/code/thomas-metral/metro_seoul/raw_data/crowd2020-2023.csv')\n"
     ]
    }
   ],
   "source": [
    "df = pd.read_csv('/Users/thomas_metral/code/thomas-metral/metro_seoul/raw_data/crowd2020-2023.csv')\n"
   ]
  },
  {
   "cell_type": "markdown",
   "metadata": {},
   "source": [
    "## Multi station"
   ]
  },
  {
   "cell_type": "code",
   "execution_count": 7,
   "metadata": {},
   "outputs": [
    {
     "name": "stderr",
     "output_type": "stream",
     "text": [
      "/Users/thomas_metral/code/thomas-metral/metro_seoul/metro_app/ml_logic/preprocess.py:62: SettingWithCopyWarning: \n",
      "A value is trying to be set on a copy of a slice from a DataFrame.\n",
      "Try using .loc[row_indexer,col_indexer] = value instead\n",
      "\n",
      "See the caveats in the documentation: https://pandas.pydata.org/pandas-docs/stable/user_guide/indexing.html#returning-a-view-versus-a-copy\n",
      "  df['date'] = pd.to_datetime(df['date'])\n",
      "/Users/thomas_metral/code/thomas-metral/metro_seoul/metro_app/ml_logic/preprocess.py:63: SettingWithCopyWarning: \n",
      "A value is trying to be set on a copy of a slice from a DataFrame.\n",
      "Try using .loc[row_indexer,col_indexer] = value instead\n",
      "\n",
      "See the caveats in the documentation: https://pandas.pydata.org/pandas-docs/stable/user_guide/indexing.html#returning-a-view-versus-a-copy\n",
      "  df['line'] = df['line'].astype('int')\n"
     ]
    },
    {
     "data": {
      "text/html": [
       "<div>\n",
       "<style scoped>\n",
       "    .dataframe tbody tr th:only-of-type {\n",
       "        vertical-align: middle;\n",
       "    }\n",
       "\n",
       "    .dataframe tbody tr th {\n",
       "        vertical-align: top;\n",
       "    }\n",
       "\n",
       "    .dataframe thead th {\n",
       "        text-align: right;\n",
       "    }\n",
       "</style>\n",
       "<table border=\"1\" class=\"dataframe\">\n",
       "  <thead>\n",
       "    <tr style=\"text-align: right;\">\n",
       "      <th></th>\n",
       "      <th>datetime</th>\n",
       "      <th>station_name</th>\n",
       "      <th>station_number</th>\n",
       "      <th>line</th>\n",
       "      <th>value</th>\n",
       "    </tr>\n",
       "  </thead>\n",
       "  <tbody>\n",
       "    <tr>\n",
       "      <th>0</th>\n",
       "      <td>2020-01-01 01:00:00</td>\n",
       "      <td>Achasan(Rear Entrance to Seoul Children's Gran...</td>\n",
       "      <td>2546</td>\n",
       "      <td>5</td>\n",
       "      <td>0</td>\n",
       "    </tr>\n",
       "    <tr>\n",
       "      <th>1</th>\n",
       "      <td>2020-01-01 01:00:00</td>\n",
       "      <td>Aeogae</td>\n",
       "      <td>2531</td>\n",
       "      <td>5</td>\n",
       "      <td>0</td>\n",
       "    </tr>\n",
       "    <tr>\n",
       "      <th>2</th>\n",
       "      <td>2020-01-01 01:00:00</td>\n",
       "      <td>Ahyeon</td>\n",
       "      <td>242</td>\n",
       "      <td>2</td>\n",
       "      <td>0</td>\n",
       "    </tr>\n",
       "    <tr>\n",
       "      <th>3</th>\n",
       "      <td>2020-01-01 01:00:00</td>\n",
       "      <td>Amsa</td>\n",
       "      <td>2811</td>\n",
       "      <td>8</td>\n",
       "      <td>0</td>\n",
       "    </tr>\n",
       "    <tr>\n",
       "      <th>4</th>\n",
       "      <td>2020-01-01 01:00:00</td>\n",
       "      <td>Anam(Korea Univ. Hospital)</td>\n",
       "      <td>2640</td>\n",
       "      <td>6</td>\n",
       "      <td>0</td>\n",
       "    </tr>\n",
       "    <tr>\n",
       "      <th>...</th>\n",
       "      <td>...</td>\n",
       "      <td>...</td>\n",
       "      <td>...</td>\n",
       "      <td>...</td>\n",
       "      <td>...</td>\n",
       "    </tr>\n",
       "    <tr>\n",
       "      <th>8452123</th>\n",
       "      <td>2023-07-01 00:00:00</td>\n",
       "      <td>Yeouido</td>\n",
       "      <td>2527</td>\n",
       "      <td>5</td>\n",
       "      <td>0</td>\n",
       "    </tr>\n",
       "    <tr>\n",
       "      <th>8452124</th>\n",
       "      <td>2023-07-01 00:00:00</td>\n",
       "      <td>Yeouinaru</td>\n",
       "      <td>2528</td>\n",
       "      <td>5</td>\n",
       "      <td>0</td>\n",
       "    </tr>\n",
       "    <tr>\n",
       "      <th>8452125</th>\n",
       "      <td>2023-07-01 00:00:00</td>\n",
       "      <td>Yongdap</td>\n",
       "      <td>244</td>\n",
       "      <td>2</td>\n",
       "      <td>0</td>\n",
       "    </tr>\n",
       "    <tr>\n",
       "      <th>8452126</th>\n",
       "      <td>2023-07-01 00:00:00</td>\n",
       "      <td>Yongdu (Dongdaemun-gu Office)</td>\n",
       "      <td>250</td>\n",
       "      <td>2</td>\n",
       "      <td>0</td>\n",
       "    </tr>\n",
       "    <tr>\n",
       "      <th>8452127</th>\n",
       "      <td>2023-07-01 00:00:00</td>\n",
       "      <td>Yongmasan(Yongma Falls Park)</td>\n",
       "      <td>2725</td>\n",
       "      <td>7</td>\n",
       "      <td>0</td>\n",
       "    </tr>\n",
       "  </tbody>\n",
       "</table>\n",
       "<p>8452128 rows × 5 columns</p>\n",
       "</div>"
      ],
      "text/plain": [
       "                   datetime  \\\n",
       "0       2020-01-01 01:00:00   \n",
       "1       2020-01-01 01:00:00   \n",
       "2       2020-01-01 01:00:00   \n",
       "3       2020-01-01 01:00:00   \n",
       "4       2020-01-01 01:00:00   \n",
       "...                     ...   \n",
       "8452123 2023-07-01 00:00:00   \n",
       "8452124 2023-07-01 00:00:00   \n",
       "8452125 2023-07-01 00:00:00   \n",
       "8452126 2023-07-01 00:00:00   \n",
       "8452127 2023-07-01 00:00:00   \n",
       "\n",
       "                                              station_name station_number  \\\n",
       "0        Achasan(Rear Entrance to Seoul Children's Gran...           2546   \n",
       "1                                                   Aeogae           2531   \n",
       "2                                                   Ahyeon            242   \n",
       "3                                                     Amsa           2811   \n",
       "4                               Anam(Korea Univ. Hospital)           2640   \n",
       "...                                                    ...            ...   \n",
       "8452123                                            Yeouido           2527   \n",
       "8452124                                          Yeouinaru           2528   \n",
       "8452125                                            Yongdap            244   \n",
       "8452126                      Yongdu (Dongdaemun-gu Office)            250   \n",
       "8452127                       Yongmasan(Yongma Falls Park)           2725   \n",
       "\n",
       "         line  value  \n",
       "0           5      0  \n",
       "1           5      0  \n",
       "2           2      0  \n",
       "3           8      0  \n",
       "4           6      0  \n",
       "...       ...    ...  \n",
       "8452123     5      0  \n",
       "8452124     5      0  \n",
       "8452125     2      0  \n",
       "8452126     2      0  \n",
       "8452127     7      0  \n",
       "\n",
       "[8452128 rows x 5 columns]"
      ]
     },
     "execution_count": 7,
     "metadata": {},
     "output_type": "execute_result"
    }
   ],
   "source": [
    "df1 = general_preprocessing(df)\n",
    "df1 = model_data_preprocessing(df1)\n",
    "df1.reset_index(inplace=True)\n",
    "df1 = df1.groupby(['datetime', 'station_name', 'station_number', 'line'])['value'].sum().reset_index()\n",
    "df1\n"
   ]
  },
  {
   "cell_type": "code",
   "execution_count": 10,
   "metadata": {},
   "outputs": [
    {
     "name": "stdout",
     "output_type": "stream",
     "text": [
      "                         ds                       station_name station_number  \\\n",
      "61      2020-01-01 01:00:00  Dongjak (Seoul National Cemetery)            431   \n",
      "336     2020-01-01 02:00:00  Dongjak (Seoul National Cemetery)            431   \n",
      "611     2020-01-01 03:00:00  Dongjak (Seoul National Cemetery)            431   \n",
      "886     2020-01-01 04:00:00  Dongjak (Seoul National Cemetery)            431   \n",
      "1161    2020-01-01 05:00:00  Dongjak (Seoul National Cemetery)            431   \n",
      "...                     ...                                ...            ...   \n",
      "8450821 2023-06-30 20:00:00  Dongjak (Seoul National Cemetery)            431   \n",
      "8451094 2023-06-30 21:00:00  Dongjak (Seoul National Cemetery)            431   \n",
      "8451367 2023-06-30 22:00:00  Dongjak (Seoul National Cemetery)            431   \n",
      "8451640 2023-06-30 23:00:00  Dongjak (Seoul National Cemetery)            431   \n",
      "8451913 2023-07-01 00:00:00  Dongjak (Seoul National Cemetery)            431   \n",
      "\n",
      "         line    y  \n",
      "61          4    0  \n",
      "336         4    0  \n",
      "611         4    0  \n",
      "886         4    0  \n",
      "1161        4   17  \n",
      "...       ...  ...  \n",
      "8450821     4  230  \n",
      "8451094     4  168  \n",
      "8451367     4  134  \n",
      "8451640     4   75  \n",
      "8451913     4    0  \n",
      "\n",
      "[30648 rows x 5 columns]\n",
      "                         ds                       station_name station_number  \\\n",
      "5167642 2022-02-14 01:00:00  Dongjak (Seoul National Cemetery)            431   \n",
      "5167916 2022-02-14 02:00:00  Dongjak (Seoul National Cemetery)            431   \n",
      "5168190 2022-02-14 03:00:00  Dongjak (Seoul National Cemetery)            431   \n",
      "5168464 2022-02-14 04:00:00  Dongjak (Seoul National Cemetery)            431   \n",
      "5168738 2022-02-14 05:00:00  Dongjak (Seoul National Cemetery)            431   \n",
      "...                     ...                                ...            ...   \n",
      "8437745 2023-06-28 20:00:00  Dongjak (Seoul National Cemetery)            431   \n",
      "8438017 2023-06-28 21:00:00  Dongjak (Seoul National Cemetery)            431   \n",
      "8438289 2023-06-28 22:00:00  Dongjak (Seoul National Cemetery)            431   \n",
      "8438561 2023-06-28 23:00:00  Dongjak (Seoul National Cemetery)            431   \n",
      "8438833 2023-06-29 00:00:00  Dongjak (Seoul National Cemetery)            431   \n",
      "\n",
      "         line    y  is_morning_peak  is_afternoon_peak  is_closed  \n",
      "5167642     4    0                0                  0          1  \n",
      "5167916     4    0                0                  0          1  \n",
      "5168190     4    0                0                  0          1  \n",
      "5168464     4    0                0                  0          1  \n",
      "5168738     4   21                0                  0          0  \n",
      "...       ...  ...              ...                ...        ...  \n",
      "8437745     4  226                0                  0          0  \n",
      "8438017     4  145                0                  0          0  \n",
      "8438289     4  101                0                  0          0  \n",
      "8438561     4   46                0                  0          0  \n",
      "8438833     4    0                0                  0          1  \n",
      "\n",
      "[12000 rows x 8 columns]\n"
     ]
    },
    {
     "name": "stderr",
     "output_type": "stream",
     "text": [
      "16:01:33 - cmdstanpy - INFO - Chain [1] start processing\n",
      "16:01:35 - cmdstanpy - INFO - Chain [1] done processing\n"
     ]
    },
    {
     "name": "stdout",
     "output_type": "stream",
     "text": [
      "                         ds station_name station_number  line     y\n",
      "81      2020-01-01 01:00:00      Gangnam            222     2     0\n",
      "356     2020-01-01 02:00:00      Gangnam            222     2     0\n",
      "631     2020-01-01 03:00:00      Gangnam            222     2     0\n",
      "906     2020-01-01 04:00:00      Gangnam            222     2     0\n",
      "1181    2020-01-01 05:00:00      Gangnam            222     2  2043\n",
      "...                     ...          ...            ...   ...   ...\n",
      "8450842 2023-06-30 20:00:00      Gangnam            222     2  8938\n",
      "8451115 2023-06-30 21:00:00      Gangnam            222     2  9158\n",
      "8451388 2023-06-30 22:00:00      Gangnam            222     2  9845\n",
      "8451661 2023-06-30 23:00:00      Gangnam            222     2  6245\n",
      "8451934 2023-07-01 00:00:00      Gangnam            222     2     0\n",
      "\n",
      "[30648 rows x 5 columns]\n",
      "                         ds station_name station_number  line     y  \\\n",
      "5167663 2022-02-14 01:00:00      Gangnam            222     2     0   \n",
      "5167937 2022-02-14 02:00:00      Gangnam            222     2     0   \n",
      "5168211 2022-02-14 03:00:00      Gangnam            222     2     0   \n",
      "5168485 2022-02-14 04:00:00      Gangnam            222     2     0   \n",
      "5168759 2022-02-14 05:00:00      Gangnam            222     2   637   \n",
      "...                     ...          ...            ...   ...   ...   \n",
      "8437766 2023-06-28 20:00:00      Gangnam            222     2  8507   \n",
      "8438038 2023-06-28 21:00:00      Gangnam            222     2  9225   \n",
      "8438310 2023-06-28 22:00:00      Gangnam            222     2  8432   \n",
      "8438582 2023-06-28 23:00:00      Gangnam            222     2  3764   \n",
      "8438854 2023-06-29 00:00:00      Gangnam            222     2     0   \n",
      "\n",
      "         is_morning_peak  is_afternoon_peak  is_closed  \n",
      "5167663                0                  0          1  \n",
      "5167937                0                  0          1  \n",
      "5168211                0                  0          1  \n",
      "5168485                0                  0          1  \n",
      "5168759                0                  0          0  \n",
      "...                  ...                ...        ...  \n",
      "8437766                0                  0          0  \n",
      "8438038                0                  0          0  \n",
      "8438310                0                  0          0  \n",
      "8438582                0                  0          0  \n",
      "8438854                0                  0          1  \n",
      "\n",
      "[12000 rows x 8 columns]\n"
     ]
    },
    {
     "name": "stderr",
     "output_type": "stream",
     "text": [
      "16:01:35 - cmdstanpy - INFO - Chain [1] start processing\n",
      "16:01:36 - cmdstanpy - INFO - Chain [1] done processing\n"
     ]
    },
    {
     "name": "stdout",
     "output_type": "stream",
     "text": [
      "                         ds station_name station_number  line     y\n",
      "90      2020-01-01 01:00:00       Gireum            417     4     0\n",
      "365     2020-01-01 02:00:00       Gireum            417     4     0\n",
      "640     2020-01-01 03:00:00       Gireum            417     4     0\n",
      "915     2020-01-01 04:00:00       Gireum            417     4     0\n",
      "1190    2020-01-01 05:00:00       Gireum            417     4   201\n",
      "...                     ...          ...            ...   ...   ...\n",
      "8450851 2023-06-30 20:00:00       Gireum            417     4  1906\n",
      "8451124 2023-06-30 21:00:00       Gireum            417     4  1807\n",
      "8451397 2023-06-30 22:00:00       Gireum            417     4  1745\n",
      "8451670 2023-06-30 23:00:00       Gireum            417     4  1239\n",
      "8451943 2023-07-01 00:00:00       Gireum            417     4     0\n",
      "\n",
      "[30648 rows x 5 columns]\n",
      "                         ds station_name station_number  line     y  \\\n",
      "5167672 2022-02-14 01:00:00       Gireum            417     4     0   \n",
      "5167946 2022-02-14 02:00:00       Gireum            417     4     0   \n",
      "5168220 2022-02-14 03:00:00       Gireum            417     4     0   \n",
      "5168494 2022-02-14 04:00:00       Gireum            417     4     0   \n",
      "5168768 2022-02-14 05:00:00       Gireum            417     4   454   \n",
      "...                     ...          ...            ...   ...   ...   \n",
      "8437775 2023-06-28 20:00:00       Gireum            417     4  1994   \n",
      "8438047 2023-06-28 21:00:00       Gireum            417     4  1772   \n",
      "8438319 2023-06-28 22:00:00       Gireum            417     4  1746   \n",
      "8438591 2023-06-28 23:00:00       Gireum            417     4   916   \n",
      "8438863 2023-06-29 00:00:00       Gireum            417     4     0   \n",
      "\n",
      "         is_morning_peak  is_afternoon_peak  is_closed  \n",
      "5167672                0                  0          1  \n",
      "5167946                0                  0          1  \n",
      "5168220                0                  0          1  \n",
      "5168494                0                  0          1  \n",
      "5168768                0                  0          0  \n",
      "...                  ...                ...        ...  \n",
      "8437775                0                  0          0  \n",
      "8438047                0                  0          0  \n",
      "8438319                0                  0          0  \n",
      "8438591                0                  0          0  \n",
      "8438863                0                  0          1  \n",
      "\n",
      "[12000 rows x 8 columns]\n"
     ]
    },
    {
     "name": "stderr",
     "output_type": "stream",
     "text": [
      "16:01:36 - cmdstanpy - INFO - Chain [1] start processing\n",
      "16:01:37 - cmdstanpy - INFO - Chain [1] done processing\n"
     ]
    },
    {
     "name": "stdout",
     "output_type": "stream",
     "text": [
      "                         ds          station_name station_number  line     y\n",
      "100     2020-01-01 01:00:00  Guro Digital Complex            232     2     0\n",
      "375     2020-01-01 02:00:00  Guro Digital Complex            232     2     0\n",
      "650     2020-01-01 03:00:00  Guro Digital Complex            232     2     0\n",
      "925     2020-01-01 04:00:00  Guro Digital Complex            232     2     0\n",
      "1200    2020-01-01 05:00:00  Guro Digital Complex            232     2   815\n",
      "...                     ...                   ...            ...   ...   ...\n",
      "8450860 2023-06-30 20:00:00  Guro Digital Complex            232     2  5613\n",
      "8451133 2023-06-30 21:00:00  Guro Digital Complex            232     2  5362\n",
      "8451406 2023-06-30 22:00:00  Guro Digital Complex            232     2  4904\n",
      "8451679 2023-06-30 23:00:00  Guro Digital Complex            232     2  3421\n",
      "8451952 2023-07-01 00:00:00  Guro Digital Complex            232     2     0\n",
      "\n",
      "[30648 rows x 5 columns]\n",
      "                         ds          station_name station_number  line     y  \\\n",
      "5167681 2022-02-14 01:00:00  Guro Digital Complex            232     2     0   \n",
      "5167955 2022-02-14 02:00:00  Guro Digital Complex            232     2     0   \n",
      "5168229 2022-02-14 03:00:00  Guro Digital Complex            232     2     0   \n",
      "5168503 2022-02-14 04:00:00  Guro Digital Complex            232     2     0   \n",
      "5168777 2022-02-14 05:00:00  Guro Digital Complex            232     2  1508   \n",
      "...                     ...                   ...            ...   ...   ...   \n",
      "8437784 2023-06-28 20:00:00  Guro Digital Complex            232     2  5559   \n",
      "8438056 2023-06-28 21:00:00  Guro Digital Complex            232     2  5414   \n",
      "8438328 2023-06-28 22:00:00  Guro Digital Complex            232     2  4847   \n",
      "8438600 2023-06-28 23:00:00  Guro Digital Complex            232     2  2419   \n",
      "8438872 2023-06-29 00:00:00  Guro Digital Complex            232     2     0   \n",
      "\n",
      "         is_morning_peak  is_afternoon_peak  is_closed  \n",
      "5167681                0                  0          1  \n",
      "5167955                0                  0          1  \n",
      "5168229                0                  0          1  \n",
      "5168503                0                  0          1  \n",
      "5168777                0                  0          0  \n",
      "...                  ...                ...        ...  \n",
      "8437784                0                  0          0  \n",
      "8438056                0                  0          0  \n",
      "8438328                0                  0          0  \n",
      "8438600                0                  0          0  \n",
      "8438872                0                  0          1  \n",
      "\n",
      "[12000 rows x 8 columns]\n"
     ]
    },
    {
     "name": "stderr",
     "output_type": "stream",
     "text": [
      "16:01:38 - cmdstanpy - INFO - Chain [1] start processing\n",
      "16:01:38 - cmdstanpy - INFO - Chain [1] done processing\n"
     ]
    },
    {
     "name": "stdout",
     "output_type": "stream",
     "text": [
      "                         ds  \\\n",
      "104     2020-01-01 01:00:00   \n",
      "379     2020-01-01 02:00:00   \n",
      "654     2020-01-01 03:00:00   \n",
      "929     2020-01-01 04:00:00   \n",
      "1204    2020-01-01 05:00:00   \n",
      "...                     ...   \n",
      "8450864 2023-06-30 20:00:00   \n",
      "8451137 2023-06-30 21:00:00   \n",
      "8451410 2023-06-30 22:00:00   \n",
      "8451683 2023-06-30 23:00:00   \n",
      "8451956 2023-07-01 00:00:00   \n",
      "\n",
      "                                              station_name station_number  \\\n",
      "104      Gwanghwamun(Sejong Center for the Performing A...           2534   \n",
      "379      Gwanghwamun(Sejong Center for the Performing A...           2534   \n",
      "654      Gwanghwamun(Sejong Center for the Performing A...           2534   \n",
      "929      Gwanghwamun(Sejong Center for the Performing A...           2534   \n",
      "1204     Gwanghwamun(Sejong Center for the Performing A...           2534   \n",
      "...                                                    ...            ...   \n",
      "8450864  Gwanghwamun(Sejong Center for the Performing A...           2534   \n",
      "8451137  Gwanghwamun(Sejong Center for the Performing A...           2534   \n",
      "8451410  Gwanghwamun(Sejong Center for the Performing A...           2534   \n",
      "8451683  Gwanghwamun(Sejong Center for the Performing A...           2534   \n",
      "8451956  Gwanghwamun(Sejong Center for the Performing A...           2534   \n",
      "\n",
      "         line     y  \n",
      "104         5     0  \n",
      "379         5     0  \n",
      "654         5     0  \n",
      "929         5     0  \n",
      "1204        5    70  \n",
      "...       ...   ...  \n",
      "8450864     5  2412  \n",
      "8451137     5  2623  \n",
      "8451410     5  2155  \n",
      "8451683     5   940  \n",
      "8451956     5     0  \n",
      "\n",
      "[30648 rows x 5 columns]\n",
      "                         ds  \\\n",
      "5167685 2022-02-14 01:00:00   \n",
      "5167959 2022-02-14 02:00:00   \n",
      "5168233 2022-02-14 03:00:00   \n",
      "5168507 2022-02-14 04:00:00   \n",
      "5168781 2022-02-14 05:00:00   \n",
      "...                     ...   \n",
      "8437788 2023-06-28 20:00:00   \n",
      "8438060 2023-06-28 21:00:00   \n",
      "8438332 2023-06-28 22:00:00   \n",
      "8438604 2023-06-28 23:00:00   \n",
      "8438876 2023-06-29 00:00:00   \n",
      "\n",
      "                                              station_name station_number  \\\n",
      "5167685  Gwanghwamun(Sejong Center for the Performing A...           2534   \n",
      "5167959  Gwanghwamun(Sejong Center for the Performing A...           2534   \n",
      "5168233  Gwanghwamun(Sejong Center for the Performing A...           2534   \n",
      "5168507  Gwanghwamun(Sejong Center for the Performing A...           2534   \n",
      "5168781  Gwanghwamun(Sejong Center for the Performing A...           2534   \n",
      "...                                                    ...            ...   \n",
      "8437788  Gwanghwamun(Sejong Center for the Performing A...           2534   \n",
      "8438060  Gwanghwamun(Sejong Center for the Performing A...           2534   \n",
      "8438332  Gwanghwamun(Sejong Center for the Performing A...           2534   \n",
      "8438604  Gwanghwamun(Sejong Center for the Performing A...           2534   \n",
      "8438876  Gwanghwamun(Sejong Center for the Performing A...           2534   \n",
      "\n",
      "         line     y  is_morning_peak  is_afternoon_peak  is_closed  \n",
      "5167685     5     0                0                  0          1  \n",
      "5167959     5     0                0                  0          1  \n",
      "5168233     5     0                0                  0          1  \n",
      "5168507     5     0                0                  0          1  \n",
      "5168781     5    70                0                  0          0  \n",
      "...       ...   ...              ...                ...        ...  \n",
      "8437788     5  2673                0                  0          0  \n",
      "8438060     5  2819                0                  0          0  \n",
      "8438332     5  2161                0                  0          0  \n",
      "8438604     5   747                0                  0          0  \n",
      "8438876     5     0                0                  0          1  \n",
      "\n",
      "[12000 rows x 8 columns]\n"
     ]
    },
    {
     "name": "stderr",
     "output_type": "stream",
     "text": [
      "16:01:39 - cmdstanpy - INFO - Chain [1] start processing\n",
      "16:01:39 - cmdstanpy - INFO - Chain [1] done processing\n"
     ]
    },
    {
     "name": "stdout",
     "output_type": "stream",
     "text": [
      "                         ds  station_name station_number  line      y\n",
      "118     2020-01-01 01:00:00  Hongik Univ.            239     2      0\n",
      "393     2020-01-01 02:00:00  Hongik Univ.            239     2      0\n",
      "668     2020-01-01 03:00:00  Hongik Univ.            239     2      0\n",
      "943     2020-01-01 04:00:00  Hongik Univ.            239     2      0\n",
      "1218    2020-01-01 05:00:00  Hongik Univ.            239     2   5650\n",
      "...                     ...           ...            ...   ...    ...\n",
      "8450881 2023-06-30 20:00:00  Hongik Univ.            239     2  10063\n",
      "8451154 2023-06-30 21:00:00  Hongik Univ.            239     2  10295\n",
      "8451427 2023-06-30 22:00:00  Hongik Univ.            239     2  10391\n",
      "8451700 2023-06-30 23:00:00  Hongik Univ.            239     2   7343\n",
      "8451973 2023-07-01 00:00:00  Hongik Univ.            239     2      0\n",
      "\n",
      "[30648 rows x 5 columns]\n",
      "                         ds  station_name station_number  line     y  \\\n",
      "5167702 2022-02-14 01:00:00  Hongik Univ.            239     2     0   \n",
      "5167976 2022-02-14 02:00:00  Hongik Univ.            239     2     0   \n",
      "5168250 2022-02-14 03:00:00  Hongik Univ.            239     2     0   \n",
      "5168524 2022-02-14 04:00:00  Hongik Univ.            239     2     0   \n",
      "5168798 2022-02-14 05:00:00  Hongik Univ.            239     2   457   \n",
      "...                     ...           ...            ...   ...   ...   \n",
      "8437805 2023-06-28 20:00:00  Hongik Univ.            239     2  8063   \n",
      "8438077 2023-06-28 21:00:00  Hongik Univ.            239     2  8427   \n",
      "8438349 2023-06-28 22:00:00  Hongik Univ.            239     2  8223   \n",
      "8438621 2023-06-28 23:00:00  Hongik Univ.            239     2  4519   \n",
      "8438893 2023-06-29 00:00:00  Hongik Univ.            239     2     0   \n",
      "\n",
      "         is_morning_peak  is_afternoon_peak  is_closed  \n",
      "5167702                0                  0          1  \n",
      "5167976                0                  0          1  \n",
      "5168250                0                  0          1  \n",
      "5168524                0                  0          1  \n",
      "5168798                0                  0          0  \n",
      "...                  ...                ...        ...  \n",
      "8437805                0                  0          0  \n",
      "8438077                0                  0          0  \n",
      "8438349                0                  0          0  \n",
      "8438621                0                  0          0  \n",
      "8438893                0                  0          1  \n",
      "\n",
      "[12000 rows x 8 columns]\n"
     ]
    },
    {
     "name": "stderr",
     "output_type": "stream",
     "text": [
      "16:01:40 - cmdstanpy - INFO - Chain [1] start processing\n",
      "16:01:41 - cmdstanpy - INFO - Chain [1] done processing\n"
     ]
    },
    {
     "name": "stdout",
     "output_type": "stream",
     "text": [
      "                         ds station_name station_number  line     y\n",
      "127     2020-01-01 01:00:00      Itaewon           2631     6     0\n",
      "402     2020-01-01 02:00:00      Itaewon           2631     6     0\n",
      "677     2020-01-01 03:00:00      Itaewon           2631     6     0\n",
      "952     2020-01-01 04:00:00      Itaewon           2631     6     0\n",
      "1227    2020-01-01 05:00:00      Itaewon           2631     6  4026\n",
      "...                     ...          ...            ...   ...   ...\n",
      "8450890 2023-06-30 20:00:00      Itaewon           2631     6  1939\n",
      "8451163 2023-06-30 21:00:00      Itaewon           2631     6  1892\n",
      "8451436 2023-06-30 22:00:00      Itaewon           2631     6  2338\n",
      "8451709 2023-06-30 23:00:00      Itaewon           2631     6  2032\n",
      "8451982 2023-07-01 00:00:00      Itaewon           2631     6     0\n",
      "\n",
      "[30648 rows x 5 columns]\n",
      "                         ds station_name station_number  line     y  \\\n",
      "5167711 2022-02-14 01:00:00      Itaewon           2631     6     0   \n",
      "5167985 2022-02-14 02:00:00      Itaewon           2631     6     0   \n",
      "5168259 2022-02-14 03:00:00      Itaewon           2631     6     0   \n",
      "5168533 2022-02-14 04:00:00      Itaewon           2631     6     0   \n",
      "5168807 2022-02-14 05:00:00      Itaewon           2631     6   105   \n",
      "...                     ...          ...            ...   ...   ...   \n",
      "8437814 2023-06-28 20:00:00      Itaewon           2631     6  1350   \n",
      "8438086 2023-06-28 21:00:00      Itaewon           2631     6  1281   \n",
      "8438358 2023-06-28 22:00:00      Itaewon           2631     6  1216   \n",
      "8438630 2023-06-28 23:00:00      Itaewon           2631     6   771   \n",
      "8438902 2023-06-29 00:00:00      Itaewon           2631     6     0   \n",
      "\n",
      "         is_morning_peak  is_afternoon_peak  is_closed  \n",
      "5167711                0                  0          1  \n",
      "5167985                0                  0          1  \n",
      "5168259                0                  0          1  \n",
      "5168533                0                  0          1  \n",
      "5168807                0                  0          0  \n",
      "...                  ...                ...        ...  \n",
      "8437814                0                  0          0  \n",
      "8438086                0                  0          0  \n",
      "8438358                0                  0          0  \n",
      "8438630                0                  0          0  \n",
      "8438902                0                  0          1  \n",
      "\n",
      "[12000 rows x 8 columns]\n"
     ]
    },
    {
     "name": "stderr",
     "output_type": "stream",
     "text": [
      "16:01:41 - cmdstanpy - INFO - Chain [1] start processing\n",
      "16:01:42 - cmdstanpy - INFO - Chain [1] done processing\n"
     ]
    },
    {
     "name": "stdout",
     "output_type": "stream",
     "text": [
      "                         ds  station_name station_number  line     y\n",
      "131     2020-01-01 01:00:00  Jamsilsaenae            217     2     0\n",
      "406     2020-01-01 02:00:00  Jamsilsaenae            217     2     0\n",
      "681     2020-01-01 03:00:00  Jamsilsaenae            217     2     0\n",
      "956     2020-01-01 04:00:00  Jamsilsaenae            217     2     0\n",
      "1231    2020-01-01 05:00:00  Jamsilsaenae            217     2   425\n",
      "...                     ...           ...            ...   ...   ...\n",
      "8450894 2023-06-30 20:00:00  Jamsilsaenae            217     2  2554\n",
      "8451167 2023-06-30 21:00:00  Jamsilsaenae            217     2  2384\n",
      "8451440 2023-06-30 22:00:00  Jamsilsaenae            217     2  2816\n",
      "8451713 2023-06-30 23:00:00  Jamsilsaenae            217     2  2133\n",
      "8451986 2023-07-01 00:00:00  Jamsilsaenae            217     2     0\n",
      "\n",
      "[30648 rows x 5 columns]\n",
      "                         ds  station_name station_number  line     y  \\\n",
      "5167715 2022-02-14 01:00:00  Jamsilsaenae            217     2     0   \n",
      "5167989 2022-02-14 02:00:00  Jamsilsaenae            217     2     0   \n",
      "5168263 2022-02-14 03:00:00  Jamsilsaenae            217     2     0   \n",
      "5168537 2022-02-14 04:00:00  Jamsilsaenae            217     2     0   \n",
      "5168811 2022-02-14 05:00:00  Jamsilsaenae            217     2   187   \n",
      "...                     ...           ...            ...   ...   ...   \n",
      "8437818 2023-06-28 20:00:00  Jamsilsaenae            217     2  2302   \n",
      "8438090 2023-06-28 21:00:00  Jamsilsaenae            217     2  2216   \n",
      "8438362 2023-06-28 22:00:00  Jamsilsaenae            217     2  2187   \n",
      "8438634 2023-06-28 23:00:00  Jamsilsaenae            217     2  1230   \n",
      "8438906 2023-06-29 00:00:00  Jamsilsaenae            217     2     0   \n",
      "\n",
      "         is_morning_peak  is_afternoon_peak  is_closed  \n",
      "5167715                0                  0          1  \n",
      "5167989                0                  0          1  \n",
      "5168263                0                  0          1  \n",
      "5168537                0                  0          1  \n",
      "5168811                0                  0          0  \n",
      "...                  ...                ...        ...  \n",
      "8437818                0                  0          0  \n",
      "8438090                0                  0          0  \n",
      "8438362                0                  0          0  \n",
      "8438634                0                  0          0  \n",
      "8438906                0                  0          1  \n",
      "\n",
      "[12000 rows x 8 columns]\n"
     ]
    },
    {
     "name": "stderr",
     "output_type": "stream",
     "text": [
      "16:01:43 - cmdstanpy - INFO - Chain [1] start processing\n",
      "16:01:44 - cmdstanpy - INFO - Chain [1] done processing\n"
     ]
    },
    {
     "name": "stdout",
     "output_type": "stream",
     "text": [
      "                         ds station_name station_number  line     y\n",
      "164     2020-01-01 01:00:00     Mok-dong           2521     5     0\n",
      "439     2020-01-01 02:00:00     Mok-dong           2521     5     0\n",
      "714     2020-01-01 03:00:00     Mok-dong           2521     5     0\n",
      "989     2020-01-01 04:00:00     Mok-dong           2521     5     0\n",
      "1264    2020-01-01 05:00:00     Mok-dong           2521     5   214\n",
      "...                     ...          ...            ...   ...   ...\n",
      "8450927 2023-06-30 20:00:00     Mok-dong           2521     5  1644\n",
      "8451200 2023-06-30 21:00:00     Mok-dong           2521     5  1560\n",
      "8451473 2023-06-30 22:00:00     Mok-dong           2521     5  1789\n",
      "8451746 2023-06-30 23:00:00     Mok-dong           2521     5   842\n",
      "8452019 2023-07-01 00:00:00     Mok-dong           2521     5     0\n",
      "\n",
      "[30648 rows x 5 columns]\n",
      "                         ds station_name station_number  line     y  \\\n",
      "5167748 2022-02-14 01:00:00     Mok-dong           2521     5     0   \n",
      "5168022 2022-02-14 02:00:00     Mok-dong           2521     5     0   \n",
      "5168296 2022-02-14 03:00:00     Mok-dong           2521     5     0   \n",
      "5168570 2022-02-14 04:00:00     Mok-dong           2521     5     0   \n",
      "5168844 2022-02-14 05:00:00     Mok-dong           2521     5   311   \n",
      "...                     ...          ...            ...   ...   ...   \n",
      "8437851 2023-06-28 20:00:00     Mok-dong           2521     5  1637   \n",
      "8438123 2023-06-28 21:00:00     Mok-dong           2521     5  1585   \n",
      "8438395 2023-06-28 22:00:00     Mok-dong           2521     5  1589   \n",
      "8438667 2023-06-28 23:00:00     Mok-dong           2521     5   776   \n",
      "8438939 2023-06-29 00:00:00     Mok-dong           2521     5     0   \n",
      "\n",
      "         is_morning_peak  is_afternoon_peak  is_closed  \n",
      "5167748                0                  0          1  \n",
      "5168022                0                  0          1  \n",
      "5168296                0                  0          1  \n",
      "5168570                0                  0          1  \n",
      "5168844                0                  0          0  \n",
      "...                  ...                ...        ...  \n",
      "8437851                0                  0          0  \n",
      "8438123                0                  0          0  \n",
      "8438395                0                  0          0  \n",
      "8438667                0                  0          0  \n",
      "8438939                0                  0          1  \n",
      "\n",
      "[12000 rows x 8 columns]\n"
     ]
    },
    {
     "name": "stderr",
     "output_type": "stream",
     "text": [
      "16:01:44 - cmdstanpy - INFO - Chain [1] start processing\n",
      "16:01:45 - cmdstanpy - INFO - Chain [1] done processing\n"
     ]
    },
    {
     "name": "stdout",
     "output_type": "stream",
     "text": [
      "                         ds station_name station_number  line     y\n",
      "181     2020-01-01 01:00:00      Nokbeon            313     3     0\n",
      "456     2020-01-01 02:00:00      Nokbeon            313     3     0\n",
      "731     2020-01-01 03:00:00      Nokbeon            313     3     0\n",
      "1006    2020-01-01 04:00:00      Nokbeon            313     3     0\n",
      "1281    2020-01-01 05:00:00      Nokbeon            313     3   136\n",
      "...                     ...          ...            ...   ...   ...\n",
      "8450945 2023-06-30 20:00:00      Nokbeon            313     3  1362\n",
      "8451218 2023-06-30 21:00:00      Nokbeon            313     3  1219\n",
      "8451491 2023-06-30 22:00:00      Nokbeon            313     3  1175\n",
      "8451764 2023-06-30 23:00:00      Nokbeon            313     3   829\n",
      "8452037 2023-07-01 00:00:00      Nokbeon            313     3     0\n",
      "\n",
      "[30648 rows x 5 columns]\n",
      "                         ds station_name station_number  line     y  \\\n",
      "5167766 2022-02-14 01:00:00      Nokbeon            313     3     0   \n",
      "5168040 2022-02-14 02:00:00      Nokbeon            313     3     0   \n",
      "5168314 2022-02-14 03:00:00      Nokbeon            313     3     0   \n",
      "5168588 2022-02-14 04:00:00      Nokbeon            313     3     0   \n",
      "5168862 2022-02-14 05:00:00      Nokbeon            313     3   406   \n",
      "...                     ...          ...            ...   ...   ...   \n",
      "8437869 2023-06-28 20:00:00      Nokbeon            313     3  1591   \n",
      "8438141 2023-06-28 21:00:00      Nokbeon            313     3  1304   \n",
      "8438413 2023-06-28 22:00:00      Nokbeon            313     3  1163   \n",
      "8438685 2023-06-28 23:00:00      Nokbeon            313     3   628   \n",
      "8438957 2023-06-29 00:00:00      Nokbeon            313     3     0   \n",
      "\n",
      "         is_morning_peak  is_afternoon_peak  is_closed  \n",
      "5167766                0                  0          1  \n",
      "5168040                0                  0          1  \n",
      "5168314                0                  0          1  \n",
      "5168588                0                  0          1  \n",
      "5168862                0                  0          0  \n",
      "...                  ...                ...        ...  \n",
      "8437869                0                  0          0  \n",
      "8438141                0                  0          0  \n",
      "8438413                0                  0          0  \n",
      "8438685                0                  0          0  \n",
      "8438957                0                  0          1  \n",
      "\n",
      "[12000 rows x 8 columns]\n"
     ]
    },
    {
     "name": "stderr",
     "output_type": "stream",
     "text": [
      "16:01:46 - cmdstanpy - INFO - Chain [1] start processing\n",
      "16:01:46 - cmdstanpy - INFO - Chain [1] done processing\n"
     ]
    },
    {
     "name": "stdout",
     "output_type": "stream",
     "text": [
      "                         ds station_name station_number  line     y\n",
      "214     2020-01-01 01:00:00      Seongsu            211     2     0\n",
      "489     2020-01-01 02:00:00      Seongsu            211     2     0\n",
      "764     2020-01-01 03:00:00      Seongsu            211     2     0\n",
      "1039    2020-01-01 04:00:00      Seongsu            211     2     0\n",
      "1314    2020-01-01 05:00:00      Seongsu            211     2   198\n",
      "...                     ...          ...            ...   ...   ...\n",
      "8450976 2023-06-30 20:00:00      Seongsu            211     2  3814\n",
      "8451249 2023-06-30 21:00:00      Seongsu            211     2  3321\n",
      "8451522 2023-06-30 22:00:00      Seongsu            211     2  2597\n",
      "8451795 2023-06-30 23:00:00      Seongsu            211     2  1588\n",
      "8452068 2023-07-01 00:00:00      Seongsu            211     2     0\n",
      "\n",
      "[30648 rows x 5 columns]\n",
      "                         ds station_name station_number  line     y  \\\n",
      "5167797 2022-02-14 01:00:00      Seongsu            211     2     0   \n",
      "5168071 2022-02-14 02:00:00      Seongsu            211     2     0   \n",
      "5168345 2022-02-14 03:00:00      Seongsu            211     2     0   \n",
      "5168619 2022-02-14 04:00:00      Seongsu            211     2     0   \n",
      "5168893 2022-02-14 05:00:00      Seongsu            211     2   344   \n",
      "...                     ...          ...            ...   ...   ...   \n",
      "8437900 2023-06-28 20:00:00      Seongsu            211     2  3864   \n",
      "8438172 2023-06-28 21:00:00      Seongsu            211     2  3401   \n",
      "8438444 2023-06-28 22:00:00      Seongsu            211     2  2588   \n",
      "8438716 2023-06-28 23:00:00      Seongsu            211     2  1176   \n",
      "8438988 2023-06-29 00:00:00      Seongsu            211     2     0   \n",
      "\n",
      "         is_morning_peak  is_afternoon_peak  is_closed  \n",
      "5167797                0                  0          1  \n",
      "5168071                0                  0          1  \n",
      "5168345                0                  0          1  \n",
      "5168619                0                  0          1  \n",
      "5168893                0                  0          0  \n",
      "...                  ...                ...        ...  \n",
      "8437900                0                  0          0  \n",
      "8438172                0                  0          0  \n",
      "8438444                0                  0          0  \n",
      "8438716                0                  0          0  \n",
      "8438988                0                  0          1  \n",
      "\n",
      "[12000 rows x 8 columns]\n"
     ]
    },
    {
     "name": "stderr",
     "output_type": "stream",
     "text": [
      "16:01:47 - cmdstanpy - INFO - Chain [1] start processing\n",
      "16:01:47 - cmdstanpy - INFO - Chain [1] done processing\n"
     ]
    },
    {
     "name": "stdout",
     "output_type": "stream",
     "text": [
      "                         ds   station_name station_number  line     y\n",
      "218     2020-01-01 01:00:00  Seoul Station            150     1     0\n",
      "493     2020-01-01 02:00:00  Seoul Station            150     1     0\n",
      "768     2020-01-01 03:00:00  Seoul Station            150     1     0\n",
      "1043    2020-01-01 04:00:00  Seoul Station            150     1     0\n",
      "1318    2020-01-01 05:00:00  Seoul Station            150     1   591\n",
      "...                     ...            ...            ...   ...   ...\n",
      "8450980 2023-06-30 20:00:00  Seoul Station            150     1  5140\n",
      "8451253 2023-06-30 21:00:00  Seoul Station            150     1  5433\n",
      "8451526 2023-06-30 22:00:00  Seoul Station            150     1  3911\n",
      "8451799 2023-06-30 23:00:00  Seoul Station            150     1  1813\n",
      "8452072 2023-07-01 00:00:00  Seoul Station            150     1     0\n",
      "\n",
      "[30648 rows x 5 columns]\n",
      "                         ds   station_name station_number  line     y  \\\n",
      "5167801 2022-02-14 01:00:00  Seoul Station            150     1     0   \n",
      "5168075 2022-02-14 02:00:00  Seoul Station            150     1     0   \n",
      "5168349 2022-02-14 03:00:00  Seoul Station            150     1     0   \n",
      "5168623 2022-02-14 04:00:00  Seoul Station            150     1     0   \n",
      "5168897 2022-02-14 05:00:00  Seoul Station            150     1   586   \n",
      "...                     ...            ...            ...   ...   ...   \n",
      "8437904 2023-06-28 20:00:00  Seoul Station            150     1  4247   \n",
      "8438176 2023-06-28 21:00:00  Seoul Station            150     1  4069   \n",
      "8438448 2023-06-28 22:00:00  Seoul Station            150     1  2858   \n",
      "8438720 2023-06-28 23:00:00  Seoul Station            150     1  1266   \n",
      "8438992 2023-06-29 00:00:00  Seoul Station            150     1     0   \n",
      "\n",
      "         is_morning_peak  is_afternoon_peak  is_closed  \n",
      "5167801                0                  0          1  \n",
      "5168075                0                  0          1  \n",
      "5168349                0                  0          1  \n",
      "5168623                0                  0          1  \n",
      "5168897                0                  0          0  \n",
      "...                  ...                ...        ...  \n",
      "8437904                0                  0          0  \n",
      "8438176                0                  0          0  \n",
      "8438448                0                  0          0  \n",
      "8438720                0                  0          0  \n",
      "8438992                0                  0          1  \n",
      "\n",
      "[12000 rows x 8 columns]\n"
     ]
    },
    {
     "name": "stderr",
     "output_type": "stream",
     "text": [
      "16:01:48 - cmdstanpy - INFO - Chain [1] start processing\n",
      "16:01:49 - cmdstanpy - INFO - Chain [1] done processing\n"
     ]
    },
    {
     "name": "stdout",
     "output_type": "stream",
     "text": [
      "                         ds   station_name station_number  line     y\n",
      "219     2020-01-01 01:00:00  Seoul Station            426     4     0\n",
      "494     2020-01-01 02:00:00  Seoul Station            426     4     0\n",
      "769     2020-01-01 03:00:00  Seoul Station            426     4     0\n",
      "1044    2020-01-01 04:00:00  Seoul Station            426     4     0\n",
      "1319    2020-01-01 05:00:00  Seoul Station            426     4   174\n",
      "...                     ...            ...            ...   ...   ...\n",
      "8450981 2023-06-30 20:00:00  Seoul Station            426     4  1470\n",
      "8451254 2023-06-30 21:00:00  Seoul Station            426     4  1329\n",
      "8451527 2023-06-30 22:00:00  Seoul Station            426     4  1282\n",
      "8451800 2023-06-30 23:00:00  Seoul Station            426     4   677\n",
      "8452073 2023-07-01 00:00:00  Seoul Station            426     4     0\n",
      "\n",
      "[30648 rows x 5 columns]\n",
      "                         ds   station_name station_number  line     y  \\\n",
      "5167802 2022-02-14 01:00:00  Seoul Station            426     4     0   \n",
      "5168076 2022-02-14 02:00:00  Seoul Station            426     4     0   \n",
      "5168350 2022-02-14 03:00:00  Seoul Station            426     4     0   \n",
      "5168624 2022-02-14 04:00:00  Seoul Station            426     4     0   \n",
      "5168898 2022-02-14 05:00:00  Seoul Station            426     4   175   \n",
      "...                     ...            ...            ...   ...   ...   \n",
      "8437905 2023-06-28 20:00:00  Seoul Station            426     4  1248   \n",
      "8438177 2023-06-28 21:00:00  Seoul Station            426     4  1284   \n",
      "8438449 2023-06-28 22:00:00  Seoul Station            426     4  1023   \n",
      "8438721 2023-06-28 23:00:00  Seoul Station            426     4   426   \n",
      "8438993 2023-06-29 00:00:00  Seoul Station            426     4     0   \n",
      "\n",
      "         is_morning_peak  is_afternoon_peak  is_closed  \n",
      "5167802                0                  0          1  \n",
      "5168076                0                  0          1  \n",
      "5168350                0                  0          1  \n",
      "5168624                0                  0          1  \n",
      "5168898                0                  0          0  \n",
      "...                  ...                ...        ...  \n",
      "8437905                0                  0          0  \n",
      "8438177                0                  0          0  \n",
      "8438449                0                  0          0  \n",
      "8438721                0                  0          0  \n",
      "8438993                0                  0          1  \n",
      "\n",
      "[12000 rows x 8 columns]\n"
     ]
    },
    {
     "name": "stderr",
     "output_type": "stream",
     "text": [
      "16:01:49 - cmdstanpy - INFO - Chain [1] start processing\n",
      "16:01:50 - cmdstanpy - INFO - Chain [1] done processing\n"
     ]
    },
    {
     "name": "stdout",
     "output_type": "stream",
     "text": [
      "                         ds                 station_name station_number  line  \\\n",
      "258     2020-01-01 01:00:00  World Cup Stadium(Seongsan)           2620     6   \n",
      "533     2020-01-01 02:00:00  World Cup Stadium(Seongsan)           2620     6   \n",
      "808     2020-01-01 03:00:00  World Cup Stadium(Seongsan)           2620     6   \n",
      "1083    2020-01-01 04:00:00  World Cup Stadium(Seongsan)           2620     6   \n",
      "1358    2020-01-01 05:00:00  World Cup Stadium(Seongsan)           2620     6   \n",
      "...                     ...                          ...            ...   ...   \n",
      "8451019 2023-06-30 20:00:00  World Cup Stadium(Seongsan)           2620     6   \n",
      "8451292 2023-06-30 21:00:00  World Cup Stadium(Seongsan)           2620     6   \n",
      "8451565 2023-06-30 22:00:00  World Cup Stadium(Seongsan)           2620     6   \n",
      "8451838 2023-06-30 23:00:00  World Cup Stadium(Seongsan)           2620     6   \n",
      "8452111 2023-07-01 00:00:00  World Cup Stadium(Seongsan)           2620     6   \n",
      "\n",
      "           y  \n",
      "258        0  \n",
      "533        0  \n",
      "808        0  \n",
      "1083       0  \n",
      "1358      91  \n",
      "...      ...  \n",
      "8451019  473  \n",
      "8451292  427  \n",
      "8451565  311  \n",
      "8451838  151  \n",
      "8452111    0  \n",
      "\n",
      "[30648 rows x 5 columns]\n",
      "                         ds                 station_name station_number  line  \\\n",
      "5167840 2022-02-14 01:00:00  World Cup Stadium(Seongsan)           2620     6   \n",
      "5168114 2022-02-14 02:00:00  World Cup Stadium(Seongsan)           2620     6   \n",
      "5168388 2022-02-14 03:00:00  World Cup Stadium(Seongsan)           2620     6   \n",
      "5168662 2022-02-14 04:00:00  World Cup Stadium(Seongsan)           2620     6   \n",
      "5168936 2022-02-14 05:00:00  World Cup Stadium(Seongsan)           2620     6   \n",
      "...                     ...                          ...            ...   ...   \n",
      "8437943 2023-06-28 20:00:00  World Cup Stadium(Seongsan)           2620     6   \n",
      "8438215 2023-06-28 21:00:00  World Cup Stadium(Seongsan)           2620     6   \n",
      "8438487 2023-06-28 22:00:00  World Cup Stadium(Seongsan)           2620     6   \n",
      "8438759 2023-06-28 23:00:00  World Cup Stadium(Seongsan)           2620     6   \n",
      "8439031 2023-06-29 00:00:00  World Cup Stadium(Seongsan)           2620     6   \n",
      "\n",
      "           y  is_morning_peak  is_afternoon_peak  is_closed  \n",
      "5167840    0                0                  0          1  \n",
      "5168114    0                0                  0          1  \n",
      "5168388    0                0                  0          1  \n",
      "5168662    0                0                  0          1  \n",
      "5168936   79                0                  0          0  \n",
      "...      ...              ...                ...        ...  \n",
      "8437943  430                0                  0          0  \n",
      "8438215  324                0                  0          0  \n",
      "8438487  309                0                  0          0  \n",
      "8438759  138                0                  0          0  \n",
      "8439031    0                0                  0          1  \n",
      "\n",
      "[12000 rows x 8 columns]\n"
     ]
    },
    {
     "name": "stderr",
     "output_type": "stream",
     "text": [
      "16:01:51 - cmdstanpy - INFO - Chain [1] start processing\n",
      "16:01:51 - cmdstanpy - INFO - Chain [1] done processing\n"
     ]
    },
    {
     "name": "stdout",
     "output_type": "stream",
     "text": [
      "                         ds station_name station_number  line     y\n",
      "269     2020-01-01 01:00:00   Yeonsinnae            311     3     0\n",
      "544     2020-01-01 02:00:00   Yeonsinnae            311     3     0\n",
      "819     2020-01-01 03:00:00   Yeonsinnae            311     3     0\n",
      "1094    2020-01-01 04:00:00   Yeonsinnae            311     3     0\n",
      "1369    2020-01-01 05:00:00   Yeonsinnae            311     3   679\n",
      "...                     ...          ...            ...   ...   ...\n",
      "8451030 2023-06-30 20:00:00   Yeonsinnae            311     3  3546\n",
      "8451303 2023-06-30 21:00:00   Yeonsinnae            311     3  3042\n",
      "8451576 2023-06-30 22:00:00   Yeonsinnae            311     3  2992\n",
      "8451849 2023-06-30 23:00:00   Yeonsinnae            311     3  2067\n",
      "8452122 2023-07-01 00:00:00   Yeonsinnae            311     3     0\n",
      "\n",
      "[30648 rows x 5 columns]\n",
      "                         ds station_name station_number  line     y  \\\n",
      "5167851 2022-02-14 01:00:00   Yeonsinnae            311     3     0   \n",
      "5168125 2022-02-14 02:00:00   Yeonsinnae            311     3     0   \n",
      "5168399 2022-02-14 03:00:00   Yeonsinnae            311     3     0   \n",
      "5168673 2022-02-14 04:00:00   Yeonsinnae            311     3     0   \n",
      "5168947 2022-02-14 05:00:00   Yeonsinnae            311     3  1046   \n",
      "...                     ...          ...            ...   ...   ...   \n",
      "8437954 2023-06-28 20:00:00   Yeonsinnae            311     3  3565   \n",
      "8438226 2023-06-28 21:00:00   Yeonsinnae            311     3  2953   \n",
      "8438498 2023-06-28 22:00:00   Yeonsinnae            311     3  2676   \n",
      "8438770 2023-06-28 23:00:00   Yeonsinnae            311     3  1540   \n",
      "8439042 2023-06-29 00:00:00   Yeonsinnae            311     3     0   \n",
      "\n",
      "         is_morning_peak  is_afternoon_peak  is_closed  \n",
      "5167851                0                  0          1  \n",
      "5168125                0                  0          1  \n",
      "5168399                0                  0          1  \n",
      "5168673                0                  0          1  \n",
      "5168947                0                  0          0  \n",
      "...                  ...                ...        ...  \n",
      "8437954                0                  0          0  \n",
      "8438226                0                  0          0  \n",
      "8438498                0                  0          0  \n",
      "8438770                0                  0          0  \n",
      "8439042                0                  0          1  \n",
      "\n",
      "[12000 rows x 8 columns]\n"
     ]
    },
    {
     "name": "stderr",
     "output_type": "stream",
     "text": [
      "16:01:52 - cmdstanpy - INFO - Chain [1] start processing\n",
      "16:01:52 - cmdstanpy - INFO - Chain [1] done processing\n"
     ]
    },
    {
     "name": "stdout",
     "output_type": "stream",
     "text": [
      "                         ds station_name station_number  line  y\n",
      "66415   2020-01-11 01:00:00   Yeonsinnae           2615     6  0\n",
      "66692   2020-01-11 02:00:00   Yeonsinnae           2615     6  0\n",
      "66969   2020-01-11 03:00:00   Yeonsinnae           2615     6  0\n",
      "67246   2020-01-11 04:00:00   Yeonsinnae           2615     6  0\n",
      "67523   2020-01-11 05:00:00   Yeonsinnae           2615     6  0\n",
      "...                     ...          ...            ...   ... ..\n",
      "8424894 2023-06-26 20:00:00   Yeonsinnae           2615     6  0\n",
      "8425167 2023-06-26 21:00:00   Yeonsinnae           2615     6  0\n",
      "8425440 2023-06-26 22:00:00   Yeonsinnae           2615     6  0\n",
      "8425713 2023-06-26 23:00:00   Yeonsinnae           2615     6  0\n",
      "8425986 2023-06-27 00:00:00   Yeonsinnae           2615     6  0\n",
      "\n",
      "[4872 rows x 5 columns]\n",
      "                         ds station_name station_number  line  y  \\\n",
      "66415   2020-01-11 01:00:00   Yeonsinnae           2615     6  0   \n",
      "66692   2020-01-11 02:00:00   Yeonsinnae           2615     6  0   \n",
      "66969   2020-01-11 03:00:00   Yeonsinnae           2615     6  0   \n",
      "67246   2020-01-11 04:00:00   Yeonsinnae           2615     6  0   \n",
      "67523   2020-01-11 05:00:00   Yeonsinnae           2615     6  0   \n",
      "...                     ...          ...            ...   ... ..   \n",
      "8405210 2023-06-23 20:00:00   Yeonsinnae           2615     6  0   \n",
      "8405484 2023-06-23 21:00:00   Yeonsinnae           2615     6  0   \n",
      "8405758 2023-06-23 22:00:00   Yeonsinnae           2615     6  0   \n",
      "8406032 2023-06-23 23:00:00   Yeonsinnae           2615     6  0   \n",
      "8406306 2023-06-24 00:00:00   Yeonsinnae           2615     6  0   \n",
      "\n",
      "         is_morning_peak  is_afternoon_peak  is_closed  \n",
      "66415                  0                  0          1  \n",
      "66692                  0                  0          1  \n",
      "66969                  0                  0          1  \n",
      "67246                  0                  0          1  \n",
      "67523                  0                  0          0  \n",
      "...                  ...                ...        ...  \n",
      "8405210                0                  0          0  \n",
      "8405484                0                  0          0  \n",
      "8405758                0                  0          0  \n",
      "8406032                0                  0          0  \n",
      "8406306                0                  0          1  \n",
      "\n",
      "[4824 rows x 8 columns]\n",
      "                         ds station_name station_number  line     y\n",
      "270     2020-01-01 01:00:00      Yeouido           2527     5     0\n",
      "545     2020-01-01 02:00:00      Yeouido           2527     5     0\n",
      "820     2020-01-01 03:00:00      Yeouido           2527     5     0\n",
      "1095    2020-01-01 04:00:00      Yeouido           2527     5     0\n",
      "1370    2020-01-01 05:00:00      Yeouido           2527     5    84\n",
      "...                     ...          ...            ...   ...   ...\n",
      "8451031 2023-06-30 20:00:00      Yeouido           2527     5  2398\n",
      "8451304 2023-06-30 21:00:00      Yeouido           2527     5  2004\n",
      "8451577 2023-06-30 22:00:00      Yeouido           2527     5  1440\n",
      "8451850 2023-06-30 23:00:00      Yeouido           2527     5   664\n",
      "8452123 2023-07-01 00:00:00      Yeouido           2527     5     0\n",
      "\n",
      "[30648 rows x 5 columns]\n",
      "                         ds station_name station_number  line     y  \\\n",
      "5167853 2022-02-14 01:00:00      Yeouido           2527     5     0   \n",
      "5168127 2022-02-14 02:00:00      Yeouido           2527     5     0   \n",
      "5168401 2022-02-14 03:00:00      Yeouido           2527     5     0   \n",
      "5168675 2022-02-14 04:00:00      Yeouido           2527     5     0   \n",
      "5168949 2022-02-14 05:00:00      Yeouido           2527     5   177   \n",
      "...                     ...          ...            ...   ...   ...   \n",
      "8437955 2023-06-28 20:00:00      Yeouido           2527     5  2684   \n",
      "8438227 2023-06-28 21:00:00      Yeouido           2527     5  2373   \n",
      "8438499 2023-06-28 22:00:00      Yeouido           2527     5  1471   \n",
      "8438771 2023-06-28 23:00:00      Yeouido           2527     5   560   \n",
      "8439043 2023-06-29 00:00:00      Yeouido           2527     5     0   \n",
      "\n",
      "         is_morning_peak  is_afternoon_peak  is_closed  \n",
      "5167853                0                  0          1  \n",
      "5168127                0                  0          1  \n",
      "5168401                0                  0          1  \n",
      "5168675                0                  0          1  \n",
      "5168949                0                  0          0  \n",
      "...                  ...                ...        ...  \n",
      "8437955                0                  0          0  \n",
      "8438227                0                  0          0  \n",
      "8438499                0                  0          0  \n",
      "8438771                0                  0          0  \n",
      "8439043                0                  0          1  \n",
      "\n",
      "[12000 rows x 8 columns]\n"
     ]
    },
    {
     "name": "stderr",
     "output_type": "stream",
     "text": [
      "16:01:53 - cmdstanpy - INFO - Chain [1] start processing\n",
      "16:01:54 - cmdstanpy - INFO - Chain [1] done processing\n"
     ]
    }
   ],
   "source": [
    "station_charlotte = [['Dongjak (Seoul National Cemetery)', 4],\n",
    " ['Gangnam', 2],\n",
    " ['Gireum', 4],\n",
    " ['Guro Digital Complex', 2],\n",
    " ['Gwanghwamun(Sejong Center for the Performing Arts)', 5],\n",
    " ['Hongik Univ.', 2],\n",
    " ['Itaewon', 6],\n",
    " ['Jamsilsaenae', 2],\n",
    " ['Mok-dong', 5],\n",
    " ['Nokbeon', 3],\n",
    " ['Seongsu', 2],\n",
    " ['Seoul Station', 1],\n",
    " ['Seoul Station', 4],\n",
    " ['World Cup Stadium(Seongsan)', 6],\n",
    " ['Yeonsinnae', 3],\n",
    " ['Yeonsinnae', 6],\n",
    " ['Yeouido', 5]]\n",
    "\n",
    "mapes = []\n",
    "\n",
    "for i in range(len(station_charlotte)):\n",
    "\n",
    "    data = df1[(df1['station_name'] == station_charlotte[i][0]) &\n",
    "                (df1['line'] == station_charlotte[i][1])]\n",
    "    data = data.rename(columns={'datetime':'ds', 'value' : 'y'})\n",
    "\n",
    "    #lenght of test data\n",
    "    days = 2\n",
    "\n",
    "    # index = round(train_size*df_156.shape[0])\n",
    "    data_train = data.iloc[:-24*days]\n",
    "    data_test = data.iloc[-24*days:]\n",
    "\n",
    "    #shorten the train data\n",
    "    data_train = data_train.iloc[-24*500:]\n",
    "\n",
    "    data_train['is_morning_peak'] = ((data_train['ds'].dt.hour == 8) & (data_train['ds'].dt.dayofweek <= 5)).astype(int)\n",
    "    data_train['is_afternoon_peak'] = ((data_train['ds'].dt.hour == 18) & (data_train['ds'].dt.dayofweek <= 5)).astype(int)\n",
    "    data_train['is_closed'] = ((data_train['ds'].dt.hour >= 0) & (data_train['ds'].dt.hour <= 4)).astype(int)\n",
    "\n",
    "    model = Prophet(changepoint_prior_scale=0.002, seasonality_prior_scale=12.0,\n",
    "                    holidays_prior_scale=10.0, seasonality_mode='multiplicative', daily_seasonality=True)\n",
    "    model.add_regressor('is_morning_peak')\n",
    "    model.add_regressor('is_afternoon_peak')\n",
    "    model.add_regressor('is_closed')\n",
    "    model.add_country_holidays(country_name='SK')\n",
    "    print(data_train)\n",
    "    model.fit(data_train)\n",
    "\n",
    "    # Create a future dataframe for predictions\n",
    "    future = model.make_future_dataframe(periods=days*24, include_history=False, freq='h')  # Forecasting for the next week\n",
    "    future['is_morning_peak'] = ((future['ds'].dt.hour >= 7) & (future['ds'].dt.hour <= 9)).astype(int)\n",
    "    future['is_afternoon_peak'] = ((future['ds'].dt.hour >= 17) & (future['ds'].dt.hour <= 19)).astype(int)\n",
    "    future['is_closed'] = ((future['ds'].dt.hour >= 0) & (future['ds'].dt.hour <= 4)).astype(int)\n",
    "    future['is_weekend'] = (future['ds'].dt.dayofweek >= 5).astype(int)\n",
    "\n",
    "    # Generate predictions\n",
    "    forecast = model.predict(future)\n",
    "    prediction = forecast[['ds', 'yhat', 'yhat_lower', 'yhat_upper']]\n",
    "\n",
    "    result = mape(prediction['yhat'].values, data_test['y'].values)\n",
    "\n",
    "    mapes.append(f\"{station_charlotte[i][0]} {station_charlotte[i][1]} : {result}\")\n"
   ]
  },
  {
   "cell_type": "code",
   "execution_count": 11,
   "metadata": {},
   "outputs": [
    {
     "data": {
      "text/plain": [
       "['Dongjak (Seoul National Cemetery) 4 : 0.44767686964798187',\n",
       " 'Gangnam 2 : 0.36723917955810564',\n",
       " 'Gireum 4 : 0.3937163045630341',\n",
       " 'Guro Digital Complex 2 : 0.4104422373034778',\n",
       " 'Gwanghwamun(Sejong Center for the Performing Arts) 5 : 0.46988274901135046',\n",
       " 'Hongik Univ. 2 : 0.3626736108370661',\n",
       " 'Itaewon 6 : 0.3964622954276266',\n",
       " 'Jamsilsaenae 2 : 0.3749862969088007',\n",
       " 'Mok-dong 5 : 0.391478945050503',\n",
       " 'Nokbeon 3 : 0.3823872823300582',\n",
       " 'Seongsu 2 : 0.4291267200948345',\n",
       " 'Seoul Station 1 : 0.378007073321204',\n",
       " 'Seoul Station 4 : 0.3844574255710978',\n",
       " 'World Cup Stadium(Seongsan) 6 : 0.4595313302137594',\n",
       " 'Yeonsinnae 3 : 0.3535029540106051',\n",
       " 'Yeonsinnae 6 : 0.0',\n",
       " 'Yeouido 5 : 0.43913661450212577']"
      ]
     },
     "execution_count": 11,
     "metadata": {},
     "output_type": "execute_result"
    }
   ],
   "source": [
    "mapes\n"
   ]
  },
  {
   "cell_type": "markdown",
   "metadata": {},
   "source": [
    "## Improving params"
   ]
  },
  {
   "cell_type": "code",
   "execution_count": 31,
   "metadata": {},
   "outputs": [
    {
     "name": "stderr",
     "output_type": "stream",
     "text": [
      "/var/folders/zn/b4l6fdhd4fs52t3wxt1d7kn40000gn/T/ipykernel_64651/364441125.py:1: DtypeWarning: Columns (3) have mixed types. Specify dtype option on import or set low_memory=False.\n",
      "  df = pd.read_csv('/Users/thomas_metral/code/thomas-metral/metro_seoul/raw_data/crowd2020-2023.csv')\n",
      "/Users/thomas_metral/code/thomas-metral/metro_seoul/metro_app/ml_logic/preprocess.py:62: SettingWithCopyWarning: \n",
      "A value is trying to be set on a copy of a slice from a DataFrame.\n",
      "Try using .loc[row_indexer,col_indexer] = value instead\n",
      "\n",
      "See the caveats in the documentation: https://pandas.pydata.org/pandas-docs/stable/user_guide/indexing.html#returning-a-view-versus-a-copy\n",
      "  df['date'] = pd.to_datetime(df['date'])\n",
      "/Users/thomas_metral/code/thomas-metral/metro_seoul/metro_app/ml_logic/preprocess.py:63: SettingWithCopyWarning: \n",
      "A value is trying to be set on a copy of a slice from a DataFrame.\n",
      "Try using .loc[row_indexer,col_indexer] = value instead\n",
      "\n",
      "See the caveats in the documentation: https://pandas.pydata.org/pandas-docs/stable/user_guide/indexing.html#returning-a-view-versus-a-copy\n",
      "  df['line'] = df['line'].astype('int')\n"
     ]
    }
   ],
   "source": [
    "df = pd.read_csv('/Users/thomas_metral/code/thomas-metral/metro_seoul/raw_data/crowd2020-2023.csv')\n",
    "df1 = general_preprocessing(df)\n",
    "df2 = model_data_preprocessing(df1)\n",
    "df2.reset_index(inplace=True)\n",
    "df3 = df2.groupby(['datetime', 'station_name', 'station_number', 'line'])['value'].sum().reset_index()\n",
    "data = df3[(df3['station_name'] == 'Seongsu') &\n",
    "                (df3['line'] == 2)]\n",
    "\n",
    "data = data.rename(columns={'datetime':'ds', 'value' : 'y'})\n"
   ]
  },
  {
   "cell_type": "markdown",
   "metadata": {},
   "source": [
    "### Feature engineering"
   ]
  },
  {
   "cell_type": "code",
   "execution_count": 149,
   "metadata": {},
   "outputs": [],
   "source": [
    "#lenght of test data\n",
    "days = 5\n",
    "\n",
    "# index = round(train_size*df_156.shape[0])\n",
    "data_train = data.iloc[:-24*days]\n",
    "data_test = data.iloc[-24*days:]\n",
    "\n",
    "#shorten the train data\n",
    "data_train = data_train.iloc[-24*500:]\n",
    "\n",
    "data_train['is_morning_peak'] = ((data_train['ds'].dt.hour == 8) & (data_train['ds'].dt.dayofweek <= 5)).astype(int)\n",
    "data_train['is_afternoon_peak'] = ((data_train['ds'].dt.hour == 18) & (data_train['ds'].dt.dayofweek <= 5)).astype(int)\n",
    "data_train['is_closed'] = ((data_train['ds'].dt.hour >= 0) & (data_train['ds'].dt.hour <= 4)).astype(int)\n"
   ]
  },
  {
   "cell_type": "code",
   "execution_count": 153,
   "metadata": {},
   "outputs": [
    {
     "name": "stderr",
     "output_type": "stream",
     "text": [
      "18:01:34 - cmdstanpy - INFO - Chain [1] start processing\n",
      "18:01:37 - cmdstanpy - INFO - Chain [1] done processing\n"
     ]
    },
    {
     "data": {
      "text/plain": [
       "0.3450534607843332"
      ]
     },
     "execution_count": 153,
     "metadata": {},
     "output_type": "execute_result"
    }
   ],
   "source": [
    "#instantiate and fit the model\n",
    "model = Prophet(changepoint_prior_scale=0.2, seasonality_prior_scale=10.0,\n",
    "                holidays_prior_scale=10.0, seasonality_mode='multiplicative')\n",
    "# model.add_regressor('is_morning_peak')\n",
    "# model.add_regressor('is_afternoon_peak')\n",
    "\n",
    "model.add_regressor('is_closed', mode='multiplicative')\n",
    "model.add_seasonality(name='morning_peak', period=1, fourier_order=8, condition_name='is_morning_peak')\n",
    "model.add_seasonality(name='afternoon_peak', period=1, fourier_order=8, condition_name='is_afternoon_peak')\n",
    "model.add_country_holidays(country_name='SK')\n",
    "model.fit(data_train)\n",
    "\n",
    "# Create a future dataframe for predictions\n",
    "future = model.make_future_dataframe(periods=days*24, include_history=False, freq='h')  # Forecasting for the next week\n",
    "future['is_morning_peak'] = ((future['ds'].dt.hour >= 7) & (future['ds'].dt.hour <= 9)).astype(int)\n",
    "future['is_afternoon_peak'] = ((future['ds'].dt.hour >= 17) & (future['ds'].dt.hour <= 19)).astype(int)\n",
    "future['is_closed'] = ((future['ds'].dt.hour >= 0) & (future['ds'].dt.hour <= 4)).astype(int)\n",
    "future['is_weekend'] = (future['ds'].dt.dayofweek >= 5).astype(int)\n",
    "\n",
    "# Generate predictions\n",
    "forecast = model.predict(future)\n",
    "prediction = forecast[['ds', 'yhat', 'yhat_lower', 'yhat_upper']]\n",
    "\n",
    "mape(prediction['yhat'].values, data_test['y'].values)\n"
   ]
  },
  {
   "cell_type": "code",
   "execution_count": 151,
   "metadata": {},
   "outputs": [
    {
     "data": {
      "application/vnd.plotly.v1+json": {
       "config": {
        "plotlyServerURL": "https://plot.ly"
       },
       "data": [
        {
         "hovertemplate": "variable=y<br>ds=%{x}<br>value=%{y}<extra></extra>",
         "legendgroup": "y",
         "line": {
          "color": "#636efa",
          "dash": "solid"
         },
         "marker": {
          "symbol": "circle"
         },
         "mode": "lines",
         "name": "y",
         "orientation": "v",
         "showlegend": true,
         "type": "scatter",
         "x": [
          "2023-06-26T01:00:00",
          "2023-06-26T02:00:00",
          "2023-06-26T03:00:00",
          "2023-06-26T04:00:00",
          "2023-06-26T05:00:00",
          "2023-06-26T06:00:00",
          "2023-06-26T07:00:00",
          "2023-06-26T08:00:00",
          "2023-06-26T09:00:00",
          "2023-06-26T10:00:00",
          "2023-06-26T11:00:00",
          "2023-06-26T12:00:00",
          "2023-06-26T13:00:00",
          "2023-06-26T14:00:00",
          "2023-06-26T15:00:00",
          "2023-06-26T16:00:00",
          "2023-06-26T17:00:00",
          "2023-06-26T18:00:00",
          "2023-06-26T19:00:00",
          "2023-06-26T20:00:00",
          "2023-06-26T21:00:00",
          "2023-06-26T22:00:00",
          "2023-06-26T23:00:00",
          "2023-06-27T00:00:00",
          "2023-06-27T01:00:00",
          "2023-06-27T02:00:00",
          "2023-06-27T03:00:00",
          "2023-06-27T04:00:00",
          "2023-06-27T05:00:00",
          "2023-06-27T06:00:00",
          "2023-06-27T07:00:00",
          "2023-06-27T08:00:00",
          "2023-06-27T09:00:00",
          "2023-06-27T10:00:00",
          "2023-06-27T11:00:00",
          "2023-06-27T12:00:00",
          "2023-06-27T13:00:00",
          "2023-06-27T14:00:00",
          "2023-06-27T15:00:00",
          "2023-06-27T16:00:00",
          "2023-06-27T17:00:00",
          "2023-06-27T18:00:00",
          "2023-06-27T19:00:00",
          "2023-06-27T20:00:00",
          "2023-06-27T21:00:00",
          "2023-06-27T22:00:00",
          "2023-06-27T23:00:00",
          "2023-06-28T00:00:00",
          "2023-06-28T01:00:00",
          "2023-06-28T02:00:00",
          "2023-06-28T03:00:00",
          "2023-06-28T04:00:00",
          "2023-06-28T05:00:00",
          "2023-06-28T06:00:00",
          "2023-06-28T07:00:00",
          "2023-06-28T08:00:00",
          "2023-06-28T09:00:00",
          "2023-06-28T10:00:00",
          "2023-06-28T11:00:00",
          "2023-06-28T12:00:00",
          "2023-06-28T13:00:00",
          "2023-06-28T14:00:00",
          "2023-06-28T15:00:00",
          "2023-06-28T16:00:00",
          "2023-06-28T17:00:00",
          "2023-06-28T18:00:00",
          "2023-06-28T19:00:00",
          "2023-06-28T20:00:00",
          "2023-06-28T21:00:00",
          "2023-06-28T22:00:00",
          "2023-06-28T23:00:00",
          "2023-06-29T00:00:00",
          "2023-06-29T01:00:00",
          "2023-06-29T02:00:00",
          "2023-06-29T03:00:00",
          "2023-06-29T04:00:00",
          "2023-06-29T05:00:00",
          "2023-06-29T06:00:00",
          "2023-06-29T07:00:00",
          "2023-06-29T08:00:00",
          "2023-06-29T09:00:00",
          "2023-06-29T10:00:00",
          "2023-06-29T11:00:00",
          "2023-06-29T12:00:00",
          "2023-06-29T13:00:00",
          "2023-06-29T14:00:00",
          "2023-06-29T15:00:00",
          "2023-06-29T16:00:00",
          "2023-06-29T17:00:00",
          "2023-06-29T18:00:00",
          "2023-06-29T19:00:00",
          "2023-06-29T20:00:00",
          "2023-06-29T21:00:00",
          "2023-06-29T22:00:00",
          "2023-06-29T23:00:00",
          "2023-06-30T00:00:00",
          "2023-06-30T01:00:00",
          "2023-06-30T02:00:00",
          "2023-06-30T03:00:00",
          "2023-06-30T04:00:00",
          "2023-06-30T05:00:00",
          "2023-06-30T06:00:00",
          "2023-06-30T07:00:00",
          "2023-06-30T08:00:00",
          "2023-06-30T09:00:00",
          "2023-06-30T10:00:00",
          "2023-06-30T11:00:00",
          "2023-06-30T12:00:00",
          "2023-06-30T13:00:00",
          "2023-06-30T14:00:00",
          "2023-06-30T15:00:00",
          "2023-06-30T16:00:00",
          "2023-06-30T17:00:00",
          "2023-06-30T18:00:00",
          "2023-06-30T19:00:00",
          "2023-06-30T20:00:00",
          "2023-06-30T21:00:00",
          "2023-06-30T22:00:00",
          "2023-06-30T23:00:00",
          "2023-07-01T00:00:00"
         ],
         "xaxis": "x",
         "y": [
          0,
          0,
          0,
          0,
          346,
          1580,
          4570,
          13807,
          7997,
          3278,
          2544,
          2845,
          3110,
          3078,
          3432,
          3859,
          6951,
          13394,
          6115,
          3485,
          2896,
          1965,
          828,
          0,
          0,
          0,
          0,
          0,
          386,
          1709,
          4398,
          13935,
          7937,
          3541,
          3015,
          3003,
          3570,
          3709,
          3960,
          4387,
          7521,
          13651,
          6359,
          3898,
          3302,
          2430,
          1114,
          0,
          0,
          0,
          0,
          0,
          382,
          1692,
          4471,
          13550,
          7979,
          3616,
          2869,
          3034,
          3517,
          3800,
          4065,
          4497,
          7710,
          13574,
          6390,
          3864,
          3401,
          2588,
          1176,
          0,
          0,
          0,
          0,
          0,
          362,
          1656,
          4269,
          13596,
          7711,
          3600,
          2360,
          2737,
          2737,
          2954,
          3090,
          3902,
          6712,
          12698,
          5834,
          3446,
          3030,
          2301,
          1173,
          0,
          0,
          0,
          0,
          0,
          390,
          1582,
          4214,
          12999,
          7542,
          3482,
          3075,
          3393,
          3936,
          3977,
          4675,
          5473,
          8194,
          13450,
          6268,
          3814,
          3321,
          2597,
          1588,
          0
         ],
         "yaxis": "y"
        },
        {
         "hovertemplate": "variable=yhat<br>ds=%{x}<br>value=%{y}<extra></extra>",
         "legendgroup": "yhat",
         "line": {
          "color": "#EF553B",
          "dash": "solid"
         },
         "marker": {
          "symbol": "circle"
         },
         "mode": "lines",
         "name": "yhat",
         "orientation": "v",
         "showlegend": true,
         "type": "scatter",
         "x": [
          "2023-06-26T01:00:00",
          "2023-06-26T02:00:00",
          "2023-06-26T03:00:00",
          "2023-06-26T04:00:00",
          "2023-06-26T05:00:00",
          "2023-06-26T06:00:00",
          "2023-06-26T07:00:00",
          "2023-06-26T08:00:00",
          "2023-06-26T09:00:00",
          "2023-06-26T10:00:00",
          "2023-06-26T11:00:00",
          "2023-06-26T12:00:00",
          "2023-06-26T13:00:00",
          "2023-06-26T14:00:00",
          "2023-06-26T15:00:00",
          "2023-06-26T16:00:00",
          "2023-06-26T17:00:00",
          "2023-06-26T18:00:00",
          "2023-06-26T19:00:00",
          "2023-06-26T20:00:00",
          "2023-06-26T21:00:00",
          "2023-06-26T22:00:00",
          "2023-06-26T23:00:00",
          "2023-06-27T00:00:00",
          "2023-06-27T01:00:00",
          "2023-06-27T02:00:00",
          "2023-06-27T03:00:00",
          "2023-06-27T04:00:00",
          "2023-06-27T05:00:00",
          "2023-06-27T06:00:00",
          "2023-06-27T07:00:00",
          "2023-06-27T08:00:00",
          "2023-06-27T09:00:00",
          "2023-06-27T10:00:00",
          "2023-06-27T11:00:00",
          "2023-06-27T12:00:00",
          "2023-06-27T13:00:00",
          "2023-06-27T14:00:00",
          "2023-06-27T15:00:00",
          "2023-06-27T16:00:00",
          "2023-06-27T17:00:00",
          "2023-06-27T18:00:00",
          "2023-06-27T19:00:00",
          "2023-06-27T20:00:00",
          "2023-06-27T21:00:00",
          "2023-06-27T22:00:00",
          "2023-06-27T23:00:00",
          "2023-06-28T00:00:00",
          "2023-06-28T01:00:00",
          "2023-06-28T02:00:00",
          "2023-06-28T03:00:00",
          "2023-06-28T04:00:00",
          "2023-06-28T05:00:00",
          "2023-06-28T06:00:00",
          "2023-06-28T07:00:00",
          "2023-06-28T08:00:00",
          "2023-06-28T09:00:00",
          "2023-06-28T10:00:00",
          "2023-06-28T11:00:00",
          "2023-06-28T12:00:00",
          "2023-06-28T13:00:00",
          "2023-06-28T14:00:00",
          "2023-06-28T15:00:00",
          "2023-06-28T16:00:00",
          "2023-06-28T17:00:00",
          "2023-06-28T18:00:00",
          "2023-06-28T19:00:00",
          "2023-06-28T20:00:00",
          "2023-06-28T21:00:00",
          "2023-06-28T22:00:00",
          "2023-06-28T23:00:00",
          "2023-06-29T00:00:00",
          "2023-06-29T01:00:00",
          "2023-06-29T02:00:00",
          "2023-06-29T03:00:00",
          "2023-06-29T04:00:00",
          "2023-06-29T05:00:00",
          "2023-06-29T06:00:00",
          "2023-06-29T07:00:00",
          "2023-06-29T08:00:00",
          "2023-06-29T09:00:00",
          "2023-06-29T10:00:00",
          "2023-06-29T11:00:00",
          "2023-06-29T12:00:00",
          "2023-06-29T13:00:00",
          "2023-06-29T14:00:00",
          "2023-06-29T15:00:00",
          "2023-06-29T16:00:00",
          "2023-06-29T17:00:00",
          "2023-06-29T18:00:00",
          "2023-06-29T19:00:00",
          "2023-06-29T20:00:00",
          "2023-06-29T21:00:00",
          "2023-06-29T22:00:00",
          "2023-06-29T23:00:00",
          "2023-06-30T00:00:00",
          "2023-06-30T01:00:00",
          "2023-06-30T02:00:00",
          "2023-06-30T03:00:00",
          "2023-06-30T04:00:00",
          "2023-06-30T05:00:00",
          "2023-06-30T06:00:00",
          "2023-06-30T07:00:00",
          "2023-06-30T08:00:00",
          "2023-06-30T09:00:00",
          "2023-06-30T10:00:00",
          "2023-06-30T11:00:00",
          "2023-06-30T12:00:00",
          "2023-06-30T13:00:00",
          "2023-06-30T14:00:00",
          "2023-06-30T15:00:00",
          "2023-06-30T16:00:00",
          "2023-06-30T17:00:00",
          "2023-06-30T18:00:00",
          "2023-06-30T19:00:00",
          "2023-06-30T20:00:00",
          "2023-06-30T21:00:00",
          "2023-06-30T22:00:00",
          "2023-06-30T23:00:00",
          "2023-07-01T00:00:00"
         ],
         "xaxis": "x",
         "y": [
          -195.23095307686702,
          -292.75443687333234,
          -496.8220468989177,
          -535.4106356676717,
          291.55824335434926,
          1473.0489151626966,
          5126.436838095506,
          10920.827928289906,
          6512.018894774567,
          3799.6762153278382,
          2980.292918302515,
          2497.43355290123,
          2656.1978414563937,
          3330.548492723077,
          4161.857636943562,
          4839.555351278333,
          7140.492827401144,
          11304.60563652814,
          6809.453896016312,
          4102.596577734482,
          3018.7538952930927,
          1939.7513324848076,
          1185.0628869209972,
          544.9404367894283,
          454.9067927428422,
          322.81309891080014,
          84.7890954201078,
          12.893817409424436,
          806.9070870424258,
          1956.3354612660494,
          5577.18134521349,
          11338.905549728619,
          6906.253449948565,
          4170.411281455469,
          3327.764003560457,
          2823.0003453679287,
          2960.9836596032565,
          3615.7272727482914,
          4428.800601657289,
          5089.77861284398,
          7374.143439618104,
          11521.552216900314,
          7017.003822045932,
          4300.433620708829,
          3206.553357279606,
          2118.2220031029287,
          1354.5573155593045,
          705.8390447592357,
          607.1611294898426,
          466.69270214388285,
          220.51314402499204,
          140.40268891682132,
          925.5694996200995,
          2065.8332324012163,
          5675.639533504966,
          11424.666618703946,
          6986.5173162127,
          4243.85201323415,
          3392.9462293476377,
          2879.6536949507945,
          3008.681724407478,
          3654.210832188986,
          4458.1567271342965,
          5110.416429256128,
          7385.303656594097,
          11522.416221229229,
          7014.424083081929,
          4293.879100696065,
          3195.7269100989065,
          2104.0990680311024,
          1337.9874895679634,
          687.9162196185159,
          588.7477435057231,
          449.142888497637,
          205.27635978148385,
          128.76339715767884,
          918.3191077196786,
          2064.116892983061,
          5679.046195492828,
          11432.961624444859,
          7008.240089914617,
          4278.890311304567,
          3440.910719668212,
          2941.1118977171022,
          3083.798495777836,
          3743.0358132664296,
          4560.7710115934315,
          5226.879832698814,
          7514.140252048644,
          11661.704429838726,
          7169.513497645388,
          4462.3281015383045,
          3374.9183299500137,
          2292.2834224680423,
          1532.8954658238247,
          887.1461414921588,
          789.3135010124312,
          648.2269642493159,
          399.86929813546516,
          315.4449653360624,
          1092.9769453090307,
          2222.8447715996485,
          5816.289719204268,
          11543.310044344275,
          7095.086091692367,
          4337.068519923744,
          3465.137907825842,
          2927.2871264372243,
          3027.7095384564395,
          3640.7114441386398,
          4408.690570258985,
          5021.980614359267,
          7252.359575445165,
          11339.121887643552,
          6790.1148305048155,
          4022.9840582797387,
          2873.0351434164713,
          1726.8738537879944,
          903.2116234408626,
          193.0793888633375
         ],
         "yaxis": "y"
        }
       ],
       "layout": {
        "legend": {
         "title": {
          "text": "variable"
         },
         "tracegroupgap": 0
        },
        "margin": {
         "t": 60
        },
        "template": {
         "data": {
          "bar": [
           {
            "error_x": {
             "color": "#2a3f5f"
            },
            "error_y": {
             "color": "#2a3f5f"
            },
            "marker": {
             "line": {
              "color": "#E5ECF6",
              "width": 0.5
             },
             "pattern": {
              "fillmode": "overlay",
              "size": 10,
              "solidity": 0.2
             }
            },
            "type": "bar"
           }
          ],
          "barpolar": [
           {
            "marker": {
             "line": {
              "color": "#E5ECF6",
              "width": 0.5
             },
             "pattern": {
              "fillmode": "overlay",
              "size": 10,
              "solidity": 0.2
             }
            },
            "type": "barpolar"
           }
          ],
          "carpet": [
           {
            "aaxis": {
             "endlinecolor": "#2a3f5f",
             "gridcolor": "white",
             "linecolor": "white",
             "minorgridcolor": "white",
             "startlinecolor": "#2a3f5f"
            },
            "baxis": {
             "endlinecolor": "#2a3f5f",
             "gridcolor": "white",
             "linecolor": "white",
             "minorgridcolor": "white",
             "startlinecolor": "#2a3f5f"
            },
            "type": "carpet"
           }
          ],
          "choropleth": [
           {
            "colorbar": {
             "outlinewidth": 0,
             "ticks": ""
            },
            "type": "choropleth"
           }
          ],
          "contour": [
           {
            "colorbar": {
             "outlinewidth": 0,
             "ticks": ""
            },
            "colorscale": [
             [
              0,
              "#0d0887"
             ],
             [
              0.1111111111111111,
              "#46039f"
             ],
             [
              0.2222222222222222,
              "#7201a8"
             ],
             [
              0.3333333333333333,
              "#9c179e"
             ],
             [
              0.4444444444444444,
              "#bd3786"
             ],
             [
              0.5555555555555556,
              "#d8576b"
             ],
             [
              0.6666666666666666,
              "#ed7953"
             ],
             [
              0.7777777777777778,
              "#fb9f3a"
             ],
             [
              0.8888888888888888,
              "#fdca26"
             ],
             [
              1,
              "#f0f921"
             ]
            ],
            "type": "contour"
           }
          ],
          "contourcarpet": [
           {
            "colorbar": {
             "outlinewidth": 0,
             "ticks": ""
            },
            "type": "contourcarpet"
           }
          ],
          "heatmap": [
           {
            "colorbar": {
             "outlinewidth": 0,
             "ticks": ""
            },
            "colorscale": [
             [
              0,
              "#0d0887"
             ],
             [
              0.1111111111111111,
              "#46039f"
             ],
             [
              0.2222222222222222,
              "#7201a8"
             ],
             [
              0.3333333333333333,
              "#9c179e"
             ],
             [
              0.4444444444444444,
              "#bd3786"
             ],
             [
              0.5555555555555556,
              "#d8576b"
             ],
             [
              0.6666666666666666,
              "#ed7953"
             ],
             [
              0.7777777777777778,
              "#fb9f3a"
             ],
             [
              0.8888888888888888,
              "#fdca26"
             ],
             [
              1,
              "#f0f921"
             ]
            ],
            "type": "heatmap"
           }
          ],
          "heatmapgl": [
           {
            "colorbar": {
             "outlinewidth": 0,
             "ticks": ""
            },
            "colorscale": [
             [
              0,
              "#0d0887"
             ],
             [
              0.1111111111111111,
              "#46039f"
             ],
             [
              0.2222222222222222,
              "#7201a8"
             ],
             [
              0.3333333333333333,
              "#9c179e"
             ],
             [
              0.4444444444444444,
              "#bd3786"
             ],
             [
              0.5555555555555556,
              "#d8576b"
             ],
             [
              0.6666666666666666,
              "#ed7953"
             ],
             [
              0.7777777777777778,
              "#fb9f3a"
             ],
             [
              0.8888888888888888,
              "#fdca26"
             ],
             [
              1,
              "#f0f921"
             ]
            ],
            "type": "heatmapgl"
           }
          ],
          "histogram": [
           {
            "marker": {
             "pattern": {
              "fillmode": "overlay",
              "size": 10,
              "solidity": 0.2
             }
            },
            "type": "histogram"
           }
          ],
          "histogram2d": [
           {
            "colorbar": {
             "outlinewidth": 0,
             "ticks": ""
            },
            "colorscale": [
             [
              0,
              "#0d0887"
             ],
             [
              0.1111111111111111,
              "#46039f"
             ],
             [
              0.2222222222222222,
              "#7201a8"
             ],
             [
              0.3333333333333333,
              "#9c179e"
             ],
             [
              0.4444444444444444,
              "#bd3786"
             ],
             [
              0.5555555555555556,
              "#d8576b"
             ],
             [
              0.6666666666666666,
              "#ed7953"
             ],
             [
              0.7777777777777778,
              "#fb9f3a"
             ],
             [
              0.8888888888888888,
              "#fdca26"
             ],
             [
              1,
              "#f0f921"
             ]
            ],
            "type": "histogram2d"
           }
          ],
          "histogram2dcontour": [
           {
            "colorbar": {
             "outlinewidth": 0,
             "ticks": ""
            },
            "colorscale": [
             [
              0,
              "#0d0887"
             ],
             [
              0.1111111111111111,
              "#46039f"
             ],
             [
              0.2222222222222222,
              "#7201a8"
             ],
             [
              0.3333333333333333,
              "#9c179e"
             ],
             [
              0.4444444444444444,
              "#bd3786"
             ],
             [
              0.5555555555555556,
              "#d8576b"
             ],
             [
              0.6666666666666666,
              "#ed7953"
             ],
             [
              0.7777777777777778,
              "#fb9f3a"
             ],
             [
              0.8888888888888888,
              "#fdca26"
             ],
             [
              1,
              "#f0f921"
             ]
            ],
            "type": "histogram2dcontour"
           }
          ],
          "mesh3d": [
           {
            "colorbar": {
             "outlinewidth": 0,
             "ticks": ""
            },
            "type": "mesh3d"
           }
          ],
          "parcoords": [
           {
            "line": {
             "colorbar": {
              "outlinewidth": 0,
              "ticks": ""
             }
            },
            "type": "parcoords"
           }
          ],
          "pie": [
           {
            "automargin": true,
            "type": "pie"
           }
          ],
          "scatter": [
           {
            "fillpattern": {
             "fillmode": "overlay",
             "size": 10,
             "solidity": 0.2
            },
            "type": "scatter"
           }
          ],
          "scatter3d": [
           {
            "line": {
             "colorbar": {
              "outlinewidth": 0,
              "ticks": ""
             }
            },
            "marker": {
             "colorbar": {
              "outlinewidth": 0,
              "ticks": ""
             }
            },
            "type": "scatter3d"
           }
          ],
          "scattercarpet": [
           {
            "marker": {
             "colorbar": {
              "outlinewidth": 0,
              "ticks": ""
             }
            },
            "type": "scattercarpet"
           }
          ],
          "scattergeo": [
           {
            "marker": {
             "colorbar": {
              "outlinewidth": 0,
              "ticks": ""
             }
            },
            "type": "scattergeo"
           }
          ],
          "scattergl": [
           {
            "marker": {
             "colorbar": {
              "outlinewidth": 0,
              "ticks": ""
             }
            },
            "type": "scattergl"
           }
          ],
          "scattermapbox": [
           {
            "marker": {
             "colorbar": {
              "outlinewidth": 0,
              "ticks": ""
             }
            },
            "type": "scattermapbox"
           }
          ],
          "scatterpolar": [
           {
            "marker": {
             "colorbar": {
              "outlinewidth": 0,
              "ticks": ""
             }
            },
            "type": "scatterpolar"
           }
          ],
          "scatterpolargl": [
           {
            "marker": {
             "colorbar": {
              "outlinewidth": 0,
              "ticks": ""
             }
            },
            "type": "scatterpolargl"
           }
          ],
          "scatterternary": [
           {
            "marker": {
             "colorbar": {
              "outlinewidth": 0,
              "ticks": ""
             }
            },
            "type": "scatterternary"
           }
          ],
          "surface": [
           {
            "colorbar": {
             "outlinewidth": 0,
             "ticks": ""
            },
            "colorscale": [
             [
              0,
              "#0d0887"
             ],
             [
              0.1111111111111111,
              "#46039f"
             ],
             [
              0.2222222222222222,
              "#7201a8"
             ],
             [
              0.3333333333333333,
              "#9c179e"
             ],
             [
              0.4444444444444444,
              "#bd3786"
             ],
             [
              0.5555555555555556,
              "#d8576b"
             ],
             [
              0.6666666666666666,
              "#ed7953"
             ],
             [
              0.7777777777777778,
              "#fb9f3a"
             ],
             [
              0.8888888888888888,
              "#fdca26"
             ],
             [
              1,
              "#f0f921"
             ]
            ],
            "type": "surface"
           }
          ],
          "table": [
           {
            "cells": {
             "fill": {
              "color": "#EBF0F8"
             },
             "line": {
              "color": "white"
             }
            },
            "header": {
             "fill": {
              "color": "#C8D4E3"
             },
             "line": {
              "color": "white"
             }
            },
            "type": "table"
           }
          ]
         },
         "layout": {
          "annotationdefaults": {
           "arrowcolor": "#2a3f5f",
           "arrowhead": 0,
           "arrowwidth": 1
          },
          "autotypenumbers": "strict",
          "coloraxis": {
           "colorbar": {
            "outlinewidth": 0,
            "ticks": ""
           }
          },
          "colorscale": {
           "diverging": [
            [
             0,
             "#8e0152"
            ],
            [
             0.1,
             "#c51b7d"
            ],
            [
             0.2,
             "#de77ae"
            ],
            [
             0.3,
             "#f1b6da"
            ],
            [
             0.4,
             "#fde0ef"
            ],
            [
             0.5,
             "#f7f7f7"
            ],
            [
             0.6,
             "#e6f5d0"
            ],
            [
             0.7,
             "#b8e186"
            ],
            [
             0.8,
             "#7fbc41"
            ],
            [
             0.9,
             "#4d9221"
            ],
            [
             1,
             "#276419"
            ]
           ],
           "sequential": [
            [
             0,
             "#0d0887"
            ],
            [
             0.1111111111111111,
             "#46039f"
            ],
            [
             0.2222222222222222,
             "#7201a8"
            ],
            [
             0.3333333333333333,
             "#9c179e"
            ],
            [
             0.4444444444444444,
             "#bd3786"
            ],
            [
             0.5555555555555556,
             "#d8576b"
            ],
            [
             0.6666666666666666,
             "#ed7953"
            ],
            [
             0.7777777777777778,
             "#fb9f3a"
            ],
            [
             0.8888888888888888,
             "#fdca26"
            ],
            [
             1,
             "#f0f921"
            ]
           ],
           "sequentialminus": [
            [
             0,
             "#0d0887"
            ],
            [
             0.1111111111111111,
             "#46039f"
            ],
            [
             0.2222222222222222,
             "#7201a8"
            ],
            [
             0.3333333333333333,
             "#9c179e"
            ],
            [
             0.4444444444444444,
             "#bd3786"
            ],
            [
             0.5555555555555556,
             "#d8576b"
            ],
            [
             0.6666666666666666,
             "#ed7953"
            ],
            [
             0.7777777777777778,
             "#fb9f3a"
            ],
            [
             0.8888888888888888,
             "#fdca26"
            ],
            [
             1,
             "#f0f921"
            ]
           ]
          },
          "colorway": [
           "#636efa",
           "#EF553B",
           "#00cc96",
           "#ab63fa",
           "#FFA15A",
           "#19d3f3",
           "#FF6692",
           "#B6E880",
           "#FF97FF",
           "#FECB52"
          ],
          "font": {
           "color": "#2a3f5f"
          },
          "geo": {
           "bgcolor": "white",
           "lakecolor": "white",
           "landcolor": "#E5ECF6",
           "showlakes": true,
           "showland": true,
           "subunitcolor": "white"
          },
          "hoverlabel": {
           "align": "left"
          },
          "hovermode": "closest",
          "mapbox": {
           "style": "light"
          },
          "paper_bgcolor": "white",
          "plot_bgcolor": "#E5ECF6",
          "polar": {
           "angularaxis": {
            "gridcolor": "white",
            "linecolor": "white",
            "ticks": ""
           },
           "bgcolor": "#E5ECF6",
           "radialaxis": {
            "gridcolor": "white",
            "linecolor": "white",
            "ticks": ""
           }
          },
          "scene": {
           "xaxis": {
            "backgroundcolor": "#E5ECF6",
            "gridcolor": "white",
            "gridwidth": 2,
            "linecolor": "white",
            "showbackground": true,
            "ticks": "",
            "zerolinecolor": "white"
           },
           "yaxis": {
            "backgroundcolor": "#E5ECF6",
            "gridcolor": "white",
            "gridwidth": 2,
            "linecolor": "white",
            "showbackground": true,
            "ticks": "",
            "zerolinecolor": "white"
           },
           "zaxis": {
            "backgroundcolor": "#E5ECF6",
            "gridcolor": "white",
            "gridwidth": 2,
            "linecolor": "white",
            "showbackground": true,
            "ticks": "",
            "zerolinecolor": "white"
           }
          },
          "shapedefaults": {
           "line": {
            "color": "#2a3f5f"
           }
          },
          "ternary": {
           "aaxis": {
            "gridcolor": "white",
            "linecolor": "white",
            "ticks": ""
           },
           "baxis": {
            "gridcolor": "white",
            "linecolor": "white",
            "ticks": ""
           },
           "bgcolor": "#E5ECF6",
           "caxis": {
            "gridcolor": "white",
            "linecolor": "white",
            "ticks": ""
           }
          },
          "title": {
           "x": 0.05
          },
          "xaxis": {
           "automargin": true,
           "gridcolor": "white",
           "linecolor": "white",
           "ticks": "",
           "title": {
            "standoff": 15
           },
           "zerolinecolor": "white",
           "zerolinewidth": 2
          },
          "yaxis": {
           "automargin": true,
           "gridcolor": "white",
           "linecolor": "white",
           "ticks": "",
           "title": {
            "standoff": 15
           },
           "zerolinecolor": "white",
           "zerolinewidth": 2
          }
         }
        },
        "xaxis": {
         "anchor": "y",
         "domain": [
          0,
          1
         ],
         "title": {
          "text": "ds"
         }
        },
        "yaxis": {
         "anchor": "x",
         "domain": [
          0,
          1
         ],
         "title": {
          "text": "value"
         }
        }
       }
      }
     },
     "metadata": {},
     "output_type": "display_data"
    }
   ],
   "source": [
    "comparaison = prediction.merge(data_test, on='ds')\n",
    "fig = px.line(comparaison, x=\"ds\", y=[\"y\", 'yhat'])\n",
    "# sns.lineplot(x=prediction['ds'], y=prediction['yhat'])\n",
    "# sns.lineplot(x=data_test['ds'], y=data_test['y'])\n",
    "fig.show()\n"
   ]
  },
  {
   "cell_type": "markdown",
   "metadata": {},
   "source": [
    "### CROSS VAL"
   ]
  },
  {
   "cell_type": "code",
   "execution_count": 136,
   "metadata": {},
   "outputs": [
    {
     "name": "stderr",
     "output_type": "stream",
     "text": [
      "17:51:44 - cmdstanpy - INFO - Chain [1] start processing\n",
      "17:51:45 - cmdstanpy - INFO - Chain [1] done processing\n",
      "17:51:46 - cmdstanpy - INFO - Chain [1] start processing\n",
      "17:51:46 - cmdstanpy - INFO - Chain [1] done processing\n",
      "17:51:47 - cmdstanpy - INFO - Chain [1] start processing\n",
      "17:51:47 - cmdstanpy - INFO - Chain [1] done processing\n",
      "17:51:49 - cmdstanpy - INFO - Chain [1] start processing\n",
      "17:51:49 - cmdstanpy - INFO - Chain [1] done processing\n",
      "17:51:50 - cmdstanpy - INFO - Chain [1] start processing\n",
      "17:51:50 - cmdstanpy - INFO - Chain [1] done processing\n",
      "17:51:51 - cmdstanpy - INFO - Chain [1] start processing\n",
      "17:51:52 - cmdstanpy - INFO - Chain [1] done processing\n",
      "17:51:53 - cmdstanpy - INFO - Chain [1] start processing\n",
      "17:51:53 - cmdstanpy - INFO - Chain [1] done processing\n",
      "17:51:54 - cmdstanpy - INFO - Chain [1] start processing\n",
      "17:51:55 - cmdstanpy - INFO - Chain [1] done processing\n",
      "17:51:56 - cmdstanpy - INFO - Chain [1] start processing\n",
      "17:51:56 - cmdstanpy - INFO - Chain [1] done processing\n",
      "17:51:57 - cmdstanpy - INFO - Chain [1] start processing\n",
      "17:51:58 - cmdstanpy - INFO - Chain [1] done processing\n",
      "17:51:59 - cmdstanpy - INFO - Chain [1] start processing\n",
      "17:51:59 - cmdstanpy - INFO - Chain [1] done processing\n",
      "17:52:00 - cmdstanpy - INFO - Chain [1] start processing\n",
      "17:52:01 - cmdstanpy - INFO - Chain [1] done processing\n",
      "17:52:02 - cmdstanpy - INFO - Chain [1] start processing\n",
      "17:52:02 - cmdstanpy - INFO - Chain [1] done processing\n",
      "17:52:03 - cmdstanpy - INFO - Chain [1] start processing\n",
      "17:52:04 - cmdstanpy - INFO - Chain [1] done processing\n",
      "17:52:05 - cmdstanpy - INFO - Chain [1] start processing\n",
      "17:52:05 - cmdstanpy - INFO - Chain [1] done processing\n",
      "17:52:06 - cmdstanpy - INFO - Chain [1] start processing\n",
      "17:52:07 - cmdstanpy - INFO - Chain [1] done processing\n",
      "17:52:08 - cmdstanpy - INFO - Chain [1] start processing\n",
      "17:52:08 - cmdstanpy - INFO - Chain [1] done processing\n",
      "17:52:09 - cmdstanpy - INFO - Chain [1] start processing\n",
      "17:52:10 - cmdstanpy - INFO - Chain [1] done processing\n",
      "17:52:11 - cmdstanpy - INFO - Chain [1] start processing\n",
      "17:52:11 - cmdstanpy - INFO - Chain [1] done processing\n",
      "17:52:13 - cmdstanpy - INFO - Chain [1] start processing\n",
      "17:52:14 - cmdstanpy - INFO - Chain [1] done processing\n",
      "17:52:15 - cmdstanpy - INFO - Chain [1] start processing\n",
      "17:52:16 - cmdstanpy - INFO - Chain [1] done processing\n",
      "17:52:17 - cmdstanpy - INFO - Chain [1] start processing\n",
      "17:52:18 - cmdstanpy - INFO - Chain [1] done processing\n",
      "17:52:19 - cmdstanpy - INFO - Chain [1] start processing\n",
      "17:52:20 - cmdstanpy - INFO - Chain [1] done processing\n",
      "17:52:21 - cmdstanpy - INFO - Chain [1] start processing\n",
      "17:52:22 - cmdstanpy - INFO - Chain [1] done processing\n",
      "17:52:22 - cmdstanpy - INFO - Chain [1] start processing\n",
      "17:52:24 - cmdstanpy - INFO - Chain [1] done processing\n",
      "17:52:25 - cmdstanpy - INFO - Chain [1] start processing\n",
      "17:52:25 - cmdstanpy - INFO - Chain [1] done processing\n",
      "17:52:26 - cmdstanpy - INFO - Chain [1] start processing\n",
      "17:52:27 - cmdstanpy - INFO - Chain [1] done processing\n",
      "17:52:28 - cmdstanpy - INFO - Chain [1] start processing\n",
      "17:52:29 - cmdstanpy - INFO - Chain [1] done processing\n",
      "17:52:30 - cmdstanpy - INFO - Chain [1] start processing\n",
      "17:52:31 - cmdstanpy - INFO - Chain [1] done processing\n",
      "17:52:32 - cmdstanpy - INFO - Chain [1] start processing\n",
      "17:52:32 - cmdstanpy - INFO - Chain [1] done processing\n",
      "17:52:33 - cmdstanpy - INFO - Chain [1] start processing\n",
      "17:52:34 - cmdstanpy - INFO - Chain [1] done processing\n",
      "17:52:35 - cmdstanpy - INFO - Chain [1] start processing\n",
      "17:52:36 - cmdstanpy - INFO - Chain [1] done processing\n",
      "17:52:36 - cmdstanpy - INFO - Chain [1] start processing\n",
      "17:52:37 - cmdstanpy - INFO - Chain [1] done processing\n",
      "17:52:38 - cmdstanpy - INFO - Chain [1] start processing\n",
      "17:52:39 - cmdstanpy - INFO - Chain [1] done processing\n",
      "17:52:40 - cmdstanpy - INFO - Chain [1] start processing\n",
      "17:52:41 - cmdstanpy - INFO - Chain [1] done processing\n",
      "17:52:42 - cmdstanpy - INFO - Chain [1] start processing\n",
      "17:52:43 - cmdstanpy - INFO - Chain [1] done processing\n",
      "17:52:43 - cmdstanpy - INFO - Chain [1] start processing\n",
      "17:52:45 - cmdstanpy - INFO - Chain [1] done processing\n",
      "17:52:46 - cmdstanpy - INFO - Chain [1] start processing\n",
      "17:52:48 - cmdstanpy - INFO - Chain [1] done processing\n",
      "17:52:49 - cmdstanpy - INFO - Chain [1] start processing\n",
      "17:52:50 - cmdstanpy - INFO - Chain [1] done processing\n",
      "17:52:52 - cmdstanpy - INFO - Chain [1] start processing\n",
      "17:52:53 - cmdstanpy - INFO - Chain [1] done processing\n",
      "17:52:54 - cmdstanpy - INFO - Chain [1] start processing\n",
      "17:52:55 - cmdstanpy - INFO - Chain [1] done processing\n",
      "17:52:56 - cmdstanpy - INFO - Chain [1] start processing\n",
      "17:52:58 - cmdstanpy - INFO - Chain [1] done processing\n",
      "17:52:59 - cmdstanpy - INFO - Chain [1] start processing\n",
      "17:53:01 - cmdstanpy - INFO - Chain [1] done processing\n",
      "17:53:02 - cmdstanpy - INFO - Chain [1] start processing\n",
      "17:53:04 - cmdstanpy - INFO - Chain [1] done processing\n",
      "17:53:05 - cmdstanpy - INFO - Chain [1] start processing\n",
      "17:53:07 - cmdstanpy - INFO - Chain [1] done processing\n",
      "17:53:08 - cmdstanpy - INFO - Chain [1] start processing\n",
      "17:53:10 - cmdstanpy - INFO - Chain [1] done processing\n",
      "17:53:11 - cmdstanpy - INFO - Chain [1] start processing\n",
      "17:53:12 - cmdstanpy - INFO - Chain [1] done processing\n",
      "17:53:14 - cmdstanpy - INFO - Chain [1] start processing\n",
      "17:53:16 - cmdstanpy - INFO - Chain [1] done processing\n",
      "17:53:16 - cmdstanpy - INFO - Chain [1] start processing\n",
      "17:53:18 - cmdstanpy - INFO - Chain [1] done processing\n",
      "17:53:19 - cmdstanpy - INFO - Chain [1] start processing\n",
      "17:53:20 - cmdstanpy - INFO - Chain [1] done processing\n",
      "17:53:21 - cmdstanpy - INFO - Chain [1] start processing\n",
      "17:53:23 - cmdstanpy - INFO - Chain [1] done processing\n",
      "17:53:24 - cmdstanpy - INFO - Chain [1] start processing\n",
      "17:53:26 - cmdstanpy - INFO - Chain [1] done processing\n",
      "17:53:27 - cmdstanpy - INFO - Chain [1] start processing\n",
      "17:53:28 - cmdstanpy - INFO - Chain [1] done processing\n",
      "17:53:30 - cmdstanpy - INFO - Chain [1] start processing\n"
     ]
    },
    {
     "name": "stdout",
     "output_type": "stream",
     "text": [
      "    changepoint_prior_scale  seasonality_prior_scale  holidays_prior_scale  \\\n",
      "0                     0.001                      0.1                   1.0   \n",
      "1                     0.001                      0.1                  10.0   \n",
      "2                     0.001                      0.1                  15.0   \n",
      "3                     0.001                      1.0                   1.0   \n",
      "4                     0.001                      1.0                  10.0   \n",
      "5                     0.001                      1.0                  15.0   \n",
      "6                     0.001                     10.0                   1.0   \n",
      "7                     0.001                     10.0                  10.0   \n",
      "8                     0.001                     10.0                  15.0   \n",
      "9                     0.010                      0.1                   1.0   \n",
      "10                    0.010                      0.1                  10.0   \n",
      "11                    0.010                      0.1                  15.0   \n",
      "12                    0.010                      1.0                   1.0   \n",
      "13                    0.010                      1.0                  10.0   \n",
      "14                    0.010                      1.0                  15.0   \n",
      "15                    0.010                     10.0                   1.0   \n",
      "16                    0.010                     10.0                  10.0   \n",
      "17                    0.010                     10.0                  15.0   \n",
      "18                    0.100                      0.1                   1.0   \n",
      "19                    0.100                      0.1                  10.0   \n",
      "20                    0.100                      0.1                  15.0   \n",
      "21                    0.100                      1.0                   1.0   \n",
      "22                    0.100                      1.0                  10.0   \n",
      "23                    0.100                      1.0                  15.0   \n",
      "24                    0.100                     10.0                   1.0   \n",
      "25                    0.100                     10.0                  10.0   \n",
      "26                    0.100                     10.0                  15.0   \n",
      "\n",
      "   seasonality_mode         rmse  \n",
      "0    multiplicative  2093.759851  \n",
      "1    multiplicative  2101.585508  \n",
      "2    multiplicative  2109.904920  \n",
      "3    multiplicative  2140.621483  \n",
      "4    multiplicative  2123.317675  \n",
      "5    multiplicative  2119.245148  \n",
      "6    multiplicative  2152.995894  \n",
      "7    multiplicative  2137.605905  \n",
      "8    multiplicative  2112.005533  \n",
      "9    multiplicative  2053.939753  \n",
      "10   multiplicative  2051.406539  \n",
      "11   multiplicative  2052.395875  \n",
      "12   multiplicative  2064.470544  \n",
      "13   multiplicative  2062.026955  \n",
      "14   multiplicative  2065.630824  \n",
      "15   multiplicative  2063.186151  \n",
      "16   multiplicative  2065.280700  \n",
      "17   multiplicative  2062.184952  \n",
      "18   multiplicative  2016.231731  \n",
      "19   multiplicative  2014.426343  \n",
      "20   multiplicative  2013.490298  \n",
      "21   multiplicative  2022.015004  \n",
      "22   multiplicative  2025.392703  \n",
      "23   multiplicative  2025.002101  \n",
      "24   multiplicative  2024.148009  \n",
      "25   multiplicative  2026.106914  \n",
      "26   multiplicative  2026.967160  \n"
     ]
    },
    {
     "name": "stderr",
     "output_type": "stream",
     "text": [
      "17:53:31 - cmdstanpy - INFO - Chain [1] done processing\n"
     ]
    },
    {
     "data": {
      "text/plain": [
       "changepoint_prior_scale               0.1\n",
       "seasonality_prior_scale               0.1\n",
       "holidays_prior_scale                 15.0\n",
       "seasonality_mode           multiplicative\n",
       "rmse                          2013.490298\n",
       "Name: 20, dtype: object"
      ]
     },
     "execution_count": 136,
     "metadata": {},
     "output_type": "execute_result"
    }
   ],
   "source": [
    "param_grid = {\n",
    "    'changepoint_prior_scale': [0.001, 0.01, 0.1],\n",
    "    'seasonality_prior_scale': [0.1, 1.0, 10.0],\n",
    "    'holidays_prior_scale' : [1.0, 10.0, 15.0],\n",
    "    'seasonality_mode' : ['multiplicative']\n",
    "\n",
    "}\n",
    "\n",
    "# Generate all combinations of parameters\n",
    "all_params = [dict(zip(param_grid.keys(), v)) for v in itertools.product(*param_grid.values())]\n",
    "rmses = []  # Store the RMSEs for each params here\n",
    "\n",
    "# Use cross validation to evaluate all parameters\n",
    "for params in all_params:\n",
    "    m = Prophet(**params)  # Fit model with given params\n",
    "    m.add_regressor('is_closed', mode='multiplicative')\n",
    "    m.add_seasonality(name='morning_peak', period=1, fourier_order=8, condition_name='is_morning_peak')\n",
    "    m.add_seasonality(name='afternoon_peak', period=1, fourier_order=8, condition_name='is_afternoon_peak')\n",
    "    m.add_country_holidays(country_name='SK')\n",
    "    m.fit(data_train)\n",
    "    df_cv = cross_validation(m, initial='400 days', period='100 days', horizon = '2 days', parallel=\"processes\")\n",
    "    df_p = performance_metrics(df_cv, rolling_window=1)\n",
    "    rmses.append(df_p['rmse'].values[0])\n",
    "\n",
    "# Find the best parameters\n",
    "tuning_results = pd.DataFrame(all_params)\n",
    "tuning_results['rmse'] = rmses\n",
    "print(tuning_results)\n",
    "tuning_results.iloc[rmses.index(min(rmses))]\n"
   ]
  },
  {
   "cell_type": "code",
   "execution_count": 139,
   "metadata": {},
   "outputs": [
    {
     "data": {
      "text/html": [
       "<div>\n",
       "<style scoped>\n",
       "    .dataframe tbody tr th:only-of-type {\n",
       "        vertical-align: middle;\n",
       "    }\n",
       "\n",
       "    .dataframe tbody tr th {\n",
       "        vertical-align: top;\n",
       "    }\n",
       "\n",
       "    .dataframe thead th {\n",
       "        text-align: right;\n",
       "    }\n",
       "</style>\n",
       "<table border=\"1\" class=\"dataframe\">\n",
       "  <thead>\n",
       "    <tr style=\"text-align: right;\">\n",
       "      <th></th>\n",
       "      <th>changepoint_prior_scale</th>\n",
       "      <th>seasonality_prior_scale</th>\n",
       "      <th>holidays_prior_scale</th>\n",
       "      <th>seasonality_mode</th>\n",
       "      <th>rmse</th>\n",
       "    </tr>\n",
       "  </thead>\n",
       "  <tbody>\n",
       "    <tr>\n",
       "      <th>0</th>\n",
       "      <td>0.001</td>\n",
       "      <td>0.1</td>\n",
       "      <td>1.0</td>\n",
       "      <td>multiplicative</td>\n",
       "      <td>2093.759851</td>\n",
       "    </tr>\n",
       "    <tr>\n",
       "      <th>1</th>\n",
       "      <td>0.001</td>\n",
       "      <td>0.1</td>\n",
       "      <td>10.0</td>\n",
       "      <td>multiplicative</td>\n",
       "      <td>2101.585508</td>\n",
       "    </tr>\n",
       "    <tr>\n",
       "      <th>2</th>\n",
       "      <td>0.001</td>\n",
       "      <td>0.1</td>\n",
       "      <td>15.0</td>\n",
       "      <td>multiplicative</td>\n",
       "      <td>2109.904920</td>\n",
       "    </tr>\n",
       "    <tr>\n",
       "      <th>3</th>\n",
       "      <td>0.001</td>\n",
       "      <td>1.0</td>\n",
       "      <td>1.0</td>\n",
       "      <td>multiplicative</td>\n",
       "      <td>2140.621483</td>\n",
       "    </tr>\n",
       "    <tr>\n",
       "      <th>4</th>\n",
       "      <td>0.001</td>\n",
       "      <td>1.0</td>\n",
       "      <td>10.0</td>\n",
       "      <td>multiplicative</td>\n",
       "      <td>2123.317675</td>\n",
       "    </tr>\n",
       "    <tr>\n",
       "      <th>5</th>\n",
       "      <td>0.001</td>\n",
       "      <td>1.0</td>\n",
       "      <td>15.0</td>\n",
       "      <td>multiplicative</td>\n",
       "      <td>2119.245148</td>\n",
       "    </tr>\n",
       "    <tr>\n",
       "      <th>6</th>\n",
       "      <td>0.001</td>\n",
       "      <td>10.0</td>\n",
       "      <td>1.0</td>\n",
       "      <td>multiplicative</td>\n",
       "      <td>2152.995894</td>\n",
       "    </tr>\n",
       "    <tr>\n",
       "      <th>7</th>\n",
       "      <td>0.001</td>\n",
       "      <td>10.0</td>\n",
       "      <td>10.0</td>\n",
       "      <td>multiplicative</td>\n",
       "      <td>2137.605905</td>\n",
       "    </tr>\n",
       "    <tr>\n",
       "      <th>8</th>\n",
       "      <td>0.001</td>\n",
       "      <td>10.0</td>\n",
       "      <td>15.0</td>\n",
       "      <td>multiplicative</td>\n",
       "      <td>2112.005533</td>\n",
       "    </tr>\n",
       "    <tr>\n",
       "      <th>9</th>\n",
       "      <td>0.010</td>\n",
       "      <td>0.1</td>\n",
       "      <td>1.0</td>\n",
       "      <td>multiplicative</td>\n",
       "      <td>2053.939753</td>\n",
       "    </tr>\n",
       "    <tr>\n",
       "      <th>10</th>\n",
       "      <td>0.010</td>\n",
       "      <td>0.1</td>\n",
       "      <td>10.0</td>\n",
       "      <td>multiplicative</td>\n",
       "      <td>2051.406539</td>\n",
       "    </tr>\n",
       "    <tr>\n",
       "      <th>11</th>\n",
       "      <td>0.010</td>\n",
       "      <td>0.1</td>\n",
       "      <td>15.0</td>\n",
       "      <td>multiplicative</td>\n",
       "      <td>2052.395875</td>\n",
       "    </tr>\n",
       "    <tr>\n",
       "      <th>12</th>\n",
       "      <td>0.010</td>\n",
       "      <td>1.0</td>\n",
       "      <td>1.0</td>\n",
       "      <td>multiplicative</td>\n",
       "      <td>2064.470544</td>\n",
       "    </tr>\n",
       "    <tr>\n",
       "      <th>13</th>\n",
       "      <td>0.010</td>\n",
       "      <td>1.0</td>\n",
       "      <td>10.0</td>\n",
       "      <td>multiplicative</td>\n",
       "      <td>2062.026955</td>\n",
       "    </tr>\n",
       "    <tr>\n",
       "      <th>14</th>\n",
       "      <td>0.010</td>\n",
       "      <td>1.0</td>\n",
       "      <td>15.0</td>\n",
       "      <td>multiplicative</td>\n",
       "      <td>2065.630824</td>\n",
       "    </tr>\n",
       "    <tr>\n",
       "      <th>15</th>\n",
       "      <td>0.010</td>\n",
       "      <td>10.0</td>\n",
       "      <td>1.0</td>\n",
       "      <td>multiplicative</td>\n",
       "      <td>2063.186151</td>\n",
       "    </tr>\n",
       "    <tr>\n",
       "      <th>16</th>\n",
       "      <td>0.010</td>\n",
       "      <td>10.0</td>\n",
       "      <td>10.0</td>\n",
       "      <td>multiplicative</td>\n",
       "      <td>2065.280700</td>\n",
       "    </tr>\n",
       "    <tr>\n",
       "      <th>17</th>\n",
       "      <td>0.010</td>\n",
       "      <td>10.0</td>\n",
       "      <td>15.0</td>\n",
       "      <td>multiplicative</td>\n",
       "      <td>2062.184952</td>\n",
       "    </tr>\n",
       "    <tr>\n",
       "      <th>18</th>\n",
       "      <td>0.100</td>\n",
       "      <td>0.1</td>\n",
       "      <td>1.0</td>\n",
       "      <td>multiplicative</td>\n",
       "      <td>2016.231731</td>\n",
       "    </tr>\n",
       "    <tr>\n",
       "      <th>19</th>\n",
       "      <td>0.100</td>\n",
       "      <td>0.1</td>\n",
       "      <td>10.0</td>\n",
       "      <td>multiplicative</td>\n",
       "      <td>2014.426343</td>\n",
       "    </tr>\n",
       "    <tr>\n",
       "      <th>20</th>\n",
       "      <td>0.100</td>\n",
       "      <td>0.1</td>\n",
       "      <td>15.0</td>\n",
       "      <td>multiplicative</td>\n",
       "      <td>2013.490298</td>\n",
       "    </tr>\n",
       "    <tr>\n",
       "      <th>21</th>\n",
       "      <td>0.100</td>\n",
       "      <td>1.0</td>\n",
       "      <td>1.0</td>\n",
       "      <td>multiplicative</td>\n",
       "      <td>2022.015004</td>\n",
       "    </tr>\n",
       "    <tr>\n",
       "      <th>22</th>\n",
       "      <td>0.100</td>\n",
       "      <td>1.0</td>\n",
       "      <td>10.0</td>\n",
       "      <td>multiplicative</td>\n",
       "      <td>2025.392703</td>\n",
       "    </tr>\n",
       "    <tr>\n",
       "      <th>23</th>\n",
       "      <td>0.100</td>\n",
       "      <td>1.0</td>\n",
       "      <td>15.0</td>\n",
       "      <td>multiplicative</td>\n",
       "      <td>2025.002101</td>\n",
       "    </tr>\n",
       "    <tr>\n",
       "      <th>24</th>\n",
       "      <td>0.100</td>\n",
       "      <td>10.0</td>\n",
       "      <td>1.0</td>\n",
       "      <td>multiplicative</td>\n",
       "      <td>2024.148009</td>\n",
       "    </tr>\n",
       "    <tr>\n",
       "      <th>25</th>\n",
       "      <td>0.100</td>\n",
       "      <td>10.0</td>\n",
       "      <td>10.0</td>\n",
       "      <td>multiplicative</td>\n",
       "      <td>2026.106914</td>\n",
       "    </tr>\n",
       "    <tr>\n",
       "      <th>26</th>\n",
       "      <td>0.100</td>\n",
       "      <td>10.0</td>\n",
       "      <td>15.0</td>\n",
       "      <td>multiplicative</td>\n",
       "      <td>2026.967160</td>\n",
       "    </tr>\n",
       "  </tbody>\n",
       "</table>\n",
       "</div>"
      ],
      "text/plain": [
       "    changepoint_prior_scale  seasonality_prior_scale  holidays_prior_scale  \\\n",
       "0                     0.001                      0.1                   1.0   \n",
       "1                     0.001                      0.1                  10.0   \n",
       "2                     0.001                      0.1                  15.0   \n",
       "3                     0.001                      1.0                   1.0   \n",
       "4                     0.001                      1.0                  10.0   \n",
       "5                     0.001                      1.0                  15.0   \n",
       "6                     0.001                     10.0                   1.0   \n",
       "7                     0.001                     10.0                  10.0   \n",
       "8                     0.001                     10.0                  15.0   \n",
       "9                     0.010                      0.1                   1.0   \n",
       "10                    0.010                      0.1                  10.0   \n",
       "11                    0.010                      0.1                  15.0   \n",
       "12                    0.010                      1.0                   1.0   \n",
       "13                    0.010                      1.0                  10.0   \n",
       "14                    0.010                      1.0                  15.0   \n",
       "15                    0.010                     10.0                   1.0   \n",
       "16                    0.010                     10.0                  10.0   \n",
       "17                    0.010                     10.0                  15.0   \n",
       "18                    0.100                      0.1                   1.0   \n",
       "19                    0.100                      0.1                  10.0   \n",
       "20                    0.100                      0.1                  15.0   \n",
       "21                    0.100                      1.0                   1.0   \n",
       "22                    0.100                      1.0                  10.0   \n",
       "23                    0.100                      1.0                  15.0   \n",
       "24                    0.100                     10.0                   1.0   \n",
       "25                    0.100                     10.0                  10.0   \n",
       "26                    0.100                     10.0                  15.0   \n",
       "\n",
       "   seasonality_mode         rmse  \n",
       "0    multiplicative  2093.759851  \n",
       "1    multiplicative  2101.585508  \n",
       "2    multiplicative  2109.904920  \n",
       "3    multiplicative  2140.621483  \n",
       "4    multiplicative  2123.317675  \n",
       "5    multiplicative  2119.245148  \n",
       "6    multiplicative  2152.995894  \n",
       "7    multiplicative  2137.605905  \n",
       "8    multiplicative  2112.005533  \n",
       "9    multiplicative  2053.939753  \n",
       "10   multiplicative  2051.406539  \n",
       "11   multiplicative  2052.395875  \n",
       "12   multiplicative  2064.470544  \n",
       "13   multiplicative  2062.026955  \n",
       "14   multiplicative  2065.630824  \n",
       "15   multiplicative  2063.186151  \n",
       "16   multiplicative  2065.280700  \n",
       "17   multiplicative  2062.184952  \n",
       "18   multiplicative  2016.231731  \n",
       "19   multiplicative  2014.426343  \n",
       "20   multiplicative  2013.490298  \n",
       "21   multiplicative  2022.015004  \n",
       "22   multiplicative  2025.392703  \n",
       "23   multiplicative  2025.002101  \n",
       "24   multiplicative  2024.148009  \n",
       "25   multiplicative  2026.106914  \n",
       "26   multiplicative  2026.967160  "
      ]
     },
     "execution_count": 139,
     "metadata": {},
     "output_type": "execute_result"
    }
   ],
   "source": [
    "tuning_results\n"
   ]
  },
  {
   "cell_type": "markdown",
   "metadata": {},
   "source": [
    "# Achasan 5"
   ]
  },
  {
   "cell_type": "markdown",
   "metadata": {},
   "source": [
    "## Train/Test split"
   ]
  },
  {
   "cell_type": "code",
   "execution_count": 12,
   "metadata": {},
   "outputs": [
    {
     "ename": "NameError",
     "evalue": "name 'df_achasan5' is not defined",
     "output_type": "error",
     "traceback": [
      "\u001b[0;31m---------------------------------------------------------------------------\u001b[0m",
      "\u001b[0;31mNameError\u001b[0m                                 Traceback (most recent call last)",
      "\u001b[1;32m/Users/thomas_metral/code/thomas-metral/metro_seoul/notebooks/prophet_clean.ipynb Cell 10\u001b[0m line \u001b[0;36m5\n\u001b[1;32m      <a href='vscode-notebook-cell:/Users/thomas_metral/code/thomas-metral/metro_seoul/notebooks/prophet_clean.ipynb#X10sZmlsZQ%3D%3D?line=1'>2</a>\u001b[0m days \u001b[39m=\u001b[39m \u001b[39m2\u001b[39m\n\u001b[1;32m      <a href='vscode-notebook-cell:/Users/thomas_metral/code/thomas-metral/metro_seoul/notebooks/prophet_clean.ipynb#X10sZmlsZQ%3D%3D?line=3'>4</a>\u001b[0m \u001b[39m# index = round(train_size*df_156.shape[0])\u001b[39;00m\n\u001b[0;32m----> <a href='vscode-notebook-cell:/Users/thomas_metral/code/thomas-metral/metro_seoul/notebooks/prophet_clean.ipynb#X10sZmlsZQ%3D%3D?line=4'>5</a>\u001b[0m df_achasan5_train \u001b[39m=\u001b[39m df_achasan5\u001b[39m.\u001b[39miloc[:\u001b[39m-\u001b[39m\u001b[39m24\u001b[39m\u001b[39m*\u001b[39mdays]\n\u001b[1;32m      <a href='vscode-notebook-cell:/Users/thomas_metral/code/thomas-metral/metro_seoul/notebooks/prophet_clean.ipynb#X10sZmlsZQ%3D%3D?line=5'>6</a>\u001b[0m df_achasan5_test \u001b[39m=\u001b[39m df_achasan5\u001b[39m.\u001b[39miloc[\u001b[39m-\u001b[39m\u001b[39m24\u001b[39m\u001b[39m*\u001b[39mdays:]\n\u001b[1;32m      <a href='vscode-notebook-cell:/Users/thomas_metral/code/thomas-metral/metro_seoul/notebooks/prophet_clean.ipynb#X10sZmlsZQ%3D%3D?line=7'>8</a>\u001b[0m \u001b[39m#shorten the train data\u001b[39;00m\n",
      "\u001b[0;31mNameError\u001b[0m: name 'df_achasan5' is not defined"
     ]
    }
   ],
   "source": [
    "#lenght of test data\n",
    "days = 2\n",
    "\n",
    "# index = round(train_size*df_156.shape[0])\n",
    "df_achasan5_train = df_achasan5.iloc[:-24*days]\n",
    "df_achasan5_test = df_achasan5.iloc[-24*days:]\n",
    "\n",
    "#shorten the train data\n",
    "df_achasan5_train = df_achasan5_train.iloc[-24*365:]\n"
   ]
  },
  {
   "cell_type": "markdown",
   "metadata": {},
   "source": [
    "## Adding columns for regressor"
   ]
  },
  {
   "cell_type": "code",
   "execution_count": 90,
   "metadata": {},
   "outputs": [
    {
     "data": {
      "text/html": [
       "<div>\n",
       "<style scoped>\n",
       "    .dataframe tbody tr th:only-of-type {\n",
       "        vertical-align: middle;\n",
       "    }\n",
       "\n",
       "    .dataframe tbody tr th {\n",
       "        vertical-align: top;\n",
       "    }\n",
       "\n",
       "    .dataframe thead th {\n",
       "        text-align: right;\n",
       "    }\n",
       "</style>\n",
       "<table border=\"1\" class=\"dataframe\">\n",
       "  <thead>\n",
       "    <tr style=\"text-align: right;\">\n",
       "      <th></th>\n",
       "      <th>ds</th>\n",
       "      <th>y</th>\n",
       "      <th>is_morning_peak</th>\n",
       "      <th>is_afternoon_peak</th>\n",
       "      <th>is_closed</th>\n",
       "      <th>is_weekend</th>\n",
       "    </tr>\n",
       "  </thead>\n",
       "  <tbody>\n",
       "    <tr>\n",
       "      <th>23988</th>\n",
       "      <td>2022-09-26 13:00:00</td>\n",
       "      <td>603.0</td>\n",
       "      <td>0</td>\n",
       "      <td>0</td>\n",
       "      <td>0</td>\n",
       "      <td>0</td>\n",
       "    </tr>\n",
       "    <tr>\n",
       "      <th>18771</th>\n",
       "      <td>2022-02-21 04:00:00</td>\n",
       "      <td>0.0</td>\n",
       "      <td>0</td>\n",
       "      <td>0</td>\n",
       "      <td>1</td>\n",
       "      <td>0</td>\n",
       "    </tr>\n",
       "    <tr>\n",
       "      <th>19250</th>\n",
       "      <td>2022-03-13 03:00:00</td>\n",
       "      <td>0.0</td>\n",
       "      <td>0</td>\n",
       "      <td>0</td>\n",
       "      <td>1</td>\n",
       "      <td>1</td>\n",
       "    </tr>\n",
       "    <tr>\n",
       "      <th>19890</th>\n",
       "      <td>2022-04-08 19:00:00</td>\n",
       "      <td>1520.0</td>\n",
       "      <td>0</td>\n",
       "      <td>0</td>\n",
       "      <td>0</td>\n",
       "      <td>0</td>\n",
       "    </tr>\n",
       "    <tr>\n",
       "      <th>23365</th>\n",
       "      <td>2022-08-31 14:00:00</td>\n",
       "      <td>501.0</td>\n",
       "      <td>0</td>\n",
       "      <td>0</td>\n",
       "      <td>0</td>\n",
       "      <td>0</td>\n",
       "    </tr>\n",
       "    <tr>\n",
       "      <th>22607</th>\n",
       "      <td>2022-07-31 00:00:00</td>\n",
       "      <td>0.0</td>\n",
       "      <td>0</td>\n",
       "      <td>0</td>\n",
       "      <td>1</td>\n",
       "      <td>1</td>\n",
       "    </tr>\n",
       "    <tr>\n",
       "      <th>25551</th>\n",
       "      <td>2022-11-30 16:00:00</td>\n",
       "      <td>941.0</td>\n",
       "      <td>0</td>\n",
       "      <td>0</td>\n",
       "      <td>0</td>\n",
       "      <td>0</td>\n",
       "    </tr>\n",
       "    <tr>\n",
       "      <th>26092</th>\n",
       "      <td>2022-12-23 05:00:00</td>\n",
       "      <td>46.0</td>\n",
       "      <td>0</td>\n",
       "      <td>0</td>\n",
       "      <td>0</td>\n",
       "      <td>0</td>\n",
       "    </tr>\n",
       "    <tr>\n",
       "      <th>24934</th>\n",
       "      <td>2022-11-04 23:00:00</td>\n",
       "      <td>447.0</td>\n",
       "      <td>0</td>\n",
       "      <td>0</td>\n",
       "      <td>0</td>\n",
       "      <td>0</td>\n",
       "    </tr>\n",
       "    <tr>\n",
       "      <th>23087</th>\n",
       "      <td>2022-08-20 00:00:00</td>\n",
       "      <td>0.0</td>\n",
       "      <td>0</td>\n",
       "      <td>0</td>\n",
       "      <td>1</td>\n",
       "      <td>1</td>\n",
       "    </tr>\n",
       "    <tr>\n",
       "      <th>25419</th>\n",
       "      <td>2022-11-25 04:00:00</td>\n",
       "      <td>0.0</td>\n",
       "      <td>0</td>\n",
       "      <td>0</td>\n",
       "      <td>1</td>\n",
       "      <td>0</td>\n",
       "    </tr>\n",
       "    <tr>\n",
       "      <th>21735</th>\n",
       "      <td>2022-06-24 16:00:00</td>\n",
       "      <td>968.0</td>\n",
       "      <td>0</td>\n",
       "      <td>0</td>\n",
       "      <td>0</td>\n",
       "      <td>0</td>\n",
       "    </tr>\n",
       "    <tr>\n",
       "      <th>20677</th>\n",
       "      <td>2022-05-11 14:00:00</td>\n",
       "      <td>569.0</td>\n",
       "      <td>0</td>\n",
       "      <td>0</td>\n",
       "      <td>0</td>\n",
       "      <td>0</td>\n",
       "    </tr>\n",
       "    <tr>\n",
       "      <th>24192</th>\n",
       "      <td>2022-10-05 01:00:00</td>\n",
       "      <td>0.0</td>\n",
       "      <td>0</td>\n",
       "      <td>0</td>\n",
       "      <td>1</td>\n",
       "      <td>0</td>\n",
       "    </tr>\n",
       "    <tr>\n",
       "      <th>30514</th>\n",
       "      <td>2023-06-25 11:00:00</td>\n",
       "      <td>657.0</td>\n",
       "      <td>0</td>\n",
       "      <td>0</td>\n",
       "      <td>0</td>\n",
       "      <td>1</td>\n",
       "    </tr>\n",
       "    <tr>\n",
       "      <th>21707</th>\n",
       "      <td>2022-06-23 12:00:00</td>\n",
       "      <td>480.0</td>\n",
       "      <td>0</td>\n",
       "      <td>0</td>\n",
       "      <td>0</td>\n",
       "      <td>0</td>\n",
       "    </tr>\n",
       "    <tr>\n",
       "      <th>25583</th>\n",
       "      <td>2022-12-02 00:00:00</td>\n",
       "      <td>0.0</td>\n",
       "      <td>0</td>\n",
       "      <td>0</td>\n",
       "      <td>1</td>\n",
       "      <td>0</td>\n",
       "    </tr>\n",
       "    <tr>\n",
       "      <th>22610</th>\n",
       "      <td>2022-07-31 03:00:00</td>\n",
       "      <td>0.0</td>\n",
       "      <td>0</td>\n",
       "      <td>0</td>\n",
       "      <td>1</td>\n",
       "      <td>1</td>\n",
       "    </tr>\n",
       "  </tbody>\n",
       "</table>\n",
       "</div>"
      ],
      "text/plain": [
       "                       ds       y  is_morning_peak  is_afternoon_peak  \\\n",
       "23988 2022-09-26 13:00:00   603.0                0                  0   \n",
       "18771 2022-02-21 04:00:00     0.0                0                  0   \n",
       "19250 2022-03-13 03:00:00     0.0                0                  0   \n",
       "19890 2022-04-08 19:00:00  1520.0                0                  0   \n",
       "23365 2022-08-31 14:00:00   501.0                0                  0   \n",
       "22607 2022-07-31 00:00:00     0.0                0                  0   \n",
       "25551 2022-11-30 16:00:00   941.0                0                  0   \n",
       "26092 2022-12-23 05:00:00    46.0                0                  0   \n",
       "24934 2022-11-04 23:00:00   447.0                0                  0   \n",
       "23087 2022-08-20 00:00:00     0.0                0                  0   \n",
       "25419 2022-11-25 04:00:00     0.0                0                  0   \n",
       "21735 2022-06-24 16:00:00   968.0                0                  0   \n",
       "20677 2022-05-11 14:00:00   569.0                0                  0   \n",
       "24192 2022-10-05 01:00:00     0.0                0                  0   \n",
       "30514 2023-06-25 11:00:00   657.0                0                  0   \n",
       "21707 2022-06-23 12:00:00   480.0                0                  0   \n",
       "25583 2022-12-02 00:00:00     0.0                0                  0   \n",
       "22610 2022-07-31 03:00:00     0.0                0                  0   \n",
       "\n",
       "       is_closed  is_weekend  \n",
       "23988          0           0  \n",
       "18771          1           0  \n",
       "19250          1           1  \n",
       "19890          0           0  \n",
       "23365          0           0  \n",
       "22607          1           1  \n",
       "25551          0           0  \n",
       "26092          0           0  \n",
       "24934          0           0  \n",
       "23087          1           1  \n",
       "25419          1           0  \n",
       "21735          0           0  \n",
       "20677          0           0  \n",
       "24192          1           0  \n",
       "30514          0           1  \n",
       "21707          0           0  \n",
       "25583          1           0  \n",
       "22610          1           1  "
      ]
     },
     "execution_count": 90,
     "metadata": {},
     "output_type": "execute_result"
    }
   ],
   "source": [
    "df_achasan5_train['is_morning_peak'] = ((df_achasan5_train['ds'].dt.hour == 8) & (df_achasan5_train['ds'].dt.dayofweek <= 5)).astype(int)\n",
    "df_achasan5_train['is_afternoon_peak'] = ((df_achasan5_train['ds'].dt.hour == 18) & (df_achasan5_train['ds'].dt.dayofweek <= 5)).astype(int)\n",
    "df_achasan5_train['is_closed'] = ((df_achasan5_train['ds'].dt.hour >= 0) & (df_achasan5_train['ds'].dt.hour <= 4)).astype(int)\n",
    "df_achasan5_train.sample(18)\n"
   ]
  },
  {
   "cell_type": "markdown",
   "metadata": {},
   "source": [
    "## Train/Predict"
   ]
  },
  {
   "cell_type": "code",
   "execution_count": 91,
   "metadata": {},
   "outputs": [
    {
     "name": "stderr",
     "output_type": "stream",
     "text": [
      "14:59:56 - cmdstanpy - INFO - Chain [1] start processing\n",
      "14:59:56 - cmdstanpy - INFO - Chain [1] done processing\n"
     ]
    }
   ],
   "source": [
    "model = Prophet(changepoint_prior_scale=0.002, seasonality_prior_scale=12.0,\n",
    "                  holidays_prior_scale=10.0, seasonality_mode='multiplicative', daily_seasonality=True)\n",
    "model.add_regressor('is_morning_peak')\n",
    "model.add_regressor('is_afternoon_peak')\n",
    "model.add_regressor('is_closed')\n",
    "model.add_seasonality('daily', period=24, fourier_order=2)\n",
    "model.add_country_holidays(country_name='SK')\n",
    "\n",
    "model.fit(df_achasan5_train)\n",
    "\n",
    "\n",
    "# Create a future dataframe for predictions\n",
    "future = model.make_future_dataframe(periods=days*24, include_history=False, freq='h')  # Forecasting for the next week\n",
    "future['is_morning_peak'] = ((future['ds'].dt.hour >= 7) & (future['ds'].dt.hour <= 9)).astype(int)\n",
    "future['is_afternoon_peak'] = ((future['ds'].dt.hour >= 17) & (future['ds'].dt.hour <= 19)).astype(int)\n",
    "future['is_closed'] = ((future['ds'].dt.hour >= 0) & (future['ds'].dt.hour <= 4)).astype(int)\n",
    "future['is_weekend'] = (future['ds'].dt.dayofweek >= 5).astype(int)\n",
    "\n",
    "# Generate predictions\n",
    "forecast = model.predict(future)\n",
    "prediction = forecast[['ds', 'yhat', 'yhat_lower', 'yhat_upper']]\n"
   ]
  },
  {
   "cell_type": "markdown",
   "metadata": {},
   "source": [
    "## Check results"
   ]
  },
  {
   "cell_type": "code",
   "execution_count": 92,
   "metadata": {},
   "outputs": [
    {
     "data": {
      "text/plain": [
       "0.43058828484551587"
      ]
     },
     "execution_count": 92,
     "metadata": {},
     "output_type": "execute_result"
    },
    {
     "data": {
      "image/png": "[encoded data removed]",
      "text/plain": [
       "<Figure size 640x480 with 1 Axes>"
      ]
     },
     "metadata": {},
     "output_type": "display_data"
    }
   ],
   "source": [
    "sns.lineplot(x=prediction['ds'], y=prediction['yhat'])\n",
    "sns.lineplot(x=df_achasan5_test['ds'], y=df_achasan5_test['y'])\n",
    "\n",
    "mape(prediction['yhat'].values, df_achasan5_test['y'].values)\n"
   ]
  },
  {
   "cell_type": "code",
   "execution_count": 19,
   "metadata": {},
   "outputs": [
    {
     "name": "stderr",
     "output_type": "stream",
     "text": [
      "/Users/thomas_metral/.pyenv/versions/3.10.6/envs/metro_seoul/lib/python3.10/site-packages/prophet/plot.py:72: FutureWarning: The behavior of DatetimeProperties.to_pydatetime is deprecated, in a future version this will return a Series containing python datetime objects instead of an ndarray. To retain the old behavior, call `np.array` on the result\n",
      "  fcst_t = fcst['ds'].dt.to_pydatetime()\n",
      "/Users/thomas_metral/.pyenv/versions/3.10.6/envs/metro_seoul/lib/python3.10/site-packages/prophet/plot.py:73: FutureWarning: The behavior of DatetimeProperties.to_pydatetime is deprecated, in a future version this will return a Series containing python datetime objects instead of an ndarray. To retain the old behavior, call `np.array` on the result\n",
      "  ax.plot(m.history['ds'].dt.to_pydatetime(), m.history['y'], 'k.',\n"
     ]
    },
    {
     "ename": "NameError",
     "evalue": "name 'df_achasan5_test' is not defined",
     "output_type": "error",
     "traceback": [
      "\u001b[0;31m---------------------------------------------------------------------------\u001b[0m",
      "\u001b[0;31mNameError\u001b[0m                                 Traceback (most recent call last)",
      "\u001b[1;32m/Users/thomas_metral/code/thomas-metral/metro_seoul/notebooks/prophet_clean.ipynb Cell 17\u001b[0m line \u001b[0;36m2\n\u001b[1;32m      <a href='vscode-notebook-cell:/Users/thomas_metral/code/thomas-metral/metro_seoul/notebooks/prophet_clean.ipynb#X33sZmlsZQ%3D%3D?line=0'>1</a>\u001b[0m ax \u001b[39m=\u001b[39m model\u001b[39m.\u001b[39mplot(forecast)\n\u001b[0;32m----> <a href='vscode-notebook-cell:/Users/thomas_metral/code/thomas-metral/metro_seoul/notebooks/prophet_clean.ipynb#X33sZmlsZQ%3D%3D?line=1'>2</a>\u001b[0m plt\u001b[39m.\u001b[39mplot(df_achasan5_test[\u001b[39m'\u001b[39m\u001b[39mds\u001b[39m\u001b[39m'\u001b[39m],df_achasan5_test[\u001b[39m'\u001b[39m\u001b[39my\u001b[39m\u001b[39m'\u001b[39m],\u001b[39m'\u001b[39m\u001b[39mr\u001b[39m\u001b[39m'\u001b[39m)\n\u001b[1;32m      <a href='vscode-notebook-cell:/Users/thomas_metral/code/thomas-metral/metro_seoul/notebooks/prophet_clean.ipynb#X33sZmlsZQ%3D%3D?line=2'>3</a>\u001b[0m plt\u001b[39m.\u001b[39mxlim(left\u001b[39m=\u001b[39m(pd\u001b[39m.\u001b[39mTimestamp(\u001b[39mmax\u001b[39m(df_achasan5\u001b[39m.\u001b[39mds)\u001b[39m-\u001b[39mdatetime\u001b[39m.\u001b[39mtimedelta(days\u001b[39m=\u001b[39m\u001b[39m5\u001b[39m))),\n\u001b[1;32m      <a href='vscode-notebook-cell:/Users/thomas_metral/code/thomas-metral/metro_seoul/notebooks/prophet_clean.ipynb#X33sZmlsZQ%3D%3D?line=3'>4</a>\u001b[0m right\u001b[39m=\u001b[39m(pd\u001b[39m.\u001b[39mTimestamp(\u001b[39mmax\u001b[39m(df_achasan5\u001b[39m.\u001b[39mds)\u001b[39m+\u001b[39m datetime\u001b[39m.\u001b[39mtimedelta(days\u001b[39m=\u001b[39m\u001b[39m1\u001b[39m)))\n\u001b[1;32m      <a href='vscode-notebook-cell:/Users/thomas_metral/code/thomas-metral/metro_seoul/notebooks/prophet_clean.ipynb#X33sZmlsZQ%3D%3D?line=4'>5</a>\u001b[0m )\n\u001b[1;32m      <a href='vscode-notebook-cell:/Users/thomas_metral/code/thomas-metral/metro_seoul/notebooks/prophet_clean.ipynb#X33sZmlsZQ%3D%3D?line=5'>6</a>\u001b[0m plt\u001b[39m.\u001b[39mshow()\n",
      "\u001b[0;31mNameError\u001b[0m: name 'df_achasan5_test' is not defined"
     ]
    },
    {
     "data": {
      "image/png": "[encoded data removed]",
      "text/plain": [
       "<Figure size 1000x600 with 1 Axes>"
      ]
     },
     "metadata": {},
     "output_type": "display_data"
    }
   ],
   "source": [
    "ax = model.plot(forecast)\n",
    "plt.plot(df_achasan5_test['ds'],df_achasan5_test['y'],'r')\n",
    "plt.xlim(left=(pd.Timestamp(max(df_achasan5.ds)-datetime.timedelta(days=5))),\n",
    "right=(pd.Timestamp(max(df_achasan5.ds)+ datetime.timedelta(days=1)))\n",
    ")\n",
    "plt.show()\n"
   ]
  },
  {
   "cell_type": "markdown",
   "metadata": {},
   "source": [
    "### Cross Validation with grid search"
   ]
  },
  {
   "cell_type": "code",
   "execution_count": 34,
   "metadata": {},
   "outputs": [
    {
     "name": "stderr",
     "output_type": "stream",
     "text": [
      "14:14:00 - cmdstanpy - INFO - Chain [1] start processing\n",
      "14:14:00 - cmdstanpy - INFO - Chain [1] done processing\n",
      "14:14:01 - cmdstanpy - INFO - Chain [1] start processing\n",
      "14:14:02 - cmdstanpy - INFO - Chain [1] done processing\n",
      "14:14:02 - cmdstanpy - INFO - Chain [1] start processing\n",
      "14:14:03 - cmdstanpy - INFO - Chain [1] done processing\n",
      "14:14:04 - cmdstanpy - INFO - Chain [1] start processing\n",
      "14:14:04 - cmdstanpy - INFO - Chain [1] done processing\n",
      "14:14:05 - cmdstanpy - INFO - Chain [1] start processing\n",
      "14:14:05 - cmdstanpy - INFO - Chain [1] done processing\n",
      "14:14:06 - cmdstanpy - INFO - Chain [1] start processing\n",
      "14:14:07 - cmdstanpy - INFO - Chain [1] done processing\n",
      "14:14:07 - cmdstanpy - INFO - Chain [1] start processing\n",
      "14:14:08 - cmdstanpy - INFO - Chain [1] done processing\n",
      "14:14:08 - cmdstanpy - INFO - Chain [1] start processing\n",
      "14:14:09 - cmdstanpy - INFO - Chain [1] done processing\n",
      "14:14:09 - cmdstanpy - INFO - Chain [1] start processing\n",
      "14:14:10 - cmdstanpy - INFO - Chain [1] done processing\n",
      "14:14:11 - cmdstanpy - INFO - Chain [1] start processing\n",
      "14:14:11 - cmdstanpy - INFO - Chain [1] done processing\n",
      "14:14:12 - cmdstanpy - INFO - Chain [1] start processing\n",
      "14:14:12 - cmdstanpy - INFO - Chain [1] done processing\n",
      "14:14:13 - cmdstanpy - INFO - Chain [1] start processing\n",
      "14:14:14 - cmdstanpy - INFO - Chain [1] done processing\n",
      "14:14:14 - cmdstanpy - INFO - Chain [1] start processing\n",
      "14:14:15 - cmdstanpy - INFO - Chain [1] done processing\n",
      "14:14:16 - cmdstanpy - INFO - Chain [1] start processing\n",
      "14:14:16 - cmdstanpy - INFO - Chain [1] done processing\n",
      "14:14:17 - cmdstanpy - INFO - Chain [1] start processing\n",
      "14:14:17 - cmdstanpy - INFO - Chain [1] done processing\n",
      "14:14:18 - cmdstanpy - INFO - Chain [1] start processing\n",
      "14:14:18 - cmdstanpy - INFO - Chain [1] done processing\n",
      "14:14:19 - cmdstanpy - INFO - Chain [1] start processing\n",
      "14:14:19 - cmdstanpy - INFO - Chain [1] done processing\n",
      "14:14:20 - cmdstanpy - INFO - Chain [1] start processing\n",
      "14:14:21 - cmdstanpy - INFO - Chain [1] done processing\n",
      "14:14:21 - cmdstanpy - INFO - Chain [1] start processing\n",
      "14:14:22 - cmdstanpy - INFO - Chain [1] done processing\n",
      "14:14:23 - cmdstanpy - INFO - Chain [1] start processing\n",
      "14:14:24 - cmdstanpy - INFO - Chain [1] done processing\n",
      "14:14:24 - cmdstanpy - INFO - Chain [1] start processing\n",
      "14:14:25 - cmdstanpy - INFO - Chain [1] done processing\n",
      "14:14:26 - cmdstanpy - INFO - Chain [1] start processing\n",
      "14:14:26 - cmdstanpy - INFO - Chain [1] done processing\n",
      "14:14:27 - cmdstanpy - INFO - Chain [1] start processing\n",
      "14:14:28 - cmdstanpy - INFO - Chain [1] done processing\n",
      "14:14:29 - cmdstanpy - INFO - Chain [1] start processing\n",
      "14:14:29 - cmdstanpy - INFO - Chain [1] done processing\n",
      "14:14:30 - cmdstanpy - INFO - Chain [1] start processing\n",
      "14:14:30 - cmdstanpy - INFO - Chain [1] done processing\n",
      "14:14:31 - cmdstanpy - INFO - Chain [1] start processing\n",
      "14:14:32 - cmdstanpy - INFO - Chain [1] done processing\n",
      "14:14:32 - cmdstanpy - INFO - Chain [1] start processing\n",
      "14:14:33 - cmdstanpy - INFO - Chain [1] done processing\n",
      "14:14:34 - cmdstanpy - INFO - Chain [1] start processing\n",
      "14:14:35 - cmdstanpy - INFO - Chain [1] done processing\n",
      "14:14:35 - cmdstanpy - INFO - Chain [1] start processing\n",
      "14:14:36 - cmdstanpy - INFO - Chain [1] done processing\n",
      "14:14:37 - cmdstanpy - INFO - Chain [1] start processing\n",
      "14:14:37 - cmdstanpy - INFO - Chain [1] done processing\n",
      "14:14:38 - cmdstanpy - INFO - Chain [1] start processing\n",
      "14:14:38 - cmdstanpy - INFO - Chain [1] done processing\n",
      "14:14:39 - cmdstanpy - INFO - Chain [1] start processing\n",
      "14:14:39 - cmdstanpy - INFO - Chain [1] done processing\n",
      "14:14:40 - cmdstanpy - INFO - Chain [1] start processing\n",
      "14:14:41 - cmdstanpy - INFO - Chain [1] done processing\n",
      "14:14:42 - cmdstanpy - INFO - Chain [1] start processing\n",
      "14:14:42 - cmdstanpy - INFO - Chain [1] done processing\n",
      "14:14:43 - cmdstanpy - INFO - Chain [1] start processing\n",
      "14:14:43 - cmdstanpy - INFO - Chain [1] done processing\n",
      "14:14:44 - cmdstanpy - INFO - Chain [1] start processing\n",
      "14:14:45 - cmdstanpy - INFO - Chain [1] done processing\n",
      "14:14:46 - cmdstanpy - INFO - Chain [1] start processing\n",
      "14:14:47 - cmdstanpy - INFO - Chain [1] done processing\n",
      "14:14:48 - cmdstanpy - INFO - Chain [1] start processing\n",
      "14:14:48 - cmdstanpy - INFO - Chain [1] done processing\n",
      "14:14:49 - cmdstanpy - INFO - Chain [1] start processing\n",
      "14:14:50 - cmdstanpy - INFO - Chain [1] done processing\n",
      "14:14:51 - cmdstanpy - INFO - Chain [1] start processing\n",
      "14:14:52 - cmdstanpy - INFO - Chain [1] done processing\n",
      "14:14:52 - cmdstanpy - INFO - Chain [1] start processing\n",
      "14:14:53 - cmdstanpy - INFO - Chain [1] done processing\n",
      "14:14:54 - cmdstanpy - INFO - Chain [1] start processing\n",
      "14:14:55 - cmdstanpy - INFO - Chain [1] done processing\n",
      "14:14:55 - cmdstanpy - INFO - Chain [1] start processing\n",
      "14:14:56 - cmdstanpy - INFO - Chain [1] done processing\n",
      "14:14:57 - cmdstanpy - INFO - Chain [1] start processing\n",
      "14:14:58 - cmdstanpy - INFO - Chain [1] done processing\n",
      "14:14:58 - cmdstanpy - INFO - Chain [1] start processing\n",
      "14:14:59 - cmdstanpy - INFO - Chain [1] done processing\n",
      "14:15:00 - cmdstanpy - INFO - Chain [1] start processing\n",
      "14:15:01 - cmdstanpy - INFO - Chain [1] done processing\n",
      "14:15:01 - cmdstanpy - INFO - Chain [1] start processing\n",
      "14:15:02 - cmdstanpy - INFO - Chain [1] done processing\n",
      "14:15:03 - cmdstanpy - INFO - Chain [1] start processing\n",
      "14:15:04 - cmdstanpy - INFO - Chain [1] done processing\n",
      "14:15:04 - cmdstanpy - INFO - Chain [1] start processing\n",
      "14:15:05 - cmdstanpy - INFO - Chain [1] done processing\n",
      "14:15:06 - cmdstanpy - INFO - Chain [1] start processing\n",
      "14:15:07 - cmdstanpy - INFO - Chain [1] done processing\n",
      "14:15:08 - cmdstanpy - INFO - Chain [1] start processing\n",
      "14:15:08 - cmdstanpy - INFO - Chain [1] done processing\n",
      "14:15:09 - cmdstanpy - INFO - Chain [1] start processing\n",
      "14:15:10 - cmdstanpy - INFO - Chain [1] done processing\n",
      "14:15:11 - cmdstanpy - INFO - Chain [1] start processing\n",
      "14:15:12 - cmdstanpy - INFO - Chain [1] done processing\n",
      "14:15:13 - cmdstanpy - INFO - Chain [1] start processing\n"
     ]
    },
    {
     "name": "stdout",
     "output_type": "stream",
     "text": [
      "    changepoint_prior_scale  seasonality_prior_scale  holidays_prior_scale  \\\n",
      "0                     0.001                     10.0                   9.0   \n",
      "1                     0.001                     10.0                  10.0   \n",
      "2                     0.001                     10.0                  15.0   \n",
      "3                     0.001                     12.0                   9.0   \n",
      "4                     0.001                     12.0                  10.0   \n",
      "5                     0.001                     12.0                  15.0   \n",
      "6                     0.001                     20.0                   9.0   \n",
      "7                     0.001                     20.0                  10.0   \n",
      "8                     0.001                     20.0                  15.0   \n",
      "9                     0.002                     10.0                   9.0   \n",
      "10                    0.002                     10.0                  10.0   \n",
      "11                    0.002                     10.0                  15.0   \n",
      "12                    0.002                     12.0                   9.0   \n",
      "13                    0.002                     12.0                  10.0   \n",
      "14                    0.002                     12.0                  15.0   \n",
      "15                    0.002                     20.0                   9.0   \n",
      "16                    0.002                     20.0                  10.0   \n",
      "17                    0.002                     20.0                  15.0   \n",
      "18                    0.003                     10.0                   9.0   \n",
      "19                    0.003                     10.0                  10.0   \n",
      "20                    0.003                     10.0                  15.0   \n",
      "21                    0.003                     12.0                   9.0   \n",
      "22                    0.003                     12.0                  10.0   \n",
      "23                    0.003                     12.0                  15.0   \n",
      "24                    0.003                     20.0                   9.0   \n",
      "25                    0.003                     20.0                  10.0   \n",
      "26                    0.003                     20.0                  15.0   \n",
      "\n",
      "   seasonality_mode        rmse  \n",
      "0    multiplicative  164.987276  \n",
      "1    multiplicative  163.108558  \n",
      "2    multiplicative  162.249455  \n",
      "3    multiplicative  161.324993  \n",
      "4    multiplicative  160.260955  \n",
      "5    multiplicative  162.195257  \n",
      "6    multiplicative  161.126489  \n",
      "7    multiplicative  164.799112  \n",
      "8    multiplicative  159.935643  \n",
      "9    multiplicative  160.355983  \n",
      "10   multiplicative  159.845494  \n",
      "11   multiplicative  161.879843  \n",
      "12   multiplicative  160.351562  \n",
      "13   multiplicative  159.592116  \n",
      "14   multiplicative  160.317194  \n",
      "15   multiplicative  161.756232  \n",
      "16   multiplicative  161.864088  \n",
      "17   multiplicative  160.627252  \n",
      "18   multiplicative  162.874246  \n",
      "19   multiplicative  160.763602  \n",
      "20   multiplicative  161.680787  \n",
      "21   multiplicative  160.781915  \n",
      "22   multiplicative  159.299028  \n",
      "23   multiplicative  162.119814  \n",
      "24   multiplicative  160.503123  \n",
      "25   multiplicative  159.998324  \n",
      "26   multiplicative  161.443446  \n"
     ]
    },
    {
     "name": "stderr",
     "output_type": "stream",
     "text": [
      "14:15:14 - cmdstanpy - INFO - Chain [1] done processing\n"
     ]
    },
    {
     "data": {
      "text/plain": [
       "changepoint_prior_scale             0.003\n",
       "seasonality_prior_scale              12.0\n",
       "holidays_prior_scale                 10.0\n",
       "seasonality_mode           multiplicative\n",
       "rmse                           159.299028\n",
       "Name: 22, dtype: object"
      ]
     },
     "execution_count": 34,
     "metadata": {},
     "output_type": "execute_result"
    }
   ],
   "source": [
    "param_grid = {\n",
    "    'changepoint_prior_scale': [0.001, 0.002, 0.003],\n",
    "    'seasonality_prior_scale': [10.0, 12.0, 20.0],\n",
    "    'holidays_prior_scale' : [9.0, 10.0, 15.0],\n",
    "    'seasonality_mode' : ['multiplicative']\n",
    "\n",
    "}\n",
    "\n",
    "# Generate all combinations of parameters\n",
    "all_params = [dict(zip(param_grid.keys(), v)) for v in itertools.product(*param_grid.values())]\n",
    "rmses = []  # Store the RMSEs for each params here\n",
    "\n",
    "# Use cross validation to evaluate all parameters\n",
    "for params in all_params:\n",
    "    m = Prophet(**params)  # Fit model with given params\n",
    "    m.add_country_holidays(country_name='KR')\n",
    "    m.add_regressor('is_morning_peak')\n",
    "    m.add_regressor('is_afternoon_peak')\n",
    "    m.add_regressor('is_closed')\n",
    "    m.fit(df_achasan5_train)\n",
    "    df_cv = cross_validation(m, initial='400 days', period='100 days', horizon = '2 days', parallel=\"processes\")\n",
    "    df_p = performance_metrics(df_cv, rolling_window=1)\n",
    "    rmses.append(df_p['rmse'].values[0])\n",
    "\n",
    "# Find the best parameters\n",
    "tuning_results = pd.DataFrame(all_params)\n",
    "tuning_results['rmse'] = rmses\n",
    "print(tuning_results)\n",
    "tuning_results.iloc[rmses.index(min(rmses))]\n"
   ]
  },
  {
   "cell_type": "code",
   "execution_count": 35,
   "metadata": {},
   "outputs": [
    {
     "data": {
      "text/plain": [
       "251.06858634542422"
      ]
     },
     "execution_count": 35,
     "metadata": {},
     "output_type": "execute_result"
    }
   ],
   "source": [
    "\n",
    "np.sqrt(mean_squared_error(prediction['yhat'].values, df_achasan5_test['y'].values))\n"
   ]
  },
  {
   "cell_type": "code",
   "execution_count": 36,
   "metadata": {},
   "outputs": [
    {
     "data": {
      "text/html": [
       "<div>\n",
       "<style scoped>\n",
       "    .dataframe tbody tr th:only-of-type {\n",
       "        vertical-align: middle;\n",
       "    }\n",
       "\n",
       "    .dataframe tbody tr th {\n",
       "        vertical-align: top;\n",
       "    }\n",
       "\n",
       "    .dataframe thead th {\n",
       "        text-align: right;\n",
       "    }\n",
       "</style>\n",
       "<table border=\"1\" class=\"dataframe\">\n",
       "  <thead>\n",
       "    <tr style=\"text-align: right;\">\n",
       "      <th></th>\n",
       "      <th>horizon</th>\n",
       "      <th>mse</th>\n",
       "      <th>rmse</th>\n",
       "      <th>mae</th>\n",
       "      <th>mdape</th>\n",
       "      <th>smape</th>\n",
       "      <th>coverage</th>\n",
       "    </tr>\n",
       "  </thead>\n",
       "  <tbody>\n",
       "    <tr>\n",
       "      <th>0</th>\n",
       "      <td>2 days</td>\n",
       "      <td>26063.986303</td>\n",
       "      <td>161.443446</td>\n",
       "      <td>125.170957</td>\n",
       "      <td>0.217973</td>\n",
       "      <td>0.604893</td>\n",
       "      <td>0.895833</td>\n",
       "    </tr>\n",
       "  </tbody>\n",
       "</table>\n",
       "</div>"
      ],
      "text/plain": [
       "  horizon           mse        rmse         mae     mdape     smape  coverage\n",
       "0  2 days  26063.986303  161.443446  125.170957  0.217973  0.604893  0.895833"
      ]
     },
     "execution_count": 36,
     "metadata": {},
     "output_type": "execute_result"
    }
   ],
   "source": [
    "df_p\n"
   ]
  },
  {
   "cell_type": "code",
   "execution_count": null,
   "metadata": {},
   "outputs": [],
   "source": []
  }
 ],
 "metadata": {
  "kernelspec": {
   "display_name": "metro_seoul",
   "language": "python",
   "name": "python3"
  },
  "language_info": {
   "codemirror_mode": {
    "name": "ipython",
    "version": 3
   },
   "file_extension": ".py",
   "mimetype": "text/x-python",
   "name": "python",
   "nbconvert_exporter": "python",
   "pygments_lexer": "ipython3",
   "version": "3.10.6"
  }
 },
 "nbformat": 4,
 "nbformat_minor": 2
}
