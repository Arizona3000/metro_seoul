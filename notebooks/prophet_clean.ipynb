{
 "cells": [
  {
   "cell_type": "code",
   "execution_count": 8,
   "metadata": {},
   "outputs": [
    {
     "name": "stdout",
     "output_type": "stream",
     "text": [
      "The autoreload extension is already loaded. To reload it, use:\n",
      "  %reload_ext autoreload\n"
     ]
    }
   ],
   "source": [
    "import pandas as pd\n",
    "#pip install prophet\n",
    "#pip install ipywidgets\n",
    "from prophet import Prophet\n",
    "import itertools\n",
    "import numpy as np\n",
    "\n",
    "import sys\n",
    "sys.path.append('/Users/thomas_metral/code/thomas-metral/metro_seoul')\n",
    "# print(sys.path)\n",
    "\n",
    "\n",
    "from prophet.plot import plot_plotly, plot_components_plotly\n",
    "from prophet.diagnostics import cross_validation\n",
    "from prophet.diagnostics import performance_metrics\n",
    "from prophet.plot import plot_cross_validation_metric\n",
    "import matplotlib.pyplot as plt\n",
    "import seaborn as sns\n",
    "from metro_app.ml_logic.preprocess import general_preprocessing, model_data_preprocessing, preprocess_lstm, prophet_preprocessing_one_station\n",
    "\n",
    "from metro_app.ml_logic.model import prophet_train_predict, plot_evaluate\n",
    "from sklearn.metrics import mean_absolute_percentage_error as mape\n",
    "from sklearn.metrics import mean_squared_error\n",
    "import datetime\n",
    "import plotly.express as px\n",
    "\n",
    "%matplotlib inline\n",
    "%load_ext autoreload\n",
    "%autoreload 2\n"
   ]
  },
  {
   "cell_type": "code",
   "execution_count": 2,
   "metadata": {},
   "outputs": [
    {
     "name": "stderr",
     "output_type": "stream",
     "text": [
      "/var/folders/zn/b4l6fdhd4fs52t3wxt1d7kn40000gn/T/ipykernel_69889/2845828255.py:1: DtypeWarning: Columns (3) have mixed types. Specify dtype option on import or set low_memory=False.\n",
      "  df = pd.read_csv('/Users/thomas_metral/code/thomas-metral/metro_seoul/raw_data/crowd2020-2023.csv')\n"
     ]
    }
   ],
   "source": [
    "df = pd.read_csv('/Users/thomas_metral/code/thomas-metral/metro_seoul/raw_data/crowd2020-2023.csv')\n"
   ]
  },
  {
   "cell_type": "markdown",
   "metadata": {},
   "source": [
    "## Multi station"
   ]
  },
  {
   "cell_type": "code",
   "execution_count": 4,
   "metadata": {},
   "outputs": [
    {
     "ename": "NameError",
     "evalue": "name 'df' is not defined",
     "output_type": "error",
     "traceback": [
      "\u001b[0;31m---------------------------------------------------------------------------\u001b[0m",
      "\u001b[0;31mNameError\u001b[0m                                 Traceback (most recent call last)",
      "\u001b[1;32m/Users/thomas_metral/code/thomas-metral/metro_seoul/notebooks/prophet_clean.ipynb Cell 4\u001b[0m line \u001b[0;36m1\n\u001b[0;32m----> <a href='vscode-notebook-cell:/Users/thomas_metral/code/thomas-metral/metro_seoul/notebooks/prophet_clean.ipynb#X65sZmlsZQ%3D%3D?line=0'>1</a>\u001b[0m df1 \u001b[39m=\u001b[39m general_preprocessing(df)\n\u001b[1;32m      <a href='vscode-notebook-cell:/Users/thomas_metral/code/thomas-metral/metro_seoul/notebooks/prophet_clean.ipynb#X65sZmlsZQ%3D%3D?line=1'>2</a>\u001b[0m df1 \u001b[39m=\u001b[39m model_data_preprocessing(df1)\n\u001b[1;32m      <a href='vscode-notebook-cell:/Users/thomas_metral/code/thomas-metral/metro_seoul/notebooks/prophet_clean.ipynb#X65sZmlsZQ%3D%3D?line=2'>3</a>\u001b[0m df1\u001b[39m.\u001b[39mreset_index(inplace\u001b[39m=\u001b[39m\u001b[39mTrue\u001b[39;00m)\n",
      "\u001b[0;31mNameError\u001b[0m: name 'df' is not defined"
     ]
    }
   ],
   "source": [
    "df1 = general_preprocessing(df)\n",
    "df1 = model_data_preprocessing(df1)\n",
    "df1.reset_index(inplace=True)\n",
    "df1 = df1.groupby(['datetime', 'station_name', 'station_number', 'line'])['value'].sum().reset_index()\n",
    "df1\n"
   ]
  },
  {
   "cell_type": "code",
   "execution_count": 276,
   "metadata": {},
   "outputs": [
    {
     "name": "stderr",
     "output_type": "stream",
     "text": [
      "12:08:31 - cmdstanpy - INFO - Chain [1] start processing\n",
      "12:08:33 - cmdstanpy - INFO - Chain [1] done processing\n",
      "12:08:34 - cmdstanpy - INFO - Chain [1] start processing\n",
      "12:08:36 - cmdstanpy - INFO - Chain [1] done processing\n",
      "12:08:37 - cmdstanpy - INFO - Chain [1] start processing\n",
      "12:08:39 - cmdstanpy - INFO - Chain [1] done processing\n",
      "12:08:40 - cmdstanpy - INFO - Chain [1] start processing\n",
      "12:08:42 - cmdstanpy - INFO - Chain [1] done processing\n",
      "12:08:43 - cmdstanpy - INFO - Chain [1] start processing\n",
      "12:08:45 - cmdstanpy - INFO - Chain [1] done processing\n",
      "12:08:46 - cmdstanpy - INFO - Chain [1] start processing\n",
      "12:08:49 - cmdstanpy - INFO - Chain [1] done processing\n",
      "12:08:50 - cmdstanpy - INFO - Chain [1] start processing\n",
      "12:08:54 - cmdstanpy - INFO - Chain [1] done processing\n",
      "12:08:55 - cmdstanpy - INFO - Chain [1] start processing\n",
      "12:08:57 - cmdstanpy - INFO - Chain [1] done processing\n",
      "12:08:58 - cmdstanpy - INFO - Chain [1] start processing\n",
      "12:08:59 - cmdstanpy - INFO - Chain [1] done processing\n",
      "12:09:00 - cmdstanpy - INFO - Chain [1] start processing\n",
      "12:09:02 - cmdstanpy - INFO - Chain [1] done processing\n",
      "12:09:03 - cmdstanpy - INFO - Chain [1] start processing\n",
      "12:09:06 - cmdstanpy - INFO - Chain [1] done processing\n",
      "12:09:07 - cmdstanpy - INFO - Chain [1] start processing\n",
      "12:09:09 - cmdstanpy - INFO - Chain [1] done processing\n",
      "12:09:10 - cmdstanpy - INFO - Chain [1] start processing\n",
      "12:09:13 - cmdstanpy - INFO - Chain [1] done processing\n",
      "12:09:14 - cmdstanpy - INFO - Chain [1] start processing\n",
      "12:09:16 - cmdstanpy - INFO - Chain [1] done processing\n",
      "12:09:17 - cmdstanpy - INFO - Chain [1] start processing\n",
      "12:09:19 - cmdstanpy - INFO - Chain [1] done processing\n",
      "12:09:20 - cmdstanpy - INFO - Chain [1] start processing\n",
      "12:09:22 - cmdstanpy - INFO - Chain [1] done processing\n"
     ]
    }
   ],
   "source": [
    "station_charlotte = [['Dongjak (Seoul National Cemetery)', 4],\n",
    " ['Gangnam', 2],\n",
    " ['Gireum', 4],\n",
    " ['Guro Digital Complex', 2],\n",
    " ['Gwanghwamun(Sejong Center for the Performing Arts)', 5],\n",
    " ['Hongik Univ.', 2],\n",
    " ['Itaewon', 6],\n",
    " ['Jamsilsaenae', 2],\n",
    " ['Mok-dong', 5],\n",
    " ['Nokbeon', 3],\n",
    " ['Seongsu', 2],\n",
    " ['Seoul Station', 1],\n",
    " ['Seoul Station', 4],\n",
    " ['World Cup Stadium(Seongsan)', 6],\n",
    " ['Yeonsinnae', 3],\n",
    " ['Yeonsinnae', 6],\n",
    " ['Yeouido', 5]]\n",
    "\n",
    "mapes2 = []\n",
    "results = []\n",
    "for i in range(len(station_charlotte)):\n",
    "\n",
    "    data = df1[(df1['station_name'] == station_charlotte[i][0]) &\n",
    "                (df1['line'] == station_charlotte[i][1])]\n",
    "    data = data.rename(columns={'datetime':'ds', 'value' : 'y'})\n",
    "\n",
    "    #lenght of test data\n",
    "    days = 2\n",
    "\n",
    "    # index = round(train_size*df_156.shape[0])\n",
    "    data_train = data.iloc[:-24*days]\n",
    "    data_test = data.iloc[-24*days:]\n",
    "\n",
    "    #shorten the train data\n",
    "    data_train = data_train.iloc[-24*500:]\n",
    "\n",
    "    data_train['is_morning_peak'] = ((data_train['ds'].dt.hour == 8) & (data_train['ds'].dt.dayofweek <= 5)).astype(int)\n",
    "    data_train['is_afternoon_peak'] = ((data_train['ds'].dt.hour == 18) & (data_train['ds'].dt.dayofweek <= 5)).astype(int)\n",
    "    data_train['is_closed'] = ((data_train['ds'].dt.hour >= 0) & (data_train['ds'].dt.hour <= 4)).astype(int)\n",
    "\n",
    "    model = Prophet(changepoint_prior_scale=0.2, seasonality_prior_scale=10.0,\n",
    "                    holidays_prior_scale=10.0, seasonality_mode='multiplicative')\n",
    "    # model.add_regressor('is_morning_peak')\n",
    "    # model.add_regressor('is_afternoon_peak')\n",
    "\n",
    "    model.add_regressor('is_closed', mode='multiplicative')\n",
    "    model.add_seasonality(name='morning_peak', period=1, fourier_order=8, condition_name='is_morning_peak')\n",
    "    model.add_seasonality(name='afternoon_peak', period=1, fourier_order=8, condition_name='is_afternoon_peak')\n",
    "    model.add_country_holidays(country_name='SK')\n",
    "    model.fit(data_train)\n",
    "\n",
    "\n",
    "    # Create a future dataframe for predictions\n",
    "    future = model.make_future_dataframe(periods=days*24, include_history=False, freq='h')  # Forecasting for the next week\n",
    "    future['is_morning_peak'] = ((future['ds'].dt.hour >= 7) & (future['ds'].dt.hour <= 9)).astype(int)\n",
    "    future['is_afternoon_peak'] = ((future['ds'].dt.hour >= 17) & (future['ds'].dt.hour <= 19)).astype(int)\n",
    "    future['is_closed'] = ((future['ds'].dt.hour >= 0) & (future['ds'].dt.hour <= 4)).astype(int)\n",
    "    future['is_weekend'] = (future['ds'].dt.dayofweek >= 5).astype(int)\n",
    "\n",
    "    # Generate predictions\n",
    "    forecast = model.predict(future)\n",
    "    forecast.loc[forecast['is_closed'] != 0, 'yhat'] = 0\n",
    "    forecast.loc[forecast['morning_peak'] > 2, 'yhat'] = forecast.loc[forecast['morning_peak'] > 2, 'yhat'] * 1.2\n",
    "    forecast.loc[forecast['afternoon_peak'] > 2, 'yhat'] = forecast.loc[forecast['afternoon_peak'] > 2, 'yhat'] * 1.18\n",
    "    prediction = forecast[['ds', 'yhat', 'yhat_lower', 'yhat_upper']]\n",
    "\n",
    "    result = mape(prediction['yhat'].values, data_test['y'].values)\n",
    "    results.append(result)\n",
    "    mapes2.append(f\"{station_charlotte[i][0]} {station_charlotte[i][1]} : {result}\")\n"
   ]
  },
  {
   "cell_type": "code",
   "execution_count": 277,
   "metadata": {},
   "outputs": [
    {
     "data": {
      "text/plain": [
       "0.15508006887882142"
      ]
     },
     "execution_count": 277,
     "metadata": {},
     "output_type": "execute_result"
    }
   ],
   "source": [
    "np.mean(results)\n"
   ]
  },
  {
   "cell_type": "markdown",
   "metadata": {},
   "source": [
    "## Improving params"
   ]
  },
  {
   "cell_type": "code",
   "execution_count": 2,
   "metadata": {},
   "outputs": [
    {
     "name": "stderr",
     "output_type": "stream",
     "text": [
      "/var/folders/zn/b4l6fdhd4fs52t3wxt1d7kn40000gn/T/ipykernel_70086/364441125.py:1: DtypeWarning: Columns (3) have mixed types. Specify dtype option on import or set low_memory=False.\n",
      "  df = pd.read_csv('/Users/thomas_metral/code/thomas-metral/metro_seoul/raw_data/crowd2020-2023.csv')\n",
      "/Users/thomas_metral/code/thomas-metral/metro_seoul/metro_app/ml_logic/preprocess.py:64: SettingWithCopyWarning: \n",
      "A value is trying to be set on a copy of a slice from a DataFrame.\n",
      "Try using .loc[row_indexer,col_indexer] = value instead\n",
      "\n",
      "See the caveats in the documentation: https://pandas.pydata.org/pandas-docs/stable/user_guide/indexing.html#returning-a-view-versus-a-copy\n",
      "  df['date'] = pd.to_datetime(df['date'])\n",
      "/Users/thomas_metral/code/thomas-metral/metro_seoul/metro_app/ml_logic/preprocess.py:65: SettingWithCopyWarning: \n",
      "A value is trying to be set on a copy of a slice from a DataFrame.\n",
      "Try using .loc[row_indexer,col_indexer] = value instead\n",
      "\n",
      "See the caveats in the documentation: https://pandas.pydata.org/pandas-docs/stable/user_guide/indexing.html#returning-a-view-versus-a-copy\n",
      "  df['line'] = df['line'].astype('int')\n"
     ]
    }
   ],
   "source": [
    "df = pd.read_csv('/Users/thomas_metral/code/thomas-metral/metro_seoul/raw_data/crowd2020-2023.csv')\n",
    "df1 = general_preprocessing(df)\n",
    "df2 = model_data_preprocessing(df1)\n",
    "df2.reset_index(inplace=True)\n",
    "df3 = df2.groupby(['datetime', 'station_name', 'station_number', 'line'])['value'].sum().reset_index()\n",
    "data = df3[(df3['station_name'] == 'Seongsu') &\n",
    "                (df3['line'] == 2)]\n",
    "\n",
    "data = data.rename(columns={'datetime':'ds', 'value' : 'y'})\n"
   ]
  },
  {
   "cell_type": "code",
   "execution_count": 18,
   "metadata": {},
   "outputs": [
    {
     "name": "stderr",
     "output_type": "stream",
     "text": [
      "15:14:05 - cmdstanpy - INFO - Chain [1] start processing\n",
      "15:14:07 - cmdstanpy - INFO - Chain [1] done processing\n"
     ]
    },
    {
     "name": "stdout",
     "output_type": "stream",
     "text": [
      "Index(['ds', 'is_morning_peak', 'is_afternoon_peak', 'is_closed',\n",
      "       'is_weekend'],\n",
      "      dtype='object')\n",
      "                    ds  is_morning_peak  is_afternoon_peak  is_closed  \\\n",
      "0  2023-06-28 01:00:00                0                  0          1   \n",
      "1  2023-06-28 02:00:00                0                  0          1   \n",
      "2  2023-06-28 03:00:00                0                  0          1   \n",
      "3  2023-06-28 04:00:00                0                  0          1   \n",
      "4  2023-06-28 05:00:00                0                  0          0   \n",
      "5  2023-06-28 06:00:00                0                  0          0   \n",
      "6  2023-06-28 07:00:00                0                  0          0   \n",
      "7  2023-06-28 08:00:00                1                  0          0   \n",
      "8  2023-06-28 09:00:00                1                  0          0   \n",
      "9  2023-06-28 10:00:00                0                  0          0   \n",
      "10 2023-06-28 11:00:00                0                  0          0   \n",
      "11 2023-06-28 12:00:00                0                  0          0   \n",
      "12 2023-06-28 13:00:00                0                  0          0   \n",
      "13 2023-06-28 14:00:00                0                  0          0   \n",
      "14 2023-06-28 15:00:00                0                  0          0   \n",
      "15 2023-06-28 16:00:00                0                  0          0   \n",
      "16 2023-06-28 17:00:00                0                  1          0   \n",
      "17 2023-06-28 18:00:00                0                  1          0   \n",
      "18 2023-06-28 19:00:00                0                  1          0   \n",
      "19 2023-06-28 20:00:00                0                  0          0   \n",
      "\n",
      "    is_weekend  \n",
      "0            0  \n",
      "1            0  \n",
      "2            0  \n",
      "3            0  \n",
      "4            0  \n",
      "5            0  \n",
      "6            0  \n",
      "7            0  \n",
      "8            0  \n",
      "9            0  \n",
      "10           0  \n",
      "11           0  \n",
      "12           0  \n",
      "13           0  \n",
      "14           0  \n",
      "15           0  \n",
      "16           0  \n",
      "17           0  \n",
      "18           0  \n",
      "19           0  \n"
     ]
    }
   ],
   "source": [
    "model, mape_prophet, prediction = prophet_train_predict(data)\n"
   ]
  },
  {
   "cell_type": "code",
   "execution_count": 19,
   "metadata": {},
   "outputs": [
    {
     "data": {
      "text/html": [
       "<div>\n",
       "<style scoped>\n",
       "    .dataframe tbody tr th:only-of-type {\n",
       "        vertical-align: middle;\n",
       "    }\n",
       "\n",
       "    .dataframe tbody tr th {\n",
       "        vertical-align: top;\n",
       "    }\n",
       "\n",
       "    .dataframe thead th {\n",
       "        text-align: right;\n",
       "    }\n",
       "</style>\n",
       "<table border=\"1\" class=\"dataframe\">\n",
       "  <thead>\n",
       "    <tr style=\"text-align: right;\">\n",
       "      <th></th>\n",
       "      <th>ds</th>\n",
       "      <th>yhat</th>\n",
       "    </tr>\n",
       "  </thead>\n",
       "  <tbody>\n",
       "    <tr>\n",
       "      <th>0</th>\n",
       "      <td>2023-06-28 01:00:00</td>\n",
       "      <td>0.000000</td>\n",
       "    </tr>\n",
       "    <tr>\n",
       "      <th>1</th>\n",
       "      <td>2023-06-28 02:00:00</td>\n",
       "      <td>0.000000</td>\n",
       "    </tr>\n",
       "    <tr>\n",
       "      <th>2</th>\n",
       "      <td>2023-06-28 03:00:00</td>\n",
       "      <td>0.000000</td>\n",
       "    </tr>\n",
       "    <tr>\n",
       "      <th>3</th>\n",
       "      <td>2023-06-28 04:00:00</td>\n",
       "      <td>0.000000</td>\n",
       "    </tr>\n",
       "    <tr>\n",
       "      <th>4</th>\n",
       "      <td>2023-06-28 05:00:00</td>\n",
       "      <td>933.598492</td>\n",
       "    </tr>\n",
       "    <tr>\n",
       "      <th>...</th>\n",
       "      <td>...</td>\n",
       "      <td>...</td>\n",
       "    </tr>\n",
       "    <tr>\n",
       "      <th>67</th>\n",
       "      <td>2023-06-30 20:00:00</td>\n",
       "      <td>4074.049680</td>\n",
       "    </tr>\n",
       "    <tr>\n",
       "      <th>68</th>\n",
       "      <td>2023-06-30 21:00:00</td>\n",
       "      <td>2907.606769</td>\n",
       "    </tr>\n",
       "    <tr>\n",
       "      <th>69</th>\n",
       "      <td>2023-06-30 22:00:00</td>\n",
       "      <td>1745.161209</td>\n",
       "    </tr>\n",
       "    <tr>\n",
       "      <th>70</th>\n",
       "      <td>2023-06-30 23:00:00</td>\n",
       "      <td>910.583700</td>\n",
       "    </tr>\n",
       "    <tr>\n",
       "      <th>71</th>\n",
       "      <td>2023-07-01 00:00:00</td>\n",
       "      <td>0.000000</td>\n",
       "    </tr>\n",
       "  </tbody>\n",
       "</table>\n",
       "<p>72 rows × 2 columns</p>\n",
       "</div>"
      ],
      "text/plain": [
       "                    ds         yhat\n",
       "0  2023-06-28 01:00:00     0.000000\n",
       "1  2023-06-28 02:00:00     0.000000\n",
       "2  2023-06-28 03:00:00     0.000000\n",
       "3  2023-06-28 04:00:00     0.000000\n",
       "4  2023-06-28 05:00:00   933.598492\n",
       "..                 ...          ...\n",
       "67 2023-06-30 20:00:00  4074.049680\n",
       "68 2023-06-30 21:00:00  2907.606769\n",
       "69 2023-06-30 22:00:00  1745.161209\n",
       "70 2023-06-30 23:00:00   910.583700\n",
       "71 2023-07-01 00:00:00     0.000000\n",
       "\n",
       "[72 rows x 2 columns]"
      ]
     },
     "execution_count": 19,
     "metadata": {},
     "output_type": "execute_result"
    }
   ],
   "source": [
    "prediction\n"
   ]
  },
  {
   "cell_type": "code",
   "execution_count": 14,
   "metadata": {},
   "outputs": [
    {
     "data": {
      "application/vnd.plotly.v1+json": {
       "config": {
        "plotlyServerURL": "https://plot.ly"
       },
       "data": [
        {
         "hovertemplate": "variable=y<br>ds=%{x}<br>value=%{y}<extra></extra>",
         "legendgroup": "y",
         "line": {
          "color": "#636efa",
          "dash": "solid"
         },
         "marker": {
          "symbol": "circle"
         },
         "mode": "lines",
         "name": "y",
         "orientation": "v",
         "showlegend": true,
         "type": "scatter",
         "x": [
          "2023-06-28T01:00:00",
          "2023-06-28T02:00:00",
          "2023-06-28T03:00:00",
          "2023-06-28T04:00:00",
          "2023-06-28T05:00:00",
          "2023-06-28T06:00:00",
          "2023-06-28T07:00:00",
          "2023-06-28T08:00:00",
          "2023-06-28T09:00:00",
          "2023-06-28T10:00:00",
          "2023-06-28T11:00:00",
          "2023-06-28T12:00:00",
          "2023-06-28T13:00:00",
          "2023-06-28T14:00:00",
          "2023-06-28T15:00:00",
          "2023-06-28T16:00:00",
          "2023-06-28T17:00:00",
          "2023-06-28T18:00:00",
          "2023-06-28T19:00:00",
          "2023-06-28T20:00:00",
          "2023-06-28T21:00:00",
          "2023-06-28T22:00:00",
          "2023-06-28T23:00:00",
          "2023-06-29T00:00:00",
          "2023-06-29T01:00:00",
          "2023-06-29T02:00:00",
          "2023-06-29T03:00:00",
          "2023-06-29T04:00:00",
          "2023-06-29T05:00:00",
          "2023-06-29T06:00:00",
          "2023-06-29T07:00:00",
          "2023-06-29T08:00:00",
          "2023-06-29T09:00:00",
          "2023-06-29T10:00:00",
          "2023-06-29T11:00:00",
          "2023-06-29T12:00:00",
          "2023-06-29T13:00:00",
          "2023-06-29T14:00:00",
          "2023-06-29T15:00:00",
          "2023-06-29T16:00:00",
          "2023-06-29T17:00:00",
          "2023-06-29T18:00:00",
          "2023-06-29T19:00:00",
          "2023-06-29T20:00:00",
          "2023-06-29T21:00:00",
          "2023-06-29T22:00:00",
          "2023-06-29T23:00:00",
          "2023-06-30T00:00:00",
          "2023-06-30T01:00:00",
          "2023-06-30T02:00:00",
          "2023-06-30T03:00:00",
          "2023-06-30T04:00:00",
          "2023-06-30T05:00:00",
          "2023-06-30T06:00:00",
          "2023-06-30T07:00:00",
          "2023-06-30T08:00:00",
          "2023-06-30T09:00:00",
          "2023-06-30T10:00:00",
          "2023-06-30T11:00:00",
          "2023-06-30T12:00:00",
          "2023-06-30T13:00:00",
          "2023-06-30T14:00:00",
          "2023-06-30T15:00:00",
          "2023-06-30T16:00:00",
          "2023-06-30T17:00:00",
          "2023-06-30T18:00:00",
          "2023-06-30T19:00:00",
          "2023-06-30T20:00:00",
          "2023-06-30T21:00:00",
          "2023-06-30T22:00:00",
          "2023-06-30T23:00:00",
          "2023-07-01T00:00:00"
         ],
         "xaxis": "x",
         "y": [
          0,
          0,
          0,
          0,
          382,
          1692,
          4471,
          13550,
          7979,
          3616,
          2869,
          3034,
          3517,
          3800,
          4065,
          4497,
          7710,
          13574,
          6390,
          3864,
          3401,
          2588,
          1176,
          0,
          0,
          0,
          0,
          0,
          362,
          1656,
          4269,
          13596,
          7711,
          3600,
          2360,
          2737,
          2737,
          2954,
          3090,
          3902,
          6712,
          12698,
          5834,
          3446,
          3030,
          2301,
          1173,
          0,
          0,
          0,
          0,
          0,
          390,
          1582,
          4214,
          12999,
          7542,
          3482,
          3075,
          3393,
          3936,
          3977,
          4675,
          5473,
          8194,
          13450,
          6268,
          3814,
          3321,
          2597,
          1588,
          0
         ],
         "yaxis": "y"
        },
        {
         "hovertemplate": "variable=yhat<br>ds=%{x}<br>value=%{y}<extra></extra>",
         "legendgroup": "yhat",
         "line": {
          "color": "#EF553B",
          "dash": "solid"
         },
         "marker": {
          "symbol": "circle"
         },
         "mode": "lines",
         "name": "yhat",
         "orientation": "v",
         "showlegend": true,
         "type": "scatter",
         "x": [
          "2023-06-28T01:00:00",
          "2023-06-28T02:00:00",
          "2023-06-28T03:00:00",
          "2023-06-28T04:00:00",
          "2023-06-28T05:00:00",
          "2023-06-28T06:00:00",
          "2023-06-28T07:00:00",
          "2023-06-28T08:00:00",
          "2023-06-28T09:00:00",
          "2023-06-28T10:00:00",
          "2023-06-28T11:00:00",
          "2023-06-28T12:00:00",
          "2023-06-28T13:00:00",
          "2023-06-28T14:00:00",
          "2023-06-28T15:00:00",
          "2023-06-28T16:00:00",
          "2023-06-28T17:00:00",
          "2023-06-28T18:00:00",
          "2023-06-28T19:00:00",
          "2023-06-28T20:00:00",
          "2023-06-28T21:00:00",
          "2023-06-28T22:00:00",
          "2023-06-28T23:00:00",
          "2023-06-29T00:00:00",
          "2023-06-29T01:00:00",
          "2023-06-29T02:00:00",
          "2023-06-29T03:00:00",
          "2023-06-29T04:00:00",
          "2023-06-29T05:00:00",
          "2023-06-29T06:00:00",
          "2023-06-29T07:00:00",
          "2023-06-29T08:00:00",
          "2023-06-29T09:00:00",
          "2023-06-29T10:00:00",
          "2023-06-29T11:00:00",
          "2023-06-29T12:00:00",
          "2023-06-29T13:00:00",
          "2023-06-29T14:00:00",
          "2023-06-29T15:00:00",
          "2023-06-29T16:00:00",
          "2023-06-29T17:00:00",
          "2023-06-29T18:00:00",
          "2023-06-29T19:00:00",
          "2023-06-29T20:00:00",
          "2023-06-29T21:00:00",
          "2023-06-29T22:00:00",
          "2023-06-29T23:00:00",
          "2023-06-30T00:00:00",
          "2023-06-30T01:00:00",
          "2023-06-30T02:00:00",
          "2023-06-30T03:00:00",
          "2023-06-30T04:00:00",
          "2023-06-30T05:00:00",
          "2023-06-30T06:00:00",
          "2023-06-30T07:00:00",
          "2023-06-30T08:00:00",
          "2023-06-30T09:00:00",
          "2023-06-30T10:00:00",
          "2023-06-30T11:00:00",
          "2023-06-30T12:00:00",
          "2023-06-30T13:00:00",
          "2023-06-30T14:00:00",
          "2023-06-30T15:00:00",
          "2023-06-30T16:00:00",
          "2023-06-30T17:00:00",
          "2023-06-30T18:00:00",
          "2023-06-30T19:00:00",
          "2023-06-30T20:00:00",
          "2023-06-30T21:00:00",
          "2023-06-30T22:00:00",
          "2023-06-30T23:00:00",
          "2023-07-01T00:00:00"
         ],
         "xaxis": "x",
         "y": [
          0,
          0,
          0,
          0,
          933.5984919248838,
          2091.5041072798554,
          3550.8055888885674,
          13904.074355507555,
          7082.23184621111,
          4297.678594065191,
          3432.7877775870943,
          2910.733876492038,
          3040.357533380669,
          3693.859317528195,
          4508.272818523399,
          5169.566972669529,
          7479.194451132892,
          13782.486203517312,
          7105.415402416248,
          4344.822022988891,
          3230.865360100878,
          2123.676038850583,
          1347.2967865062894,
          0,
          0,
          0,
          0,
          0,
          925.5424873407921,
          2089.1901624938946,
          3555.4298685473796,
          13915.243649211063,
          7104.217905200797,
          4332.520663027535,
          3480.4215301847944,
          2971.788882314884,
          3115.1144224243785,
          3782.4635935858782,
          4610.841446858848,
          5286.143409098481,
          7608.58875175639,
          13948.415280017942,
          7261.146150772801,
          4513.538794270253,
          3410.236903987463,
          2311.962510163024,
          1542.2912283695405,
          0,
          0,
          0,
          0,
          0,
          1100.9343427225929,
          2248.9458226780453,
          3695.5925672302137,
          14050.992275922321,
          7193.130513789585,
          4392.320650853029,
          3506.1194786097235,
          2959.30971157223,
          3060.3208620181545,
          3681.435296401811,
          4460.045025440402,
          5082.448221158565,
          7348.164253846395,
          13569.868596427224,
          6882.435585481121,
          4074.049680136888,
          2907.606769168706,
          1745.161209409959,
          910.5836998397723,
          0
         ],
         "yaxis": "y"
        }
       ],
       "layout": {
        "legend": {
         "title": {
          "text": "variable"
         },
         "tracegroupgap": 0
        },
        "margin": {
         "t": 60
        },
        "template": {
         "data": {
          "bar": [
           {
            "error_x": {
             "color": "#2a3f5f"
            },
            "error_y": {
             "color": "#2a3f5f"
            },
            "marker": {
             "line": {
              "color": "#E5ECF6",
              "width": 0.5
             },
             "pattern": {
              "fillmode": "overlay",
              "size": 10,
              "solidity": 0.2
             }
            },
            "type": "bar"
           }
          ],
          "barpolar": [
           {
            "marker": {
             "line": {
              "color": "#E5ECF6",
              "width": 0.5
             },
             "pattern": {
              "fillmode": "overlay",
              "size": 10,
              "solidity": 0.2
             }
            },
            "type": "barpolar"
           }
          ],
          "carpet": [
           {
            "aaxis": {
             "endlinecolor": "#2a3f5f",
             "gridcolor": "white",
             "linecolor": "white",
             "minorgridcolor": "white",
             "startlinecolor": "#2a3f5f"
            },
            "baxis": {
             "endlinecolor": "#2a3f5f",
             "gridcolor": "white",
             "linecolor": "white",
             "minorgridcolor": "white",
             "startlinecolor": "#2a3f5f"
            },
            "type": "carpet"
           }
          ],
          "choropleth": [
           {
            "colorbar": {
             "outlinewidth": 0,
             "ticks": ""
            },
            "type": "choropleth"
           }
          ],
          "contour": [
           {
            "colorbar": {
             "outlinewidth": 0,
             "ticks": ""
            },
            "colorscale": [
             [
              0,
              "#0d0887"
             ],
             [
              0.1111111111111111,
              "#46039f"
             ],
             [
              0.2222222222222222,
              "#7201a8"
             ],
             [
              0.3333333333333333,
              "#9c179e"
             ],
             [
              0.4444444444444444,
              "#bd3786"
             ],
             [
              0.5555555555555556,
              "#d8576b"
             ],
             [
              0.6666666666666666,
              "#ed7953"
             ],
             [
              0.7777777777777778,
              "#fb9f3a"
             ],
             [
              0.8888888888888888,
              "#fdca26"
             ],
             [
              1,
              "#f0f921"
             ]
            ],
            "type": "contour"
           }
          ],
          "contourcarpet": [
           {
            "colorbar": {
             "outlinewidth": 0,
             "ticks": ""
            },
            "type": "contourcarpet"
           }
          ],
          "heatmap": [
           {
            "colorbar": {
             "outlinewidth": 0,
             "ticks": ""
            },
            "colorscale": [
             [
              0,
              "#0d0887"
             ],
             [
              0.1111111111111111,
              "#46039f"
             ],
             [
              0.2222222222222222,
              "#7201a8"
             ],
             [
              0.3333333333333333,
              "#9c179e"
             ],
             [
              0.4444444444444444,
              "#bd3786"
             ],
             [
              0.5555555555555556,
              "#d8576b"
             ],
             [
              0.6666666666666666,
              "#ed7953"
             ],
             [
              0.7777777777777778,
              "#fb9f3a"
             ],
             [
              0.8888888888888888,
              "#fdca26"
             ],
             [
              1,
              "#f0f921"
             ]
            ],
            "type": "heatmap"
           }
          ],
          "heatmapgl": [
           {
            "colorbar": {
             "outlinewidth": 0,
             "ticks": ""
            },
            "colorscale": [
             [
              0,
              "#0d0887"
             ],
             [
              0.1111111111111111,
              "#46039f"
             ],
             [
              0.2222222222222222,
              "#7201a8"
             ],
             [
              0.3333333333333333,
              "#9c179e"
             ],
             [
              0.4444444444444444,
              "#bd3786"
             ],
             [
              0.5555555555555556,
              "#d8576b"
             ],
             [
              0.6666666666666666,
              "#ed7953"
             ],
             [
              0.7777777777777778,
              "#fb9f3a"
             ],
             [
              0.8888888888888888,
              "#fdca26"
             ],
             [
              1,
              "#f0f921"
             ]
            ],
            "type": "heatmapgl"
           }
          ],
          "histogram": [
           {
            "marker": {
             "pattern": {
              "fillmode": "overlay",
              "size": 10,
              "solidity": 0.2
             }
            },
            "type": "histogram"
           }
          ],
          "histogram2d": [
           {
            "colorbar": {
             "outlinewidth": 0,
             "ticks": ""
            },
            "colorscale": [
             [
              0,
              "#0d0887"
             ],
             [
              0.1111111111111111,
              "#46039f"
             ],
             [
              0.2222222222222222,
              "#7201a8"
             ],
             [
              0.3333333333333333,
              "#9c179e"
             ],
             [
              0.4444444444444444,
              "#bd3786"
             ],
             [
              0.5555555555555556,
              "#d8576b"
             ],
             [
              0.6666666666666666,
              "#ed7953"
             ],
             [
              0.7777777777777778,
              "#fb9f3a"
             ],
             [
              0.8888888888888888,
              "#fdca26"
             ],
             [
              1,
              "#f0f921"
             ]
            ],
            "type": "histogram2d"
           }
          ],
          "histogram2dcontour": [
           {
            "colorbar": {
             "outlinewidth": 0,
             "ticks": ""
            },
            "colorscale": [
             [
              0,
              "#0d0887"
             ],
             [
              0.1111111111111111,
              "#46039f"
             ],
             [
              0.2222222222222222,
              "#7201a8"
             ],
             [
              0.3333333333333333,
              "#9c179e"
             ],
             [
              0.4444444444444444,
              "#bd3786"
             ],
             [
              0.5555555555555556,
              "#d8576b"
             ],
             [
              0.6666666666666666,
              "#ed7953"
             ],
             [
              0.7777777777777778,
              "#fb9f3a"
             ],
             [
              0.8888888888888888,
              "#fdca26"
             ],
             [
              1,
              "#f0f921"
             ]
            ],
            "type": "histogram2dcontour"
           }
          ],
          "mesh3d": [
           {
            "colorbar": {
             "outlinewidth": 0,
             "ticks": ""
            },
            "type": "mesh3d"
           }
          ],
          "parcoords": [
           {
            "line": {
             "colorbar": {
              "outlinewidth": 0,
              "ticks": ""
             }
            },
            "type": "parcoords"
           }
          ],
          "pie": [
           {
            "automargin": true,
            "type": "pie"
           }
          ],
          "scatter": [
           {
            "fillpattern": {
             "fillmode": "overlay",
             "size": 10,
             "solidity": 0.2
            },
            "type": "scatter"
           }
          ],
          "scatter3d": [
           {
            "line": {
             "colorbar": {
              "outlinewidth": 0,
              "ticks": ""
             }
            },
            "marker": {
             "colorbar": {
              "outlinewidth": 0,
              "ticks": ""
             }
            },
            "type": "scatter3d"
           }
          ],
          "scattercarpet": [
           {
            "marker": {
             "colorbar": {
              "outlinewidth": 0,
              "ticks": ""
             }
            },
            "type": "scattercarpet"
           }
          ],
          "scattergeo": [
           {
            "marker": {
             "colorbar": {
              "outlinewidth": 0,
              "ticks": ""
             }
            },
            "type": "scattergeo"
           }
          ],
          "scattergl": [
           {
            "marker": {
             "colorbar": {
              "outlinewidth": 0,
              "ticks": ""
             }
            },
            "type": "scattergl"
           }
          ],
          "scattermapbox": [
           {
            "marker": {
             "colorbar": {
              "outlinewidth": 0,
              "ticks": ""
             }
            },
            "type": "scattermapbox"
           }
          ],
          "scatterpolar": [
           {
            "marker": {
             "colorbar": {
              "outlinewidth": 0,
              "ticks": ""
             }
            },
            "type": "scatterpolar"
           }
          ],
          "scatterpolargl": [
           {
            "marker": {
             "colorbar": {
              "outlinewidth": 0,
              "ticks": ""
             }
            },
            "type": "scatterpolargl"
           }
          ],
          "scatterternary": [
           {
            "marker": {
             "colorbar": {
              "outlinewidth": 0,
              "ticks": ""
             }
            },
            "type": "scatterternary"
           }
          ],
          "surface": [
           {
            "colorbar": {
             "outlinewidth": 0,
             "ticks": ""
            },
            "colorscale": [
             [
              0,
              "#0d0887"
             ],
             [
              0.1111111111111111,
              "#46039f"
             ],
             [
              0.2222222222222222,
              "#7201a8"
             ],
             [
              0.3333333333333333,
              "#9c179e"
             ],
             [
              0.4444444444444444,
              "#bd3786"
             ],
             [
              0.5555555555555556,
              "#d8576b"
             ],
             [
              0.6666666666666666,
              "#ed7953"
             ],
             [
              0.7777777777777778,
              "#fb9f3a"
             ],
             [
              0.8888888888888888,
              "#fdca26"
             ],
             [
              1,
              "#f0f921"
             ]
            ],
            "type": "surface"
           }
          ],
          "table": [
           {
            "cells": {
             "fill": {
              "color": "#EBF0F8"
             },
             "line": {
              "color": "white"
             }
            },
            "header": {
             "fill": {
              "color": "#C8D4E3"
             },
             "line": {
              "color": "white"
             }
            },
            "type": "table"
           }
          ]
         },
         "layout": {
          "annotationdefaults": {
           "arrowcolor": "#2a3f5f",
           "arrowhead": 0,
           "arrowwidth": 1
          },
          "autotypenumbers": "strict",
          "coloraxis": {
           "colorbar": {
            "outlinewidth": 0,
            "ticks": ""
           }
          },
          "colorscale": {
           "diverging": [
            [
             0,
             "#8e0152"
            ],
            [
             0.1,
             "#c51b7d"
            ],
            [
             0.2,
             "#de77ae"
            ],
            [
             0.3,
             "#f1b6da"
            ],
            [
             0.4,
             "#fde0ef"
            ],
            [
             0.5,
             "#f7f7f7"
            ],
            [
             0.6,
             "#e6f5d0"
            ],
            [
             0.7,
             "#b8e186"
            ],
            [
             0.8,
             "#7fbc41"
            ],
            [
             0.9,
             "#4d9221"
            ],
            [
             1,
             "#276419"
            ]
           ],
           "sequential": [
            [
             0,
             "#0d0887"
            ],
            [
             0.1111111111111111,
             "#46039f"
            ],
            [
             0.2222222222222222,
             "#7201a8"
            ],
            [
             0.3333333333333333,
             "#9c179e"
            ],
            [
             0.4444444444444444,
             "#bd3786"
            ],
            [
             0.5555555555555556,
             "#d8576b"
            ],
            [
             0.6666666666666666,
             "#ed7953"
            ],
            [
             0.7777777777777778,
             "#fb9f3a"
            ],
            [
             0.8888888888888888,
             "#fdca26"
            ],
            [
             1,
             "#f0f921"
            ]
           ],
           "sequentialminus": [
            [
             0,
             "#0d0887"
            ],
            [
             0.1111111111111111,
             "#46039f"
            ],
            [
             0.2222222222222222,
             "#7201a8"
            ],
            [
             0.3333333333333333,
             "#9c179e"
            ],
            [
             0.4444444444444444,
             "#bd3786"
            ],
            [
             0.5555555555555556,
             "#d8576b"
            ],
            [
             0.6666666666666666,
             "#ed7953"
            ],
            [
             0.7777777777777778,
             "#fb9f3a"
            ],
            [
             0.8888888888888888,
             "#fdca26"
            ],
            [
             1,
             "#f0f921"
            ]
           ]
          },
          "colorway": [
           "#636efa",
           "#EF553B",
           "#00cc96",
           "#ab63fa",
           "#FFA15A",
           "#19d3f3",
           "#FF6692",
           "#B6E880",
           "#FF97FF",
           "#FECB52"
          ],
          "font": {
           "color": "#2a3f5f"
          },
          "geo": {
           "bgcolor": "white",
           "lakecolor": "white",
           "landcolor": "#E5ECF6",
           "showlakes": true,
           "showland": true,
           "subunitcolor": "white"
          },
          "hoverlabel": {
           "align": "left"
          },
          "hovermode": "closest",
          "mapbox": {
           "style": "light"
          },
          "paper_bgcolor": "white",
          "plot_bgcolor": "#E5ECF6",
          "polar": {
           "angularaxis": {
            "gridcolor": "white",
            "linecolor": "white",
            "ticks": ""
           },
           "bgcolor": "#E5ECF6",
           "radialaxis": {
            "gridcolor": "white",
            "linecolor": "white",
            "ticks": ""
           }
          },
          "scene": {
           "xaxis": {
            "backgroundcolor": "#E5ECF6",
            "gridcolor": "white",
            "gridwidth": 2,
            "linecolor": "white",
            "showbackground": true,
            "ticks": "",
            "zerolinecolor": "white"
           },
           "yaxis": {
            "backgroundcolor": "#E5ECF6",
            "gridcolor": "white",
            "gridwidth": 2,
            "linecolor": "white",
            "showbackground": true,
            "ticks": "",
            "zerolinecolor": "white"
           },
           "zaxis": {
            "backgroundcolor": "#E5ECF6",
            "gridcolor": "white",
            "gridwidth": 2,
            "linecolor": "white",
            "showbackground": true,
            "ticks": "",
            "zerolinecolor": "white"
           }
          },
          "shapedefaults": {
           "line": {
            "color": "#2a3f5f"
           }
          },
          "ternary": {
           "aaxis": {
            "gridcolor": "white",
            "linecolor": "white",
            "ticks": ""
           },
           "baxis": {
            "gridcolor": "white",
            "linecolor": "white",
            "ticks": ""
           },
           "bgcolor": "#E5ECF6",
           "caxis": {
            "gridcolor": "white",
            "linecolor": "white",
            "ticks": ""
           }
          },
          "title": {
           "x": 0.05
          },
          "xaxis": {
           "automargin": true,
           "gridcolor": "white",
           "linecolor": "white",
           "ticks": "",
           "title": {
            "standoff": 15
           },
           "zerolinecolor": "white",
           "zerolinewidth": 2
          },
          "yaxis": {
           "automargin": true,
           "gridcolor": "white",
           "linecolor": "white",
           "ticks": "",
           "title": {
            "standoff": 15
           },
           "zerolinecolor": "white",
           "zerolinewidth": 2
          }
         }
        },
        "xaxis": {
         "anchor": "y",
         "domain": [
          0,
          1
         ],
         "title": {
          "text": "ds"
         }
        },
        "yaxis": {
         "anchor": "x",
         "domain": [
          0,
          1
         ],
         "title": {
          "text": "value"
         }
        }
       }
      }
     },
     "metadata": {},
     "output_type": "display_data"
    }
   ],
   "source": [
    "plot_evaluate(data, prediction)\n"
   ]
  },
  {
   "cell_type": "markdown",
   "metadata": {},
   "source": [
    "### Feature engineering"
   ]
  },
  {
   "cell_type": "code",
   "execution_count": 25,
   "metadata": {},
   "outputs": [],
   "source": [
    "#lenght of test data\n",
    "days = 3\n",
    "\n",
    "# index = round(train_size*df_156.shape[0])\n",
    "data_train = data.iloc[:-24*days]\n",
    "data_test = data.iloc[-24*days:]\n",
    "\n",
    "#shorten the train data\n",
    "data_train = data_train.iloc[-24*500:]\n",
    "\n",
    "data_train['is_morning_peak'] = ((data_train['ds'].dt.hour == 8) & (data_train['ds'].dt.dayofweek <= 5)).astype(int)\n",
    "data_train['is_afternoon_peak'] = ((data_train['ds'].dt.hour == 18) & (data_train['ds'].dt.dayofweek <= 5)).astype(int)\n",
    "data_train['is_closed'] = ((data_train['ds'].dt.hour >= 0) & (data_train['ds'].dt.hour <= 4)).astype(int)\n"
   ]
  },
  {
   "cell_type": "code",
   "execution_count": 29,
   "metadata": {},
   "outputs": [
    {
     "name": "stderr",
     "output_type": "stream",
     "text": [
      "15:20:00 - cmdstanpy - INFO - Chain [1] start processing\n",
      "15:20:02 - cmdstanpy - INFO - Chain [1] done processing\n"
     ]
    },
    {
     "data": {
      "text/plain": [
       "0.13995927395036076"
      ]
     },
     "execution_count": 29,
     "metadata": {},
     "output_type": "execute_result"
    }
   ],
   "source": [
    "#instantiate and fit the model\n",
    "model = Prophet(changepoint_prior_scale=0.2, seasonality_prior_scale=10.0,\n",
    "                holidays_prior_scale=10.0, seasonality_mode='multiplicative')\n",
    "# model.add_regressor('is_morning_peak')\n",
    "# model.add_regressor('is_afternoon_peak')\n",
    "\n",
    "model.add_regressor('is_closed', mode='multiplicative')\n",
    "model.add_seasonality(name='morning_peak', period=1, fourier_order=8, condition_name='is_morning_peak')\n",
    "model.add_seasonality(name='afternoon_peak', period=1, fourier_order=8, condition_name='is_afternoon_peak')\n",
    "model.add_country_holidays(country_name='SK')\n",
    "model.fit(data_train)\n",
    "\n",
    "# Create a future dataframe for predictions\n",
    "future = model.make_future_dataframe(periods=days*24, include_history=False, freq='h')  # Forecasting for the next week\n",
    "future['is_morning_peak'] = ((future['ds'].dt.hour >= 8) & (future['ds'].dt.hour <= 9) & (future['ds'].dt.dayofweek <= 5)).astype(int)\n",
    "future['is_afternoon_peak'] = ((future['ds'].dt.hour >= 17) & (future['ds'].dt.hour <= 19) & (future['ds'].dt.dayofweek <= 5)).astype(int)\n",
    "future['is_closed'] = ((future['ds'].dt.hour >= 0) & (future['ds'].dt.hour <= 4)).astype(int)\n",
    "future['is_weekend'] = (future['ds'].dt.dayofweek >= 5).astype(int)\n",
    "\n",
    "# Generate predictions\n",
    "forecast = model.predict(future)\n",
    "forecast.loc[forecast['is_closed'] != 0, 'yhat'] = 0\n",
    "forecast.loc[forecast['morning_peak'] > 2, 'yhat'] = forecast.loc[forecast['morning_peak'] > 2, 'yhat'] * 1.2\n",
    "forecast.loc[forecast['afternoon_peak'] > 2, 'yhat'] = forecast.loc[forecast['afternoon_peak'] > 2, 'yhat'] * 1.18\n",
    "\n",
    "\n",
    "prediction = forecast[['ds', 'yhat', 'yhat_lower', 'yhat_upper']]\n",
    "\n",
    "mape(prediction['yhat'].values, data_test['y'].values)\n"
   ]
  },
  {
   "cell_type": "code",
   "execution_count": 291,
   "metadata": {},
   "outputs": [
    {
     "data": {
      "application/vnd.plotly.v1+json": {
       "config": {
        "plotlyServerURL": "https://plot.ly"
       },
       "data": [
        {
         "hovertemplate": "variable=y<br>ds=%{x}<br>value=%{y}<extra></extra>",
         "legendgroup": "y",
         "line": {
          "color": "#636efa",
          "dash": "solid"
         },
         "marker": {
          "symbol": "circle"
         },
         "mode": "lines",
         "name": "y",
         "orientation": "v",
         "showlegend": true,
         "type": "scatter",
         "x": [
          "2023-06-24T01:00:00",
          "2023-06-24T02:00:00",
          "2023-06-24T03:00:00",
          "2023-06-24T04:00:00",
          "2023-06-24T05:00:00",
          "2023-06-24T06:00:00",
          "2023-06-24T07:00:00",
          "2023-06-24T08:00:00",
          "2023-06-24T09:00:00",
          "2023-06-24T10:00:00",
          "2023-06-24T11:00:00",
          "2023-06-24T12:00:00",
          "2023-06-24T13:00:00",
          "2023-06-24T14:00:00",
          "2023-06-24T15:00:00",
          "2023-06-24T16:00:00",
          "2023-06-24T17:00:00",
          "2023-06-24T18:00:00",
          "2023-06-24T19:00:00",
          "2023-06-24T20:00:00",
          "2023-06-24T21:00:00",
          "2023-06-24T22:00:00",
          "2023-06-24T23:00:00",
          "2023-06-25T00:00:00",
          "2023-06-25T01:00:00",
          "2023-06-25T02:00:00",
          "2023-06-25T03:00:00",
          "2023-06-25T04:00:00",
          "2023-06-25T05:00:00",
          "2023-06-25T06:00:00",
          "2023-06-25T07:00:00",
          "2023-06-25T08:00:00",
          "2023-06-25T09:00:00",
          "2023-06-25T10:00:00",
          "2023-06-25T11:00:00",
          "2023-06-25T12:00:00",
          "2023-06-25T13:00:00",
          "2023-06-25T14:00:00",
          "2023-06-25T15:00:00",
          "2023-06-25T16:00:00",
          "2023-06-25T17:00:00",
          "2023-06-25T18:00:00",
          "2023-06-25T19:00:00",
          "2023-06-25T20:00:00",
          "2023-06-25T21:00:00",
          "2023-06-25T22:00:00",
          "2023-06-25T23:00:00",
          "2023-06-26T00:00:00",
          "2023-06-26T01:00:00",
          "2023-06-26T02:00:00",
          "2023-06-26T03:00:00",
          "2023-06-26T04:00:00",
          "2023-06-26T05:00:00",
          "2023-06-26T06:00:00",
          "2023-06-26T07:00:00",
          "2023-06-26T08:00:00",
          "2023-06-26T09:00:00",
          "2023-06-26T10:00:00",
          "2023-06-26T11:00:00",
          "2023-06-26T12:00:00",
          "2023-06-26T13:00:00",
          "2023-06-26T14:00:00",
          "2023-06-26T15:00:00",
          "2023-06-26T16:00:00",
          "2023-06-26T17:00:00",
          "2023-06-26T18:00:00",
          "2023-06-26T19:00:00",
          "2023-06-26T20:00:00",
          "2023-06-26T21:00:00",
          "2023-06-26T22:00:00",
          "2023-06-26T23:00:00",
          "2023-06-27T00:00:00",
          "2023-06-27T01:00:00",
          "2023-06-27T02:00:00",
          "2023-06-27T03:00:00",
          "2023-06-27T04:00:00",
          "2023-06-27T05:00:00",
          "2023-06-27T06:00:00",
          "2023-06-27T07:00:00",
          "2023-06-27T08:00:00",
          "2023-06-27T09:00:00",
          "2023-06-27T10:00:00",
          "2023-06-27T11:00:00",
          "2023-06-27T12:00:00",
          "2023-06-27T13:00:00",
          "2023-06-27T14:00:00",
          "2023-06-27T15:00:00",
          "2023-06-27T16:00:00",
          "2023-06-27T17:00:00",
          "2023-06-27T18:00:00",
          "2023-06-27T19:00:00",
          "2023-06-27T20:00:00",
          "2023-06-27T21:00:00",
          "2023-06-27T22:00:00",
          "2023-06-27T23:00:00",
          "2023-06-28T00:00:00",
          "2023-06-28T01:00:00",
          "2023-06-28T02:00:00",
          "2023-06-28T03:00:00",
          "2023-06-28T04:00:00",
          "2023-06-28T05:00:00",
          "2023-06-28T06:00:00",
          "2023-06-28T07:00:00",
          "2023-06-28T08:00:00",
          "2023-06-28T09:00:00",
          "2023-06-28T10:00:00",
          "2023-06-28T11:00:00",
          "2023-06-28T12:00:00",
          "2023-06-28T13:00:00",
          "2023-06-28T14:00:00",
          "2023-06-28T15:00:00",
          "2023-06-28T16:00:00",
          "2023-06-28T17:00:00",
          "2023-06-28T18:00:00",
          "2023-06-28T19:00:00",
          "2023-06-28T20:00:00",
          "2023-06-28T21:00:00",
          "2023-06-28T22:00:00",
          "2023-06-28T23:00:00",
          "2023-06-29T00:00:00",
          "2023-06-29T01:00:00",
          "2023-06-29T02:00:00",
          "2023-06-29T03:00:00",
          "2023-06-29T04:00:00",
          "2023-06-29T05:00:00",
          "2023-06-29T06:00:00",
          "2023-06-29T07:00:00",
          "2023-06-29T08:00:00",
          "2023-06-29T09:00:00",
          "2023-06-29T10:00:00",
          "2023-06-29T11:00:00",
          "2023-06-29T12:00:00",
          "2023-06-29T13:00:00",
          "2023-06-29T14:00:00",
          "2023-06-29T15:00:00",
          "2023-06-29T16:00:00",
          "2023-06-29T17:00:00",
          "2023-06-29T18:00:00",
          "2023-06-29T19:00:00",
          "2023-06-29T20:00:00",
          "2023-06-29T21:00:00",
          "2023-06-29T22:00:00",
          "2023-06-29T23:00:00",
          "2023-06-30T00:00:00",
          "2023-06-30T01:00:00",
          "2023-06-30T02:00:00",
          "2023-06-30T03:00:00",
          "2023-06-30T04:00:00",
          "2023-06-30T05:00:00",
          "2023-06-30T06:00:00",
          "2023-06-30T07:00:00",
          "2023-06-30T08:00:00",
          "2023-06-30T09:00:00",
          "2023-06-30T10:00:00",
          "2023-06-30T11:00:00",
          "2023-06-30T12:00:00",
          "2023-06-30T13:00:00",
          "2023-06-30T14:00:00",
          "2023-06-30T15:00:00",
          "2023-06-30T16:00:00",
          "2023-06-30T17:00:00",
          "2023-06-30T18:00:00",
          "2023-06-30T19:00:00",
          "2023-06-30T20:00:00",
          "2023-06-30T21:00:00",
          "2023-06-30T22:00:00",
          "2023-06-30T23:00:00",
          "2023-07-01T00:00:00"
         ],
         "xaxis": "x",
         "y": [
          0,
          0,
          0,
          0,
          277,
          828,
          857,
          1603,
          2068,
          2518,
          3404,
          4292,
          4845,
          4996,
          5496,
          5996,
          5503,
          4671,
          3921,
          3254,
          2865,
          2321,
          1337,
          0,
          0,
          0,
          0,
          0,
          147,
          488,
          554,
          915,
          1334,
          2023,
          2566,
          3244,
          3572,
          3548,
          3925,
          4027,
          3658,
          3366,
          2515,
          2681,
          2190,
          1496,
          726,
          0,
          0,
          0,
          0,
          0,
          346,
          1580,
          4570,
          13807,
          7997,
          3278,
          2544,
          2845,
          3110,
          3078,
          3432,
          3859,
          6951,
          13394,
          6115,
          3485,
          2896,
          1965,
          828,
          0,
          0,
          0,
          0,
          0,
          386,
          1709,
          4398,
          13935,
          7937,
          3541,
          3015,
          3003,
          3570,
          3709,
          3960,
          4387,
          7521,
          13651,
          6359,
          3898,
          3302,
          2430,
          1114,
          0,
          0,
          0,
          0,
          0,
          382,
          1692,
          4471,
          13550,
          7979,
          3616,
          2869,
          3034,
          3517,
          3800,
          4065,
          4497,
          7710,
          13574,
          6390,
          3864,
          3401,
          2588,
          1176,
          0,
          0,
          0,
          0,
          0,
          362,
          1656,
          4269,
          13596,
          7711,
          3600,
          2360,
          2737,
          2737,
          2954,
          3090,
          3902,
          6712,
          12698,
          5834,
          3446,
          3030,
          2301,
          1173,
          0,
          0,
          0,
          0,
          0,
          390,
          1582,
          4214,
          12999,
          7542,
          3482,
          3075,
          3393,
          3936,
          3977,
          4675,
          5473,
          8194,
          13450,
          6268,
          3814,
          3321,
          2597,
          1588,
          0
         ],
         "yaxis": "y"
        },
        {
         "hovertemplate": "variable=yhat<br>ds=%{x}<br>value=%{y}<extra></extra>",
         "legendgroup": "yhat",
         "line": {
          "color": "#EF553B",
          "dash": "solid"
         },
         "marker": {
          "symbol": "circle"
         },
         "mode": "lines",
         "name": "yhat",
         "orientation": "v",
         "showlegend": true,
         "type": "scatter",
         "x": [
          "2023-06-24T01:00:00",
          "2023-06-24T02:00:00",
          "2023-06-24T03:00:00",
          "2023-06-24T04:00:00",
          "2023-06-24T05:00:00",
          "2023-06-24T06:00:00",
          "2023-06-24T07:00:00",
          "2023-06-24T08:00:00",
          "2023-06-24T09:00:00",
          "2023-06-24T10:00:00",
          "2023-06-24T11:00:00",
          "2023-06-24T12:00:00",
          "2023-06-24T13:00:00",
          "2023-06-24T14:00:00",
          "2023-06-24T15:00:00",
          "2023-06-24T16:00:00",
          "2023-06-24T17:00:00",
          "2023-06-24T18:00:00",
          "2023-06-24T19:00:00",
          "2023-06-24T20:00:00",
          "2023-06-24T21:00:00",
          "2023-06-24T22:00:00",
          "2023-06-24T23:00:00",
          "2023-06-25T00:00:00",
          "2023-06-25T01:00:00",
          "2023-06-25T02:00:00",
          "2023-06-25T03:00:00",
          "2023-06-25T04:00:00",
          "2023-06-25T05:00:00",
          "2023-06-25T06:00:00",
          "2023-06-25T07:00:00",
          "2023-06-25T08:00:00",
          "2023-06-25T09:00:00",
          "2023-06-25T10:00:00",
          "2023-06-25T11:00:00",
          "2023-06-25T12:00:00",
          "2023-06-25T13:00:00",
          "2023-06-25T14:00:00",
          "2023-06-25T15:00:00",
          "2023-06-25T16:00:00",
          "2023-06-25T17:00:00",
          "2023-06-25T18:00:00",
          "2023-06-25T19:00:00",
          "2023-06-25T20:00:00",
          "2023-06-25T21:00:00",
          "2023-06-25T22:00:00",
          "2023-06-25T23:00:00",
          "2023-06-26T00:00:00",
          "2023-06-26T01:00:00",
          "2023-06-26T02:00:00",
          "2023-06-26T03:00:00",
          "2023-06-26T04:00:00",
          "2023-06-26T05:00:00",
          "2023-06-26T06:00:00",
          "2023-06-26T07:00:00",
          "2023-06-26T08:00:00",
          "2023-06-26T09:00:00",
          "2023-06-26T10:00:00",
          "2023-06-26T11:00:00",
          "2023-06-26T12:00:00",
          "2023-06-26T13:00:00",
          "2023-06-26T14:00:00",
          "2023-06-26T15:00:00",
          "2023-06-26T16:00:00",
          "2023-06-26T17:00:00",
          "2023-06-26T18:00:00",
          "2023-06-26T19:00:00",
          "2023-06-26T20:00:00",
          "2023-06-26T21:00:00",
          "2023-06-26T22:00:00",
          "2023-06-26T23:00:00",
          "2023-06-27T00:00:00",
          "2023-06-27T01:00:00",
          "2023-06-27T02:00:00",
          "2023-06-27T03:00:00",
          "2023-06-27T04:00:00",
          "2023-06-27T05:00:00",
          "2023-06-27T06:00:00",
          "2023-06-27T07:00:00",
          "2023-06-27T08:00:00",
          "2023-06-27T09:00:00",
          "2023-06-27T10:00:00",
          "2023-06-27T11:00:00",
          "2023-06-27T12:00:00",
          "2023-06-27T13:00:00",
          "2023-06-27T14:00:00",
          "2023-06-27T15:00:00",
          "2023-06-27T16:00:00",
          "2023-06-27T17:00:00",
          "2023-06-27T18:00:00",
          "2023-06-27T19:00:00",
          "2023-06-27T20:00:00",
          "2023-06-27T21:00:00",
          "2023-06-27T22:00:00",
          "2023-06-27T23:00:00",
          "2023-06-28T00:00:00",
          "2023-06-28T01:00:00",
          "2023-06-28T02:00:00",
          "2023-06-28T03:00:00",
          "2023-06-28T04:00:00",
          "2023-06-28T05:00:00",
          "2023-06-28T06:00:00",
          "2023-06-28T07:00:00",
          "2023-06-28T08:00:00",
          "2023-06-28T09:00:00",
          "2023-06-28T10:00:00",
          "2023-06-28T11:00:00",
          "2023-06-28T12:00:00",
          "2023-06-28T13:00:00",
          "2023-06-28T14:00:00",
          "2023-06-28T15:00:00",
          "2023-06-28T16:00:00",
          "2023-06-28T17:00:00",
          "2023-06-28T18:00:00",
          "2023-06-28T19:00:00",
          "2023-06-28T20:00:00",
          "2023-06-28T21:00:00",
          "2023-06-28T22:00:00",
          "2023-06-28T23:00:00",
          "2023-06-29T00:00:00",
          "2023-06-29T01:00:00",
          "2023-06-29T02:00:00",
          "2023-06-29T03:00:00",
          "2023-06-29T04:00:00",
          "2023-06-29T05:00:00",
          "2023-06-29T06:00:00",
          "2023-06-29T07:00:00",
          "2023-06-29T08:00:00",
          "2023-06-29T09:00:00",
          "2023-06-29T10:00:00",
          "2023-06-29T11:00:00",
          "2023-06-29T12:00:00",
          "2023-06-29T13:00:00",
          "2023-06-29T14:00:00",
          "2023-06-29T15:00:00",
          "2023-06-29T16:00:00",
          "2023-06-29T17:00:00",
          "2023-06-29T18:00:00",
          "2023-06-29T19:00:00",
          "2023-06-29T20:00:00",
          "2023-06-29T21:00:00",
          "2023-06-29T22:00:00",
          "2023-06-29T23:00:00",
          "2023-06-30T00:00:00",
          "2023-06-30T01:00:00",
          "2023-06-30T02:00:00",
          "2023-06-30T03:00:00",
          "2023-06-30T04:00:00",
          "2023-06-30T05:00:00",
          "2023-06-30T06:00:00",
          "2023-06-30T07:00:00",
          "2023-06-30T08:00:00",
          "2023-06-30T09:00:00",
          "2023-06-30T10:00:00",
          "2023-06-30T11:00:00",
          "2023-06-30T12:00:00",
          "2023-06-30T13:00:00",
          "2023-06-30T14:00:00",
          "2023-06-30T15:00:00",
          "2023-06-30T16:00:00",
          "2023-06-30T17:00:00",
          "2023-06-30T18:00:00",
          "2023-06-30T19:00:00",
          "2023-06-30T20:00:00",
          "2023-06-30T21:00:00",
          "2023-06-30T22:00:00",
          "2023-06-30T23:00:00",
          "2023-07-01T00:00:00"
         ],
         "xaxis": "x",
         "y": [
          0,
          0,
          0,
          0,
          86.93217425728784,
          1187.9721536965342,
          2593.227293342588,
          12705.32256471974,
          6011.430791231161,
          3156.794411936022,
          2227.932826352789,
          1648.1191689036748,
          1727.853017841774,
          2337.829479833331,
          3112.774282175172,
          3737.6440327006353,
          6018.848773510884,
          12036.00952172646,
          5587.533977665184,
          2795.2747618566304,
          1655.3798269155666,
          525.7091912718142,
          -266.88202019171894,
          0,
          0,
          0,
          0,
          0,
          -690.5962166919893,
          492.3315408979157,
          1982.524493059718,
          3106.998106327093,
          3370.5626726105947,
          2816.384338942042,
          1980.7547473740403,
          1494.2602760184013,
          1666.639540885938,
          2368.06919538239,
          3232.8963853472865,
          3945.6925591627796,
          4361.048482670451,
          4428.030911803282,
          4091.7915434912434,
          3326.4172287073357,
          2257.943335637014,
          1195.0053183739337,
          463.98721315954623,
          0,
          0,
          0,
          0,
          0,
          292.23787491635164,
          1496.5749284724016,
          3002.4067215713885,
          13305.267337454503,
          6612.232190883531,
          3853.00905780493,
          3013.5596452107698,
          2518.5054590681843,
          2677.728610836461,
          3361.8053752055175,
          4205.626546211846,
          4894.295437875403,
          7232.158086728882,
          13525.70243746747,
          6902.852461878512,
          4155.901361445774,
          3053.9207144666148,
          1956.5293617487223,
          1190.288309932987,
          0,
          0,
          0,
          0,
          0,
          809.5723583704668,
          1981.5218015500193,
          3456.186348489022,
          13810.01812734954,
          7007.946356348855,
          4224.549763979799,
          3361.5878663424537,
          2844.5204730693863,
          2983.043709927514,
          3647.757160238824,
          4473.6786154988595,
          5145.993088532533,
          7467.989321622063,
          13785.549629483945,
          7113.220942599265,
          4356.459322529873,
          3244.651233356382,
          2138.1472712260547,
          1363.1994429893039,
          0,
          0,
          0,
          0,
          0,
          933.4641747059396,
          2096.6105803590763,
          3562.153169860212,
          13921.830390317884,
          7094.801102718958,
          4304.000182514421,
          3432.475646250798,
          2906.570920225611,
          3035.883062498797,
          3691.1601004168715,
          4507.70622897065,
          5170.977393142044,
          7483.4192329964935,
          13791.868565647788,
          7113.764876030664,
          4351.962457195086,
          3235.0960608816936,
          2124.5046827709557,
          1346.3793233349713,
          0,
          0,
          0,
          0,
          0,
          922.8503607254913,
          2091.385607038816,
          3563.5821916021746,
          13928.98917109968,
          7113.243980002962,
          4335.188564160006,
          3476.435386666749,
          2964.0025235440476,
          3107.1383560630848,
          3776.451834298399,
          4607.211524651261,
          5284.79179516348,
          7610.416811570458,
          13955.471229402541,
          7267.895555724167,
          4519.496223467295,
          3413.737562867071,
          2312.52430691379,
          1541.574024340713,
          0,
          0,
          0,
          0,
          0,
          1100.8470432673612,
          2254.0123558622504,
          3706.8261180459867,
          14068.693235076222,
          7205.4753355319945,
          4398.278574447987,
          3505.3412446590532,
          2954.5768008887035,
          3055.173982579654,
          3677.9589727336106,
          4458.586391155999,
          5082.833314077308,
          7351.245707978224,
          13577.784303917442,
          6889.24662453657,
          4079.3730836243726,
          2909.754680227413,
          1743.619059254736,
          906.9895295132757,
          0
         ],
         "yaxis": "y"
        }
       ],
       "layout": {
        "legend": {
         "title": {
          "text": "variable"
         },
         "tracegroupgap": 0
        },
        "margin": {
         "t": 60
        },
        "template": {
         "data": {
          "bar": [
           {
            "error_x": {
             "color": "#2a3f5f"
            },
            "error_y": {
             "color": "#2a3f5f"
            },
            "marker": {
             "line": {
              "color": "#E5ECF6",
              "width": 0.5
             },
             "pattern": {
              "fillmode": "overlay",
              "size": 10,
              "solidity": 0.2
             }
            },
            "type": "bar"
           }
          ],
          "barpolar": [
           {
            "marker": {
             "line": {
              "color": "#E5ECF6",
              "width": 0.5
             },
             "pattern": {
              "fillmode": "overlay",
              "size": 10,
              "solidity": 0.2
             }
            },
            "type": "barpolar"
           }
          ],
          "carpet": [
           {
            "aaxis": {
             "endlinecolor": "#2a3f5f",
             "gridcolor": "white",
             "linecolor": "white",
             "minorgridcolor": "white",
             "startlinecolor": "#2a3f5f"
            },
            "baxis": {
             "endlinecolor": "#2a3f5f",
             "gridcolor": "white",
             "linecolor": "white",
             "minorgridcolor": "white",
             "startlinecolor": "#2a3f5f"
            },
            "type": "carpet"
           }
          ],
          "choropleth": [
           {
            "colorbar": {
             "outlinewidth": 0,
             "ticks": ""
            },
            "type": "choropleth"
           }
          ],
          "contour": [
           {
            "colorbar": {
             "outlinewidth": 0,
             "ticks": ""
            },
            "colorscale": [
             [
              0,
              "#0d0887"
             ],
             [
              0.1111111111111111,
              "#46039f"
             ],
             [
              0.2222222222222222,
              "#7201a8"
             ],
             [
              0.3333333333333333,
              "#9c179e"
             ],
             [
              0.4444444444444444,
              "#bd3786"
             ],
             [
              0.5555555555555556,
              "#d8576b"
             ],
             [
              0.6666666666666666,
              "#ed7953"
             ],
             [
              0.7777777777777778,
              "#fb9f3a"
             ],
             [
              0.8888888888888888,
              "#fdca26"
             ],
             [
              1,
              "#f0f921"
             ]
            ],
            "type": "contour"
           }
          ],
          "contourcarpet": [
           {
            "colorbar": {
             "outlinewidth": 0,
             "ticks": ""
            },
            "type": "contourcarpet"
           }
          ],
          "heatmap": [
           {
            "colorbar": {
             "outlinewidth": 0,
             "ticks": ""
            },
            "colorscale": [
             [
              0,
              "#0d0887"
             ],
             [
              0.1111111111111111,
              "#46039f"
             ],
             [
              0.2222222222222222,
              "#7201a8"
             ],
             [
              0.3333333333333333,
              "#9c179e"
             ],
             [
              0.4444444444444444,
              "#bd3786"
             ],
             [
              0.5555555555555556,
              "#d8576b"
             ],
             [
              0.6666666666666666,
              "#ed7953"
             ],
             [
              0.7777777777777778,
              "#fb9f3a"
             ],
             [
              0.8888888888888888,
              "#fdca26"
             ],
             [
              1,
              "#f0f921"
             ]
            ],
            "type": "heatmap"
           }
          ],
          "heatmapgl": [
           {
            "colorbar": {
             "outlinewidth": 0,
             "ticks": ""
            },
            "colorscale": [
             [
              0,
              "#0d0887"
             ],
             [
              0.1111111111111111,
              "#46039f"
             ],
             [
              0.2222222222222222,
              "#7201a8"
             ],
             [
              0.3333333333333333,
              "#9c179e"
             ],
             [
              0.4444444444444444,
              "#bd3786"
             ],
             [
              0.5555555555555556,
              "#d8576b"
             ],
             [
              0.6666666666666666,
              "#ed7953"
             ],
             [
              0.7777777777777778,
              "#fb9f3a"
             ],
             [
              0.8888888888888888,
              "#fdca26"
             ],
             [
              1,
              "#f0f921"
             ]
            ],
            "type": "heatmapgl"
           }
          ],
          "histogram": [
           {
            "marker": {
             "pattern": {
              "fillmode": "overlay",
              "size": 10,
              "solidity": 0.2
             }
            },
            "type": "histogram"
           }
          ],
          "histogram2d": [
           {
            "colorbar": {
             "outlinewidth": 0,
             "ticks": ""
            },
            "colorscale": [
             [
              0,
              "#0d0887"
             ],
             [
              0.1111111111111111,
              "#46039f"
             ],
             [
              0.2222222222222222,
              "#7201a8"
             ],
             [
              0.3333333333333333,
              "#9c179e"
             ],
             [
              0.4444444444444444,
              "#bd3786"
             ],
             [
              0.5555555555555556,
              "#d8576b"
             ],
             [
              0.6666666666666666,
              "#ed7953"
             ],
             [
              0.7777777777777778,
              "#fb9f3a"
             ],
             [
              0.8888888888888888,
              "#fdca26"
             ],
             [
              1,
              "#f0f921"
             ]
            ],
            "type": "histogram2d"
           }
          ],
          "histogram2dcontour": [
           {
            "colorbar": {
             "outlinewidth": 0,
             "ticks": ""
            },
            "colorscale": [
             [
              0,
              "#0d0887"
             ],
             [
              0.1111111111111111,
              "#46039f"
             ],
             [
              0.2222222222222222,
              "#7201a8"
             ],
             [
              0.3333333333333333,
              "#9c179e"
             ],
             [
              0.4444444444444444,
              "#bd3786"
             ],
             [
              0.5555555555555556,
              "#d8576b"
             ],
             [
              0.6666666666666666,
              "#ed7953"
             ],
             [
              0.7777777777777778,
              "#fb9f3a"
             ],
             [
              0.8888888888888888,
              "#fdca26"
             ],
             [
              1,
              "#f0f921"
             ]
            ],
            "type": "histogram2dcontour"
           }
          ],
          "mesh3d": [
           {
            "colorbar": {
             "outlinewidth": 0,
             "ticks": ""
            },
            "type": "mesh3d"
           }
          ],
          "parcoords": [
           {
            "line": {
             "colorbar": {
              "outlinewidth": 0,
              "ticks": ""
             }
            },
            "type": "parcoords"
           }
          ],
          "pie": [
           {
            "automargin": true,
            "type": "pie"
           }
          ],
          "scatter": [
           {
            "fillpattern": {
             "fillmode": "overlay",
             "size": 10,
             "solidity": 0.2
            },
            "type": "scatter"
           }
          ],
          "scatter3d": [
           {
            "line": {
             "colorbar": {
              "outlinewidth": 0,
              "ticks": ""
             }
            },
            "marker": {
             "colorbar": {
              "outlinewidth": 0,
              "ticks": ""
             }
            },
            "type": "scatter3d"
           }
          ],
          "scattercarpet": [
           {
            "marker": {
             "colorbar": {
              "outlinewidth": 0,
              "ticks": ""
             }
            },
            "type": "scattercarpet"
           }
          ],
          "scattergeo": [
           {
            "marker": {
             "colorbar": {
              "outlinewidth": 0,
              "ticks": ""
             }
            },
            "type": "scattergeo"
           }
          ],
          "scattergl": [
           {
            "marker": {
             "colorbar": {
              "outlinewidth": 0,
              "ticks": ""
             }
            },
            "type": "scattergl"
           }
          ],
          "scattermapbox": [
           {
            "marker": {
             "colorbar": {
              "outlinewidth": 0,
              "ticks": ""
             }
            },
            "type": "scattermapbox"
           }
          ],
          "scatterpolar": [
           {
            "marker": {
             "colorbar": {
              "outlinewidth": 0,
              "ticks": ""
             }
            },
            "type": "scatterpolar"
           }
          ],
          "scatterpolargl": [
           {
            "marker": {
             "colorbar": {
              "outlinewidth": 0,
              "ticks": ""
             }
            },
            "type": "scatterpolargl"
           }
          ],
          "scatterternary": [
           {
            "marker": {
             "colorbar": {
              "outlinewidth": 0,
              "ticks": ""
             }
            },
            "type": "scatterternary"
           }
          ],
          "surface": [
           {
            "colorbar": {
             "outlinewidth": 0,
             "ticks": ""
            },
            "colorscale": [
             [
              0,
              "#0d0887"
             ],
             [
              0.1111111111111111,
              "#46039f"
             ],
             [
              0.2222222222222222,
              "#7201a8"
             ],
             [
              0.3333333333333333,
              "#9c179e"
             ],
             [
              0.4444444444444444,
              "#bd3786"
             ],
             [
              0.5555555555555556,
              "#d8576b"
             ],
             [
              0.6666666666666666,
              "#ed7953"
             ],
             [
              0.7777777777777778,
              "#fb9f3a"
             ],
             [
              0.8888888888888888,
              "#fdca26"
             ],
             [
              1,
              "#f0f921"
             ]
            ],
            "type": "surface"
           }
          ],
          "table": [
           {
            "cells": {
             "fill": {
              "color": "#EBF0F8"
             },
             "line": {
              "color": "white"
             }
            },
            "header": {
             "fill": {
              "color": "#C8D4E3"
             },
             "line": {
              "color": "white"
             }
            },
            "type": "table"
           }
          ]
         },
         "layout": {
          "annotationdefaults": {
           "arrowcolor": "#2a3f5f",
           "arrowhead": 0,
           "arrowwidth": 1
          },
          "autotypenumbers": "strict",
          "coloraxis": {
           "colorbar": {
            "outlinewidth": 0,
            "ticks": ""
           }
          },
          "colorscale": {
           "diverging": [
            [
             0,
             "#8e0152"
            ],
            [
             0.1,
             "#c51b7d"
            ],
            [
             0.2,
             "#de77ae"
            ],
            [
             0.3,
             "#f1b6da"
            ],
            [
             0.4,
             "#fde0ef"
            ],
            [
             0.5,
             "#f7f7f7"
            ],
            [
             0.6,
             "#e6f5d0"
            ],
            [
             0.7,
             "#b8e186"
            ],
            [
             0.8,
             "#7fbc41"
            ],
            [
             0.9,
             "#4d9221"
            ],
            [
             1,
             "#276419"
            ]
           ],
           "sequential": [
            [
             0,
             "#0d0887"
            ],
            [
             0.1111111111111111,
             "#46039f"
            ],
            [
             0.2222222222222222,
             "#7201a8"
            ],
            [
             0.3333333333333333,
             "#9c179e"
            ],
            [
             0.4444444444444444,
             "#bd3786"
            ],
            [
             0.5555555555555556,
             "#d8576b"
            ],
            [
             0.6666666666666666,
             "#ed7953"
            ],
            [
             0.7777777777777778,
             "#fb9f3a"
            ],
            [
             0.8888888888888888,
             "#fdca26"
            ],
            [
             1,
             "#f0f921"
            ]
           ],
           "sequentialminus": [
            [
             0,
             "#0d0887"
            ],
            [
             0.1111111111111111,
             "#46039f"
            ],
            [
             0.2222222222222222,
             "#7201a8"
            ],
            [
             0.3333333333333333,
             "#9c179e"
            ],
            [
             0.4444444444444444,
             "#bd3786"
            ],
            [
             0.5555555555555556,
             "#d8576b"
            ],
            [
             0.6666666666666666,
             "#ed7953"
            ],
            [
             0.7777777777777778,
             "#fb9f3a"
            ],
            [
             0.8888888888888888,
             "#fdca26"
            ],
            [
             1,
             "#f0f921"
            ]
           ]
          },
          "colorway": [
           "#636efa",
           "#EF553B",
           "#00cc96",
           "#ab63fa",
           "#FFA15A",
           "#19d3f3",
           "#FF6692",
           "#B6E880",
           "#FF97FF",
           "#FECB52"
          ],
          "font": {
           "color": "#2a3f5f"
          },
          "geo": {
           "bgcolor": "white",
           "lakecolor": "white",
           "landcolor": "#E5ECF6",
           "showlakes": true,
           "showland": true,
           "subunitcolor": "white"
          },
          "hoverlabel": {
           "align": "left"
          },
          "hovermode": "closest",
          "mapbox": {
           "style": "light"
          },
          "paper_bgcolor": "white",
          "plot_bgcolor": "#E5ECF6",
          "polar": {
           "angularaxis": {
            "gridcolor": "white",
            "linecolor": "white",
            "ticks": ""
           },
           "bgcolor": "#E5ECF6",
           "radialaxis": {
            "gridcolor": "white",
            "linecolor": "white",
            "ticks": ""
           }
          },
          "scene": {
           "xaxis": {
            "backgroundcolor": "#E5ECF6",
            "gridcolor": "white",
            "gridwidth": 2,
            "linecolor": "white",
            "showbackground": true,
            "ticks": "",
            "zerolinecolor": "white"
           },
           "yaxis": {
            "backgroundcolor": "#E5ECF6",
            "gridcolor": "white",
            "gridwidth": 2,
            "linecolor": "white",
            "showbackground": true,
            "ticks": "",
            "zerolinecolor": "white"
           },
           "zaxis": {
            "backgroundcolor": "#E5ECF6",
            "gridcolor": "white",
            "gridwidth": 2,
            "linecolor": "white",
            "showbackground": true,
            "ticks": "",
            "zerolinecolor": "white"
           }
          },
          "shapedefaults": {
           "line": {
            "color": "#2a3f5f"
           }
          },
          "ternary": {
           "aaxis": {
            "gridcolor": "white",
            "linecolor": "white",
            "ticks": ""
           },
           "baxis": {
            "gridcolor": "white",
            "linecolor": "white",
            "ticks": ""
           },
           "bgcolor": "#E5ECF6",
           "caxis": {
            "gridcolor": "white",
            "linecolor": "white",
            "ticks": ""
           }
          },
          "title": {
           "x": 0.05
          },
          "xaxis": {
           "automargin": true,
           "gridcolor": "white",
           "linecolor": "white",
           "ticks": "",
           "title": {
            "standoff": 15
           },
           "zerolinecolor": "white",
           "zerolinewidth": 2
          },
          "yaxis": {
           "automargin": true,
           "gridcolor": "white",
           "linecolor": "white",
           "ticks": "",
           "title": {
            "standoff": 15
           },
           "zerolinecolor": "white",
           "zerolinewidth": 2
          }
         }
        },
        "xaxis": {
         "anchor": "y",
         "domain": [
          0,
          1
         ],
         "title": {
          "text": "ds"
         }
        },
        "yaxis": {
         "anchor": "x",
         "domain": [
          0,
          1
         ],
         "title": {
          "text": "value"
         }
        }
       }
      }
     },
     "metadata": {},
     "output_type": "display_data"
    }
   ],
   "source": [
    "comparaison = prediction.merge(data_test, on='ds')\n",
    "fig = px.line(comparaison, x=\"ds\", y=[\"y\", 'yhat'])\n",
    "\n",
    "fig.show()\n"
   ]
  },
  {
   "cell_type": "code",
   "execution_count": 30,
   "metadata": {},
   "outputs": [
    {
     "name": "stderr",
     "output_type": "stream",
     "text": [
      "/Users/thomas_metral/.pyenv/versions/3.10.6/envs/metro_seoul/lib/python3.10/site-packages/prophet/plot.py:72: FutureWarning:\n",
      "\n",
      "The behavior of DatetimeProperties.to_pydatetime is deprecated, in a future version this will return a Series containing python datetime objects instead of an ndarray. To retain the old behavior, call `np.array` on the result\n",
      "\n",
      "/Users/thomas_metral/.pyenv/versions/3.10.6/envs/metro_seoul/lib/python3.10/site-packages/prophet/plot.py:73: FutureWarning:\n",
      "\n",
      "The behavior of DatetimeProperties.to_pydatetime is deprecated, in a future version this will return a Series containing python datetime objects instead of an ndarray. To retain the old behavior, call `np.array` on the result\n",
      "\n"
     ]
    },
    {
     "ename": "KeyError",
     "evalue": "'yhat'",
     "output_type": "error",
     "traceback": [
      "\u001b[0;31m---------------------------------------------------------------------------\u001b[0m",
      "\u001b[0;31mKeyError\u001b[0m                                  Traceback (most recent call last)",
      "File \u001b[0;32m~/.pyenv/versions/3.10.6/envs/metro_seoul/lib/python3.10/site-packages/pandas/core/indexes/base.py:3790\u001b[0m, in \u001b[0;36mIndex.get_loc\u001b[0;34m(self, key)\u001b[0m\n\u001b[1;32m   3789\u001b[0m \u001b[39mtry\u001b[39;00m:\n\u001b[0;32m-> 3790\u001b[0m     \u001b[39mreturn\u001b[39;00m \u001b[39mself\u001b[39;49m\u001b[39m.\u001b[39;49m_engine\u001b[39m.\u001b[39;49mget_loc(casted_key)\n\u001b[1;32m   3791\u001b[0m \u001b[39mexcept\u001b[39;00m \u001b[39mKeyError\u001b[39;00m \u001b[39mas\u001b[39;00m err:\n",
      "File \u001b[0;32mindex.pyx:152\u001b[0m, in \u001b[0;36mpandas._libs.index.IndexEngine.get_loc\u001b[0;34m()\u001b[0m\n",
      "File \u001b[0;32mindex.pyx:181\u001b[0m, in \u001b[0;36mpandas._libs.index.IndexEngine.get_loc\u001b[0;34m()\u001b[0m\n",
      "File \u001b[0;32mpandas/_libs/hashtable_class_helper.pxi:7080\u001b[0m, in \u001b[0;36mpandas._libs.hashtable.PyObjectHashTable.get_item\u001b[0;34m()\u001b[0m\n",
      "File \u001b[0;32mpandas/_libs/hashtable_class_helper.pxi:7088\u001b[0m, in \u001b[0;36mpandas._libs.hashtable.PyObjectHashTable.get_item\u001b[0;34m()\u001b[0m\n",
      "\u001b[0;31mKeyError\u001b[0m: 'yhat'",
      "\nThe above exception was the direct cause of the following exception:\n",
      "\u001b[0;31mKeyError\u001b[0m                                  Traceback (most recent call last)",
      "\u001b[1;32m/Users/thomas_metral/code/thomas-metral/metro_seoul/notebooks/prophet_clean.ipynb Cell 16\u001b[0m line \u001b[0;36m1\n\u001b[0;32m----> <a href='vscode-notebook-cell:/Users/thomas_metral/code/thomas-metral/metro_seoul/notebooks/prophet_clean.ipynb#Y144sZmlsZQ%3D%3D?line=0'>1</a>\u001b[0m ax \u001b[39m=\u001b[39m model\u001b[39m.\u001b[39;49mplot(future)\n\u001b[1;32m      <a href='vscode-notebook-cell:/Users/thomas_metral/code/thomas-metral/metro_seoul/notebooks/prophet_clean.ipynb#Y144sZmlsZQ%3D%3D?line=1'>2</a>\u001b[0m plt\u001b[39m.\u001b[39mplot(data_test[\u001b[39m'\u001b[39m\u001b[39mds\u001b[39m\u001b[39m'\u001b[39m],data_test[\u001b[39m'\u001b[39m\u001b[39my\u001b[39m\u001b[39m'\u001b[39m],\u001b[39m'\u001b[39m\u001b[39mr\u001b[39m\u001b[39m'\u001b[39m)\n\u001b[1;32m      <a href='vscode-notebook-cell:/Users/thomas_metral/code/thomas-metral/metro_seoul/notebooks/prophet_clean.ipynb#Y144sZmlsZQ%3D%3D?line=2'>3</a>\u001b[0m plt\u001b[39m.\u001b[39mxlim(left\u001b[39m=\u001b[39m(pd\u001b[39m.\u001b[39mTimestamp(\u001b[39mmax\u001b[39m(data_test\u001b[39m.\u001b[39mds)\u001b[39m-\u001b[39mdatetime\u001b[39m.\u001b[39mtimedelta(days\u001b[39m=\u001b[39m\u001b[39m5\u001b[39m))),\n\u001b[1;32m      <a href='vscode-notebook-cell:/Users/thomas_metral/code/thomas-metral/metro_seoul/notebooks/prophet_clean.ipynb#Y144sZmlsZQ%3D%3D?line=3'>4</a>\u001b[0m right\u001b[39m=\u001b[39m(pd\u001b[39m.\u001b[39mTimestamp(\u001b[39mmax\u001b[39m(data_test\u001b[39m.\u001b[39mds)\u001b[39m+\u001b[39m datetime\u001b[39m.\u001b[39mtimedelta(days\u001b[39m=\u001b[39m\u001b[39m1\u001b[39m)))\n\u001b[1;32m      <a href='vscode-notebook-cell:/Users/thomas_metral/code/thomas-metral/metro_seoul/notebooks/prophet_clean.ipynb#Y144sZmlsZQ%3D%3D?line=4'>5</a>\u001b[0m )\n",
      "File \u001b[0;32m~/.pyenv/versions/3.10.6/envs/metro_seoul/lib/python3.10/site-packages/prophet/forecaster.py:1886\u001b[0m, in \u001b[0;36mProphet.plot\u001b[0;34m(self, fcst, ax, uncertainty, plot_cap, xlabel, ylabel, figsize, include_legend)\u001b[0m\n\u001b[1;32m   1866\u001b[0m \u001b[39mdef\u001b[39;00m \u001b[39mplot\u001b[39m(\u001b[39mself\u001b[39m, fcst, ax\u001b[39m=\u001b[39m\u001b[39mNone\u001b[39;00m, uncertainty\u001b[39m=\u001b[39m\u001b[39mTrue\u001b[39;00m, plot_cap\u001b[39m=\u001b[39m\u001b[39mTrue\u001b[39;00m,\n\u001b[1;32m   1867\u001b[0m          xlabel\u001b[39m=\u001b[39m\u001b[39m'\u001b[39m\u001b[39mds\u001b[39m\u001b[39m'\u001b[39m, ylabel\u001b[39m=\u001b[39m\u001b[39m'\u001b[39m\u001b[39my\u001b[39m\u001b[39m'\u001b[39m, figsize\u001b[39m=\u001b[39m(\u001b[39m10\u001b[39m, \u001b[39m6\u001b[39m), include_legend\u001b[39m=\u001b[39m\u001b[39mFalse\u001b[39;00m):\n\u001b[1;32m   1868\u001b[0m \u001b[39m    \u001b[39m\u001b[39m\"\"\"Plot the Prophet forecast.\u001b[39;00m\n\u001b[1;32m   1869\u001b[0m \n\u001b[1;32m   1870\u001b[0m \u001b[39m    Parameters\u001b[39;00m\n\u001b[0;32m   (...)\u001b[0m\n\u001b[1;32m   1884\u001b[0m \u001b[39m    A matplotlib figure.\u001b[39;00m\n\u001b[1;32m   1885\u001b[0m \u001b[39m    \"\"\"\u001b[39;00m\n\u001b[0;32m-> 1886\u001b[0m     \u001b[39mreturn\u001b[39;00m plot(\n\u001b[1;32m   1887\u001b[0m         m\u001b[39m=\u001b[39;49m\u001b[39mself\u001b[39;49m, fcst\u001b[39m=\u001b[39;49mfcst, ax\u001b[39m=\u001b[39;49max, uncertainty\u001b[39m=\u001b[39;49muncertainty,\n\u001b[1;32m   1888\u001b[0m         plot_cap\u001b[39m=\u001b[39;49mplot_cap, xlabel\u001b[39m=\u001b[39;49mxlabel, ylabel\u001b[39m=\u001b[39;49mylabel,\n\u001b[1;32m   1889\u001b[0m         figsize\u001b[39m=\u001b[39;49mfigsize, include_legend\u001b[39m=\u001b[39;49minclude_legend\n\u001b[1;32m   1890\u001b[0m     )\n",
      "File \u001b[0;32m~/.pyenv/versions/3.10.6/envs/metro_seoul/lib/python3.10/site-packages/prophet/plot.py:75\u001b[0m, in \u001b[0;36mplot\u001b[0;34m(m, fcst, ax, uncertainty, plot_cap, xlabel, ylabel, figsize, include_legend)\u001b[0m\n\u001b[1;32m     72\u001b[0m fcst_t \u001b[39m=\u001b[39m fcst[\u001b[39m'\u001b[39m\u001b[39mds\u001b[39m\u001b[39m'\u001b[39m]\u001b[39m.\u001b[39mdt\u001b[39m.\u001b[39mto_pydatetime()\n\u001b[1;32m     73\u001b[0m ax\u001b[39m.\u001b[39mplot(m\u001b[39m.\u001b[39mhistory[\u001b[39m'\u001b[39m\u001b[39mds\u001b[39m\u001b[39m'\u001b[39m]\u001b[39m.\u001b[39mdt\u001b[39m.\u001b[39mto_pydatetime(), m\u001b[39m.\u001b[39mhistory[\u001b[39m'\u001b[39m\u001b[39my\u001b[39m\u001b[39m'\u001b[39m], \u001b[39m'\u001b[39m\u001b[39mk.\u001b[39m\u001b[39m'\u001b[39m,\n\u001b[1;32m     74\u001b[0m         label\u001b[39m=\u001b[39m\u001b[39m'\u001b[39m\u001b[39mObserved data points\u001b[39m\u001b[39m'\u001b[39m)\n\u001b[0;32m---> 75\u001b[0m ax\u001b[39m.\u001b[39mplot(fcst_t, fcst[\u001b[39m'\u001b[39;49m\u001b[39myhat\u001b[39;49m\u001b[39m'\u001b[39;49m], ls\u001b[39m=\u001b[39m\u001b[39m'\u001b[39m\u001b[39m-\u001b[39m\u001b[39m'\u001b[39m, c\u001b[39m=\u001b[39m\u001b[39m'\u001b[39m\u001b[39m#0072B2\u001b[39m\u001b[39m'\u001b[39m, label\u001b[39m=\u001b[39m\u001b[39m'\u001b[39m\u001b[39mForecast\u001b[39m\u001b[39m'\u001b[39m)\n\u001b[1;32m     76\u001b[0m \u001b[39mif\u001b[39;00m \u001b[39m'\u001b[39m\u001b[39mcap\u001b[39m\u001b[39m'\u001b[39m \u001b[39min\u001b[39;00m fcst \u001b[39mand\u001b[39;00m plot_cap:\n\u001b[1;32m     77\u001b[0m     ax\u001b[39m.\u001b[39mplot(fcst_t, fcst[\u001b[39m'\u001b[39m\u001b[39mcap\u001b[39m\u001b[39m'\u001b[39m], ls\u001b[39m=\u001b[39m\u001b[39m'\u001b[39m\u001b[39m--\u001b[39m\u001b[39m'\u001b[39m, c\u001b[39m=\u001b[39m\u001b[39m'\u001b[39m\u001b[39mk\u001b[39m\u001b[39m'\u001b[39m, label\u001b[39m=\u001b[39m\u001b[39m'\u001b[39m\u001b[39mMaximum capacity\u001b[39m\u001b[39m'\u001b[39m)\n",
      "File \u001b[0;32m~/.pyenv/versions/3.10.6/envs/metro_seoul/lib/python3.10/site-packages/pandas/core/frame.py:3893\u001b[0m, in \u001b[0;36mDataFrame.__getitem__\u001b[0;34m(self, key)\u001b[0m\n\u001b[1;32m   3891\u001b[0m \u001b[39mif\u001b[39;00m \u001b[39mself\u001b[39m\u001b[39m.\u001b[39mcolumns\u001b[39m.\u001b[39mnlevels \u001b[39m>\u001b[39m \u001b[39m1\u001b[39m:\n\u001b[1;32m   3892\u001b[0m     \u001b[39mreturn\u001b[39;00m \u001b[39mself\u001b[39m\u001b[39m.\u001b[39m_getitem_multilevel(key)\n\u001b[0;32m-> 3893\u001b[0m indexer \u001b[39m=\u001b[39m \u001b[39mself\u001b[39;49m\u001b[39m.\u001b[39;49mcolumns\u001b[39m.\u001b[39;49mget_loc(key)\n\u001b[1;32m   3894\u001b[0m \u001b[39mif\u001b[39;00m is_integer(indexer):\n\u001b[1;32m   3895\u001b[0m     indexer \u001b[39m=\u001b[39m [indexer]\n",
      "File \u001b[0;32m~/.pyenv/versions/3.10.6/envs/metro_seoul/lib/python3.10/site-packages/pandas/core/indexes/base.py:3797\u001b[0m, in \u001b[0;36mIndex.get_loc\u001b[0;34m(self, key)\u001b[0m\n\u001b[1;32m   3792\u001b[0m     \u001b[39mif\u001b[39;00m \u001b[39misinstance\u001b[39m(casted_key, \u001b[39mslice\u001b[39m) \u001b[39mor\u001b[39;00m (\n\u001b[1;32m   3793\u001b[0m         \u001b[39misinstance\u001b[39m(casted_key, abc\u001b[39m.\u001b[39mIterable)\n\u001b[1;32m   3794\u001b[0m         \u001b[39mand\u001b[39;00m \u001b[39many\u001b[39m(\u001b[39misinstance\u001b[39m(x, \u001b[39mslice\u001b[39m) \u001b[39mfor\u001b[39;00m x \u001b[39min\u001b[39;00m casted_key)\n\u001b[1;32m   3795\u001b[0m     ):\n\u001b[1;32m   3796\u001b[0m         \u001b[39mraise\u001b[39;00m InvalidIndexError(key)\n\u001b[0;32m-> 3797\u001b[0m     \u001b[39mraise\u001b[39;00m \u001b[39mKeyError\u001b[39;00m(key) \u001b[39mfrom\u001b[39;00m \u001b[39merr\u001b[39;00m\n\u001b[1;32m   3798\u001b[0m \u001b[39mexcept\u001b[39;00m \u001b[39mTypeError\u001b[39;00m:\n\u001b[1;32m   3799\u001b[0m     \u001b[39m# If we have a listlike key, _check_indexing_error will raise\u001b[39;00m\n\u001b[1;32m   3800\u001b[0m     \u001b[39m#  InvalidIndexError. Otherwise we fall through and re-raise\u001b[39;00m\n\u001b[1;32m   3801\u001b[0m     \u001b[39m#  the TypeError.\u001b[39;00m\n\u001b[1;32m   3802\u001b[0m     \u001b[39mself\u001b[39m\u001b[39m.\u001b[39m_check_indexing_error(key)\n",
      "\u001b[0;31mKeyError\u001b[0m: 'yhat'"
     ]
    },
    {
     "data": {
      "image/png": "[encoded data removed]",
      "text/plain": [
       "<Figure size 1000x600 with 1 Axes>"
      ]
     },
     "metadata": {},
     "output_type": "display_data"
    }
   ],
   "source": [
    "ax = model.plot(future)\n",
    "plt.plot(data_test['ds'],data_test['y'],'r')\n",
    "plt.xlim(left=(pd.Timestamp(max(data_test.ds)-datetime.timedelta(days=5))),\n",
    "right=(pd.Timestamp(max(data_test.ds)+ datetime.timedelta(days=1)))\n",
    ")\n",
    "plt.show()\n"
   ]
  },
  {
   "cell_type": "markdown",
   "metadata": {},
   "source": [
    "### CROSS VAL"
   ]
  },
  {
   "cell_type": "code",
   "execution_count": 136,
   "metadata": {},
   "outputs": [
    {
     "name": "stderr",
     "output_type": "stream",
     "text": [
      "17:51:44 - cmdstanpy - INFO - Chain [1] start processing\n",
      "17:51:45 - cmdstanpy - INFO - Chain [1] done processing\n",
      "17:51:46 - cmdstanpy - INFO - Chain [1] start processing\n",
      "17:51:46 - cmdstanpy - INFO - Chain [1] done processing\n",
      "17:51:47 - cmdstanpy - INFO - Chain [1] start processing\n",
      "17:51:47 - cmdstanpy - INFO - Chain [1] done processing\n",
      "17:51:49 - cmdstanpy - INFO - Chain [1] start processing\n",
      "17:51:49 - cmdstanpy - INFO - Chain [1] done processing\n",
      "17:51:50 - cmdstanpy - INFO - Chain [1] start processing\n",
      "17:51:50 - cmdstanpy - INFO - Chain [1] done processing\n",
      "17:51:51 - cmdstanpy - INFO - Chain [1] start processing\n",
      "17:51:52 - cmdstanpy - INFO - Chain [1] done processing\n",
      "17:51:53 - cmdstanpy - INFO - Chain [1] start processing\n",
      "17:51:53 - cmdstanpy - INFO - Chain [1] done processing\n",
      "17:51:54 - cmdstanpy - INFO - Chain [1] start processing\n",
      "17:51:55 - cmdstanpy - INFO - Chain [1] done processing\n",
      "17:51:56 - cmdstanpy - INFO - Chain [1] start processing\n",
      "17:51:56 - cmdstanpy - INFO - Chain [1] done processing\n",
      "17:51:57 - cmdstanpy - INFO - Chain [1] start processing\n",
      "17:51:58 - cmdstanpy - INFO - Chain [1] done processing\n",
      "17:51:59 - cmdstanpy - INFO - Chain [1] start processing\n",
      "17:51:59 - cmdstanpy - INFO - Chain [1] done processing\n",
      "17:52:00 - cmdstanpy - INFO - Chain [1] start processing\n",
      "17:52:01 - cmdstanpy - INFO - Chain [1] done processing\n",
      "17:52:02 - cmdstanpy - INFO - Chain [1] start processing\n",
      "17:52:02 - cmdstanpy - INFO - Chain [1] done processing\n",
      "17:52:03 - cmdstanpy - INFO - Chain [1] start processing\n",
      "17:52:04 - cmdstanpy - INFO - Chain [1] done processing\n",
      "17:52:05 - cmdstanpy - INFO - Chain [1] start processing\n",
      "17:52:05 - cmdstanpy - INFO - Chain [1] done processing\n",
      "17:52:06 - cmdstanpy - INFO - Chain [1] start processing\n",
      "17:52:07 - cmdstanpy - INFO - Chain [1] done processing\n",
      "17:52:08 - cmdstanpy - INFO - Chain [1] start processing\n",
      "17:52:08 - cmdstanpy - INFO - Chain [1] done processing\n",
      "17:52:09 - cmdstanpy - INFO - Chain [1] start processing\n",
      "17:52:10 - cmdstanpy - INFO - Chain [1] done processing\n",
      "17:52:11 - cmdstanpy - INFO - Chain [1] start processing\n",
      "17:52:11 - cmdstanpy - INFO - Chain [1] done processing\n",
      "17:52:13 - cmdstanpy - INFO - Chain [1] start processing\n",
      "17:52:14 - cmdstanpy - INFO - Chain [1] done processing\n",
      "17:52:15 - cmdstanpy - INFO - Chain [1] start processing\n",
      "17:52:16 - cmdstanpy - INFO - Chain [1] done processing\n",
      "17:52:17 - cmdstanpy - INFO - Chain [1] start processing\n",
      "17:52:18 - cmdstanpy - INFO - Chain [1] done processing\n",
      "17:52:19 - cmdstanpy - INFO - Chain [1] start processing\n",
      "17:52:20 - cmdstanpy - INFO - Chain [1] done processing\n",
      "17:52:21 - cmdstanpy - INFO - Chain [1] start processing\n",
      "17:52:22 - cmdstanpy - INFO - Chain [1] done processing\n",
      "17:52:22 - cmdstanpy - INFO - Chain [1] start processing\n",
      "17:52:24 - cmdstanpy - INFO - Chain [1] done processing\n",
      "17:52:25 - cmdstanpy - INFO - Chain [1] start processing\n",
      "17:52:25 - cmdstanpy - INFO - Chain [1] done processing\n",
      "17:52:26 - cmdstanpy - INFO - Chain [1] start processing\n",
      "17:52:27 - cmdstanpy - INFO - Chain [1] done processing\n",
      "17:52:28 - cmdstanpy - INFO - Chain [1] start processing\n",
      "17:52:29 - cmdstanpy - INFO - Chain [1] done processing\n",
      "17:52:30 - cmdstanpy - INFO - Chain [1] start processing\n",
      "17:52:31 - cmdstanpy - INFO - Chain [1] done processing\n",
      "17:52:32 - cmdstanpy - INFO - Chain [1] start processing\n",
      "17:52:32 - cmdstanpy - INFO - Chain [1] done processing\n",
      "17:52:33 - cmdstanpy - INFO - Chain [1] start processing\n",
      "17:52:34 - cmdstanpy - INFO - Chain [1] done processing\n",
      "17:52:35 - cmdstanpy - INFO - Chain [1] start processing\n",
      "17:52:36 - cmdstanpy - INFO - Chain [1] done processing\n",
      "17:52:36 - cmdstanpy - INFO - Chain [1] start processing\n",
      "17:52:37 - cmdstanpy - INFO - Chain [1] done processing\n",
      "17:52:38 - cmdstanpy - INFO - Chain [1] start processing\n",
      "17:52:39 - cmdstanpy - INFO - Chain [1] done processing\n",
      "17:52:40 - cmdstanpy - INFO - Chain [1] start processing\n",
      "17:52:41 - cmdstanpy - INFO - Chain [1] done processing\n",
      "17:52:42 - cmdstanpy - INFO - Chain [1] start processing\n",
      "17:52:43 - cmdstanpy - INFO - Chain [1] done processing\n",
      "17:52:43 - cmdstanpy - INFO - Chain [1] start processing\n",
      "17:52:45 - cmdstanpy - INFO - Chain [1] done processing\n",
      "17:52:46 - cmdstanpy - INFO - Chain [1] start processing\n",
      "17:52:48 - cmdstanpy - INFO - Chain [1] done processing\n",
      "17:52:49 - cmdstanpy - INFO - Chain [1] start processing\n",
      "17:52:50 - cmdstanpy - INFO - Chain [1] done processing\n",
      "17:52:52 - cmdstanpy - INFO - Chain [1] start processing\n",
      "17:52:53 - cmdstanpy - INFO - Chain [1] done processing\n",
      "17:52:54 - cmdstanpy - INFO - Chain [1] start processing\n",
      "17:52:55 - cmdstanpy - INFO - Chain [1] done processing\n",
      "17:52:56 - cmdstanpy - INFO - Chain [1] start processing\n",
      "17:52:58 - cmdstanpy - INFO - Chain [1] done processing\n",
      "17:52:59 - cmdstanpy - INFO - Chain [1] start processing\n",
      "17:53:01 - cmdstanpy - INFO - Chain [1] done processing\n",
      "17:53:02 - cmdstanpy - INFO - Chain [1] start processing\n",
      "17:53:04 - cmdstanpy - INFO - Chain [1] done processing\n",
      "17:53:05 - cmdstanpy - INFO - Chain [1] start processing\n",
      "17:53:07 - cmdstanpy - INFO - Chain [1] done processing\n",
      "17:53:08 - cmdstanpy - INFO - Chain [1] start processing\n",
      "17:53:10 - cmdstanpy - INFO - Chain [1] done processing\n",
      "17:53:11 - cmdstanpy - INFO - Chain [1] start processing\n",
      "17:53:12 - cmdstanpy - INFO - Chain [1] done processing\n",
      "17:53:14 - cmdstanpy - INFO - Chain [1] start processing\n",
      "17:53:16 - cmdstanpy - INFO - Chain [1] done processing\n",
      "17:53:16 - cmdstanpy - INFO - Chain [1] start processing\n",
      "17:53:18 - cmdstanpy - INFO - Chain [1] done processing\n",
      "17:53:19 - cmdstanpy - INFO - Chain [1] start processing\n",
      "17:53:20 - cmdstanpy - INFO - Chain [1] done processing\n",
      "17:53:21 - cmdstanpy - INFO - Chain [1] start processing\n",
      "17:53:23 - cmdstanpy - INFO - Chain [1] done processing\n",
      "17:53:24 - cmdstanpy - INFO - Chain [1] start processing\n",
      "17:53:26 - cmdstanpy - INFO - Chain [1] done processing\n",
      "17:53:27 - cmdstanpy - INFO - Chain [1] start processing\n",
      "17:53:28 - cmdstanpy - INFO - Chain [1] done processing\n",
      "17:53:30 - cmdstanpy - INFO - Chain [1] start processing\n"
     ]
    },
    {
     "name": "stdout",
     "output_type": "stream",
     "text": [
      "    changepoint_prior_scale  seasonality_prior_scale  holidays_prior_scale  \\\n",
      "0                     0.001                      0.1                   1.0   \n",
      "1                     0.001                      0.1                  10.0   \n",
      "2                     0.001                      0.1                  15.0   \n",
      "3                     0.001                      1.0                   1.0   \n",
      "4                     0.001                      1.0                  10.0   \n",
      "5                     0.001                      1.0                  15.0   \n",
      "6                     0.001                     10.0                   1.0   \n",
      "7                     0.001                     10.0                  10.0   \n",
      "8                     0.001                     10.0                  15.0   \n",
      "9                     0.010                      0.1                   1.0   \n",
      "10                    0.010                      0.1                  10.0   \n",
      "11                    0.010                      0.1                  15.0   \n",
      "12                    0.010                      1.0                   1.0   \n",
      "13                    0.010                      1.0                  10.0   \n",
      "14                    0.010                      1.0                  15.0   \n",
      "15                    0.010                     10.0                   1.0   \n",
      "16                    0.010                     10.0                  10.0   \n",
      "17                    0.010                     10.0                  15.0   \n",
      "18                    0.100                      0.1                   1.0   \n",
      "19                    0.100                      0.1                  10.0   \n",
      "20                    0.100                      0.1                  15.0   \n",
      "21                    0.100                      1.0                   1.0   \n",
      "22                    0.100                      1.0                  10.0   \n",
      "23                    0.100                      1.0                  15.0   \n",
      "24                    0.100                     10.0                   1.0   \n",
      "25                    0.100                     10.0                  10.0   \n",
      "26                    0.100                     10.0                  15.0   \n",
      "\n",
      "   seasonality_mode         rmse  \n",
      "0    multiplicative  2093.759851  \n",
      "1    multiplicative  2101.585508  \n",
      "2    multiplicative  2109.904920  \n",
      "3    multiplicative  2140.621483  \n",
      "4    multiplicative  2123.317675  \n",
      "5    multiplicative  2119.245148  \n",
      "6    multiplicative  2152.995894  \n",
      "7    multiplicative  2137.605905  \n",
      "8    multiplicative  2112.005533  \n",
      "9    multiplicative  2053.939753  \n",
      "10   multiplicative  2051.406539  \n",
      "11   multiplicative  2052.395875  \n",
      "12   multiplicative  2064.470544  \n",
      "13   multiplicative  2062.026955  \n",
      "14   multiplicative  2065.630824  \n",
      "15   multiplicative  2063.186151  \n",
      "16   multiplicative  2065.280700  \n",
      "17   multiplicative  2062.184952  \n",
      "18   multiplicative  2016.231731  \n",
      "19   multiplicative  2014.426343  \n",
      "20   multiplicative  2013.490298  \n",
      "21   multiplicative  2022.015004  \n",
      "22   multiplicative  2025.392703  \n",
      "23   multiplicative  2025.002101  \n",
      "24   multiplicative  2024.148009  \n",
      "25   multiplicative  2026.106914  \n",
      "26   multiplicative  2026.967160  \n"
     ]
    },
    {
     "name": "stderr",
     "output_type": "stream",
     "text": [
      "17:53:31 - cmdstanpy - INFO - Chain [1] done processing\n"
     ]
    },
    {
     "data": {
      "text/plain": [
       "changepoint_prior_scale               0.1\n",
       "seasonality_prior_scale               0.1\n",
       "holidays_prior_scale                 15.0\n",
       "seasonality_mode           multiplicative\n",
       "rmse                          2013.490298\n",
       "Name: 20, dtype: object"
      ]
     },
     "execution_count": 136,
     "metadata": {},
     "output_type": "execute_result"
    }
   ],
   "source": [
    "param_grid = {\n",
    "    'changepoint_prior_scale': [0.001, 0.01, 0.1],\n",
    "    'seasonality_prior_scale': [0.1, 1.0, 10.0],\n",
    "    'holidays_prior_scale' : [1.0, 10.0, 15.0],\n",
    "    'seasonality_mode' : ['multiplicative']\n",
    "\n",
    "}\n",
    "\n",
    "# Generate all combinations of parameters\n",
    "all_params = [dict(zip(param_grid.keys(), v)) for v in itertools.product(*param_grid.values())]\n",
    "rmses = []  # Store the RMSEs for each params here\n",
    "\n",
    "# Use cross validation to evaluate all parameters\n",
    "for params in all_params:\n",
    "    m = Prophet(**params)  # Fit model with given params\n",
    "    m.add_regressor('is_closed', mode='multiplicative')\n",
    "    m.add_seasonality(name='morning_peak', period=1, fourier_order=8, condition_name='is_morning_peak')\n",
    "    m.add_seasonality(name='afternoon_peak', period=1, fourier_order=8, condition_name='is_afternoon_peak')\n",
    "    m.add_country_holidays(country_name='SK')\n",
    "    m.fit(data_train)\n",
    "    df_cv = cross_validation(m, initial='400 days', period='100 days', horizon = '2 days', parallel=\"processes\")\n",
    "    df_p = performance_metrics(df_cv, rolling_window=1)\n",
    "    rmses.append(df_p['rmse'].values[0])\n",
    "\n",
    "# Find the best parameters\n",
    "tuning_results = pd.DataFrame(all_params)\n",
    "tuning_results['rmse'] = rmses\n",
    "print(tuning_results)\n",
    "tuning_results.iloc[rmses.index(min(rmses))]\n"
   ]
  },
  {
   "cell_type": "markdown",
   "metadata": {},
   "source": [
    "# Achasan 5"
   ]
  },
  {
   "cell_type": "markdown",
   "metadata": {},
   "source": [
    "## Train/Test split"
   ]
  },
  {
   "cell_type": "code",
   "execution_count": 12,
   "metadata": {},
   "outputs": [
    {
     "ename": "NameError",
     "evalue": "name 'df_achasan5' is not defined",
     "output_type": "error",
     "traceback": [
      "\u001b[0;31m---------------------------------------------------------------------------\u001b[0m",
      "\u001b[0;31mNameError\u001b[0m                                 Traceback (most recent call last)",
      "\u001b[1;32m/Users/thomas_metral/code/thomas-metral/metro_seoul/notebooks/prophet_clean.ipynb Cell 10\u001b[0m line \u001b[0;36m5\n\u001b[1;32m      <a href='vscode-notebook-cell:/Users/thomas_metral/code/thomas-metral/metro_seoul/notebooks/prophet_clean.ipynb#X10sZmlsZQ%3D%3D?line=1'>2</a>\u001b[0m days \u001b[39m=\u001b[39m \u001b[39m2\u001b[39m\n\u001b[1;32m      <a href='vscode-notebook-cell:/Users/thomas_metral/code/thomas-metral/metro_seoul/notebooks/prophet_clean.ipynb#X10sZmlsZQ%3D%3D?line=3'>4</a>\u001b[0m \u001b[39m# index = round(train_size*df_156.shape[0])\u001b[39;00m\n\u001b[0;32m----> <a href='vscode-notebook-cell:/Users/thomas_metral/code/thomas-metral/metro_seoul/notebooks/prophet_clean.ipynb#X10sZmlsZQ%3D%3D?line=4'>5</a>\u001b[0m df_achasan5_train \u001b[39m=\u001b[39m df_achasan5\u001b[39m.\u001b[39miloc[:\u001b[39m-\u001b[39m\u001b[39m24\u001b[39m\u001b[39m*\u001b[39mdays]\n\u001b[1;32m      <a href='vscode-notebook-cell:/Users/thomas_metral/code/thomas-metral/metro_seoul/notebooks/prophet_clean.ipynb#X10sZmlsZQ%3D%3D?line=5'>6</a>\u001b[0m df_achasan5_test \u001b[39m=\u001b[39m df_achasan5\u001b[39m.\u001b[39miloc[\u001b[39m-\u001b[39m\u001b[39m24\u001b[39m\u001b[39m*\u001b[39mdays:]\n\u001b[1;32m      <a href='vscode-notebook-cell:/Users/thomas_metral/code/thomas-metral/metro_seoul/notebooks/prophet_clean.ipynb#X10sZmlsZQ%3D%3D?line=7'>8</a>\u001b[0m \u001b[39m#shorten the train data\u001b[39;00m\n",
      "\u001b[0;31mNameError\u001b[0m: name 'df_achasan5' is not defined"
     ]
    }
   ],
   "source": [
    "#lenght of test data\n",
    "days = 2\n",
    "\n",
    "# index = round(train_size*df_156.shape[0])\n",
    "df_achasan5_train = df_achasan5.iloc[:-24*days]\n",
    "df_achasan5_test = df_achasan5.iloc[-24*days:]\n",
    "\n",
    "#shorten the train data\n",
    "df_achasan5_train = df_achasan5_train.iloc[-24*365:]\n"
   ]
  },
  {
   "cell_type": "markdown",
   "metadata": {},
   "source": [
    "## Adding columns for regressor"
   ]
  },
  {
   "cell_type": "code",
   "execution_count": 90,
   "metadata": {},
   "outputs": [
    {
     "data": {
      "text/html": [
       "<div>\n",
       "<style scoped>\n",
       "    .dataframe tbody tr th:only-of-type {\n",
       "        vertical-align: middle;\n",
       "    }\n",
       "\n",
       "    .dataframe tbody tr th {\n",
       "        vertical-align: top;\n",
       "    }\n",
       "\n",
       "    .dataframe thead th {\n",
       "        text-align: right;\n",
       "    }\n",
       "</style>\n",
       "<table border=\"1\" class=\"dataframe\">\n",
       "  <thead>\n",
       "    <tr style=\"text-align: right;\">\n",
       "      <th></th>\n",
       "      <th>ds</th>\n",
       "      <th>y</th>\n",
       "      <th>is_morning_peak</th>\n",
       "      <th>is_afternoon_peak</th>\n",
       "      <th>is_closed</th>\n",
       "      <th>is_weekend</th>\n",
       "    </tr>\n",
       "  </thead>\n",
       "  <tbody>\n",
       "    <tr>\n",
       "      <th>23988</th>\n",
       "      <td>2022-09-26 13:00:00</td>\n",
       "      <td>603.0</td>\n",
       "      <td>0</td>\n",
       "      <td>0</td>\n",
       "      <td>0</td>\n",
       "      <td>0</td>\n",
       "    </tr>\n",
       "    <tr>\n",
       "      <th>18771</th>\n",
       "      <td>2022-02-21 04:00:00</td>\n",
       "      <td>0.0</td>\n",
       "      <td>0</td>\n",
       "      <td>0</td>\n",
       "      <td>1</td>\n",
       "      <td>0</td>\n",
       "    </tr>\n",
       "    <tr>\n",
       "      <th>19250</th>\n",
       "      <td>2022-03-13 03:00:00</td>\n",
       "      <td>0.0</td>\n",
       "      <td>0</td>\n",
       "      <td>0</td>\n",
       "      <td>1</td>\n",
       "      <td>1</td>\n",
       "    </tr>\n",
       "    <tr>\n",
       "      <th>19890</th>\n",
       "      <td>2022-04-08 19:00:00</td>\n",
       "      <td>1520.0</td>\n",
       "      <td>0</td>\n",
       "      <td>0</td>\n",
       "      <td>0</td>\n",
       "      <td>0</td>\n",
       "    </tr>\n",
       "    <tr>\n",
       "      <th>23365</th>\n",
       "      <td>2022-08-31 14:00:00</td>\n",
       "      <td>501.0</td>\n",
       "      <td>0</td>\n",
       "      <td>0</td>\n",
       "      <td>0</td>\n",
       "      <td>0</td>\n",
       "    </tr>\n",
       "    <tr>\n",
       "      <th>22607</th>\n",
       "      <td>2022-07-31 00:00:00</td>\n",
       "      <td>0.0</td>\n",
       "      <td>0</td>\n",
       "      <td>0</td>\n",
       "      <td>1</td>\n",
       "      <td>1</td>\n",
       "    </tr>\n",
       "    <tr>\n",
       "      <th>25551</th>\n",
       "      <td>2022-11-30 16:00:00</td>\n",
       "      <td>941.0</td>\n",
       "      <td>0</td>\n",
       "      <td>0</td>\n",
       "      <td>0</td>\n",
       "      <td>0</td>\n",
       "    </tr>\n",
       "    <tr>\n",
       "      <th>26092</th>\n",
       "      <td>2022-12-23 05:00:00</td>\n",
       "      <td>46.0</td>\n",
       "      <td>0</td>\n",
       "      <td>0</td>\n",
       "      <td>0</td>\n",
       "      <td>0</td>\n",
       "    </tr>\n",
       "    <tr>\n",
       "      <th>24934</th>\n",
       "      <td>2022-11-04 23:00:00</td>\n",
       "      <td>447.0</td>\n",
       "      <td>0</td>\n",
       "      <td>0</td>\n",
       "      <td>0</td>\n",
       "      <td>0</td>\n",
       "    </tr>\n",
       "    <tr>\n",
       "      <th>23087</th>\n",
       "      <td>2022-08-20 00:00:00</td>\n",
       "      <td>0.0</td>\n",
       "      <td>0</td>\n",
       "      <td>0</td>\n",
       "      <td>1</td>\n",
       "      <td>1</td>\n",
       "    </tr>\n",
       "    <tr>\n",
       "      <th>25419</th>\n",
       "      <td>2022-11-25 04:00:00</td>\n",
       "      <td>0.0</td>\n",
       "      <td>0</td>\n",
       "      <td>0</td>\n",
       "      <td>1</td>\n",
       "      <td>0</td>\n",
       "    </tr>\n",
       "    <tr>\n",
       "      <th>21735</th>\n",
       "      <td>2022-06-24 16:00:00</td>\n",
       "      <td>968.0</td>\n",
       "      <td>0</td>\n",
       "      <td>0</td>\n",
       "      <td>0</td>\n",
       "      <td>0</td>\n",
       "    </tr>\n",
       "    <tr>\n",
       "      <th>20677</th>\n",
       "      <td>2022-05-11 14:00:00</td>\n",
       "      <td>569.0</td>\n",
       "      <td>0</td>\n",
       "      <td>0</td>\n",
       "      <td>0</td>\n",
       "      <td>0</td>\n",
       "    </tr>\n",
       "    <tr>\n",
       "      <th>24192</th>\n",
       "      <td>2022-10-05 01:00:00</td>\n",
       "      <td>0.0</td>\n",
       "      <td>0</td>\n",
       "      <td>0</td>\n",
       "      <td>1</td>\n",
       "      <td>0</td>\n",
       "    </tr>\n",
       "    <tr>\n",
       "      <th>30514</th>\n",
       "      <td>2023-06-25 11:00:00</td>\n",
       "      <td>657.0</td>\n",
       "      <td>0</td>\n",
       "      <td>0</td>\n",
       "      <td>0</td>\n",
       "      <td>1</td>\n",
       "    </tr>\n",
       "    <tr>\n",
       "      <th>21707</th>\n",
       "      <td>2022-06-23 12:00:00</td>\n",
       "      <td>480.0</td>\n",
       "      <td>0</td>\n",
       "      <td>0</td>\n",
       "      <td>0</td>\n",
       "      <td>0</td>\n",
       "    </tr>\n",
       "    <tr>\n",
       "      <th>25583</th>\n",
       "      <td>2022-12-02 00:00:00</td>\n",
       "      <td>0.0</td>\n",
       "      <td>0</td>\n",
       "      <td>0</td>\n",
       "      <td>1</td>\n",
       "      <td>0</td>\n",
       "    </tr>\n",
       "    <tr>\n",
       "      <th>22610</th>\n",
       "      <td>2022-07-31 03:00:00</td>\n",
       "      <td>0.0</td>\n",
       "      <td>0</td>\n",
       "      <td>0</td>\n",
       "      <td>1</td>\n",
       "      <td>1</td>\n",
       "    </tr>\n",
       "  </tbody>\n",
       "</table>\n",
       "</div>"
      ],
      "text/plain": [
       "                       ds       y  is_morning_peak  is_afternoon_peak  \\\n",
       "23988 2022-09-26 13:00:00   603.0                0                  0   \n",
       "18771 2022-02-21 04:00:00     0.0                0                  0   \n",
       "19250 2022-03-13 03:00:00     0.0                0                  0   \n",
       "19890 2022-04-08 19:00:00  1520.0                0                  0   \n",
       "23365 2022-08-31 14:00:00   501.0                0                  0   \n",
       "22607 2022-07-31 00:00:00     0.0                0                  0   \n",
       "25551 2022-11-30 16:00:00   941.0                0                  0   \n",
       "26092 2022-12-23 05:00:00    46.0                0                  0   \n",
       "24934 2022-11-04 23:00:00   447.0                0                  0   \n",
       "23087 2022-08-20 00:00:00     0.0                0                  0   \n",
       "25419 2022-11-25 04:00:00     0.0                0                  0   \n",
       "21735 2022-06-24 16:00:00   968.0                0                  0   \n",
       "20677 2022-05-11 14:00:00   569.0                0                  0   \n",
       "24192 2022-10-05 01:00:00     0.0                0                  0   \n",
       "30514 2023-06-25 11:00:00   657.0                0                  0   \n",
       "21707 2022-06-23 12:00:00   480.0                0                  0   \n",
       "25583 2022-12-02 00:00:00     0.0                0                  0   \n",
       "22610 2022-07-31 03:00:00     0.0                0                  0   \n",
       "\n",
       "       is_closed  is_weekend  \n",
       "23988          0           0  \n",
       "18771          1           0  \n",
       "19250          1           1  \n",
       "19890          0           0  \n",
       "23365          0           0  \n",
       "22607          1           1  \n",
       "25551          0           0  \n",
       "26092          0           0  \n",
       "24934          0           0  \n",
       "23087          1           1  \n",
       "25419          1           0  \n",
       "21735          0           0  \n",
       "20677          0           0  \n",
       "24192          1           0  \n",
       "30514          0           1  \n",
       "21707          0           0  \n",
       "25583          1           0  \n",
       "22610          1           1  "
      ]
     },
     "execution_count": 90,
     "metadata": {},
     "output_type": "execute_result"
    }
   ],
   "source": [
    "df_achasan5_train['is_morning_peak'] = ((df_achasan5_train['ds'].dt.hour == 8) & (df_achasan5_train['ds'].dt.dayofweek <= 5)).astype(int)\n",
    "df_achasan5_train['is_afternoon_peak'] = ((df_achasan5_train['ds'].dt.hour == 18) & (df_achasan5_train['ds'].dt.dayofweek <= 5)).astype(int)\n",
    "df_achasan5_train['is_closed'] = ((df_achasan5_train['ds'].dt.hour >= 0) & (df_achasan5_train['ds'].dt.hour <= 4)).astype(int)\n",
    "df_achasan5_train.sample(18)\n"
   ]
  },
  {
   "cell_type": "markdown",
   "metadata": {},
   "source": [
    "## Train/Predict"
   ]
  },
  {
   "cell_type": "code",
   "execution_count": 91,
   "metadata": {},
   "outputs": [
    {
     "name": "stderr",
     "output_type": "stream",
     "text": [
      "14:59:56 - cmdstanpy - INFO - Chain [1] start processing\n",
      "14:59:56 - cmdstanpy - INFO - Chain [1] done processing\n"
     ]
    }
   ],
   "source": [
    "model = Prophet(changepoint_prior_scale=0.002, seasonality_prior_scale=12.0,\n",
    "                  holidays_prior_scale=10.0, seasonality_mode='multiplicative', daily_seasonality=True)\n",
    "model.add_regressor('is_morning_peak')\n",
    "model.add_regressor('is_afternoon_peak')\n",
    "model.add_regressor('is_closed')\n",
    "model.add_seasonality('daily', period=24, fourier_order=2)\n",
    "model.add_country_holidays(country_name='SK')\n",
    "\n",
    "model.fit(df_achasan5_train)\n",
    "\n",
    "\n",
    "# Create a future dataframe for predictions\n",
    "future = model.make_future_dataframe(periods=days*24, include_history=False, freq='h')  # Forecasting for the next week\n",
    "future['is_morning_peak'] = ((future['ds'].dt.hour >= 7) & (future['ds'].dt.hour <= 9)).astype(int)\n",
    "future['is_afternoon_peak'] = ((future['ds'].dt.hour >= 17) & (future['ds'].dt.hour <= 19)).astype(int)\n",
    "future['is_closed'] = ((future['ds'].dt.hour >= 0) & (future['ds'].dt.hour <= 4)).astype(int)\n",
    "future['is_weekend'] = (future['ds'].dt.dayofweek >= 5).astype(int)\n",
    "\n",
    "# Generate predictions\n",
    "forecast = model.predict(future)\n",
    "prediction = forecast[['ds', 'yhat', 'yhat_lower', 'yhat_upper']]\n"
   ]
  },
  {
   "cell_type": "markdown",
   "metadata": {},
   "source": [
    "## Check results"
   ]
  },
  {
   "cell_type": "code",
   "execution_count": 92,
   "metadata": {},
   "outputs": [
    {
     "data": {
      "text/plain": [
       "0.43058828484551587"
      ]
     },
     "execution_count": 92,
     "metadata": {},
     "output_type": "execute_result"
    },
    {
     "data": {
      "image/png": "[encoded data removed]",
      "text/plain": [
       "<Figure size 640x480 with 1 Axes>"
      ]
     },
     "metadata": {},
     "output_type": "display_data"
    }
   ],
   "source": [
    "sns.lineplot(x=prediction['ds'], y=prediction['yhat'])\n",
    "sns.lineplot(x=df_achasan5_test['ds'], y=df_achasan5_test['y'])\n",
    "\n",
    "mape(prediction['yhat'].values, df_achasan5_test['y'].values)\n"
   ]
  },
  {
   "cell_type": "code",
   "execution_count": 19,
   "metadata": {},
   "outputs": [
    {
     "name": "stderr",
     "output_type": "stream",
     "text": [
      "/Users/thomas_metral/.pyenv/versions/3.10.6/envs/metro_seoul/lib/python3.10/site-packages/prophet/plot.py:72: FutureWarning: The behavior of DatetimeProperties.to_pydatetime is deprecated, in a future version this will return a Series containing python datetime objects instead of an ndarray. To retain the old behavior, call `np.array` on the result\n",
      "  fcst_t = fcst['ds'].dt.to_pydatetime()\n",
      "/Users/thomas_metral/.pyenv/versions/3.10.6/envs/metro_seoul/lib/python3.10/site-packages/prophet/plot.py:73: FutureWarning: The behavior of DatetimeProperties.to_pydatetime is deprecated, in a future version this will return a Series containing python datetime objects instead of an ndarray. To retain the old behavior, call `np.array` on the result\n",
      "  ax.plot(m.history['ds'].dt.to_pydatetime(), m.history['y'], 'k.',\n"
     ]
    },
    {
     "ename": "NameError",
     "evalue": "name 'df_achasan5_test' is not defined",
     "output_type": "error",
     "traceback": [
      "\u001b[0;31m---------------------------------------------------------------------------\u001b[0m",
      "\u001b[0;31mNameError\u001b[0m                                 Traceback (most recent call last)",
      "\u001b[1;32m/Users/thomas_metral/code/thomas-metral/metro_seoul/notebooks/prophet_clean.ipynb Cell 17\u001b[0m line \u001b[0;36m2\n\u001b[1;32m      <a href='vscode-notebook-cell:/Users/thomas_metral/code/thomas-metral/metro_seoul/notebooks/prophet_clean.ipynb#X33sZmlsZQ%3D%3D?line=0'>1</a>\u001b[0m ax \u001b[39m=\u001b[39m model\u001b[39m.\u001b[39mplot(forecast)\n\u001b[0;32m----> <a href='vscode-notebook-cell:/Users/thomas_metral/code/thomas-metral/metro_seoul/notebooks/prophet_clean.ipynb#X33sZmlsZQ%3D%3D?line=1'>2</a>\u001b[0m plt\u001b[39m.\u001b[39mplot(df_achasan5_test[\u001b[39m'\u001b[39m\u001b[39mds\u001b[39m\u001b[39m'\u001b[39m],df_achasan5_test[\u001b[39m'\u001b[39m\u001b[39my\u001b[39m\u001b[39m'\u001b[39m],\u001b[39m'\u001b[39m\u001b[39mr\u001b[39m\u001b[39m'\u001b[39m)\n\u001b[1;32m      <a href='vscode-notebook-cell:/Users/thomas_metral/code/thomas-metral/metro_seoul/notebooks/prophet_clean.ipynb#X33sZmlsZQ%3D%3D?line=2'>3</a>\u001b[0m plt\u001b[39m.\u001b[39mxlim(left\u001b[39m=\u001b[39m(pd\u001b[39m.\u001b[39mTimestamp(\u001b[39mmax\u001b[39m(df_achasan5\u001b[39m.\u001b[39mds)\u001b[39m-\u001b[39mdatetime\u001b[39m.\u001b[39mtimedelta(days\u001b[39m=\u001b[39m\u001b[39m5\u001b[39m))),\n\u001b[1;32m      <a href='vscode-notebook-cell:/Users/thomas_metral/code/thomas-metral/metro_seoul/notebooks/prophet_clean.ipynb#X33sZmlsZQ%3D%3D?line=3'>4</a>\u001b[0m right\u001b[39m=\u001b[39m(pd\u001b[39m.\u001b[39mTimestamp(\u001b[39mmax\u001b[39m(df_achasan5\u001b[39m.\u001b[39mds)\u001b[39m+\u001b[39m datetime\u001b[39m.\u001b[39mtimedelta(days\u001b[39m=\u001b[39m\u001b[39m1\u001b[39m)))\n\u001b[1;32m      <a href='vscode-notebook-cell:/Users/thomas_metral/code/thomas-metral/metro_seoul/notebooks/prophet_clean.ipynb#X33sZmlsZQ%3D%3D?line=4'>5</a>\u001b[0m )\n\u001b[1;32m      <a href='vscode-notebook-cell:/Users/thomas_metral/code/thomas-metral/metro_seoul/notebooks/prophet_clean.ipynb#X33sZmlsZQ%3D%3D?line=5'>6</a>\u001b[0m plt\u001b[39m.\u001b[39mshow()\n",
      "\u001b[0;31mNameError\u001b[0m: name 'df_achasan5_test' is not defined"
     ]
    },
    {
     "data": {
      "image/png": "[encoded data removed]",
      "text/plain": [
       "<Figure size 1000x600 with 1 Axes>"
      ]
     },
     "metadata": {},
     "output_type": "display_data"
    }
   ],
   "source": [
    "ax = model.plot(forecast)\n",
    "plt.plot(df_achasan5_test['ds'],df_achasan5_test['y'],'r')\n",
    "plt.xlim(left=(pd.Timestamp(max(df_achasan5.ds)-datetime.timedelta(days=5))),\n",
    "right=(pd.Timestamp(max(df_achasan5.ds)+ datetime.timedelta(days=1)))\n",
    ")\n",
    "plt.show()\n"
   ]
  },
  {
   "cell_type": "markdown",
   "metadata": {},
   "source": [
    "### Cross Validation with grid search"
   ]
  },
  {
   "cell_type": "code",
   "execution_count": 34,
   "metadata": {},
   "outputs": [
    {
     "name": "stderr",
     "output_type": "stream",
     "text": [
      "14:14:00 - cmdstanpy - INFO - Chain [1] start processing\n",
      "14:14:00 - cmdstanpy - INFO - Chain [1] done processing\n",
      "14:14:01 - cmdstanpy - INFO - Chain [1] start processing\n",
      "14:14:02 - cmdstanpy - INFO - Chain [1] done processing\n",
      "14:14:02 - cmdstanpy - INFO - Chain [1] start processing\n",
      "14:14:03 - cmdstanpy - INFO - Chain [1] done processing\n",
      "14:14:04 - cmdstanpy - INFO - Chain [1] start processing\n",
      "14:14:04 - cmdstanpy - INFO - Chain [1] done processing\n",
      "14:14:05 - cmdstanpy - INFO - Chain [1] start processing\n",
      "14:14:05 - cmdstanpy - INFO - Chain [1] done processing\n",
      "14:14:06 - cmdstanpy - INFO - Chain [1] start processing\n",
      "14:14:07 - cmdstanpy - INFO - Chain [1] done processing\n",
      "14:14:07 - cmdstanpy - INFO - Chain [1] start processing\n",
      "14:14:08 - cmdstanpy - INFO - Chain [1] done processing\n",
      "14:14:08 - cmdstanpy - INFO - Chain [1] start processing\n",
      "14:14:09 - cmdstanpy - INFO - Chain [1] done processing\n",
      "14:14:09 - cmdstanpy - INFO - Chain [1] start processing\n",
      "14:14:10 - cmdstanpy - INFO - Chain [1] done processing\n",
      "14:14:11 - cmdstanpy - INFO - Chain [1] start processing\n",
      "14:14:11 - cmdstanpy - INFO - Chain [1] done processing\n",
      "14:14:12 - cmdstanpy - INFO - Chain [1] start processing\n",
      "14:14:12 - cmdstanpy - INFO - Chain [1] done processing\n",
      "14:14:13 - cmdstanpy - INFO - Chain [1] start processing\n",
      "14:14:14 - cmdstanpy - INFO - Chain [1] done processing\n",
      "14:14:14 - cmdstanpy - INFO - Chain [1] start processing\n",
      "14:14:15 - cmdstanpy - INFO - Chain [1] done processing\n",
      "14:14:16 - cmdstanpy - INFO - Chain [1] start processing\n",
      "14:14:16 - cmdstanpy - INFO - Chain [1] done processing\n",
      "14:14:17 - cmdstanpy - INFO - Chain [1] start processing\n",
      "14:14:17 - cmdstanpy - INFO - Chain [1] done processing\n",
      "14:14:18 - cmdstanpy - INFO - Chain [1] start processing\n",
      "14:14:18 - cmdstanpy - INFO - Chain [1] done processing\n",
      "14:14:19 - cmdstanpy - INFO - Chain [1] start processing\n",
      "14:14:19 - cmdstanpy - INFO - Chain [1] done processing\n",
      "14:14:20 - cmdstanpy - INFO - Chain [1] start processing\n",
      "14:14:21 - cmdstanpy - INFO - Chain [1] done processing\n",
      "14:14:21 - cmdstanpy - INFO - Chain [1] start processing\n",
      "14:14:22 - cmdstanpy - INFO - Chain [1] done processing\n",
      "14:14:23 - cmdstanpy - INFO - Chain [1] start processing\n",
      "14:14:24 - cmdstanpy - INFO - Chain [1] done processing\n",
      "14:14:24 - cmdstanpy - INFO - Chain [1] start processing\n",
      "14:14:25 - cmdstanpy - INFO - Chain [1] done processing\n",
      "14:14:26 - cmdstanpy - INFO - Chain [1] start processing\n",
      "14:14:26 - cmdstanpy - INFO - Chain [1] done processing\n",
      "14:14:27 - cmdstanpy - INFO - Chain [1] start processing\n",
      "14:14:28 - cmdstanpy - INFO - Chain [1] done processing\n",
      "14:14:29 - cmdstanpy - INFO - Chain [1] start processing\n",
      "14:14:29 - cmdstanpy - INFO - Chain [1] done processing\n",
      "14:14:30 - cmdstanpy - INFO - Chain [1] start processing\n",
      "14:14:30 - cmdstanpy - INFO - Chain [1] done processing\n",
      "14:14:31 - cmdstanpy - INFO - Chain [1] start processing\n",
      "14:14:32 - cmdstanpy - INFO - Chain [1] done processing\n",
      "14:14:32 - cmdstanpy - INFO - Chain [1] start processing\n",
      "14:14:33 - cmdstanpy - INFO - Chain [1] done processing\n",
      "14:14:34 - cmdstanpy - INFO - Chain [1] start processing\n",
      "14:14:35 - cmdstanpy - INFO - Chain [1] done processing\n",
      "14:14:35 - cmdstanpy - INFO - Chain [1] start processing\n",
      "14:14:36 - cmdstanpy - INFO - Chain [1] done processing\n",
      "14:14:37 - cmdstanpy - INFO - Chain [1] start processing\n",
      "14:14:37 - cmdstanpy - INFO - Chain [1] done processing\n",
      "14:14:38 - cmdstanpy - INFO - Chain [1] start processing\n",
      "14:14:38 - cmdstanpy - INFO - Chain [1] done processing\n",
      "14:14:39 - cmdstanpy - INFO - Chain [1] start processing\n",
      "14:14:39 - cmdstanpy - INFO - Chain [1] done processing\n",
      "14:14:40 - cmdstanpy - INFO - Chain [1] start processing\n",
      "14:14:41 - cmdstanpy - INFO - Chain [1] done processing\n",
      "14:14:42 - cmdstanpy - INFO - Chain [1] start processing\n",
      "14:14:42 - cmdstanpy - INFO - Chain [1] done processing\n",
      "14:14:43 - cmdstanpy - INFO - Chain [1] start processing\n",
      "14:14:43 - cmdstanpy - INFO - Chain [1] done processing\n",
      "14:14:44 - cmdstanpy - INFO - Chain [1] start processing\n",
      "14:14:45 - cmdstanpy - INFO - Chain [1] done processing\n",
      "14:14:46 - cmdstanpy - INFO - Chain [1] start processing\n",
      "14:14:47 - cmdstanpy - INFO - Chain [1] done processing\n",
      "14:14:48 - cmdstanpy - INFO - Chain [1] start processing\n",
      "14:14:48 - cmdstanpy - INFO - Chain [1] done processing\n",
      "14:14:49 - cmdstanpy - INFO - Chain [1] start processing\n",
      "14:14:50 - cmdstanpy - INFO - Chain [1] done processing\n",
      "14:14:51 - cmdstanpy - INFO - Chain [1] start processing\n",
      "14:14:52 - cmdstanpy - INFO - Chain [1] done processing\n",
      "14:14:52 - cmdstanpy - INFO - Chain [1] start processing\n",
      "14:14:53 - cmdstanpy - INFO - Chain [1] done processing\n",
      "14:14:54 - cmdstanpy - INFO - Chain [1] start processing\n",
      "14:14:55 - cmdstanpy - INFO - Chain [1] done processing\n",
      "14:14:55 - cmdstanpy - INFO - Chain [1] start processing\n",
      "14:14:56 - cmdstanpy - INFO - Chain [1] done processing\n",
      "14:14:57 - cmdstanpy - INFO - Chain [1] start processing\n",
      "14:14:58 - cmdstanpy - INFO - Chain [1] done processing\n",
      "14:14:58 - cmdstanpy - INFO - Chain [1] start processing\n",
      "14:14:59 - cmdstanpy - INFO - Chain [1] done processing\n",
      "14:15:00 - cmdstanpy - INFO - Chain [1] start processing\n",
      "14:15:01 - cmdstanpy - INFO - Chain [1] done processing\n",
      "14:15:01 - cmdstanpy - INFO - Chain [1] start processing\n",
      "14:15:02 - cmdstanpy - INFO - Chain [1] done processing\n",
      "14:15:03 - cmdstanpy - INFO - Chain [1] start processing\n",
      "14:15:04 - cmdstanpy - INFO - Chain [1] done processing\n",
      "14:15:04 - cmdstanpy - INFO - Chain [1] start processing\n",
      "14:15:05 - cmdstanpy - INFO - Chain [1] done processing\n",
      "14:15:06 - cmdstanpy - INFO - Chain [1] start processing\n",
      "14:15:07 - cmdstanpy - INFO - Chain [1] done processing\n",
      "14:15:08 - cmdstanpy - INFO - Chain [1] start processing\n",
      "14:15:08 - cmdstanpy - INFO - Chain [1] done processing\n",
      "14:15:09 - cmdstanpy - INFO - Chain [1] start processing\n",
      "14:15:10 - cmdstanpy - INFO - Chain [1] done processing\n",
      "14:15:11 - cmdstanpy - INFO - Chain [1] start processing\n",
      "14:15:12 - cmdstanpy - INFO - Chain [1] done processing\n",
      "14:15:13 - cmdstanpy - INFO - Chain [1] start processing\n"
     ]
    },
    {
     "name": "stdout",
     "output_type": "stream",
     "text": [
      "    changepoint_prior_scale  seasonality_prior_scale  holidays_prior_scale  \\\n",
      "0                     0.001                     10.0                   9.0   \n",
      "1                     0.001                     10.0                  10.0   \n",
      "2                     0.001                     10.0                  15.0   \n",
      "3                     0.001                     12.0                   9.0   \n",
      "4                     0.001                     12.0                  10.0   \n",
      "5                     0.001                     12.0                  15.0   \n",
      "6                     0.001                     20.0                   9.0   \n",
      "7                     0.001                     20.0                  10.0   \n",
      "8                     0.001                     20.0                  15.0   \n",
      "9                     0.002                     10.0                   9.0   \n",
      "10                    0.002                     10.0                  10.0   \n",
      "11                    0.002                     10.0                  15.0   \n",
      "12                    0.002                     12.0                   9.0   \n",
      "13                    0.002                     12.0                  10.0   \n",
      "14                    0.002                     12.0                  15.0   \n",
      "15                    0.002                     20.0                   9.0   \n",
      "16                    0.002                     20.0                  10.0   \n",
      "17                    0.002                     20.0                  15.0   \n",
      "18                    0.003                     10.0                   9.0   \n",
      "19                    0.003                     10.0                  10.0   \n",
      "20                    0.003                     10.0                  15.0   \n",
      "21                    0.003                     12.0                   9.0   \n",
      "22                    0.003                     12.0                  10.0   \n",
      "23                    0.003                     12.0                  15.0   \n",
      "24                    0.003                     20.0                   9.0   \n",
      "25                    0.003                     20.0                  10.0   \n",
      "26                    0.003                     20.0                  15.0   \n",
      "\n",
      "   seasonality_mode        rmse  \n",
      "0    multiplicative  164.987276  \n",
      "1    multiplicative  163.108558  \n",
      "2    multiplicative  162.249455  \n",
      "3    multiplicative  161.324993  \n",
      "4    multiplicative  160.260955  \n",
      "5    multiplicative  162.195257  \n",
      "6    multiplicative  161.126489  \n",
      "7    multiplicative  164.799112  \n",
      "8    multiplicative  159.935643  \n",
      "9    multiplicative  160.355983  \n",
      "10   multiplicative  159.845494  \n",
      "11   multiplicative  161.879843  \n",
      "12   multiplicative  160.351562  \n",
      "13   multiplicative  159.592116  \n",
      "14   multiplicative  160.317194  \n",
      "15   multiplicative  161.756232  \n",
      "16   multiplicative  161.864088  \n",
      "17   multiplicative  160.627252  \n",
      "18   multiplicative  162.874246  \n",
      "19   multiplicative  160.763602  \n",
      "20   multiplicative  161.680787  \n",
      "21   multiplicative  160.781915  \n",
      "22   multiplicative  159.299028  \n",
      "23   multiplicative  162.119814  \n",
      "24   multiplicative  160.503123  \n",
      "25   multiplicative  159.998324  \n",
      "26   multiplicative  161.443446  \n"
     ]
    },
    {
     "name": "stderr",
     "output_type": "stream",
     "text": [
      "14:15:14 - cmdstanpy - INFO - Chain [1] done processing\n"
     ]
    },
    {
     "data": {
      "text/plain": [
       "changepoint_prior_scale             0.003\n",
       "seasonality_prior_scale              12.0\n",
       "holidays_prior_scale                 10.0\n",
       "seasonality_mode           multiplicative\n",
       "rmse                           159.299028\n",
       "Name: 22, dtype: object"
      ]
     },
     "execution_count": 34,
     "metadata": {},
     "output_type": "execute_result"
    }
   ],
   "source": [
    "param_grid = {\n",
    "    'changepoint_prior_scale': [0.001, 0.002, 0.003],\n",
    "    'seasonality_prior_scale': [10.0, 12.0, 20.0],\n",
    "    'holidays_prior_scale' : [9.0, 10.0, 15.0],\n",
    "    'seasonality_mode' : ['multiplicative']\n",
    "\n",
    "}\n",
    "\n",
    "# Generate all combinations of parameters\n",
    "all_params = [dict(zip(param_grid.keys(), v)) for v in itertools.product(*param_grid.values())]\n",
    "rmses = []  # Store the RMSEs for each params here\n",
    "\n",
    "# Use cross validation to evaluate all parameters\n",
    "for params in all_params:\n",
    "    m = Prophet(**params)  # Fit model with given params\n",
    "    m.add_country_holidays(country_name='KR')\n",
    "    m.add_regressor('is_morning_peak')\n",
    "    m.add_regressor('is_afternoon_peak')\n",
    "    m.add_regressor('is_closed')\n",
    "    m.fit(df_achasan5_train)\n",
    "    df_cv = cross_validation(m, initial='400 days', period='100 days', horizon = '2 days', parallel=\"processes\")\n",
    "    df_p = performance_metrics(df_cv, rolling_window=1)\n",
    "    rmses.append(df_p['rmse'].values[0])\n",
    "\n",
    "# Find the best parameters\n",
    "tuning_results = pd.DataFrame(all_params)\n",
    "tuning_results['rmse'] = rmses\n",
    "print(tuning_results)\n",
    "tuning_results.iloc[rmses.index(min(rmses))]\n"
   ]
  },
  {
   "cell_type": "code",
   "execution_count": 35,
   "metadata": {},
   "outputs": [
    {
     "data": {
      "text/plain": [
       "251.06858634542422"
      ]
     },
     "execution_count": 35,
     "metadata": {},
     "output_type": "execute_result"
    }
   ],
   "source": [
    "\n",
    "np.sqrt(mean_squared_error(prediction['yhat'].values, df_achasan5_test['y'].values))\n"
   ]
  },
  {
   "cell_type": "code",
   "execution_count": 36,
   "metadata": {},
   "outputs": [
    {
     "data": {
      "text/html": [
       "<div>\n",
       "<style scoped>\n",
       "    .dataframe tbody tr th:only-of-type {\n",
       "        vertical-align: middle;\n",
       "    }\n",
       "\n",
       "    .dataframe tbody tr th {\n",
       "        vertical-align: top;\n",
       "    }\n",
       "\n",
       "    .dataframe thead th {\n",
       "        text-align: right;\n",
       "    }\n",
       "</style>\n",
       "<table border=\"1\" class=\"dataframe\">\n",
       "  <thead>\n",
       "    <tr style=\"text-align: right;\">\n",
       "      <th></th>\n",
       "      <th>horizon</th>\n",
       "      <th>mse</th>\n",
       "      <th>rmse</th>\n",
       "      <th>mae</th>\n",
       "      <th>mdape</th>\n",
       "      <th>smape</th>\n",
       "      <th>coverage</th>\n",
       "    </tr>\n",
       "  </thead>\n",
       "  <tbody>\n",
       "    <tr>\n",
       "      <th>0</th>\n",
       "      <td>2 days</td>\n",
       "      <td>26063.986303</td>\n",
       "      <td>161.443446</td>\n",
       "      <td>125.170957</td>\n",
       "      <td>0.217973</td>\n",
       "      <td>0.604893</td>\n",
       "      <td>0.895833</td>\n",
       "    </tr>\n",
       "  </tbody>\n",
       "</table>\n",
       "</div>"
      ],
      "text/plain": [
       "  horizon           mse        rmse         mae     mdape     smape  coverage\n",
       "0  2 days  26063.986303  161.443446  125.170957  0.217973  0.604893  0.895833"
      ]
     },
     "execution_count": 36,
     "metadata": {},
     "output_type": "execute_result"
    }
   ],
   "source": [
    "df_p\n"
   ]
  },
  {
   "cell_type": "code",
   "execution_count": null,
   "metadata": {},
   "outputs": [],
   "source": []
  }
 ],
 "metadata": {
  "kernelspec": {
   "display_name": "metro_seoul",
   "language": "python",
   "name": "python3"
  },
  "language_info": {
   "codemirror_mode": {
    "name": "ipython",
    "version": 3
   },
   "file_extension": ".py",
   "mimetype": "text/x-python",
   "name": "python",
   "nbconvert_exporter": "python",
   "pygments_lexer": "ipython3",
   "version": "3.10.6"
  }
 },
 "nbformat": 4,
 "nbformat_minor": 2
}
