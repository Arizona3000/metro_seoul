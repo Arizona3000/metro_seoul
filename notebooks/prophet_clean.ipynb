{
 "cells": [
  {
   "cell_type": "code",
   "execution_count": 51,
   "metadata": {},
   "outputs": [],
   "source": [
    "import pandas as pd\n",
    "#pip install prophet\n",
    "#pip install ipywidgets\n",
    "from prophet import Prophet\n",
    "import itertools\n",
    "import numpy as np\n",
    "\n",
    "# import sys\n",
    "# sys.path.append('/Users/thomas_metral/code/thomas-metral/metro_seoul')\n",
    "# print(sys.path)\n",
    "\n",
    "\n",
    "from prophet.plot import plot_plotly, plot_components_plotly\n",
    "from prophet.diagnostics import cross_validation\n",
    "from prophet.diagnostics import performance_metrics\n",
    "from prophet.plot import plot_cross_validation_metric\n",
    "import matplotlib.pyplot as plt\n",
    "import seaborn as sns\n",
    "from metro_app.ml_logic.preprocess import general_preprocessing, model_data_preprocessing, preprocess_lstm, prophet_preprocessing_one_station\n",
    "\n",
    "from metro_app.ml_logic.model import train_prophet, predict_prophet\n",
    "from sklearn.metrics import mean_absolute_percentage_error as mape\n",
    "from sklearn.metrics import mean_squared_error\n",
    "import datetime\n"
   ]
  },
  {
   "cell_type": "markdown",
   "metadata": {},
   "source": [
    "## Import and preprocess"
   ]
  },
  {
   "cell_type": "code",
   "execution_count": 7,
   "metadata": {},
   "outputs": [
    {
     "name": "stderr",
     "output_type": "stream",
     "text": [
      "/var/folders/zn/b4l6fdhd4fs52t3wxt1d7kn40000gn/T/ipykernel_63338/931817464.py:1: DtypeWarning: Columns (3) have mixed types. Specify dtype option on import or set low_memory=False.\n",
      "  df = pd.read_csv('/Users/thomas_metral/code/thomas-metral/metro_seoul/raw_data/crowd2020-2023.csv')\n"
     ]
    }
   ],
   "source": [
    "df = pd.read_csv('/Users/thomas_metral/code/thomas-metral/metro_seoul/raw_data/crowd2020-2023.csv')\n"
   ]
  },
  {
   "cell_type": "code",
   "execution_count": 4,
   "metadata": {},
   "outputs": [
    {
     "name": "stderr",
     "output_type": "stream",
     "text": [
      "/Users/thomas_metral/code/thomas-metral/metro_seoul/metro_app/ml_logic/preprocess.py:62: SettingWithCopyWarning: \n",
      "A value is trying to be set on a copy of a slice from a DataFrame.\n",
      "Try using .loc[row_indexer,col_indexer] = value instead\n",
      "\n",
      "See the caveats in the documentation: https://pandas.pydata.org/pandas-docs/stable/user_guide/indexing.html#returning-a-view-versus-a-copy\n",
      "  df['date'] = pd.to_datetime(df['date'])\n",
      "/Users/thomas_metral/code/thomas-metral/metro_seoul/metro_app/ml_logic/preprocess.py:63: SettingWithCopyWarning: \n",
      "A value is trying to be set on a copy of a slice from a DataFrame.\n",
      "Try using .loc[row_indexer,col_indexer] = value instead\n",
      "\n",
      "See the caveats in the documentation: https://pandas.pydata.org/pandas-docs/stable/user_guide/indexing.html#returning-a-view-versus-a-copy\n",
      "  df['line'] = df['line'].astype('int')\n",
      "/Users/thomas_metral/code/thomas-metral/metro_seoul/metro_app/ml_logic/preprocess.py:127: SettingWithCopyWarning: \n",
      "A value is trying to be set on a copy of a slice from a DataFrame.\n",
      "Try using .loc[row_indexer,col_indexer] = value instead\n",
      "\n",
      "See the caveats in the documentation: https://pandas.pydata.org/pandas-docs/stable/user_guide/indexing.html#returning-a-view-versus-a-copy\n",
      "  df_exit['station_name_line'] = df_exit['station_name'] + ' ' + df_exit['line'].apply(str)\n"
     ]
    }
   ],
   "source": [
    "df_achasan5 = prophet_preprocessing_one_station(df=df, station_name=\"Achasan(Rear Entrance to Seoul Children's Grand Park)\",\n",
    "                                       metro_line=5, entry_exit='exit')\n"
   ]
  },
  {
   "cell_type": "markdown",
   "metadata": {},
   "source": [
    "## Train/Test split"
   ]
  },
  {
   "cell_type": "code",
   "execution_count": 80,
   "metadata": {},
   "outputs": [],
   "source": [
    "#lenght of test data\n",
    "days = 2\n",
    "\n",
    "# index = round(train_size*df_156.shape[0])\n",
    "df_achasan5_train = df_achasan5.iloc[:-24*days]\n",
    "df_achasan5_test = df_achasan5.iloc[-24*days:]\n",
    "\n",
    "#shorten the train data\n",
    "df_achasan5_train = df_achasan5_train.iloc[-24*500:]\n"
   ]
  },
  {
   "cell_type": "markdown",
   "metadata": {},
   "source": [
    "## Adding columns for regressor"
   ]
  },
  {
   "cell_type": "code",
   "execution_count": 90,
   "metadata": {},
   "outputs": [
    {
     "data": {
      "text/html": [
       "<div>\n",
       "<style scoped>\n",
       "    .dataframe tbody tr th:only-of-type {\n",
       "        vertical-align: middle;\n",
       "    }\n",
       "\n",
       "    .dataframe tbody tr th {\n",
       "        vertical-align: top;\n",
       "    }\n",
       "\n",
       "    .dataframe thead th {\n",
       "        text-align: right;\n",
       "    }\n",
       "</style>\n",
       "<table border=\"1\" class=\"dataframe\">\n",
       "  <thead>\n",
       "    <tr style=\"text-align: right;\">\n",
       "      <th></th>\n",
       "      <th>ds</th>\n",
       "      <th>y</th>\n",
       "      <th>is_morning_peak</th>\n",
       "      <th>is_afternoon_peak</th>\n",
       "      <th>is_closed</th>\n",
       "      <th>is_weekend</th>\n",
       "    </tr>\n",
       "  </thead>\n",
       "  <tbody>\n",
       "    <tr>\n",
       "      <th>23988</th>\n",
       "      <td>2022-09-26 13:00:00</td>\n",
       "      <td>603.0</td>\n",
       "      <td>0</td>\n",
       "      <td>0</td>\n",
       "      <td>0</td>\n",
       "      <td>0</td>\n",
       "    </tr>\n",
       "    <tr>\n",
       "      <th>18771</th>\n",
       "      <td>2022-02-21 04:00:00</td>\n",
       "      <td>0.0</td>\n",
       "      <td>0</td>\n",
       "      <td>0</td>\n",
       "      <td>1</td>\n",
       "      <td>0</td>\n",
       "    </tr>\n",
       "    <tr>\n",
       "      <th>19250</th>\n",
       "      <td>2022-03-13 03:00:00</td>\n",
       "      <td>0.0</td>\n",
       "      <td>0</td>\n",
       "      <td>0</td>\n",
       "      <td>1</td>\n",
       "      <td>1</td>\n",
       "    </tr>\n",
       "    <tr>\n",
       "      <th>19890</th>\n",
       "      <td>2022-04-08 19:00:00</td>\n",
       "      <td>1520.0</td>\n",
       "      <td>0</td>\n",
       "      <td>0</td>\n",
       "      <td>0</td>\n",
       "      <td>0</td>\n",
       "    </tr>\n",
       "    <tr>\n",
       "      <th>23365</th>\n",
       "      <td>2022-08-31 14:00:00</td>\n",
       "      <td>501.0</td>\n",
       "      <td>0</td>\n",
       "      <td>0</td>\n",
       "      <td>0</td>\n",
       "      <td>0</td>\n",
       "    </tr>\n",
       "    <tr>\n",
       "      <th>22607</th>\n",
       "      <td>2022-07-31 00:00:00</td>\n",
       "      <td>0.0</td>\n",
       "      <td>0</td>\n",
       "      <td>0</td>\n",
       "      <td>1</td>\n",
       "      <td>1</td>\n",
       "    </tr>\n",
       "    <tr>\n",
       "      <th>25551</th>\n",
       "      <td>2022-11-30 16:00:00</td>\n",
       "      <td>941.0</td>\n",
       "      <td>0</td>\n",
       "      <td>0</td>\n",
       "      <td>0</td>\n",
       "      <td>0</td>\n",
       "    </tr>\n",
       "    <tr>\n",
       "      <th>26092</th>\n",
       "      <td>2022-12-23 05:00:00</td>\n",
       "      <td>46.0</td>\n",
       "      <td>0</td>\n",
       "      <td>0</td>\n",
       "      <td>0</td>\n",
       "      <td>0</td>\n",
       "    </tr>\n",
       "    <tr>\n",
       "      <th>24934</th>\n",
       "      <td>2022-11-04 23:00:00</td>\n",
       "      <td>447.0</td>\n",
       "      <td>0</td>\n",
       "      <td>0</td>\n",
       "      <td>0</td>\n",
       "      <td>0</td>\n",
       "    </tr>\n",
       "    <tr>\n",
       "      <th>23087</th>\n",
       "      <td>2022-08-20 00:00:00</td>\n",
       "      <td>0.0</td>\n",
       "      <td>0</td>\n",
       "      <td>0</td>\n",
       "      <td>1</td>\n",
       "      <td>1</td>\n",
       "    </tr>\n",
       "    <tr>\n",
       "      <th>25419</th>\n",
       "      <td>2022-11-25 04:00:00</td>\n",
       "      <td>0.0</td>\n",
       "      <td>0</td>\n",
       "      <td>0</td>\n",
       "      <td>1</td>\n",
       "      <td>0</td>\n",
       "    </tr>\n",
       "    <tr>\n",
       "      <th>21735</th>\n",
       "      <td>2022-06-24 16:00:00</td>\n",
       "      <td>968.0</td>\n",
       "      <td>0</td>\n",
       "      <td>0</td>\n",
       "      <td>0</td>\n",
       "      <td>0</td>\n",
       "    </tr>\n",
       "    <tr>\n",
       "      <th>20677</th>\n",
       "      <td>2022-05-11 14:00:00</td>\n",
       "      <td>569.0</td>\n",
       "      <td>0</td>\n",
       "      <td>0</td>\n",
       "      <td>0</td>\n",
       "      <td>0</td>\n",
       "    </tr>\n",
       "    <tr>\n",
       "      <th>24192</th>\n",
       "      <td>2022-10-05 01:00:00</td>\n",
       "      <td>0.0</td>\n",
       "      <td>0</td>\n",
       "      <td>0</td>\n",
       "      <td>1</td>\n",
       "      <td>0</td>\n",
       "    </tr>\n",
       "    <tr>\n",
       "      <th>30514</th>\n",
       "      <td>2023-06-25 11:00:00</td>\n",
       "      <td>657.0</td>\n",
       "      <td>0</td>\n",
       "      <td>0</td>\n",
       "      <td>0</td>\n",
       "      <td>1</td>\n",
       "    </tr>\n",
       "    <tr>\n",
       "      <th>21707</th>\n",
       "      <td>2022-06-23 12:00:00</td>\n",
       "      <td>480.0</td>\n",
       "      <td>0</td>\n",
       "      <td>0</td>\n",
       "      <td>0</td>\n",
       "      <td>0</td>\n",
       "    </tr>\n",
       "    <tr>\n",
       "      <th>25583</th>\n",
       "      <td>2022-12-02 00:00:00</td>\n",
       "      <td>0.0</td>\n",
       "      <td>0</td>\n",
       "      <td>0</td>\n",
       "      <td>1</td>\n",
       "      <td>0</td>\n",
       "    </tr>\n",
       "    <tr>\n",
       "      <th>22610</th>\n",
       "      <td>2022-07-31 03:00:00</td>\n",
       "      <td>0.0</td>\n",
       "      <td>0</td>\n",
       "      <td>0</td>\n",
       "      <td>1</td>\n",
       "      <td>1</td>\n",
       "    </tr>\n",
       "  </tbody>\n",
       "</table>\n",
       "</div>"
      ],
      "text/plain": [
       "                       ds       y  is_morning_peak  is_afternoon_peak  \\\n",
       "23988 2022-09-26 13:00:00   603.0                0                  0   \n",
       "18771 2022-02-21 04:00:00     0.0                0                  0   \n",
       "19250 2022-03-13 03:00:00     0.0                0                  0   \n",
       "19890 2022-04-08 19:00:00  1520.0                0                  0   \n",
       "23365 2022-08-31 14:00:00   501.0                0                  0   \n",
       "22607 2022-07-31 00:00:00     0.0                0                  0   \n",
       "25551 2022-11-30 16:00:00   941.0                0                  0   \n",
       "26092 2022-12-23 05:00:00    46.0                0                  0   \n",
       "24934 2022-11-04 23:00:00   447.0                0                  0   \n",
       "23087 2022-08-20 00:00:00     0.0                0                  0   \n",
       "25419 2022-11-25 04:00:00     0.0                0                  0   \n",
       "21735 2022-06-24 16:00:00   968.0                0                  0   \n",
       "20677 2022-05-11 14:00:00   569.0                0                  0   \n",
       "24192 2022-10-05 01:00:00     0.0                0                  0   \n",
       "30514 2023-06-25 11:00:00   657.0                0                  0   \n",
       "21707 2022-06-23 12:00:00   480.0                0                  0   \n",
       "25583 2022-12-02 00:00:00     0.0                0                  0   \n",
       "22610 2022-07-31 03:00:00     0.0                0                  0   \n",
       "\n",
       "       is_closed  is_weekend  \n",
       "23988          0           0  \n",
       "18771          1           0  \n",
       "19250          1           1  \n",
       "19890          0           0  \n",
       "23365          0           0  \n",
       "22607          1           1  \n",
       "25551          0           0  \n",
       "26092          0           0  \n",
       "24934          0           0  \n",
       "23087          1           1  \n",
       "25419          1           0  \n",
       "21735          0           0  \n",
       "20677          0           0  \n",
       "24192          1           0  \n",
       "30514          0           1  \n",
       "21707          0           0  \n",
       "25583          1           0  \n",
       "22610          1           1  "
      ]
     },
     "execution_count": 90,
     "metadata": {},
     "output_type": "execute_result"
    }
   ],
   "source": [
    "df_achasan5_train['is_morning_peak'] = ((df_achasan5_train['ds'].dt.hour == 8) & (df_achasan5_train['ds'].dt.dayofweek <= 5)).astype(int)\n",
    "df_achasan5_train['is_afternoon_peak'] = ((df_achasan5_train['ds'].dt.hour == 18) & (df_achasan5_train['ds'].dt.dayofweek <= 5)).astype(int)\n",
    "df_achasan5_train['is_closed'] = ((df_achasan5_train['ds'].dt.hour >= 0) & (df_achasan5_train['ds'].dt.hour <= 4)).astype(int)\n",
    "df_achasan5_train['is_weekend'] = (df_achasan5_train['ds'].dt.dayofweek >= 5).astype(int)\n",
    "df_achasan5_train.sample(18)\n"
   ]
  },
  {
   "cell_type": "markdown",
   "metadata": {},
   "source": [
    "## Train/Predict"
   ]
  },
  {
   "cell_type": "code",
   "execution_count": 91,
   "metadata": {},
   "outputs": [
    {
     "name": "stderr",
     "output_type": "stream",
     "text": [
      "14:59:56 - cmdstanpy - INFO - Chain [1] start processing\n",
      "14:59:56 - cmdstanpy - INFO - Chain [1] done processing\n"
     ]
    }
   ],
   "source": [
    "model = Prophet(changepoint_prior_scale=0.002, seasonality_prior_scale=12.0,\n",
    "                  holidays_prior_scale=10.0, seasonality_mode='multiplicative', daily_seasonality=True)\n",
    "model.add_regressor('is_morning_peak')\n",
    "model.add_regressor('is_afternoon_peak')\n",
    "model.add_regressor('is_closed')\n",
    "model.add_seasonality('daily', period=24, fourier_order=2)\n",
    "model.add_country_holidays(country_name='SK')\n",
    "\n",
    "model.fit(df_achasan5_train)\n",
    "\n",
    "\n",
    "# Create a future dataframe for predictions\n",
    "future = model.make_future_dataframe(periods=days*24, include_history=False, freq='h')  # Forecasting for the next week\n",
    "future['is_morning_peak'] = ((future['ds'].dt.hour >= 7) & (future['ds'].dt.hour <= 9)).astype(int)\n",
    "future['is_afternoon_peak'] = ((future['ds'].dt.hour >= 17) & (future['ds'].dt.hour <= 19)).astype(int)\n",
    "future['is_closed'] = ((future['ds'].dt.hour >= 0) & (future['ds'].dt.hour <= 4)).astype(int)\n",
    "future['is_weekend'] = (future['ds'].dt.dayofweek >= 5).astype(int)\n",
    "\n",
    "# Generate predictions\n",
    "forecast = model.predict(future)\n",
    "prediction = forecast[['ds', 'yhat', 'yhat_lower', 'yhat_upper']]\n"
   ]
  },
  {
   "cell_type": "markdown",
   "metadata": {},
   "source": [
    "## Check results"
   ]
  },
  {
   "cell_type": "code",
   "execution_count": 92,
   "metadata": {},
   "outputs": [
    {
     "data": {
      "text/plain": [
       "0.43058828484551587"
      ]
     },
     "execution_count": 92,
     "metadata": {},
     "output_type": "execute_result"
    },
    {
     "data": {
      "image/png": "[encoded data removed]",
      "text/plain": [
       "<Figure size 640x480 with 1 Axes>"
      ]
     },
     "metadata": {},
     "output_type": "display_data"
    }
   ],
   "source": [
    "sns.lineplot(x=prediction['ds'], y=prediction['yhat'])\n",
    "sns.lineplot(x=df_achasan5_test['ds'], y=df_achasan5_test['y'])\n",
    "\n",
    "mape(prediction['yhat'].values, df_achasan5_test['y'].values)\n"
   ]
  },
  {
   "cell_type": "code",
   "execution_count": 55,
   "metadata": {},
   "outputs": [
    {
     "name": "stderr",
     "output_type": "stream",
     "text": [
      "/Users/thomas_metral/.pyenv/versions/3.10.6/envs/metro_seoul/lib/python3.10/site-packages/prophet/plot.py:72: FutureWarning: The behavior of DatetimeProperties.to_pydatetime is deprecated, in a future version this will return a Series containing python datetime objects instead of an ndarray. To retain the old behavior, call `np.array` on the result\n",
      "  fcst_t = fcst['ds'].dt.to_pydatetime()\n",
      "/Users/thomas_metral/.pyenv/versions/3.10.6/envs/metro_seoul/lib/python3.10/site-packages/prophet/plot.py:73: FutureWarning: The behavior of DatetimeProperties.to_pydatetime is deprecated, in a future version this will return a Series containing python datetime objects instead of an ndarray. To retain the old behavior, call `np.array` on the result\n",
      "  ax.plot(m.history['ds'].dt.to_pydatetime(), m.history['y'], 'k.',\n"
     ]
    },
    {
     "data": {
      "image/png": "[encoded data removed]",
      "text/plain": [
       "<Figure size 1000x600 with 1 Axes>"
      ]
     },
     "metadata": {},
     "output_type": "display_data"
    }
   ],
   "source": [
    "ax = model.plot(forecast)\n",
    "plt.plot(df_achasan5_test['ds'],df_achasan5_test['y'],'r')\n",
    "plt.xlim(left=(pd.Timestamp(max(df_achasan5.ds)-datetime.timedelta(days=5))),\n",
    "right=(pd.Timestamp(max(df_achasan5.ds)+ datetime.timedelta(days=1)))\n",
    ")\n",
    "plt.show()\n"
   ]
  },
  {
   "cell_type": "markdown",
   "metadata": {},
   "source": [
    "### Cross Validation with grid search"
   ]
  },
  {
   "cell_type": "code",
   "execution_count": 34,
   "metadata": {},
   "outputs": [
    {
     "name": "stderr",
     "output_type": "stream",
     "text": [
      "14:14:00 - cmdstanpy - INFO - Chain [1] start processing\n",
      "14:14:00 - cmdstanpy - INFO - Chain [1] done processing\n",
      "14:14:01 - cmdstanpy - INFO - Chain [1] start processing\n",
      "14:14:02 - cmdstanpy - INFO - Chain [1] done processing\n",
      "14:14:02 - cmdstanpy - INFO - Chain [1] start processing\n",
      "14:14:03 - cmdstanpy - INFO - Chain [1] done processing\n",
      "14:14:04 - cmdstanpy - INFO - Chain [1] start processing\n",
      "14:14:04 - cmdstanpy - INFO - Chain [1] done processing\n",
      "14:14:05 - cmdstanpy - INFO - Chain [1] start processing\n",
      "14:14:05 - cmdstanpy - INFO - Chain [1] done processing\n",
      "14:14:06 - cmdstanpy - INFO - Chain [1] start processing\n",
      "14:14:07 - cmdstanpy - INFO - Chain [1] done processing\n",
      "14:14:07 - cmdstanpy - INFO - Chain [1] start processing\n",
      "14:14:08 - cmdstanpy - INFO - Chain [1] done processing\n",
      "14:14:08 - cmdstanpy - INFO - Chain [1] start processing\n",
      "14:14:09 - cmdstanpy - INFO - Chain [1] done processing\n",
      "14:14:09 - cmdstanpy - INFO - Chain [1] start processing\n",
      "14:14:10 - cmdstanpy - INFO - Chain [1] done processing\n",
      "14:14:11 - cmdstanpy - INFO - Chain [1] start processing\n",
      "14:14:11 - cmdstanpy - INFO - Chain [1] done processing\n",
      "14:14:12 - cmdstanpy - INFO - Chain [1] start processing\n",
      "14:14:12 - cmdstanpy - INFO - Chain [1] done processing\n",
      "14:14:13 - cmdstanpy - INFO - Chain [1] start processing\n",
      "14:14:14 - cmdstanpy - INFO - Chain [1] done processing\n",
      "14:14:14 - cmdstanpy - INFO - Chain [1] start processing\n",
      "14:14:15 - cmdstanpy - INFO - Chain [1] done processing\n",
      "14:14:16 - cmdstanpy - INFO - Chain [1] start processing\n",
      "14:14:16 - cmdstanpy - INFO - Chain [1] done processing\n",
      "14:14:17 - cmdstanpy - INFO - Chain [1] start processing\n",
      "14:14:17 - cmdstanpy - INFO - Chain [1] done processing\n",
      "14:14:18 - cmdstanpy - INFO - Chain [1] start processing\n",
      "14:14:18 - cmdstanpy - INFO - Chain [1] done processing\n",
      "14:14:19 - cmdstanpy - INFO - Chain [1] start processing\n",
      "14:14:19 - cmdstanpy - INFO - Chain [1] done processing\n",
      "14:14:20 - cmdstanpy - INFO - Chain [1] start processing\n",
      "14:14:21 - cmdstanpy - INFO - Chain [1] done processing\n",
      "14:14:21 - cmdstanpy - INFO - Chain [1] start processing\n",
      "14:14:22 - cmdstanpy - INFO - Chain [1] done processing\n",
      "14:14:23 - cmdstanpy - INFO - Chain [1] start processing\n",
      "14:14:24 - cmdstanpy - INFO - Chain [1] done processing\n",
      "14:14:24 - cmdstanpy - INFO - Chain [1] start processing\n",
      "14:14:25 - cmdstanpy - INFO - Chain [1] done processing\n",
      "14:14:26 - cmdstanpy - INFO - Chain [1] start processing\n",
      "14:14:26 - cmdstanpy - INFO - Chain [1] done processing\n",
      "14:14:27 - cmdstanpy - INFO - Chain [1] start processing\n",
      "14:14:28 - cmdstanpy - INFO - Chain [1] done processing\n",
      "14:14:29 - cmdstanpy - INFO - Chain [1] start processing\n",
      "14:14:29 - cmdstanpy - INFO - Chain [1] done processing\n",
      "14:14:30 - cmdstanpy - INFO - Chain [1] start processing\n",
      "14:14:30 - cmdstanpy - INFO - Chain [1] done processing\n",
      "14:14:31 - cmdstanpy - INFO - Chain [1] start processing\n",
      "14:14:32 - cmdstanpy - INFO - Chain [1] done processing\n",
      "14:14:32 - cmdstanpy - INFO - Chain [1] start processing\n",
      "14:14:33 - cmdstanpy - INFO - Chain [1] done processing\n",
      "14:14:34 - cmdstanpy - INFO - Chain [1] start processing\n",
      "14:14:35 - cmdstanpy - INFO - Chain [1] done processing\n",
      "14:14:35 - cmdstanpy - INFO - Chain [1] start processing\n",
      "14:14:36 - cmdstanpy - INFO - Chain [1] done processing\n",
      "14:14:37 - cmdstanpy - INFO - Chain [1] start processing\n",
      "14:14:37 - cmdstanpy - INFO - Chain [1] done processing\n",
      "14:14:38 - cmdstanpy - INFO - Chain [1] start processing\n",
      "14:14:38 - cmdstanpy - INFO - Chain [1] done processing\n",
      "14:14:39 - cmdstanpy - INFO - Chain [1] start processing\n",
      "14:14:39 - cmdstanpy - INFO - Chain [1] done processing\n",
      "14:14:40 - cmdstanpy - INFO - Chain [1] start processing\n",
      "14:14:41 - cmdstanpy - INFO - Chain [1] done processing\n",
      "14:14:42 - cmdstanpy - INFO - Chain [1] start processing\n",
      "14:14:42 - cmdstanpy - INFO - Chain [1] done processing\n",
      "14:14:43 - cmdstanpy - INFO - Chain [1] start processing\n",
      "14:14:43 - cmdstanpy - INFO - Chain [1] done processing\n",
      "14:14:44 - cmdstanpy - INFO - Chain [1] start processing\n",
      "14:14:45 - cmdstanpy - INFO - Chain [1] done processing\n",
      "14:14:46 - cmdstanpy - INFO - Chain [1] start processing\n",
      "14:14:47 - cmdstanpy - INFO - Chain [1] done processing\n",
      "14:14:48 - cmdstanpy - INFO - Chain [1] start processing\n",
      "14:14:48 - cmdstanpy - INFO - Chain [1] done processing\n",
      "14:14:49 - cmdstanpy - INFO - Chain [1] start processing\n",
      "14:14:50 - cmdstanpy - INFO - Chain [1] done processing\n",
      "14:14:51 - cmdstanpy - INFO - Chain [1] start processing\n",
      "14:14:52 - cmdstanpy - INFO - Chain [1] done processing\n",
      "14:14:52 - cmdstanpy - INFO - Chain [1] start processing\n",
      "14:14:53 - cmdstanpy - INFO - Chain [1] done processing\n",
      "14:14:54 - cmdstanpy - INFO - Chain [1] start processing\n",
      "14:14:55 - cmdstanpy - INFO - Chain [1] done processing\n",
      "14:14:55 - cmdstanpy - INFO - Chain [1] start processing\n",
      "14:14:56 - cmdstanpy - INFO - Chain [1] done processing\n",
      "14:14:57 - cmdstanpy - INFO - Chain [1] start processing\n",
      "14:14:58 - cmdstanpy - INFO - Chain [1] done processing\n",
      "14:14:58 - cmdstanpy - INFO - Chain [1] start processing\n",
      "14:14:59 - cmdstanpy - INFO - Chain [1] done processing\n",
      "14:15:00 - cmdstanpy - INFO - Chain [1] start processing\n",
      "14:15:01 - cmdstanpy - INFO - Chain [1] done processing\n",
      "14:15:01 - cmdstanpy - INFO - Chain [1] start processing\n",
      "14:15:02 - cmdstanpy - INFO - Chain [1] done processing\n",
      "14:15:03 - cmdstanpy - INFO - Chain [1] start processing\n",
      "14:15:04 - cmdstanpy - INFO - Chain [1] done processing\n",
      "14:15:04 - cmdstanpy - INFO - Chain [1] start processing\n",
      "14:15:05 - cmdstanpy - INFO - Chain [1] done processing\n",
      "14:15:06 - cmdstanpy - INFO - Chain [1] start processing\n",
      "14:15:07 - cmdstanpy - INFO - Chain [1] done processing\n",
      "14:15:08 - cmdstanpy - INFO - Chain [1] start processing\n",
      "14:15:08 - cmdstanpy - INFO - Chain [1] done processing\n",
      "14:15:09 - cmdstanpy - INFO - Chain [1] start processing\n",
      "14:15:10 - cmdstanpy - INFO - Chain [1] done processing\n",
      "14:15:11 - cmdstanpy - INFO - Chain [1] start processing\n",
      "14:15:12 - cmdstanpy - INFO - Chain [1] done processing\n",
      "14:15:13 - cmdstanpy - INFO - Chain [1] start processing\n"
     ]
    },
    {
     "name": "stdout",
     "output_type": "stream",
     "text": [
      "    changepoint_prior_scale  seasonality_prior_scale  holidays_prior_scale  \\\n",
      "0                     0.001                     10.0                   9.0   \n",
      "1                     0.001                     10.0                  10.0   \n",
      "2                     0.001                     10.0                  15.0   \n",
      "3                     0.001                     12.0                   9.0   \n",
      "4                     0.001                     12.0                  10.0   \n",
      "5                     0.001                     12.0                  15.0   \n",
      "6                     0.001                     20.0                   9.0   \n",
      "7                     0.001                     20.0                  10.0   \n",
      "8                     0.001                     20.0                  15.0   \n",
      "9                     0.002                     10.0                   9.0   \n",
      "10                    0.002                     10.0                  10.0   \n",
      "11                    0.002                     10.0                  15.0   \n",
      "12                    0.002                     12.0                   9.0   \n",
      "13                    0.002                     12.0                  10.0   \n",
      "14                    0.002                     12.0                  15.0   \n",
      "15                    0.002                     20.0                   9.0   \n",
      "16                    0.002                     20.0                  10.0   \n",
      "17                    0.002                     20.0                  15.0   \n",
      "18                    0.003                     10.0                   9.0   \n",
      "19                    0.003                     10.0                  10.0   \n",
      "20                    0.003                     10.0                  15.0   \n",
      "21                    0.003                     12.0                   9.0   \n",
      "22                    0.003                     12.0                  10.0   \n",
      "23                    0.003                     12.0                  15.0   \n",
      "24                    0.003                     20.0                   9.0   \n",
      "25                    0.003                     20.0                  10.0   \n",
      "26                    0.003                     20.0                  15.0   \n",
      "\n",
      "   seasonality_mode        rmse  \n",
      "0    multiplicative  164.987276  \n",
      "1    multiplicative  163.108558  \n",
      "2    multiplicative  162.249455  \n",
      "3    multiplicative  161.324993  \n",
      "4    multiplicative  160.260955  \n",
      "5    multiplicative  162.195257  \n",
      "6    multiplicative  161.126489  \n",
      "7    multiplicative  164.799112  \n",
      "8    multiplicative  159.935643  \n",
      "9    multiplicative  160.355983  \n",
      "10   multiplicative  159.845494  \n",
      "11   multiplicative  161.879843  \n",
      "12   multiplicative  160.351562  \n",
      "13   multiplicative  159.592116  \n",
      "14   multiplicative  160.317194  \n",
      "15   multiplicative  161.756232  \n",
      "16   multiplicative  161.864088  \n",
      "17   multiplicative  160.627252  \n",
      "18   multiplicative  162.874246  \n",
      "19   multiplicative  160.763602  \n",
      "20   multiplicative  161.680787  \n",
      "21   multiplicative  160.781915  \n",
      "22   multiplicative  159.299028  \n",
      "23   multiplicative  162.119814  \n",
      "24   multiplicative  160.503123  \n",
      "25   multiplicative  159.998324  \n",
      "26   multiplicative  161.443446  \n"
     ]
    },
    {
     "name": "stderr",
     "output_type": "stream",
     "text": [
      "14:15:14 - cmdstanpy - INFO - Chain [1] done processing\n"
     ]
    },
    {
     "data": {
      "text/plain": [
       "changepoint_prior_scale             0.003\n",
       "seasonality_prior_scale              12.0\n",
       "holidays_prior_scale                 10.0\n",
       "seasonality_mode           multiplicative\n",
       "rmse                           159.299028\n",
       "Name: 22, dtype: object"
      ]
     },
     "execution_count": 34,
     "metadata": {},
     "output_type": "execute_result"
    }
   ],
   "source": [
    "param_grid = {\n",
    "    'changepoint_prior_scale': [0.001, 0.002, 0.003],\n",
    "    'seasonality_prior_scale': [10.0, 12.0, 20.0],\n",
    "    'holidays_prior_scale' : [9.0, 10.0, 15.0],\n",
    "    'seasonality_mode' : ['multiplicative']\n",
    "\n",
    "}\n",
    "\n",
    "# Generate all combinations of parameters\n",
    "all_params = [dict(zip(param_grid.keys(), v)) for v in itertools.product(*param_grid.values())]\n",
    "rmses = []  # Store the RMSEs for each params here\n",
    "\n",
    "# Use cross validation to evaluate all parameters\n",
    "for params in all_params:\n",
    "    m = Prophet(**params)  # Fit model with given params\n",
    "    m.add_country_holidays(country_name='KR')\n",
    "    m.add_regressor('is_morning_peak')\n",
    "    m.add_regressor('is_afternoon_peak')\n",
    "    m.add_regressor('is_closed')\n",
    "    m.fit(df_achasan5_train)\n",
    "    df_cv = cross_validation(m, initial='400 days', period='100 days', horizon = '2 days', parallel=\"processes\")\n",
    "    df_p = performance_metrics(df_cv, rolling_window=1)\n",
    "    rmses.append(df_p['rmse'].values[0])\n",
    "\n",
    "# Find the best parameters\n",
    "tuning_results = pd.DataFrame(all_params)\n",
    "tuning_results['rmse'] = rmses\n",
    "print(tuning_results)\n",
    "tuning_results.iloc[rmses.index(min(rmses))]\n"
   ]
  },
  {
   "cell_type": "code",
   "execution_count": 35,
   "metadata": {},
   "outputs": [
    {
     "data": {
      "text/plain": [
       "251.06858634542422"
      ]
     },
     "execution_count": 35,
     "metadata": {},
     "output_type": "execute_result"
    }
   ],
   "source": [
    "\n",
    "np.sqrt(mean_squared_error(prediction['yhat'].values, df_achasan5_test['y'].values))\n"
   ]
  },
  {
   "cell_type": "code",
   "execution_count": 36,
   "metadata": {},
   "outputs": [
    {
     "data": {
      "text/html": [
       "<div>\n",
       "<style scoped>\n",
       "    .dataframe tbody tr th:only-of-type {\n",
       "        vertical-align: middle;\n",
       "    }\n",
       "\n",
       "    .dataframe tbody tr th {\n",
       "        vertical-align: top;\n",
       "    }\n",
       "\n",
       "    .dataframe thead th {\n",
       "        text-align: right;\n",
       "    }\n",
       "</style>\n",
       "<table border=\"1\" class=\"dataframe\">\n",
       "  <thead>\n",
       "    <tr style=\"text-align: right;\">\n",
       "      <th></th>\n",
       "      <th>horizon</th>\n",
       "      <th>mse</th>\n",
       "      <th>rmse</th>\n",
       "      <th>mae</th>\n",
       "      <th>mdape</th>\n",
       "      <th>smape</th>\n",
       "      <th>coverage</th>\n",
       "    </tr>\n",
       "  </thead>\n",
       "  <tbody>\n",
       "    <tr>\n",
       "      <th>0</th>\n",
       "      <td>2 days</td>\n",
       "      <td>26063.986303</td>\n",
       "      <td>161.443446</td>\n",
       "      <td>125.170957</td>\n",
       "      <td>0.217973</td>\n",
       "      <td>0.604893</td>\n",
       "      <td>0.895833</td>\n",
       "    </tr>\n",
       "  </tbody>\n",
       "</table>\n",
       "</div>"
      ],
      "text/plain": [
       "  horizon           mse        rmse         mae     mdape     smape  coverage\n",
       "0  2 days  26063.986303  161.443446  125.170957  0.217973  0.604893  0.895833"
      ]
     },
     "execution_count": 36,
     "metadata": {},
     "output_type": "execute_result"
    }
   ],
   "source": [
    "df_p\n"
   ]
  },
  {
   "cell_type": "code",
   "execution_count": null,
   "metadata": {},
   "outputs": [],
   "source": []
  }
 ],
 "metadata": {
  "kernelspec": {
   "display_name": "metro_seoul",
   "language": "python",
   "name": "python3"
  },
  "language_info": {
   "codemirror_mode": {
    "name": "ipython",
    "version": 3
   },
   "file_extension": ".py",
   "mimetype": "text/x-python",
   "name": "python",
   "nbconvert_exporter": "python",
   "pygments_lexer": "ipython3",
   "version": "3.10.6"
  }
 },
 "nbformat": 4,
 "nbformat_minor": 2
}
